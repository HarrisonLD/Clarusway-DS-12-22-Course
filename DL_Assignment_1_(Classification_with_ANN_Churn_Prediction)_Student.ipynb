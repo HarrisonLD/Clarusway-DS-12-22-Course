{
  "cells": [
    {
      "cell_type": "markdown",
      "metadata": {
        "id": "XvFPMfawNMvW"
      },
      "source": [
        "___\n",
        "\n",
        "<p style=\"text-align: center;\"><img src=\"https://docs.google.com/uc?id=1lY0Uj5R04yMY3-ZppPWxqCr5pvBLYPnV\" class=\"img-fluid\" alt=\"CLRSWY\"></p>\n",
        "\n",
        "___"
      ]
    },
    {
      "cell_type": "markdown",
      "metadata": {
        "id": "LTOashNlNMvY"
      },
      "source": [
        "<h1 style=\"text-align: center;\">Deep Learning<br><br>Assignment-1 (ANN)<br><br>Churn Prediction for Bank Customer<br><h1>"
      ]
    },
    {
      "cell_type": "markdown",
      "metadata": {
        "id": "GCE9HhPSNMvZ"
      },
      "source": [
        "# Dataset Info"
      ]
    },
    {
      "cell_type": "markdown",
      "metadata": {
        "id": "wB-qymz4NMvZ"
      },
      "source": [
        "We have a dataset in which there are details of a bank's customers and the target variable is a binary variable reflecting the fact whether the customer left the bank (closed his account) or he continues to be a customer.\n",
        "\n",
        "The features in the given dataset are:\n",
        "- **rownumber:** Row Numbers from 1 to 10000.\n",
        "- **customerid:** A unique ID that identifies each customer.\n",
        "- **surname:** The customer’s surname.\n",
        "- **creditscore:** A credit score is a number between 300–850 that depicts a consumer's creditworthiness.\n",
        "- **geography:** The country from which the customer belongs to.\n",
        "- **Gender:** The customer’s gender: Male, Female\n",
        "- **Age:** The customer’s current age, in years, at the time of being customer.\n",
        "- **tenure:** The number of years for which the customer has been with the bank.\n",
        "- **balance:** Bank balance of the customer.\n",
        "- **numofproducts:** the number of bank products the customer is utilising.\n",
        "- **hascrcard:** The number of credit cards given to the customer by the bank.\n",
        "- **isactivemember:** Binary Flag for indicating if the client is active or not with the bank before the moment where the client exits the company (recorded in the variable \"exited\")\n",
        "- **exited:** Binary flag 1 if the customer closed account with bank and 0 if the customer is retained."
      ]
    },
    {
      "cell_type": "markdown",
      "metadata": {
        "id": "IlWht4ONNMva"
      },
      "source": [
        "# Improt Libraries & Data"
      ]
    },
    {
      "cell_type": "code",
      "execution_count": null,
      "metadata": {
        "id": "tf3XNlw0NMva"
      },
      "outputs": [],
      "source": [
        "# Importing the libraries for EDA\n",
        "import numpy as np\n",
        "import pandas as pd\n",
        "import seaborn as sns\n",
        "import matplotlib.pyplot as plt\n",
        "\n",
        "from ipywidgets import interact\n",
        "%matplotlib inline\n",
        "# %matplotlib notebook\n",
        "plt.rcParams[\"figure.figsize\"] = (12, 6)\n",
        "# plt.rcParams['figure.dpi'] = 100\n",
        "sns.set_style(\"darkgrid\")\n",
        "import warnings\n",
        "\n",
        "warnings.filterwarnings(\"ignore\")\n",
        "pd.set_option('display.float_format', lambda x: '%.1f' % x)"
      ]
    },
    {
      "cell_type": "code",
      "source": [
        "np.__version__"
      ],
      "metadata": {
        "id": "oeIXH76bX5Ph"
      },
      "execution_count": null,
      "outputs": []
    },
    {
      "cell_type": "code",
      "source": [
        "!pip install livelossplot --quiet"
      ],
      "metadata": {
        "id": "QtYuqZEHTytK"
      },
      "execution_count": null,
      "outputs": []
    },
    {
      "cell_type": "code",
      "execution_count": null,
      "metadata": {
        "id": "TlMz2SiRNMva"
      },
      "outputs": [],
      "source": [
        "import tensorflow as tf\n",
        "from tensorflow.keras.models import Sequential\n",
        "from tensorflow.keras.layers import Dense, Activation\n",
        "from tensorflow.keras.callbacks import EarlyStopping\n",
        "from tensorflow.keras.optimizers import Adam\n",
        "from sklearn.metrics import classification_report, confusion_matrix\n",
        "from sklearn.metrics import recall_score, f1_score, precision_recall_curve, average_precision_score\n",
        "from sklearn.experimental import enable_halving_search_cv\n",
        "from sklearn.model_selection import GridSearchCV, HalvingGridSearchCV,RandomizedSearchCV\n",
        "from sklearn.model_selection import train_test_split\n",
        "from sklearn.preprocessing import MinMaxScaler, OneHotEncoder\n",
        "from sklearn.compose import ColumnTransformer\n",
        "from livelossplot import PlotLossesKerasTF"
      ]
    },
    {
      "cell_type": "code",
      "execution_count": null,
      "metadata": {
        "id": "l2IEckJ0NMvb"
      },
      "outputs": [],
      "source": [
        "from google.colab import files\n",
        "uploaded = files.upload()\n"
      ]
    },
    {
      "cell_type": "code",
      "source": [
        "data = pd.read_csv('/content/Churn_Modelling (1).csv', index_col='RowNumber')\n",
        "data.head()"
      ],
      "metadata": {
        "id": "927k80f6VCHw"
      },
      "execution_count": null,
      "outputs": []
    },
    {
      "cell_type": "code",
      "source": [
        "df = data.copy()"
      ],
      "metadata": {
        "id": "bUq7FJfbWu9g"
      },
      "execution_count": null,
      "outputs": []
    },
    {
      "cell_type": "markdown",
      "metadata": {
        "id": "pW_s5O4sNMvb"
      },
      "source": [
        "# Exploratory Data Analysis and Visualization"
      ]
    },
    {
      "cell_type": "markdown",
      "metadata": {
        "id": "pZ10f3frNMvb"
      },
      "source": [
        "1. Implement basic steps to see how is your data looks like\n",
        "2. Check for missing values\n",
        "3. Drop the features that not suitable for modelling\n",
        "4. Implement basic visualization steps such as histogram, countplot, heatmap\n",
        "5. Convert categorical variables to dummy variables"
      ]
    },
    {
      "cell_type": "code",
      "source": [
        "df.info()"
      ],
      "metadata": {
        "id": "xsAHHZCVW-hE"
      },
      "execution_count": null,
      "outputs": []
    },
    {
      "cell_type": "code",
      "source": [
        "df.isnull().sum()"
      ],
      "metadata": {
        "id": "P6JvPPhhW-dK"
      },
      "execution_count": null,
      "outputs": []
    },
    {
      "cell_type": "code",
      "source": [
        "df.columns"
      ],
      "metadata": {
        "id": "76ypPS5f0zHd"
      },
      "execution_count": null,
      "outputs": []
    },
    {
      "cell_type": "code",
      "source": [
        "df.shape"
      ],
      "metadata": {
        "id": "xX0qBJ99W-O3"
      },
      "execution_count": null,
      "outputs": []
    },
    {
      "cell_type": "code",
      "source": [
        "len(df)"
      ],
      "metadata": {
        "id": "TZ-vXjkO0TVn"
      },
      "execution_count": null,
      "outputs": []
    },
    {
      "cell_type": "code",
      "source": [
        "df.duplicated().sum()/len(df)*100"
      ],
      "metadata": {
        "id": "gY3AEgElzuPU"
      },
      "execution_count": null,
      "outputs": []
    },
    {
      "cell_type": "code",
      "source": [
        "df.describe().T "
      ],
      "metadata": {
        "id": "cmcM67v_zuMM"
      },
      "execution_count": null,
      "outputs": []
    },
    {
      "cell_type": "code",
      "source": [
        "df.describe(include='O').T"
      ],
      "metadata": {
        "id": "D-29AI1GzuI0"
      },
      "execution_count": null,
      "outputs": []
    },
    {
      "cell_type": "code",
      "source": [
        "#we don't need customer Id or Surname\n",
        "df.drop(['CustomerId','Surname'], axis = 1, inplace=True)"
      ],
      "metadata": {
        "id": "ROUhOq3ezuE7"
      },
      "execution_count": null,
      "outputs": []
    },
    {
      "cell_type": "code",
      "source": [
        "df.hist(figsize=(15, 12), bins=25);"
      ],
      "metadata": {
        "id": "Dl93u77mftBi"
      },
      "execution_count": null,
      "outputs": []
    },
    {
      "cell_type": "markdown",
      "source": [
        "Target \"Exited\""
      ],
      "metadata": {
        "id": "mNuz1h4YhXY6"
      }
    },
    {
      "cell_type": "code",
      "source": [
        "fig, ax = plt.subplots()\n",
        "\n",
        "ax = sns.countplot(data=df, x=\"Exited\")\n",
        "ax.set_title(\"Total Number of Customer Churn\", fontsize=15)\n",
        "\n",
        "for p in ax.patches:\n",
        "    ax.annotate(str(p.get_height()), (p.get_x() + 0.35, p.get_height() * 1.0));    "
      ],
      "metadata": {
        "colab": {
          "base_uri": "https://localhost:8080/",
          "height": 379
        },
        "id": "2VVBRj9R2uZc",
        "outputId": "d6b77611-45dc-4c0e-90bd-e1da035fbb1d"
      },
      "execution_count": null,
      "outputs": [
        {
          "output_type": "display_data",
          "data": {
            "text/plain": [
              "<Figure size 576x396 with 1 Axes>"
            ],
            "image/png": "[encoded data removed]"
          },
          "metadata": {}
        }
      ]
    },
    {
      "cell_type": "code",
      "source": [
        "sns.set_style(\"whitegrid\", {'axes.grid' : False})\n",
        "fig, ax = plt.subplots(figsize=(10, 8))\n",
        "\n",
        "ax.pie(x=df.Exited.value_counts(), \n",
        "       labels=['Stayed', 'Left'], \n",
        "       autopct='%.1f%%',\n",
        "       explode=(0, 0.1),\n",
        "       textprops={'fontsize': 14},\n",
        "       shadow=True,\n",
        "       startangle=45\n",
        "       )\n",
        "\n",
        "ax.axis('equal')\n",
        "\n",
        "plt.title(\"Percentage of Customer Churn\", fontdict={'fontsize': 20})\n",
        "plt.show()"
      ],
      "metadata": {
        "id": "4bK0qF8A7eit"
      },
      "execution_count": null,
      "outputs": []
    },
    {
      "cell_type": "markdown",
      "source": [
        "Exited by Gender"
      ],
      "metadata": {
        "id": "qVR5x-2TiM0m"
      }
    },
    {
      "cell_type": "code",
      "source": [
        "df.columns"
      ],
      "metadata": {
        "id": "M8ML_89e7eek"
      },
      "execution_count": null,
      "outputs": []
    },
    {
      "cell_type": "code",
      "source": [
        "sns.set_style(\"whitegrid\")\n",
        "plt.style.use('seaborn')\n",
        "\n",
        "p = sns.catplot(\n",
        "    data=df, x=\"Exited\" , col= \"Gender\",\n",
        "    kind=\"count\", height=4, aspect=1, hue =None\n",
        ");\n",
        "\n",
        "p.fig.suptitle(\"Total Number of Customer Churn by Gender\", y=1.02);\n",
        "# for bars in ax.containers:\n",
        "#         ax.bar_label(bars, fmt='%.f', size=12)"
      ],
      "metadata": {
        "id": "cpAhVSe87ea7"
      },
      "execution_count": null,
      "outputs": []
    },
    {
      "cell_type": "markdown",
      "source": [
        "Exited by Age"
      ],
      "metadata": {
        "id": "SRpj64kDn-sP"
      }
    },
    {
      "cell_type": "code",
      "source": [
        "sns.set_style(\"whitegrid\")\n",
        "sns.histplot(x=\"Age\", data=df);"
      ],
      "metadata": {
        "id": "tLZVFOLH7eRR"
      },
      "execution_count": null,
      "outputs": []
    },
    {
      "cell_type": "code",
      "source": [
        "sns.histplot(x='Age', hue='Exited', data=df, alpha=0.5);"
      ],
      "metadata": {
        "id": "4V_v4A227eNq"
      },
      "execution_count": null,
      "outputs": []
    },
    {
      "cell_type": "code",
      "source": [
        "sns.set_style(\"whitegrid\")\n",
        "sns.boxplot(y='Age', x='Exited', data=df);"
      ],
      "metadata": {
        "id": "t1psJQk-oiKj"
      },
      "execution_count": null,
      "outputs": []
    },
    {
      "cell_type": "markdown",
      "source": [
        "Exited by Estimated Salary"
      ],
      "metadata": {
        "id": "3wc7BJXaosre"
      }
    },
    {
      "cell_type": "code",
      "source": [
        "sns.boxplot(data = df ,x=\"Exited\",y=\"EstimatedSalary\");"
      ],
      "metadata": {
        "id": "WbBWidZ0rQVs"
      },
      "execution_count": null,
      "outputs": []
    },
    {
      "cell_type": "markdown",
      "source": [
        "Exited by Credit Score"
      ],
      "metadata": {
        "id": "bnprmoFVr3__"
      }
    },
    {
      "cell_type": "code",
      "source": [
        "sns.histplot(x='CreditScore',data=df, hue='Exited');"
      ],
      "metadata": {
        "collapsed": true,
        "id": "9UOueIj-r7jm"
      },
      "execution_count": null,
      "outputs": []
    },
    {
      "cell_type": "code",
      "source": [
        "sns.boxplot(y='CreditScore', x='Exited', data=df)"
      ],
      "metadata": {
        "colab": {
          "base_uri": "https://localhost:8080/",
          "height": 378
        },
        "id": "U4-_ncxjr7XG",
        "outputId": "db4c7eac-1f3b-45ef-9b30-6f68aa283e04"
      },
      "execution_count": null,
      "outputs": [
        {
          "output_type": "execute_result",
          "data": {
            "text/plain": [
              "<matplotlib.axes._subplots.AxesSubplot at 0x7f8c6ef0a7f0>"
            ]
          },
          "metadata": {},
          "execution_count": 28
        },
        {
          "output_type": "display_data",
          "data": {
            "text/plain": [
              "<Figure size 576x396 with 1 Axes>"
            ],
            "image/png": "[encoded data removed]"
          },
          "metadata": {}
        }
      ]
    },
    {
      "cell_type": "markdown",
      "source": [
        "Geography"
      ],
      "metadata": {
        "id": "DXSgwdE_rNN-"
      }
    },
    {
      "cell_type": "code",
      "source": [
        "df.Geography.value_counts()"
      ],
      "metadata": {
        "colab": {
          "base_uri": "https://localhost:8080/"
        },
        "id": "LVZbpFO-rQ1e",
        "outputId": "f1b5aa20-3ce7-49b4-f3c7-aad501fa0851"
      },
      "execution_count": null,
      "outputs": [
        {
          "output_type": "execute_result",
          "data": {
            "text/plain": [
              "France     5014\n",
              "Germany    2509\n",
              "Spain      2477\n",
              "Name: Geography, dtype: int64"
            ]
          },
          "metadata": {},
          "execution_count": 29
        }
      ]
    },
    {
      "cell_type": "code",
      "source": [
        "df2 = df.copy()\n",
        "df2.tail(3)"
      ],
      "metadata": {
        "colab": {
          "base_uri": "https://localhost:8080/",
          "height": 175
        },
        "id": "9harwzX6qF08",
        "outputId": "83b70858-476b-408c-85a0-b5219bc24219"
      },
      "execution_count": null,
      "outputs": [
        {
          "output_type": "execute_result",
          "data": {
            "text/plain": [
              "           CreditScore Geography  Gender  Age  Tenure  Balance  NumOfProducts  \\\n",
              "RowNumber                                                                       \n",
              "9998               709    France  Female   36       7      0.0              1   \n",
              "9999               772   Germany    Male   42       3  75075.3              2   \n",
              "10000              792    France  Female   28       4 130142.8              1   \n",
              "\n",
              "           HasCrCard  IsActiveMember  EstimatedSalary  Exited  \n",
              "RowNumber                                                      \n",
              "9998               0               1          42085.6       1  \n",
              "9999               1               0          92888.5       1  \n",
              "10000              1               0          38190.8       0  "
            ],
            "text/html": [
              "\n",
              "  <div id=\"df-7e90b735-f12e-4aae-89fc-3b70b17888a4\">\n",
              "    <div class=\"colab-df-container\">\n",
              "      <div>\n",
              "<style scoped>\n",
              "    .dataframe tbody tr th:only-of-type {\n",
              "        vertical-align: middle;\n",
              "    }\n",
              "\n",
              "    .dataframe tbody tr th {\n",
              "        vertical-align: top;\n",
              "    }\n",
              "\n",
              "    .dataframe thead th {\n",
              "        text-align: right;\n",
              "    }\n",
              "</style>\n",
              "<table border=\"1\" class=\"dataframe\">\n",
              "  <thead>\n",
              "    <tr style=\"text-align: right;\">\n",
              "      <th></th>\n",
              "      <th>CreditScore</th>\n",
              "      <th>Geography</th>\n",
              "      <th>Gender</th>\n",
              "      <th>Age</th>\n",
              "      <th>Tenure</th>\n",
              "      <th>Balance</th>\n",
              "      <th>NumOfProducts</th>\n",
              "      <th>HasCrCard</th>\n",
              "      <th>IsActiveMember</th>\n",
              "      <th>EstimatedSalary</th>\n",
              "      <th>Exited</th>\n",
              "    </tr>\n",
              "    <tr>\n",
              "      <th>RowNumber</th>\n",
              "      <th></th>\n",
              "      <th></th>\n",
              "      <th></th>\n",
              "      <th></th>\n",
              "      <th></th>\n",
              "      <th></th>\n",
              "      <th></th>\n",
              "      <th></th>\n",
              "      <th></th>\n",
              "      <th></th>\n",
              "      <th></th>\n",
              "    </tr>\n",
              "  </thead>\n",
              "  <tbody>\n",
              "    <tr>\n",
              "      <th>9998</th>\n",
              "      <td>709</td>\n",
              "      <td>France</td>\n",
              "      <td>Female</td>\n",
              "      <td>36</td>\n",
              "      <td>7</td>\n",
              "      <td>0.0</td>\n",
              "      <td>1</td>\n",
              "      <td>0</td>\n",
              "      <td>1</td>\n",
              "      <td>42085.6</td>\n",
              "      <td>1</td>\n",
              "    </tr>\n",
              "    <tr>\n",
              "      <th>9999</th>\n",
              "      <td>772</td>\n",
              "      <td>Germany</td>\n",
              "      <td>Male</td>\n",
              "      <td>42</td>\n",
              "      <td>3</td>\n",
              "      <td>75075.3</td>\n",
              "      <td>2</td>\n",
              "      <td>1</td>\n",
              "      <td>0</td>\n",
              "      <td>92888.5</td>\n",
              "      <td>1</td>\n",
              "    </tr>\n",
              "    <tr>\n",
              "      <th>10000</th>\n",
              "      <td>792</td>\n",
              "      <td>France</td>\n",
              "      <td>Female</td>\n",
              "      <td>28</td>\n",
              "      <td>4</td>\n",
              "      <td>130142.8</td>\n",
              "      <td>1</td>\n",
              "      <td>1</td>\n",
              "      <td>0</td>\n",
              "      <td>38190.8</td>\n",
              "      <td>0</td>\n",
              "    </tr>\n",
              "  </tbody>\n",
              "</table>\n",
              "</div>\n",
              "      <button class=\"colab-df-convert\" onclick=\"convertToInteractive('df-7e90b735-f12e-4aae-89fc-3b70b17888a4')\"\n",
              "              title=\"Convert this dataframe to an interactive table.\"\n",
              "              style=\"display:none;\">\n",
              "        \n",
              "  <svg xmlns=\"http://www.w3.org/2000/svg\" height=\"24px\"viewBox=\"0 0 24 24\"\n",
              "       width=\"24px\">\n",
              "    <path d=\"M0 0h24v24H0V0z\" fill=\"none\"/>\n",
              "    <path d=\"M18.56 5.44l.94 2.06.94-2.06 2.06-.94-2.06-.94-.94-2.06-.94 2.06-2.06.94zm-11 1L8.5 8.5l.94-2.06 2.06-.94-2.06-.94L8.5 2.5l-.94 2.06-2.06.94zm10 10l.94 2.06.94-2.06 2.06-.94-2.06-.94-.94-2.06-.94 2.06-2.06.94z\"/><path d=\"M17.41 7.96l-1.37-1.37c-.4-.4-.92-.59-1.43-.59-.52 0-1.04.2-1.43.59L10.3 9.45l-7.72 7.72c-.78.78-.78 2.05 0 2.83L4 21.41c.39.39.9.59 1.41.59.51 0 1.02-.2 1.41-.59l7.78-7.78 2.81-2.81c.8-.78.8-2.07 0-2.86zM5.41 20L4 18.59l7.72-7.72 1.47 1.35L5.41 20z\"/>\n",
              "  </svg>\n",
              "      </button>\n",
              "      \n",
              "  <style>\n",
              "    .colab-df-container {\n",
              "      display:flex;\n",
              "      flex-wrap:wrap;\n",
              "      gap: 12px;\n",
              "    }\n",
              "\n",
              "    .colab-df-convert {\n",
              "      background-color: #E8F0FE;\n",
              "      border: none;\n",
              "      border-radius: 50%;\n",
              "      cursor: pointer;\n",
              "      display: none;\n",
              "      fill: #1967D2;\n",
              "      height: 32px;\n",
              "      padding: 0 0 0 0;\n",
              "      width: 32px;\n",
              "    }\n",
              "\n",
              "    .colab-df-convert:hover {\n",
              "      background-color: #E2EBFA;\n",
              "      box-shadow: 0px 1px 2px rgba(60, 64, 67, 0.3), 0px 1px 3px 1px rgba(60, 64, 67, 0.15);\n",
              "      fill: #174EA6;\n",
              "    }\n",
              "\n",
              "    [theme=dark] .colab-df-convert {\n",
              "      background-color: #3B4455;\n",
              "      fill: #D2E3FC;\n",
              "    }\n",
              "\n",
              "    [theme=dark] .colab-df-convert:hover {\n",
              "      background-color: #434B5C;\n",
              "      box-shadow: 0px 1px 3px 1px rgba(0, 0, 0, 0.15);\n",
              "      filter: drop-shadow(0px 1px 2px rgba(0, 0, 0, 0.3));\n",
              "      fill: #FFFFFF;\n",
              "    }\n",
              "  </style>\n",
              "\n",
              "      <script>\n",
              "        const buttonEl =\n",
              "          document.querySelector('#df-7e90b735-f12e-4aae-89fc-3b70b17888a4 button.colab-df-convert');\n",
              "        buttonEl.style.display =\n",
              "          google.colab.kernel.accessAllowed ? 'block' : 'none';\n",
              "\n",
              "        async function convertToInteractive(key) {\n",
              "          const element = document.querySelector('#df-7e90b735-f12e-4aae-89fc-3b70b17888a4');\n",
              "          const dataTable =\n",
              "            await google.colab.kernel.invokeFunction('convertToInteractive',\n",
              "                                                     [key], {});\n",
              "          if (!dataTable) return;\n",
              "\n",
              "          const docLinkHtml = 'Like what you see? Visit the ' +\n",
              "            '<a target=\"_blank\" href=https://colab.research.google.com/notebooks/data_table.ipynb>data table notebook</a>'\n",
              "            + ' to learn more about interactive tables.';\n",
              "          element.innerHTML = '';\n",
              "          dataTable['output_type'] = 'display_data';\n",
              "          await google.colab.output.renderOutput(dataTable, element);\n",
              "          const docLink = document.createElement('div');\n",
              "          docLink.innerHTML = docLinkHtml;\n",
              "          element.appendChild(docLink);\n",
              "        }\n",
              "      </script>\n",
              "    </div>\n",
              "  </div>\n",
              "  "
            ]
          },
          "metadata": {},
          "execution_count": 30
        }
      ]
    },
    {
      "cell_type": "markdown",
      "source": [
        "Exited by NumofProducts"
      ],
      "metadata": {
        "id": "U9qo9EF8rRbw"
      }
    },
    {
      "cell_type": "code",
      "source": [
        "df.NumOfProducts.value_counts()"
      ],
      "metadata": {
        "colab": {
          "base_uri": "https://localhost:8080/"
        },
        "id": "NltJk1eGqFr1",
        "outputId": "fa12d775-0946-4e0d-b58b-f198ff4874d2"
      },
      "execution_count": null,
      "outputs": [
        {
          "output_type": "execute_result",
          "data": {
            "text/plain": [
              "1    5084\n",
              "2    4590\n",
              "3     266\n",
              "4      60\n",
              "Name: NumOfProducts, dtype: int64"
            ]
          },
          "metadata": {},
          "execution_count": 31
        }
      ]
    },
    {
      "cell_type": "code",
      "source": [
        "fig, ax = plt.subplots()\n",
        "\n",
        "ax = sns.countplot(data=df, x='NumOfProducts')\n",
        "ax.set_title(\"Number of Products\", fontsize=15)\n",
        "\n",
        "for p in ax.patches:\n",
        "    ax.annotate(str(p.get_height()), (p.get_x() + 0.35, p.get_height() * 1.0)); "
      ],
      "metadata": {
        "colab": {
          "base_uri": "https://localhost:8080/",
          "height": 379
        },
        "id": "Y1rZ4BighbHa",
        "outputId": "8ef9bd73-d757-4163-ff42-2a697d6c0160"
      },
      "execution_count": null,
      "outputs": [
        {
          "output_type": "display_data",
          "data": {
            "text/plain": [
              "<Figure size 576x396 with 1 Axes>"
            ],
            "image/png": "[encoded data removed]"
          },
          "metadata": {}
        }
      ]
    },
    {
      "cell_type": "code",
      "source": [
        "df.groupby('NumOfProducts')['Exited'].sum()"
      ],
      "metadata": {
        "colab": {
          "base_uri": "https://localhost:8080/"
        },
        "id": "COtFjD8DrXNk",
        "outputId": "c9e67e16-b8ef-40cd-89c3-4ea770089dfe"
      },
      "execution_count": null,
      "outputs": [
        {
          "output_type": "execute_result",
          "data": {
            "text/plain": [
              "NumOfProducts\n",
              "1    1409\n",
              "2     348\n",
              "3     220\n",
              "4      60\n",
              "Name: Exited, dtype: int64"
            ]
          },
          "metadata": {},
          "execution_count": 33
        }
      ]
    },
    {
      "cell_type": "code",
      "source": [
        "p = sns.catplot(\n",
        "    data=df, x=\"NumOfProducts\" , kind=\"count\", height=4, aspect=1, hue =\"Exited\"\n",
        ");\n",
        "\n",
        "p.fig.suptitle(\"Total Number of Customer Churn by Number of Products\", y=1.02);\n",
        "# for bars in ax.containers:\n",
        "#         ax.bar_label(bars, fmt='%.f', size=12)"
      ],
      "metadata": {
        "colab": {
          "base_uri": "https://localhost:8080/",
          "height": 314
        },
        "id": "9bmJfS3Og2QF",
        "outputId": "75b7b652-00b2-4c7c-83b5-55119aa45b73"
      },
      "execution_count": null,
      "outputs": [
        {
          "output_type": "display_data",
          "data": {
            "text/plain": [
              "<Figure size 330.375x288 with 1 Axes>"
            ],
            "image/png": "[encoded data removed]"
          },
          "metadata": {}
        }
      ]
    },
    {
      "cell_type": "markdown",
      "source": [
        "Exited by Is a Active Member"
      ],
      "metadata": {
        "id": "htI2iZ_2rfPG"
      }
    },
    {
      "cell_type": "code",
      "source": [
        "df['IsActiveMember'].value_counts()"
      ],
      "metadata": {
        "colab": {
          "base_uri": "https://localhost:8080/"
        },
        "id": "QOTURUQfigNR",
        "outputId": "b81fd01c-f5b0-4391-9b0e-5ca9d0978d6f"
      },
      "execution_count": null,
      "outputs": [
        {
          "output_type": "execute_result",
          "data": {
            "text/plain": [
              "1    5151\n",
              "0    4849\n",
              "Name: IsActiveMember, dtype: int64"
            ]
          },
          "metadata": {},
          "execution_count": 35
        }
      ]
    },
    {
      "cell_type": "code",
      "source": [
        "df.groupby('IsActiveMember')['Exited'].sum()"
      ],
      "metadata": {
        "colab": {
          "base_uri": "https://localhost:8080/"
        },
        "id": "LKu5MOj8imEn",
        "outputId": "80bc649f-d26d-4bd6-a72b-dac8d6a00ec5"
      },
      "execution_count": null,
      "outputs": [
        {
          "output_type": "execute_result",
          "data": {
            "text/plain": [
              "IsActiveMember\n",
              "0    1302\n",
              "1     735\n",
              "Name: Exited, dtype: int64"
            ]
          },
          "metadata": {},
          "execution_count": 36
        }
      ]
    },
    {
      "cell_type": "code",
      "source": [
        "p = sns.catplot(\n",
        "    data=df, x=\"IsActiveMember\" , kind=\"count\", height=4, aspect=1, hue =\"Exited\"\n",
        ");\n",
        "\n",
        "p.fig.suptitle(\"Total Number of Customer Churn by Active Member Status\", y=1.02);\n",
        "# for bars in ax.containers:\n",
        "#         ax.bar_label(bars, fmt='%.f', size=12)"
      ],
      "metadata": {
        "colab": {
          "base_uri": "https://localhost:8080/",
          "height": 314
        },
        "id": "-LPlJGNiiohF",
        "outputId": "1eacaf06-2dd2-4f67-ecb1-abb1514efe46"
      },
      "execution_count": null,
      "outputs": [
        {
          "output_type": "display_data",
          "data": {
            "text/plain": [
              "<Figure size 330.375x288 with 1 Axes>"
            ],
            "image/png": "[encoded data removed]"
          },
          "metadata": {}
        }
      ]
    },
    {
      "cell_type": "markdown",
      "source": [
        "Correlation with Exited"
      ],
      "metadata": {
        "id": "qyJ9B4PPrYAV"
      }
    },
    {
      "cell_type": "code",
      "source": [
        "plt.figure(figsize=(12,8))\n",
        "sns.heatmap(df.corr().round(3), annot=True, cmap='crest');"
      ],
      "metadata": {
        "colab": {
          "base_uri": "https://localhost:8080/",
          "height": 559
        },
        "id": "4h-Wu4P_oiFX",
        "outputId": "67df1e50-342d-4ac4-b361-fbd24a11fa11"
      },
      "execution_count": null,
      "outputs": [
        {
          "output_type": "display_data",
          "data": {
            "text/plain": [
              "<Figure size 864x576 with 2 Axes>"
            ],
            "image/png": "[encoded data removed]"
          },
          "metadata": {}
        }
      ]
    },
    {
      "cell_type": "code",
      "source": [
        "df.corr()[['Exited']].sort_values(by='Exited', ascending=False)"
      ],
      "metadata": {
        "colab": {
          "base_uri": "https://localhost:8080/",
          "height": 332
        },
        "id": "MRSfzC_kqsxb",
        "outputId": "b17ba172-eff1-49e9-a6fa-71a4668e54df"
      },
      "execution_count": null,
      "outputs": [
        {
          "output_type": "execute_result",
          "data": {
            "text/plain": [
              "                 Exited\n",
              "Exited              1.0\n",
              "Age                 0.3\n",
              "Balance             0.1\n",
              "EstimatedSalary     0.0\n",
              "HasCrCard          -0.0\n",
              "Tenure             -0.0\n",
              "CreditScore        -0.0\n",
              "NumOfProducts      -0.0\n",
              "IsActiveMember     -0.2"
            ],
            "text/html": [
              "\n",
              "  <div id=\"df-b72340b1-589f-4be9-abe6-9e6c3ed2a032\">\n",
              "    <div class=\"colab-df-container\">\n",
              "      <div>\n",
              "<style scoped>\n",
              "    .dataframe tbody tr th:only-of-type {\n",
              "        vertical-align: middle;\n",
              "    }\n",
              "\n",
              "    .dataframe tbody tr th {\n",
              "        vertical-align: top;\n",
              "    }\n",
              "\n",
              "    .dataframe thead th {\n",
              "        text-align: right;\n",
              "    }\n",
              "</style>\n",
              "<table border=\"1\" class=\"dataframe\">\n",
              "  <thead>\n",
              "    <tr style=\"text-align: right;\">\n",
              "      <th></th>\n",
              "      <th>Exited</th>\n",
              "    </tr>\n",
              "  </thead>\n",
              "  <tbody>\n",
              "    <tr>\n",
              "      <th>Exited</th>\n",
              "      <td>1.0</td>\n",
              "    </tr>\n",
              "    <tr>\n",
              "      <th>Age</th>\n",
              "      <td>0.3</td>\n",
              "    </tr>\n",
              "    <tr>\n",
              "      <th>Balance</th>\n",
              "      <td>0.1</td>\n",
              "    </tr>\n",
              "    <tr>\n",
              "      <th>EstimatedSalary</th>\n",
              "      <td>0.0</td>\n",
              "    </tr>\n",
              "    <tr>\n",
              "      <th>HasCrCard</th>\n",
              "      <td>-0.0</td>\n",
              "    </tr>\n",
              "    <tr>\n",
              "      <th>Tenure</th>\n",
              "      <td>-0.0</td>\n",
              "    </tr>\n",
              "    <tr>\n",
              "      <th>CreditScore</th>\n",
              "      <td>-0.0</td>\n",
              "    </tr>\n",
              "    <tr>\n",
              "      <th>NumOfProducts</th>\n",
              "      <td>-0.0</td>\n",
              "    </tr>\n",
              "    <tr>\n",
              "      <th>IsActiveMember</th>\n",
              "      <td>-0.2</td>\n",
              "    </tr>\n",
              "  </tbody>\n",
              "</table>\n",
              "</div>\n",
              "      <button class=\"colab-df-convert\" onclick=\"convertToInteractive('df-b72340b1-589f-4be9-abe6-9e6c3ed2a032')\"\n",
              "              title=\"Convert this dataframe to an interactive table.\"\n",
              "              style=\"display:none;\">\n",
              "        \n",
              "  <svg xmlns=\"http://www.w3.org/2000/svg\" height=\"24px\"viewBox=\"0 0 24 24\"\n",
              "       width=\"24px\">\n",
              "    <path d=\"M0 0h24v24H0V0z\" fill=\"none\"/>\n",
              "    <path d=\"M18.56 5.44l.94 2.06.94-2.06 2.06-.94-2.06-.94-.94-2.06-.94 2.06-2.06.94zm-11 1L8.5 8.5l.94-2.06 2.06-.94-2.06-.94L8.5 2.5l-.94 2.06-2.06.94zm10 10l.94 2.06.94-2.06 2.06-.94-2.06-.94-.94-2.06-.94 2.06-2.06.94z\"/><path d=\"M17.41 7.96l-1.37-1.37c-.4-.4-.92-.59-1.43-.59-.52 0-1.04.2-1.43.59L10.3 9.45l-7.72 7.72c-.78.78-.78 2.05 0 2.83L4 21.41c.39.39.9.59 1.41.59.51 0 1.02-.2 1.41-.59l7.78-7.78 2.81-2.81c.8-.78.8-2.07 0-2.86zM5.41 20L4 18.59l7.72-7.72 1.47 1.35L5.41 20z\"/>\n",
              "  </svg>\n",
              "      </button>\n",
              "      \n",
              "  <style>\n",
              "    .colab-df-container {\n",
              "      display:flex;\n",
              "      flex-wrap:wrap;\n",
              "      gap: 12px;\n",
              "    }\n",
              "\n",
              "    .colab-df-convert {\n",
              "      background-color: #E8F0FE;\n",
              "      border: none;\n",
              "      border-radius: 50%;\n",
              "      cursor: pointer;\n",
              "      display: none;\n",
              "      fill: #1967D2;\n",
              "      height: 32px;\n",
              "      padding: 0 0 0 0;\n",
              "      width: 32px;\n",
              "    }\n",
              "\n",
              "    .colab-df-convert:hover {\n",
              "      background-color: #E2EBFA;\n",
              "      box-shadow: 0px 1px 2px rgba(60, 64, 67, 0.3), 0px 1px 3px 1px rgba(60, 64, 67, 0.15);\n",
              "      fill: #174EA6;\n",
              "    }\n",
              "\n",
              "    [theme=dark] .colab-df-convert {\n",
              "      background-color: #3B4455;\n",
              "      fill: #D2E3FC;\n",
              "    }\n",
              "\n",
              "    [theme=dark] .colab-df-convert:hover {\n",
              "      background-color: #434B5C;\n",
              "      box-shadow: 0px 1px 3px 1px rgba(0, 0, 0, 0.15);\n",
              "      filter: drop-shadow(0px 1px 2px rgba(0, 0, 0, 0.3));\n",
              "      fill: #FFFFFF;\n",
              "    }\n",
              "  </style>\n",
              "\n",
              "      <script>\n",
              "        const buttonEl =\n",
              "          document.querySelector('#df-b72340b1-589f-4be9-abe6-9e6c3ed2a032 button.colab-df-convert');\n",
              "        buttonEl.style.display =\n",
              "          google.colab.kernel.accessAllowed ? 'block' : 'none';\n",
              "\n",
              "        async function convertToInteractive(key) {\n",
              "          const element = document.querySelector('#df-b72340b1-589f-4be9-abe6-9e6c3ed2a032');\n",
              "          const dataTable =\n",
              "            await google.colab.kernel.invokeFunction('convertToInteractive',\n",
              "                                                     [key], {});\n",
              "          if (!dataTable) return;\n",
              "\n",
              "          const docLinkHtml = 'Like what you see? Visit the ' +\n",
              "            '<a target=\"_blank\" href=https://colab.research.google.com/notebooks/data_table.ipynb>data table notebook</a>'\n",
              "            + ' to learn more about interactive tables.';\n",
              "          element.innerHTML = '';\n",
              "          dataTable['output_type'] = 'display_data';\n",
              "          await google.colab.output.renderOutput(dataTable, element);\n",
              "          const docLink = document.createElement('div');\n",
              "          docLink.innerHTML = docLinkHtml;\n",
              "          element.appendChild(docLink);\n",
              "        }\n",
              "      </script>\n",
              "    </div>\n",
              "  </div>\n",
              "  "
            ]
          },
          "metadata": {},
          "execution_count": 39
        }
      ]
    },
    {
      "cell_type": "code",
      "source": [
        "plt.figure(figsize = (8,10))\n",
        "df.corr()[\"Exited\"].sort_values().drop(\"Exited\").plot(kind = \"barh\");"
      ],
      "metadata": {
        "colab": {
          "base_uri": "https://localhost:8080/",
          "height": 592
        },
        "id": "W4-BjNFGSY6d",
        "outputId": "0cea34d1-3322-48ff-b9a3-d3da06809f96"
      },
      "execution_count": null,
      "outputs": [
        {
          "output_type": "display_data",
          "data": {
            "text/plain": [
              "<Figure size 576x720 with 1 Axes>"
            ],
            "image/png": "[encoded data removed]"
          },
          "metadata": {}
        }
      ]
    },
    {
      "cell_type": "code",
      "source": [
        "#The is the last step before starting the processing before the model\n",
        "#Change value in country column\n",
        "df.rename(columns = {'Exited':'Churn'}, inplace = True)\n",
        "df.head(2)"
      ],
      "metadata": {
        "colab": {
          "base_uri": "https://localhost:8080/",
          "height": 143
        },
        "id": "dcOrBBSi2uWF",
        "outputId": "4684061f-2c22-481d-98e0-897ef2317688"
      },
      "execution_count": null,
      "outputs": [
        {
          "output_type": "execute_result",
          "data": {
            "text/plain": [
              "           CreditScore Geography  Gender  Age  Tenure  Balance  NumOfProducts  \\\n",
              "RowNumber                                                                       \n",
              "1                  619    France  Female   42       2      0.0              1   \n",
              "2                  608     Spain  Female   41       1  83807.9              1   \n",
              "\n",
              "           HasCrCard  IsActiveMember  EstimatedSalary  Churn  \n",
              "RowNumber                                                     \n",
              "1                  1               1         101348.9      1  \n",
              "2                  0               1         112542.6      0  "
            ],
            "text/html": [
              "\n",
              "  <div id=\"df-6d258a58-d91b-44ca-a081-166315f4503e\">\n",
              "    <div class=\"colab-df-container\">\n",
              "      <div>\n",
              "<style scoped>\n",
              "    .dataframe tbody tr th:only-of-type {\n",
              "        vertical-align: middle;\n",
              "    }\n",
              "\n",
              "    .dataframe tbody tr th {\n",
              "        vertical-align: top;\n",
              "    }\n",
              "\n",
              "    .dataframe thead th {\n",
              "        text-align: right;\n",
              "    }\n",
              "</style>\n",
              "<table border=\"1\" class=\"dataframe\">\n",
              "  <thead>\n",
              "    <tr style=\"text-align: right;\">\n",
              "      <th></th>\n",
              "      <th>CreditScore</th>\n",
              "      <th>Geography</th>\n",
              "      <th>Gender</th>\n",
              "      <th>Age</th>\n",
              "      <th>Tenure</th>\n",
              "      <th>Balance</th>\n",
              "      <th>NumOfProducts</th>\n",
              "      <th>HasCrCard</th>\n",
              "      <th>IsActiveMember</th>\n",
              "      <th>EstimatedSalary</th>\n",
              "      <th>Churn</th>\n",
              "    </tr>\n",
              "    <tr>\n",
              "      <th>RowNumber</th>\n",
              "      <th></th>\n",
              "      <th></th>\n",
              "      <th></th>\n",
              "      <th></th>\n",
              "      <th></th>\n",
              "      <th></th>\n",
              "      <th></th>\n",
              "      <th></th>\n",
              "      <th></th>\n",
              "      <th></th>\n",
              "      <th></th>\n",
              "    </tr>\n",
              "  </thead>\n",
              "  <tbody>\n",
              "    <tr>\n",
              "      <th>1</th>\n",
              "      <td>619</td>\n",
              "      <td>France</td>\n",
              "      <td>Female</td>\n",
              "      <td>42</td>\n",
              "      <td>2</td>\n",
              "      <td>0.0</td>\n",
              "      <td>1</td>\n",
              "      <td>1</td>\n",
              "      <td>1</td>\n",
              "      <td>101348.9</td>\n",
              "      <td>1</td>\n",
              "    </tr>\n",
              "    <tr>\n",
              "      <th>2</th>\n",
              "      <td>608</td>\n",
              "      <td>Spain</td>\n",
              "      <td>Female</td>\n",
              "      <td>41</td>\n",
              "      <td>1</td>\n",
              "      <td>83807.9</td>\n",
              "      <td>1</td>\n",
              "      <td>0</td>\n",
              "      <td>1</td>\n",
              "      <td>112542.6</td>\n",
              "      <td>0</td>\n",
              "    </tr>\n",
              "  </tbody>\n",
              "</table>\n",
              "</div>\n",
              "      <button class=\"colab-df-convert\" onclick=\"convertToInteractive('df-6d258a58-d91b-44ca-a081-166315f4503e')\"\n",
              "              title=\"Convert this dataframe to an interactive table.\"\n",
              "              style=\"display:none;\">\n",
              "        \n",
              "  <svg xmlns=\"http://www.w3.org/2000/svg\" height=\"24px\"viewBox=\"0 0 24 24\"\n",
              "       width=\"24px\">\n",
              "    <path d=\"M0 0h24v24H0V0z\" fill=\"none\"/>\n",
              "    <path d=\"M18.56 5.44l.94 2.06.94-2.06 2.06-.94-2.06-.94-.94-2.06-.94 2.06-2.06.94zm-11 1L8.5 8.5l.94-2.06 2.06-.94-2.06-.94L8.5 2.5l-.94 2.06-2.06.94zm10 10l.94 2.06.94-2.06 2.06-.94-2.06-.94-.94-2.06-.94 2.06-2.06.94z\"/><path d=\"M17.41 7.96l-1.37-1.37c-.4-.4-.92-.59-1.43-.59-.52 0-1.04.2-1.43.59L10.3 9.45l-7.72 7.72c-.78.78-.78 2.05 0 2.83L4 21.41c.39.39.9.59 1.41.59.51 0 1.02-.2 1.41-.59l7.78-7.78 2.81-2.81c.8-.78.8-2.07 0-2.86zM5.41 20L4 18.59l7.72-7.72 1.47 1.35L5.41 20z\"/>\n",
              "  </svg>\n",
              "      </button>\n",
              "      \n",
              "  <style>\n",
              "    .colab-df-container {\n",
              "      display:flex;\n",
              "      flex-wrap:wrap;\n",
              "      gap: 12px;\n",
              "    }\n",
              "\n",
              "    .colab-df-convert {\n",
              "      background-color: #E8F0FE;\n",
              "      border: none;\n",
              "      border-radius: 50%;\n",
              "      cursor: pointer;\n",
              "      display: none;\n",
              "      fill: #1967D2;\n",
              "      height: 32px;\n",
              "      padding: 0 0 0 0;\n",
              "      width: 32px;\n",
              "    }\n",
              "\n",
              "    .colab-df-convert:hover {\n",
              "      background-color: #E2EBFA;\n",
              "      box-shadow: 0px 1px 2px rgba(60, 64, 67, 0.3), 0px 1px 3px 1px rgba(60, 64, 67, 0.15);\n",
              "      fill: #174EA6;\n",
              "    }\n",
              "\n",
              "    [theme=dark] .colab-df-convert {\n",
              "      background-color: #3B4455;\n",
              "      fill: #D2E3FC;\n",
              "    }\n",
              "\n",
              "    [theme=dark] .colab-df-convert:hover {\n",
              "      background-color: #434B5C;\n",
              "      box-shadow: 0px 1px 3px 1px rgba(0, 0, 0, 0.15);\n",
              "      filter: drop-shadow(0px 1px 2px rgba(0, 0, 0, 0.3));\n",
              "      fill: #FFFFFF;\n",
              "    }\n",
              "  </style>\n",
              "\n",
              "      <script>\n",
              "        const buttonEl =\n",
              "          document.querySelector('#df-6d258a58-d91b-44ca-a081-166315f4503e button.colab-df-convert');\n",
              "        buttonEl.style.display =\n",
              "          google.colab.kernel.accessAllowed ? 'block' : 'none';\n",
              "\n",
              "        async function convertToInteractive(key) {\n",
              "          const element = document.querySelector('#df-6d258a58-d91b-44ca-a081-166315f4503e');\n",
              "          const dataTable =\n",
              "            await google.colab.kernel.invokeFunction('convertToInteractive',\n",
              "                                                     [key], {});\n",
              "          if (!dataTable) return;\n",
              "\n",
              "          const docLinkHtml = 'Like what you see? Visit the ' +\n",
              "            '<a target=\"_blank\" href=https://colab.research.google.com/notebooks/data_table.ipynb>data table notebook</a>'\n",
              "            + ' to learn more about interactive tables.';\n",
              "          element.innerHTML = '';\n",
              "          dataTable['output_type'] = 'display_data';\n",
              "          await google.colab.output.renderOutput(dataTable, element);\n",
              "          const docLink = document.createElement('div');\n",
              "          docLink.innerHTML = docLinkHtml;\n",
              "          element.appendChild(docLink);\n",
              "        }\n",
              "      </script>\n",
              "    </div>\n",
              "  </div>\n",
              "  "
            ]
          },
          "metadata": {},
          "execution_count": 41
        }
      ]
    },
    {
      "cell_type": "code",
      "source": [
        "df.shape"
      ],
      "metadata": {
        "colab": {
          "base_uri": "https://localhost:8080/"
        },
        "id": "MoRs2_ZkQJRz",
        "outputId": "e8692370-e6cd-4ed7-8012-52804156319b"
      },
      "execution_count": null,
      "outputs": [
        {
          "output_type": "execute_result",
          "data": {
            "text/plain": [
              "(10000, 11)"
            ]
          },
          "metadata": {},
          "execution_count": 42
        }
      ]
    },
    {
      "cell_type": "code",
      "source": [
        "df.columns"
      ],
      "metadata": {
        "colab": {
          "base_uri": "https://localhost:8080/"
        },
        "id": "YFVoJ9o0nUh8",
        "outputId": "b93e6d58-ff49-4235-f410-fa0fc5870703"
      },
      "execution_count": null,
      "outputs": [
        {
          "output_type": "execute_result",
          "data": {
            "text/plain": [
              "Index(['CreditScore', 'Geography', 'Gender', 'Age', 'Tenure', 'Balance',\n",
              "       'NumOfProducts', 'HasCrCard', 'IsActiveMember', 'EstimatedSalary',\n",
              "       'Churn'],\n",
              "      dtype='object')"
            ]
          },
          "metadata": {},
          "execution_count": 43
        }
      ]
    },
    {
      "cell_type": "code",
      "source": [
        "#Change value in country column\n",
        "# df['country'] = df['Geography'].replace(['Germany'],'0')\n",
        "# df['country'] = df['Geography'].replace(['France'],'1')\n",
        "# df['country'] = df['Geography'].replace(['Spain'],'2')\n",
        "#Change value in gender column\n",
        "# df['Gender'] = df['Gender'].replace(['Female'],'0')\n",
        "# df['Gender'] = df['Gender'].replace(['Male'],'1')"
      ],
      "metadata": {
        "id": "XHOfyjJYjVxk"
      },
      "execution_count": null,
      "outputs": []
    },
    {
      "cell_type": "markdown",
      "metadata": {
        "id": "gx47mk5MNMvc"
      },
      "source": [
        "# Preprocessing of Data\n",
        "- Train | Test Split, Scalling"
      ]
    },
    {
      "cell_type": "code",
      "execution_count": null,
      "metadata": {
        "id": "wSLfCSKfNMvc"
      },
      "outputs": [],
      "source": [
        "X = df.drop('Churn', axis=1)\n",
        "y = df['Churn'].values"
      ]
    },
    {
      "cell_type": "code",
      "source": [
        "X_train, X_test, y_train, y_test = train_test_split(X, y, stratify=y, test_size=0.15, random_state=42)"
      ],
      "metadata": {
        "id": "xQZn_Bz2Wwlh"
      },
      "execution_count": null,
      "outputs": []
    },
    {
      "cell_type": "code",
      "source": [
        "X_train.shape"
      ],
      "metadata": {
        "colab": {
          "base_uri": "https://localhost:8080/"
        },
        "id": "DoNK7fgBWwiJ",
        "outputId": "40dd7f54-bb1b-4976-b9ca-9eea4cd1e530"
      },
      "execution_count": null,
      "outputs": [
        {
          "output_type": "execute_result",
          "data": {
            "text/plain": [
              "(8500, 10)"
            ]
          },
          "metadata": {},
          "execution_count": 46
        }
      ]
    },
    {
      "cell_type": "code",
      "source": [
        "X_test.shape"
      ],
      "metadata": {
        "colab": {
          "base_uri": "https://localhost:8080/"
        },
        "id": "EQfR4JEmWwew",
        "outputId": "66731ec0-0548-44bd-f8f2-abef1f3154a0"
      },
      "execution_count": null,
      "outputs": [
        {
          "output_type": "execute_result",
          "data": {
            "text/plain": [
              "(1500, 10)"
            ]
          },
          "metadata": {},
          "execution_count": 47
        }
      ]
    },
    {
      "cell_type": "code",
      "source": [
        "cat_columns = X_train.select_dtypes(include=['object', 'bool']).columns\n",
        "OHE = OneHotEncoder(categories=\"auto\",sparse=False, handle_unknown=\"ignore\")"
      ],
      "metadata": {
        "id": "yg7Zlf4fWwbo"
      },
      "execution_count": null,
      "outputs": []
    },
    {
      "cell_type": "code",
      "source": [
        "transformers = [('cat', OHE, cat_columns)]\n",
        "\n",
        "column_trans = ColumnTransformer(transformers=transformers,remainder='passthrough')"
      ],
      "metadata": {
        "id": "WRieCV6AWwYR"
      },
      "execution_count": null,
      "outputs": []
    },
    {
      "cell_type": "code",
      "source": [
        "X_train = column_trans.fit_transform(X_train)\n",
        "X_test = column_trans.transform(X_test)"
      ],
      "metadata": {
        "id": "FQEOKOVozhGI"
      },
      "execution_count": null,
      "outputs": []
    },
    {
      "cell_type": "code",
      "source": [
        "scaler = MinMaxScaler()"
      ],
      "metadata": {
        "id": "mj6aqmaVzpf3"
      },
      "execution_count": null,
      "outputs": []
    },
    {
      "cell_type": "code",
      "source": [
        "X_train= scaler.fit_transform(X_train)\n",
        "X_test = scaler.transform(X_test)"
      ],
      "metadata": {
        "id": "5akXMgQLzpdQ"
      },
      "execution_count": null,
      "outputs": []
    },
    {
      "cell_type": "markdown",
      "metadata": {
        "id": "Ha9hDt_AoGaE"
      },
      "source": [
        "# Modelling & Model Performance"
      ]
    },
    {
      "cell_type": "markdown",
      "metadata": {
        "id": "zH2ZmlD0NMvc"
      },
      "source": [
        "## without class_weigth"
      ]
    },
    {
      "cell_type": "markdown",
      "metadata": {
        "id": "h7PwQcX5NMvc"
      },
      "source": [
        "### Create The Model"
      ]
    },
    {
      "cell_type": "code",
      "execution_count": null,
      "metadata": {
        "id": "Qut984tZNMvd"
      },
      "outputs": [],
      "source": [
        "tf.__version__"
      ]
    },
    {
      "cell_type": "code",
      "source": [
        "X_train.shape"
      ],
      "metadata": {
        "colab": {
          "base_uri": "https://localhost:8080/"
        },
        "id": "fH8KnkxvHN8Z",
        "outputId": "54399ee2-098d-4c84-9022-6152c37f03b1"
      },
      "execution_count": null,
      "outputs": [
        {
          "output_type": "execute_result",
          "data": {
            "text/plain": [
              "(8500, 13)"
            ]
          },
          "metadata": {},
          "execution_count": 55
        }
      ]
    },
    {
      "cell_type": "code",
      "source": [
        "tf.random.set_seed(42) \n",
        "\n",
        "model = Sequential() \n",
        "\n",
        "model.add(Dense(16, activation=\"relu\", input_dim=X_train.shape[1])) \n",
        "model.add(Dense(8, activation=\"relu\"))  \n",
        "model.add(Dense(1, activation=\"sigmoid\"))  \n",
        "opt = Adam(lr=0.001) \n",
        "model.compile(optimizer=opt, loss=\"binary_crossentropy\",metrics=[\"Recall\"]) "
      ],
      "metadata": {
        "id": "-J8j8frxCsyC"
      },
      "execution_count": null,
      "outputs": []
    },
    {
      "cell_type": "code",
      "source": [
        "model.fit(x = X_train, y = y_train, validation_split = 0.1, batch_size = 32, epochs = 400, verbose=1)"
      ],
      "metadata": {
        "colab": {
          "base_uri": "https://localhost:8080/"
        },
        "id": "QG2DYCw2CsvS",
        "outputId": "53b47700-d51e-40f8-a9d9-7d434ac51a56"
      },
      "execution_count": 90,
      "outputs": [
        {
          "output_type": "stream",
          "name": "stdout",
          "text": [
            "Epoch 1/400\n",
            "240/240 [==============================] - 1s 4ms/step - loss: 0.3175 - recall: 0.5407 - val_loss: 0.3390 - val_recall: 0.5235\n",
            "Epoch 2/400\n",
            "240/240 [==============================] - 1s 3ms/step - loss: 0.3121 - recall: 0.5240 - val_loss: 0.3404 - val_recall: 0.5000\n",
            "Epoch 3/400\n",
            "240/240 [==============================] - 1s 4ms/step - loss: 0.3130 - recall: 0.5189 - val_loss: 0.3391 - val_recall: 0.5353\n",
            "Epoch 4/400\n",
            "240/240 [==============================] - 1s 4ms/step - loss: 0.3121 - recall: 0.5227 - val_loss: 0.3388 - val_recall: 0.5176\n",
            "Epoch 5/400\n",
            "240/240 [==============================] - 1s 4ms/step - loss: 0.3119 - recall: 0.5221 - val_loss: 0.3399 - val_recall: 0.5294\n",
            "Epoch 6/400\n",
            "240/240 [==============================] - 1s 4ms/step - loss: 0.3121 - recall: 0.5227 - val_loss: 0.3401 - val_recall: 0.5294\n",
            "Epoch 7/400\n",
            "240/240 [==============================] - 1s 3ms/step - loss: 0.3123 - recall: 0.5189 - val_loss: 0.3376 - val_recall: 0.5294\n",
            "Epoch 8/400\n",
            "240/240 [==============================] - 1s 3ms/step - loss: 0.3118 - recall: 0.5189 - val_loss: 0.3378 - val_recall: 0.5294\n",
            "Epoch 9/400\n",
            "240/240 [==============================] - 1s 4ms/step - loss: 0.3128 - recall: 0.5183 - val_loss: 0.3386 - val_recall: 0.5353\n",
            "Epoch 10/400\n",
            "240/240 [==============================] - 1s 4ms/step - loss: 0.3124 - recall: 0.5227 - val_loss: 0.3400 - val_recall: 0.5118\n",
            "Epoch 11/400\n",
            "240/240 [==============================] - 1s 4ms/step - loss: 0.3119 - recall: 0.5215 - val_loss: 0.3388 - val_recall: 0.5118\n",
            "Epoch 12/400\n",
            "240/240 [==============================] - 1s 3ms/step - loss: 0.3125 - recall: 0.5240 - val_loss: 0.3403 - val_recall: 0.5353\n",
            "Epoch 13/400\n",
            "240/240 [==============================] - 1s 3ms/step - loss: 0.3123 - recall: 0.5189 - val_loss: 0.3480 - val_recall: 0.5706\n",
            "Epoch 14/400\n",
            "240/240 [==============================] - 1s 3ms/step - loss: 0.3128 - recall: 0.5202 - val_loss: 0.3416 - val_recall: 0.5059\n",
            "Epoch 15/400\n",
            "240/240 [==============================] - 1s 3ms/step - loss: 0.3122 - recall: 0.5279 - val_loss: 0.3392 - val_recall: 0.4941\n",
            "Epoch 16/400\n",
            "240/240 [==============================] - 1s 3ms/step - loss: 0.3126 - recall: 0.5144 - val_loss: 0.3395 - val_recall: 0.5353\n",
            "Epoch 17/400\n",
            "240/240 [==============================] - 1s 4ms/step - loss: 0.3120 - recall: 0.5202 - val_loss: 0.3395 - val_recall: 0.5176\n",
            "Epoch 18/400\n",
            "240/240 [==============================] - 1s 4ms/step - loss: 0.3121 - recall: 0.5259 - val_loss: 0.3396 - val_recall: 0.5471\n",
            "Epoch 19/400\n",
            "240/240 [==============================] - 1s 4ms/step - loss: 0.3128 - recall: 0.5131 - val_loss: 0.3408 - val_recall: 0.5353\n",
            "Epoch 20/400\n",
            "240/240 [==============================] - 1s 3ms/step - loss: 0.3115 - recall: 0.5259 - val_loss: 0.3416 - val_recall: 0.5176\n",
            "Epoch 21/400\n",
            "240/240 [==============================] - 1s 4ms/step - loss: 0.3128 - recall: 0.5208 - val_loss: 0.3420 - val_recall: 0.4706\n",
            "Epoch 22/400\n",
            "240/240 [==============================] - 1s 4ms/step - loss: 0.3142 - recall: 0.5170 - val_loss: 0.3383 - val_recall: 0.5529\n",
            "Epoch 23/400\n",
            "240/240 [==============================] - 1s 4ms/step - loss: 0.3123 - recall: 0.5208 - val_loss: 0.3417 - val_recall: 0.5059\n",
            "Epoch 24/400\n",
            "240/240 [==============================] - 1s 3ms/step - loss: 0.3118 - recall: 0.5272 - val_loss: 0.3389 - val_recall: 0.5412\n",
            "Epoch 25/400\n",
            "240/240 [==============================] - 1s 4ms/step - loss: 0.3122 - recall: 0.5183 - val_loss: 0.3388 - val_recall: 0.5176\n",
            "Epoch 26/400\n",
            "240/240 [==============================] - 1s 4ms/step - loss: 0.3113 - recall: 0.5247 - val_loss: 0.3378 - val_recall: 0.4941\n",
            "Epoch 27/400\n",
            "240/240 [==============================] - 1s 4ms/step - loss: 0.3128 - recall: 0.5266 - val_loss: 0.3407 - val_recall: 0.5588\n",
            "Epoch 28/400\n",
            "240/240 [==============================] - 1s 4ms/step - loss: 0.3115 - recall: 0.5202 - val_loss: 0.3409 - val_recall: 0.5529\n",
            "Epoch 29/400\n",
            "240/240 [==============================] - 1s 4ms/step - loss: 0.3118 - recall: 0.5170 - val_loss: 0.3382 - val_recall: 0.5176\n",
            "Epoch 30/400\n",
            "240/240 [==============================] - 1s 3ms/step - loss: 0.3127 - recall: 0.5163 - val_loss: 0.3377 - val_recall: 0.5471\n",
            "Epoch 31/400\n",
            "240/240 [==============================] - 1s 4ms/step - loss: 0.3118 - recall: 0.5183 - val_loss: 0.3394 - val_recall: 0.4824\n",
            "Epoch 32/400\n",
            "240/240 [==============================] - 1s 4ms/step - loss: 0.3123 - recall: 0.5183 - val_loss: 0.3392 - val_recall: 0.5059\n",
            "Epoch 33/400\n",
            "240/240 [==============================] - 1s 3ms/step - loss: 0.3125 - recall: 0.5163 - val_loss: 0.3437 - val_recall: 0.5706\n",
            "Epoch 34/400\n",
            "240/240 [==============================] - 1s 3ms/step - loss: 0.3117 - recall: 0.5253 - val_loss: 0.3401 - val_recall: 0.4941\n",
            "Epoch 35/400\n",
            "240/240 [==============================] - 1s 4ms/step - loss: 0.3148 - recall: 0.5067 - val_loss: 0.3394 - val_recall: 0.5412\n",
            "Epoch 36/400\n",
            "240/240 [==============================] - 1s 4ms/step - loss: 0.3111 - recall: 0.5272 - val_loss: 0.3405 - val_recall: 0.4941\n",
            "Epoch 37/400\n",
            "240/240 [==============================] - 1s 3ms/step - loss: 0.3124 - recall: 0.5163 - val_loss: 0.3381 - val_recall: 0.5059\n",
            "Epoch 38/400\n",
            "240/240 [==============================] - 1s 4ms/step - loss: 0.3114 - recall: 0.5195 - val_loss: 0.3381 - val_recall: 0.5471\n",
            "Epoch 39/400\n",
            "240/240 [==============================] - 1s 3ms/step - loss: 0.3121 - recall: 0.5131 - val_loss: 0.3375 - val_recall: 0.5059\n",
            "Epoch 40/400\n",
            "240/240 [==============================] - 1s 3ms/step - loss: 0.3111 - recall: 0.5176 - val_loss: 0.3417 - val_recall: 0.5588\n",
            "Epoch 41/400\n",
            "240/240 [==============================] - 1s 4ms/step - loss: 0.3115 - recall: 0.5279 - val_loss: 0.3420 - val_recall: 0.5529\n",
            "Epoch 42/400\n",
            "240/240 [==============================] - 1s 4ms/step - loss: 0.3111 - recall: 0.5304 - val_loss: 0.3446 - val_recall: 0.5765\n",
            "Epoch 43/400\n",
            "240/240 [==============================] - 1s 4ms/step - loss: 0.3108 - recall: 0.5221 - val_loss: 0.3407 - val_recall: 0.5588\n",
            "Epoch 44/400\n",
            "240/240 [==============================] - 1s 3ms/step - loss: 0.3119 - recall: 0.5221 - val_loss: 0.3385 - val_recall: 0.5588\n",
            "Epoch 45/400\n",
            "240/240 [==============================] - 1s 5ms/step - loss: 0.3115 - recall: 0.5189 - val_loss: 0.3406 - val_recall: 0.5588\n",
            "Epoch 46/400\n",
            "240/240 [==============================] - 1s 4ms/step - loss: 0.3121 - recall: 0.5266 - val_loss: 0.3401 - val_recall: 0.5706\n",
            "Epoch 47/400\n",
            "240/240 [==============================] - 1s 4ms/step - loss: 0.3107 - recall: 0.5285 - val_loss: 0.3405 - val_recall: 0.4824\n",
            "Epoch 48/400\n",
            "240/240 [==============================] - 1s 3ms/step - loss: 0.3116 - recall: 0.5195 - val_loss: 0.3380 - val_recall: 0.5118\n",
            "Epoch 49/400\n",
            "240/240 [==============================] - 1s 4ms/step - loss: 0.3114 - recall: 0.5215 - val_loss: 0.3402 - val_recall: 0.5529\n",
            "Epoch 50/400\n",
            "240/240 [==============================] - 1s 3ms/step - loss: 0.3111 - recall: 0.5259 - val_loss: 0.3399 - val_recall: 0.5294\n",
            "Epoch 51/400\n",
            "240/240 [==============================] - 1s 4ms/step - loss: 0.3105 - recall: 0.5330 - val_loss: 0.3419 - val_recall: 0.5235\n",
            "Epoch 52/400\n",
            "240/240 [==============================] - 1s 3ms/step - loss: 0.3118 - recall: 0.5215 - val_loss: 0.3419 - val_recall: 0.5000\n",
            "Epoch 53/400\n",
            "240/240 [==============================] - 1s 3ms/step - loss: 0.3113 - recall: 0.5195 - val_loss: 0.3394 - val_recall: 0.5353\n",
            "Epoch 54/400\n",
            "240/240 [==============================] - 1s 4ms/step - loss: 0.3105 - recall: 0.5208 - val_loss: 0.3394 - val_recall: 0.5235\n",
            "Epoch 55/400\n",
            "240/240 [==============================] - 1s 3ms/step - loss: 0.3105 - recall: 0.5259 - val_loss: 0.3393 - val_recall: 0.5235\n",
            "Epoch 56/400\n",
            "240/240 [==============================] - 1s 4ms/step - loss: 0.3116 - recall: 0.5266 - val_loss: 0.3395 - val_recall: 0.5059\n",
            "Epoch 57/400\n",
            "240/240 [==============================] - 1s 4ms/step - loss: 0.3104 - recall: 0.5240 - val_loss: 0.3398 - val_recall: 0.4765\n",
            "Epoch 58/400\n",
            "240/240 [==============================] - 1s 3ms/step - loss: 0.3108 - recall: 0.5195 - val_loss: 0.3401 - val_recall: 0.5706\n",
            "Epoch 59/400\n",
            "240/240 [==============================] - 1s 4ms/step - loss: 0.3101 - recall: 0.5240 - val_loss: 0.3404 - val_recall: 0.5471\n",
            "Epoch 60/400\n",
            "240/240 [==============================] - 1s 3ms/step - loss: 0.3102 - recall: 0.5215 - val_loss: 0.3406 - val_recall: 0.5176\n",
            "Epoch 61/400\n",
            "240/240 [==============================] - 1s 3ms/step - loss: 0.3110 - recall: 0.5234 - val_loss: 0.3416 - val_recall: 0.5647\n",
            "Epoch 62/400\n",
            "240/240 [==============================] - 1s 3ms/step - loss: 0.3111 - recall: 0.5202 - val_loss: 0.3449 - val_recall: 0.5824\n",
            "Epoch 63/400\n",
            "240/240 [==============================] - 1s 4ms/step - loss: 0.3105 - recall: 0.5266 - val_loss: 0.3503 - val_recall: 0.5765\n",
            "Epoch 64/400\n",
            "240/240 [==============================] - 1s 4ms/step - loss: 0.3118 - recall: 0.5189 - val_loss: 0.3403 - val_recall: 0.5412\n",
            "Epoch 65/400\n",
            "240/240 [==============================] - 1s 4ms/step - loss: 0.3096 - recall: 0.5291 - val_loss: 0.3419 - val_recall: 0.5176\n",
            "Epoch 66/400\n",
            "240/240 [==============================] - 1s 4ms/step - loss: 0.3105 - recall: 0.5272 - val_loss: 0.3393 - val_recall: 0.5353\n",
            "Epoch 67/400\n",
            "240/240 [==============================] - 1s 4ms/step - loss: 0.3108 - recall: 0.5330 - val_loss: 0.3414 - val_recall: 0.4824\n",
            "Epoch 68/400\n",
            "240/240 [==============================] - 1s 4ms/step - loss: 0.3107 - recall: 0.5259 - val_loss: 0.3406 - val_recall: 0.5235\n",
            "Epoch 69/400\n",
            "240/240 [==============================] - 1s 4ms/step - loss: 0.3101 - recall: 0.5170 - val_loss: 0.3399 - val_recall: 0.5412\n",
            "Epoch 70/400\n",
            "240/240 [==============================] - 1s 6ms/step - loss: 0.3099 - recall: 0.5259 - val_loss: 0.3432 - val_recall: 0.5176\n",
            "Epoch 71/400\n",
            "240/240 [==============================] - 2s 6ms/step - loss: 0.3101 - recall: 0.5176 - val_loss: 0.3399 - val_recall: 0.5000\n",
            "Epoch 72/400\n",
            "240/240 [==============================] - 1s 5ms/step - loss: 0.3099 - recall: 0.5215 - val_loss: 0.3413 - val_recall: 0.5471\n",
            "Epoch 73/400\n",
            "240/240 [==============================] - 1s 4ms/step - loss: 0.3104 - recall: 0.5330 - val_loss: 0.3391 - val_recall: 0.5000\n",
            "Epoch 74/400\n",
            "240/240 [==============================] - 1s 4ms/step - loss: 0.3095 - recall: 0.5208 - val_loss: 0.3464 - val_recall: 0.5765\n",
            "Epoch 75/400\n",
            "240/240 [==============================] - 1s 3ms/step - loss: 0.3100 - recall: 0.5285 - val_loss: 0.3429 - val_recall: 0.4824\n",
            "Epoch 76/400\n",
            "240/240 [==============================] - 1s 4ms/step - loss: 0.3104 - recall: 0.5324 - val_loss: 0.3391 - val_recall: 0.4882\n",
            "Epoch 77/400\n",
            "240/240 [==============================] - 1s 4ms/step - loss: 0.3103 - recall: 0.5183 - val_loss: 0.3443 - val_recall: 0.5647\n",
            "Epoch 78/400\n",
            "240/240 [==============================] - 1s 4ms/step - loss: 0.3104 - recall: 0.5343 - val_loss: 0.3418 - val_recall: 0.5059\n",
            "Epoch 79/400\n",
            "240/240 [==============================] - 1s 4ms/step - loss: 0.3097 - recall: 0.5285 - val_loss: 0.3437 - val_recall: 0.5471\n",
            "Epoch 80/400\n",
            "240/240 [==============================] - 1s 5ms/step - loss: 0.3097 - recall: 0.5279 - val_loss: 0.3423 - val_recall: 0.4941\n",
            "Epoch 81/400\n",
            "240/240 [==============================] - 1s 5ms/step - loss: 0.3111 - recall: 0.5125 - val_loss: 0.3417 - val_recall: 0.5176\n",
            "Epoch 82/400\n",
            "240/240 [==============================] - 1s 5ms/step - loss: 0.3110 - recall: 0.5311 - val_loss: 0.3408 - val_recall: 0.5000\n",
            "Epoch 83/400\n",
            "240/240 [==============================] - 1s 3ms/step - loss: 0.3096 - recall: 0.5298 - val_loss: 0.3416 - val_recall: 0.5471\n",
            "Epoch 84/400\n",
            "240/240 [==============================] - 1s 4ms/step - loss: 0.3105 - recall: 0.5215 - val_loss: 0.3433 - val_recall: 0.5118\n",
            "Epoch 85/400\n",
            "240/240 [==============================] - 1s 3ms/step - loss: 0.3102 - recall: 0.5298 - val_loss: 0.3415 - val_recall: 0.5118\n",
            "Epoch 86/400\n",
            "240/240 [==============================] - 1s 4ms/step - loss: 0.3096 - recall: 0.5266 - val_loss: 0.3400 - val_recall: 0.5000\n",
            "Epoch 87/400\n",
            "240/240 [==============================] - 1s 4ms/step - loss: 0.3113 - recall: 0.5157 - val_loss: 0.3398 - val_recall: 0.5647\n",
            "Epoch 88/400\n",
            "240/240 [==============================] - 1s 4ms/step - loss: 0.3107 - recall: 0.5356 - val_loss: 0.3413 - val_recall: 0.5059\n",
            "Epoch 89/400\n",
            "240/240 [==============================] - 1s 4ms/step - loss: 0.3095 - recall: 0.5195 - val_loss: 0.3399 - val_recall: 0.5471\n",
            "Epoch 90/400\n",
            "240/240 [==============================] - 1s 4ms/step - loss: 0.3093 - recall: 0.5247 - val_loss: 0.3430 - val_recall: 0.5294\n",
            "Epoch 91/400\n",
            "240/240 [==============================] - 1s 4ms/step - loss: 0.3081 - recall: 0.5330 - val_loss: 0.3425 - val_recall: 0.5706\n",
            "Epoch 92/400\n",
            "240/240 [==============================] - 1s 4ms/step - loss: 0.3094 - recall: 0.5221 - val_loss: 0.3408 - val_recall: 0.5529\n",
            "Epoch 93/400\n",
            "240/240 [==============================] - 1s 3ms/step - loss: 0.3097 - recall: 0.5291 - val_loss: 0.3424 - val_recall: 0.5353\n",
            "Epoch 94/400\n",
            "240/240 [==============================] - 1s 4ms/step - loss: 0.3096 - recall: 0.5240 - val_loss: 0.3434 - val_recall: 0.5647\n",
            "Epoch 95/400\n",
            "240/240 [==============================] - 1s 4ms/step - loss: 0.3099 - recall: 0.5272 - val_loss: 0.3408 - val_recall: 0.5353\n",
            "Epoch 96/400\n",
            "240/240 [==============================] - 1s 4ms/step - loss: 0.3091 - recall: 0.5221 - val_loss: 0.3413 - val_recall: 0.5471\n",
            "Epoch 97/400\n",
            "240/240 [==============================] - 1s 4ms/step - loss: 0.3099 - recall: 0.5285 - val_loss: 0.3402 - val_recall: 0.5353\n",
            "Epoch 98/400\n",
            "240/240 [==============================] - 1s 4ms/step - loss: 0.3101 - recall: 0.5298 - val_loss: 0.3405 - val_recall: 0.5294\n",
            "Epoch 99/400\n",
            "240/240 [==============================] - 1s 4ms/step - loss: 0.3097 - recall: 0.5253 - val_loss: 0.3427 - val_recall: 0.5588\n",
            "Epoch 100/400\n",
            "240/240 [==============================] - 1s 3ms/step - loss: 0.3091 - recall: 0.5304 - val_loss: 0.3421 - val_recall: 0.5588\n",
            "Epoch 101/400\n",
            "240/240 [==============================] - 1s 4ms/step - loss: 0.3091 - recall: 0.5176 - val_loss: 0.3416 - val_recall: 0.5706\n",
            "Epoch 102/400\n",
            "240/240 [==============================] - 1s 4ms/step - loss: 0.3095 - recall: 0.5285 - val_loss: 0.3434 - val_recall: 0.5706\n",
            "Epoch 103/400\n",
            "240/240 [==============================] - 1s 3ms/step - loss: 0.3094 - recall: 0.5247 - val_loss: 0.3416 - val_recall: 0.5118\n",
            "Epoch 104/400\n",
            "240/240 [==============================] - 1s 4ms/step - loss: 0.3097 - recall: 0.5311 - val_loss: 0.3458 - val_recall: 0.5588\n",
            "Epoch 105/400\n",
            "240/240 [==============================] - 1s 4ms/step - loss: 0.3096 - recall: 0.5240 - val_loss: 0.3443 - val_recall: 0.4824\n",
            "Epoch 106/400\n",
            "240/240 [==============================] - 1s 3ms/step - loss: 0.3087 - recall: 0.5240 - val_loss: 0.3475 - val_recall: 0.5647\n",
            "Epoch 107/400\n",
            "240/240 [==============================] - 1s 3ms/step - loss: 0.3098 - recall: 0.5272 - val_loss: 0.3414 - val_recall: 0.5000\n",
            "Epoch 108/400\n",
            "240/240 [==============================] - 1s 4ms/step - loss: 0.3102 - recall: 0.5170 - val_loss: 0.3412 - val_recall: 0.5059\n",
            "Epoch 109/400\n",
            "240/240 [==============================] - 1s 4ms/step - loss: 0.3087 - recall: 0.5253 - val_loss: 0.3407 - val_recall: 0.5647\n",
            "Epoch 110/400\n",
            "240/240 [==============================] - 1s 4ms/step - loss: 0.3097 - recall: 0.5343 - val_loss: 0.3413 - val_recall: 0.5647\n",
            "Epoch 111/400\n",
            "240/240 [==============================] - 1s 4ms/step - loss: 0.3083 - recall: 0.5208 - val_loss: 0.3410 - val_recall: 0.5588\n",
            "Epoch 112/400\n",
            "240/240 [==============================] - 1s 4ms/step - loss: 0.3091 - recall: 0.5324 - val_loss: 0.3400 - val_recall: 0.5059\n",
            "Epoch 113/400\n",
            "240/240 [==============================] - 1s 4ms/step - loss: 0.3110 - recall: 0.5234 - val_loss: 0.3440 - val_recall: 0.5529\n",
            "Epoch 114/400\n",
            "240/240 [==============================] - 1s 4ms/step - loss: 0.3092 - recall: 0.5234 - val_loss: 0.3403 - val_recall: 0.5000\n",
            "Epoch 115/400\n",
            "240/240 [==============================] - 1s 3ms/step - loss: 0.3092 - recall: 0.5336 - val_loss: 0.3443 - val_recall: 0.5235\n",
            "Epoch 116/400\n",
            "240/240 [==============================] - 1s 4ms/step - loss: 0.3085 - recall: 0.5266 - val_loss: 0.3417 - val_recall: 0.4941\n",
            "Epoch 117/400\n",
            "240/240 [==============================] - 1s 3ms/step - loss: 0.3083 - recall: 0.5362 - val_loss: 0.3408 - val_recall: 0.4941\n",
            "Epoch 118/400\n",
            "240/240 [==============================] - 1s 4ms/step - loss: 0.3098 - recall: 0.5176 - val_loss: 0.3425 - val_recall: 0.5059\n",
            "Epoch 119/400\n",
            "240/240 [==============================] - 1s 4ms/step - loss: 0.3090 - recall: 0.5253 - val_loss: 0.3436 - val_recall: 0.5294\n",
            "Epoch 120/400\n",
            "240/240 [==============================] - 1s 3ms/step - loss: 0.3076 - recall: 0.5349 - val_loss: 0.3419 - val_recall: 0.5471\n",
            "Epoch 121/400\n",
            "240/240 [==============================] - 1s 4ms/step - loss: 0.3091 - recall: 0.5311 - val_loss: 0.3437 - val_recall: 0.5588\n",
            "Epoch 122/400\n",
            "240/240 [==============================] - 1s 3ms/step - loss: 0.3084 - recall: 0.5311 - val_loss: 0.3434 - val_recall: 0.5647\n",
            "Epoch 123/400\n",
            "240/240 [==============================] - 1s 4ms/step - loss: 0.3091 - recall: 0.5285 - val_loss: 0.3449 - val_recall: 0.5706\n",
            "Epoch 124/400\n",
            "240/240 [==============================] - 1s 4ms/step - loss: 0.3085 - recall: 0.5330 - val_loss: 0.3425 - val_recall: 0.5176\n",
            "Epoch 125/400\n",
            "240/240 [==============================] - 1s 4ms/step - loss: 0.3095 - recall: 0.5202 - val_loss: 0.3407 - val_recall: 0.5647\n",
            "Epoch 126/400\n",
            "240/240 [==============================] - 1s 4ms/step - loss: 0.3080 - recall: 0.5221 - val_loss: 0.3416 - val_recall: 0.5294\n",
            "Epoch 127/400\n",
            "240/240 [==============================] - 1s 3ms/step - loss: 0.3083 - recall: 0.5285 - val_loss: 0.3424 - val_recall: 0.5059\n",
            "Epoch 128/400\n",
            "240/240 [==============================] - 1s 4ms/step - loss: 0.3089 - recall: 0.5215 - val_loss: 0.3431 - val_recall: 0.5294\n",
            "Epoch 129/400\n",
            "240/240 [==============================] - 1s 4ms/step - loss: 0.3082 - recall: 0.5266 - val_loss: 0.3437 - val_recall: 0.5765\n",
            "Epoch 130/400\n",
            "240/240 [==============================] - 1s 4ms/step - loss: 0.3095 - recall: 0.5394 - val_loss: 0.3457 - val_recall: 0.5765\n",
            "Epoch 131/400\n",
            "240/240 [==============================] - 1s 4ms/step - loss: 0.3078 - recall: 0.5189 - val_loss: 0.3456 - val_recall: 0.5706\n",
            "Epoch 132/400\n",
            "240/240 [==============================] - 1s 4ms/step - loss: 0.3099 - recall: 0.5272 - val_loss: 0.3414 - val_recall: 0.5412\n",
            "Epoch 133/400\n",
            "240/240 [==============================] - 1s 3ms/step - loss: 0.3100 - recall: 0.5336 - val_loss: 0.3427 - val_recall: 0.5059\n",
            "Epoch 134/400\n",
            "240/240 [==============================] - 1s 4ms/step - loss: 0.3084 - recall: 0.5362 - val_loss: 0.3405 - val_recall: 0.5353\n",
            "Epoch 135/400\n",
            "240/240 [==============================] - 1s 4ms/step - loss: 0.3090 - recall: 0.5272 - val_loss: 0.3433 - val_recall: 0.5412\n",
            "Epoch 136/400\n",
            "240/240 [==============================] - 1s 3ms/step - loss: 0.3077 - recall: 0.5291 - val_loss: 0.3421 - val_recall: 0.5118\n",
            "Epoch 137/400\n",
            "240/240 [==============================] - 1s 4ms/step - loss: 0.3093 - recall: 0.5304 - val_loss: 0.3478 - val_recall: 0.4706\n",
            "Epoch 138/400\n",
            "240/240 [==============================] - 1s 4ms/step - loss: 0.3098 - recall: 0.5304 - val_loss: 0.3432 - val_recall: 0.5471\n",
            "Epoch 139/400\n",
            "240/240 [==============================] - 1s 4ms/step - loss: 0.3086 - recall: 0.5317 - val_loss: 0.3422 - val_recall: 0.4941\n",
            "Epoch 140/400\n",
            "240/240 [==============================] - 1s 4ms/step - loss: 0.3083 - recall: 0.5343 - val_loss: 0.3418 - val_recall: 0.5235\n",
            "Epoch 141/400\n",
            "240/240 [==============================] - 1s 4ms/step - loss: 0.3074 - recall: 0.5330 - val_loss: 0.3437 - val_recall: 0.5118\n",
            "Epoch 142/400\n",
            "240/240 [==============================] - 1s 4ms/step - loss: 0.3083 - recall: 0.5291 - val_loss: 0.3413 - val_recall: 0.5176\n",
            "Epoch 143/400\n",
            "240/240 [==============================] - 1s 4ms/step - loss: 0.3086 - recall: 0.5227 - val_loss: 0.3431 - val_recall: 0.5471\n",
            "Epoch 144/400\n",
            "240/240 [==============================] - 1s 4ms/step - loss: 0.3081 - recall: 0.5279 - val_loss: 0.3433 - val_recall: 0.5647\n",
            "Epoch 145/400\n",
            "240/240 [==============================] - 1s 4ms/step - loss: 0.3083 - recall: 0.5362 - val_loss: 0.3426 - val_recall: 0.4882\n",
            "Epoch 146/400\n",
            "240/240 [==============================] - 1s 4ms/step - loss: 0.3076 - recall: 0.5234 - val_loss: 0.3429 - val_recall: 0.5412\n",
            "Epoch 147/400\n",
            "240/240 [==============================] - 1s 4ms/step - loss: 0.3081 - recall: 0.5336 - val_loss: 0.3428 - val_recall: 0.5118\n",
            "Epoch 148/400\n",
            "240/240 [==============================] - 1s 3ms/step - loss: 0.3073 - recall: 0.5311 - val_loss: 0.3410 - val_recall: 0.5176\n",
            "Epoch 149/400\n",
            "240/240 [==============================] - 1s 4ms/step - loss: 0.3081 - recall: 0.5317 - val_loss: 0.3400 - val_recall: 0.5118\n",
            "Epoch 150/400\n",
            "240/240 [==============================] - 1s 4ms/step - loss: 0.3078 - recall: 0.5285 - val_loss: 0.3405 - val_recall: 0.5176\n",
            "Epoch 151/400\n",
            "240/240 [==============================] - 1s 4ms/step - loss: 0.3080 - recall: 0.5285 - val_loss: 0.3420 - val_recall: 0.5588\n",
            "Epoch 152/400\n",
            "240/240 [==============================] - 1s 4ms/step - loss: 0.3075 - recall: 0.5304 - val_loss: 0.3433 - val_recall: 0.5294\n",
            "Epoch 153/400\n",
            "240/240 [==============================] - 1s 4ms/step - loss: 0.3085 - recall: 0.5324 - val_loss: 0.3440 - val_recall: 0.5471\n",
            "Epoch 154/400\n",
            "240/240 [==============================] - 1s 4ms/step - loss: 0.3082 - recall: 0.5349 - val_loss: 0.3454 - val_recall: 0.4941\n",
            "Epoch 155/400\n",
            "240/240 [==============================] - 1s 4ms/step - loss: 0.3089 - recall: 0.5298 - val_loss: 0.3412 - val_recall: 0.5294\n",
            "Epoch 156/400\n",
            "240/240 [==============================] - 1s 4ms/step - loss: 0.3093 - recall: 0.5362 - val_loss: 0.3464 - val_recall: 0.5706\n",
            "Epoch 157/400\n",
            "240/240 [==============================] - 1s 4ms/step - loss: 0.3077 - recall: 0.5375 - val_loss: 0.3419 - val_recall: 0.5353\n",
            "Epoch 158/400\n",
            "240/240 [==============================] - 1s 3ms/step - loss: 0.3076 - recall: 0.5317 - val_loss: 0.3412 - val_recall: 0.5294\n",
            "Epoch 159/400\n",
            "240/240 [==============================] - 1s 4ms/step - loss: 0.3077 - recall: 0.5304 - val_loss: 0.3432 - val_recall: 0.5412\n",
            "Epoch 160/400\n",
            "240/240 [==============================] - 1s 4ms/step - loss: 0.3079 - recall: 0.5298 - val_loss: 0.3421 - val_recall: 0.5588\n",
            "Epoch 161/400\n",
            "240/240 [==============================] - 1s 4ms/step - loss: 0.3081 - recall: 0.5291 - val_loss: 0.3441 - val_recall: 0.5353\n",
            "Epoch 162/400\n",
            "240/240 [==============================] - 1s 4ms/step - loss: 0.3078 - recall: 0.5317 - val_loss: 0.3413 - val_recall: 0.5235\n",
            "Epoch 163/400\n",
            "240/240 [==============================] - 1s 3ms/step - loss: 0.3075 - recall: 0.5356 - val_loss: 0.3442 - val_recall: 0.4647\n",
            "Epoch 164/400\n",
            "240/240 [==============================] - 1s 6ms/step - loss: 0.3077 - recall: 0.5215 - val_loss: 0.3489 - val_recall: 0.5706\n",
            "Epoch 165/400\n",
            "240/240 [==============================] - 1s 4ms/step - loss: 0.3079 - recall: 0.5336 - val_loss: 0.3432 - val_recall: 0.5118\n",
            "Epoch 166/400\n",
            "240/240 [==============================] - 1s 4ms/step - loss: 0.3081 - recall: 0.5298 - val_loss: 0.3418 - val_recall: 0.5588\n",
            "Epoch 167/400\n",
            "240/240 [==============================] - 1s 4ms/step - loss: 0.3077 - recall: 0.5349 - val_loss: 0.3405 - val_recall: 0.5353\n",
            "Epoch 168/400\n",
            "240/240 [==============================] - 1s 4ms/step - loss: 0.3073 - recall: 0.5304 - val_loss: 0.3412 - val_recall: 0.5471\n",
            "Epoch 169/400\n",
            "240/240 [==============================] - 1s 4ms/step - loss: 0.3075 - recall: 0.5221 - val_loss: 0.3406 - val_recall: 0.5294\n",
            "Epoch 170/400\n",
            "240/240 [==============================] - 1s 4ms/step - loss: 0.3068 - recall: 0.5388 - val_loss: 0.3422 - val_recall: 0.5000\n",
            "Epoch 171/400\n",
            "240/240 [==============================] - 1s 4ms/step - loss: 0.3079 - recall: 0.5362 - val_loss: 0.3431 - val_recall: 0.5588\n",
            "Epoch 172/400\n",
            "240/240 [==============================] - 1s 4ms/step - loss: 0.3075 - recall: 0.5298 - val_loss: 0.3451 - val_recall: 0.5529\n",
            "Epoch 173/400\n",
            "240/240 [==============================] - 1s 4ms/step - loss: 0.3078 - recall: 0.5221 - val_loss: 0.3431 - val_recall: 0.5529\n",
            "Epoch 174/400\n",
            "240/240 [==============================] - 1s 4ms/step - loss: 0.3078 - recall: 0.5336 - val_loss: 0.3424 - val_recall: 0.5059\n",
            "Epoch 175/400\n",
            "240/240 [==============================] - 1s 6ms/step - loss: 0.3077 - recall: 0.5298 - val_loss: 0.3409 - val_recall: 0.5176\n",
            "Epoch 176/400\n",
            "240/240 [==============================] - 1s 3ms/step - loss: 0.3078 - recall: 0.5311 - val_loss: 0.3433 - val_recall: 0.5412\n",
            "Epoch 177/400\n",
            "240/240 [==============================] - 1s 3ms/step - loss: 0.3068 - recall: 0.5349 - val_loss: 0.3425 - val_recall: 0.5176\n",
            "Epoch 178/400\n",
            "240/240 [==============================] - 1s 4ms/step - loss: 0.3075 - recall: 0.5266 - val_loss: 0.3475 - val_recall: 0.5647\n",
            "Epoch 179/400\n",
            "240/240 [==============================] - 1s 4ms/step - loss: 0.3082 - recall: 0.5362 - val_loss: 0.3433 - val_recall: 0.5471\n",
            "Epoch 180/400\n",
            "240/240 [==============================] - 1s 4ms/step - loss: 0.3078 - recall: 0.5227 - val_loss: 0.3453 - val_recall: 0.5647\n",
            "Epoch 181/400\n",
            "240/240 [==============================] - 1s 4ms/step - loss: 0.3074 - recall: 0.5420 - val_loss: 0.3460 - val_recall: 0.4706\n",
            "Epoch 182/400\n",
            "240/240 [==============================] - 1s 4ms/step - loss: 0.3076 - recall: 0.5311 - val_loss: 0.3431 - val_recall: 0.5588\n",
            "Epoch 183/400\n",
            "240/240 [==============================] - 1s 4ms/step - loss: 0.3066 - recall: 0.5324 - val_loss: 0.3435 - val_recall: 0.5588\n",
            "Epoch 184/400\n",
            "240/240 [==============================] - 1s 4ms/step - loss: 0.3077 - recall: 0.5285 - val_loss: 0.3449 - val_recall: 0.5706\n",
            "Epoch 185/400\n",
            "240/240 [==============================] - 1s 4ms/step - loss: 0.3075 - recall: 0.5330 - val_loss: 0.3430 - val_recall: 0.5294\n",
            "Epoch 186/400\n",
            "240/240 [==============================] - 1s 4ms/step - loss: 0.3068 - recall: 0.5330 - val_loss: 0.3442 - val_recall: 0.5059\n",
            "Epoch 187/400\n",
            "240/240 [==============================] - 1s 4ms/step - loss: 0.3073 - recall: 0.5324 - val_loss: 0.3463 - val_recall: 0.5647\n",
            "Epoch 188/400\n",
            "240/240 [==============================] - 1s 4ms/step - loss: 0.3067 - recall: 0.5259 - val_loss: 0.3427 - val_recall: 0.5294\n",
            "Epoch 189/400\n",
            "240/240 [==============================] - 1s 4ms/step - loss: 0.3078 - recall: 0.5311 - val_loss: 0.3452 - val_recall: 0.5000\n",
            "Epoch 190/400\n",
            "240/240 [==============================] - 1s 4ms/step - loss: 0.3076 - recall: 0.5349 - val_loss: 0.3459 - val_recall: 0.5706\n",
            "Epoch 191/400\n",
            "240/240 [==============================] - 1s 4ms/step - loss: 0.3072 - recall: 0.5330 - val_loss: 0.3413 - val_recall: 0.5529\n",
            "Epoch 192/400\n",
            "240/240 [==============================] - 1s 4ms/step - loss: 0.3083 - recall: 0.5349 - val_loss: 0.3419 - val_recall: 0.4882\n",
            "Epoch 193/400\n",
            "240/240 [==============================] - 1s 4ms/step - loss: 0.3077 - recall: 0.5285 - val_loss: 0.3416 - val_recall: 0.5647\n",
            "Epoch 194/400\n",
            "240/240 [==============================] - 1s 4ms/step - loss: 0.3066 - recall: 0.5298 - val_loss: 0.3440 - val_recall: 0.5471\n",
            "Epoch 195/400\n",
            "240/240 [==============================] - 1s 4ms/step - loss: 0.3069 - recall: 0.5368 - val_loss: 0.3476 - val_recall: 0.5706\n",
            "Epoch 196/400\n",
            "240/240 [==============================] - 1s 4ms/step - loss: 0.3069 - recall: 0.5420 - val_loss: 0.3439 - val_recall: 0.5059\n",
            "Epoch 197/400\n",
            "240/240 [==============================] - 1s 4ms/step - loss: 0.3074 - recall: 0.5234 - val_loss: 0.3469 - val_recall: 0.5647\n",
            "Epoch 198/400\n",
            "240/240 [==============================] - 1s 4ms/step - loss: 0.3077 - recall: 0.5381 - val_loss: 0.3435 - val_recall: 0.4941\n",
            "Epoch 199/400\n",
            "240/240 [==============================] - 1s 4ms/step - loss: 0.3085 - recall: 0.5336 - val_loss: 0.3419 - val_recall: 0.5529\n",
            "Epoch 200/400\n",
            "240/240 [==============================] - 1s 4ms/step - loss: 0.3077 - recall: 0.5336 - val_loss: 0.3446 - val_recall: 0.5471\n",
            "Epoch 201/400\n",
            "240/240 [==============================] - 1s 4ms/step - loss: 0.3072 - recall: 0.5420 - val_loss: 0.3422 - val_recall: 0.4765\n",
            "Epoch 202/400\n",
            "240/240 [==============================] - 1s 4ms/step - loss: 0.3066 - recall: 0.5272 - val_loss: 0.3456 - val_recall: 0.4824\n",
            "Epoch 203/400\n",
            "240/240 [==============================] - 1s 4ms/step - loss: 0.3088 - recall: 0.5227 - val_loss: 0.3447 - val_recall: 0.4765\n",
            "Epoch 204/400\n",
            "240/240 [==============================] - 1s 4ms/step - loss: 0.3065 - recall: 0.5311 - val_loss: 0.3461 - val_recall: 0.4941\n",
            "Epoch 205/400\n",
            "240/240 [==============================] - 1s 4ms/step - loss: 0.3069 - recall: 0.5317 - val_loss: 0.3430 - val_recall: 0.5529\n",
            "Epoch 206/400\n",
            "240/240 [==============================] - 1s 4ms/step - loss: 0.3080 - recall: 0.5413 - val_loss: 0.3446 - val_recall: 0.4882\n",
            "Epoch 207/400\n",
            "240/240 [==============================] - 1s 4ms/step - loss: 0.3077 - recall: 0.5279 - val_loss: 0.3448 - val_recall: 0.5235\n",
            "Epoch 208/400\n",
            "240/240 [==============================] - 1s 4ms/step - loss: 0.3073 - recall: 0.5368 - val_loss: 0.3455 - val_recall: 0.5118\n",
            "Epoch 209/400\n",
            "240/240 [==============================] - 1s 4ms/step - loss: 0.3068 - recall: 0.5266 - val_loss: 0.3448 - val_recall: 0.5588\n",
            "Epoch 210/400\n",
            "240/240 [==============================] - 1s 4ms/step - loss: 0.3075 - recall: 0.5343 - val_loss: 0.3442 - val_recall: 0.5529\n",
            "Epoch 211/400\n",
            "240/240 [==============================] - 1s 4ms/step - loss: 0.3080 - recall: 0.5253 - val_loss: 0.3441 - val_recall: 0.5529\n",
            "Epoch 212/400\n",
            "240/240 [==============================] - 1s 4ms/step - loss: 0.3073 - recall: 0.5311 - val_loss: 0.3440 - val_recall: 0.5118\n",
            "Epoch 213/400\n",
            "240/240 [==============================] - 1s 4ms/step - loss: 0.3069 - recall: 0.5324 - val_loss: 0.3441 - val_recall: 0.5176\n",
            "Epoch 214/400\n",
            "240/240 [==============================] - 1s 4ms/step - loss: 0.3070 - recall: 0.5349 - val_loss: 0.3435 - val_recall: 0.5294\n",
            "Epoch 215/400\n",
            "240/240 [==============================] - 1s 4ms/step - loss: 0.3062 - recall: 0.5413 - val_loss: 0.3532 - val_recall: 0.4529\n",
            "Epoch 216/400\n",
            "240/240 [==============================] - 1s 4ms/step - loss: 0.3071 - recall: 0.5247 - val_loss: 0.3469 - val_recall: 0.5647\n",
            "Epoch 217/400\n",
            "240/240 [==============================] - 1s 4ms/step - loss: 0.3064 - recall: 0.5330 - val_loss: 0.3494 - val_recall: 0.5647\n",
            "Epoch 218/400\n",
            "240/240 [==============================] - 1s 4ms/step - loss: 0.3084 - recall: 0.5381 - val_loss: 0.3415 - val_recall: 0.5588\n",
            "Epoch 219/400\n",
            "240/240 [==============================] - 1s 4ms/step - loss: 0.3069 - recall: 0.5368 - val_loss: 0.3455 - val_recall: 0.5235\n",
            "Epoch 220/400\n",
            "240/240 [==============================] - 1s 4ms/step - loss: 0.3061 - recall: 0.5330 - val_loss: 0.3456 - val_recall: 0.5588\n",
            "Epoch 221/400\n",
            "240/240 [==============================] - 1s 4ms/step - loss: 0.3061 - recall: 0.5368 - val_loss: 0.3471 - val_recall: 0.4882\n",
            "Epoch 222/400\n",
            "240/240 [==============================] - 1s 4ms/step - loss: 0.3077 - recall: 0.5343 - val_loss: 0.3461 - val_recall: 0.5235\n",
            "Epoch 223/400\n",
            "240/240 [==============================] - 1s 4ms/step - loss: 0.3064 - recall: 0.5368 - val_loss: 0.3436 - val_recall: 0.5353\n",
            "Epoch 224/400\n",
            "240/240 [==============================] - 1s 4ms/step - loss: 0.3067 - recall: 0.5324 - val_loss: 0.3441 - val_recall: 0.5647\n",
            "Epoch 225/400\n",
            "240/240 [==============================] - 1s 4ms/step - loss: 0.3065 - recall: 0.5439 - val_loss: 0.3467 - val_recall: 0.4824\n",
            "Epoch 226/400\n",
            "240/240 [==============================] - 1s 4ms/step - loss: 0.3057 - recall: 0.5343 - val_loss: 0.3450 - val_recall: 0.5647\n",
            "Epoch 227/400\n",
            "240/240 [==============================] - 1s 4ms/step - loss: 0.3066 - recall: 0.5381 - val_loss: 0.3454 - val_recall: 0.5647\n",
            "Epoch 228/400\n",
            "240/240 [==============================] - 1s 4ms/step - loss: 0.3074 - recall: 0.5336 - val_loss: 0.3454 - val_recall: 0.5471\n",
            "Epoch 229/400\n",
            "240/240 [==============================] - 1s 4ms/step - loss: 0.3073 - recall: 0.5362 - val_loss: 0.3459 - val_recall: 0.4941\n",
            "Epoch 230/400\n",
            "240/240 [==============================] - 1s 4ms/step - loss: 0.3069 - recall: 0.5343 - val_loss: 0.3454 - val_recall: 0.5529\n",
            "Epoch 231/400\n",
            "240/240 [==============================] - 1s 4ms/step - loss: 0.3062 - recall: 0.5356 - val_loss: 0.3432 - val_recall: 0.5588\n",
            "Epoch 232/400\n",
            "240/240 [==============================] - 1s 4ms/step - loss: 0.3066 - recall: 0.5356 - val_loss: 0.3422 - val_recall: 0.5294\n",
            "Epoch 233/400\n",
            "240/240 [==============================] - 1s 4ms/step - loss: 0.3056 - recall: 0.5343 - val_loss: 0.3431 - val_recall: 0.5529\n",
            "Epoch 234/400\n",
            "240/240 [==============================] - 1s 4ms/step - loss: 0.3065 - recall: 0.5362 - val_loss: 0.3430 - val_recall: 0.5176\n",
            "Epoch 235/400\n",
            "240/240 [==============================] - 1s 4ms/step - loss: 0.3072 - recall: 0.5317 - val_loss: 0.3498 - val_recall: 0.4706\n",
            "Epoch 236/400\n",
            "240/240 [==============================] - 1s 4ms/step - loss: 0.3069 - recall: 0.5324 - val_loss: 0.3439 - val_recall: 0.5588\n",
            "Epoch 237/400\n",
            "240/240 [==============================] - 1s 4ms/step - loss: 0.3070 - recall: 0.5336 - val_loss: 0.3445 - val_recall: 0.5647\n",
            "Epoch 238/400\n",
            "240/240 [==============================] - 1s 4ms/step - loss: 0.3069 - recall: 0.5375 - val_loss: 0.3450 - val_recall: 0.5412\n",
            "Epoch 239/400\n",
            "240/240 [==============================] - 1s 4ms/step - loss: 0.3074 - recall: 0.5330 - val_loss: 0.3470 - val_recall: 0.5706\n",
            "Epoch 240/400\n",
            "240/240 [==============================] - 1s 4ms/step - loss: 0.3060 - recall: 0.5240 - val_loss: 0.3443 - val_recall: 0.5588\n",
            "Epoch 241/400\n",
            "240/240 [==============================] - 1s 4ms/step - loss: 0.3072 - recall: 0.5394 - val_loss: 0.3509 - val_recall: 0.5647\n",
            "Epoch 242/400\n",
            "240/240 [==============================] - 1s 4ms/step - loss: 0.3063 - recall: 0.5445 - val_loss: 0.3444 - val_recall: 0.5176\n",
            "Epoch 243/400\n",
            "240/240 [==============================] - 1s 4ms/step - loss: 0.3061 - recall: 0.5381 - val_loss: 0.3425 - val_recall: 0.5588\n",
            "Epoch 244/400\n",
            "240/240 [==============================] - 1s 4ms/step - loss: 0.3059 - recall: 0.5279 - val_loss: 0.3442 - val_recall: 0.5471\n",
            "Epoch 245/400\n",
            "240/240 [==============================] - 1s 4ms/step - loss: 0.3063 - recall: 0.5336 - val_loss: 0.3425 - val_recall: 0.5176\n",
            "Epoch 246/400\n",
            "240/240 [==============================] - 1s 4ms/step - loss: 0.3064 - recall: 0.5362 - val_loss: 0.3427 - val_recall: 0.5529\n",
            "Epoch 247/400\n",
            "240/240 [==============================] - 1s 4ms/step - loss: 0.3063 - recall: 0.5343 - val_loss: 0.3422 - val_recall: 0.5529\n",
            "Epoch 248/400\n",
            "240/240 [==============================] - 1s 4ms/step - loss: 0.3060 - recall: 0.5324 - val_loss: 0.3427 - val_recall: 0.5529\n",
            "Epoch 249/400\n",
            "240/240 [==============================] - 1s 4ms/step - loss: 0.3062 - recall: 0.5388 - val_loss: 0.3427 - val_recall: 0.5176\n",
            "Epoch 250/400\n",
            "240/240 [==============================] - 1s 4ms/step - loss: 0.3058 - recall: 0.5439 - val_loss: 0.3442 - val_recall: 0.5588\n",
            "Epoch 251/400\n",
            "240/240 [==============================] - 1s 4ms/step - loss: 0.3064 - recall: 0.5394 - val_loss: 0.3420 - val_recall: 0.5529\n",
            "Epoch 252/400\n",
            "240/240 [==============================] - 1s 4ms/step - loss: 0.3067 - recall: 0.5330 - val_loss: 0.3426 - val_recall: 0.5294\n",
            "Epoch 253/400\n",
            "240/240 [==============================] - 1s 4ms/step - loss: 0.3057 - recall: 0.5445 - val_loss: 0.3421 - val_recall: 0.5176\n",
            "Epoch 254/400\n",
            "240/240 [==============================] - 1s 4ms/step - loss: 0.3058 - recall: 0.5285 - val_loss: 0.3420 - val_recall: 0.5412\n",
            "Epoch 255/400\n",
            "240/240 [==============================] - 1s 4ms/step - loss: 0.3064 - recall: 0.5375 - val_loss: 0.3443 - val_recall: 0.5647\n",
            "Epoch 256/400\n",
            "240/240 [==============================] - 1s 4ms/step - loss: 0.3065 - recall: 0.5291 - val_loss: 0.3433 - val_recall: 0.5529\n",
            "Epoch 257/400\n",
            "240/240 [==============================] - 1s 4ms/step - loss: 0.3060 - recall: 0.5330 - val_loss: 0.3430 - val_recall: 0.5118\n",
            "Epoch 258/400\n",
            "240/240 [==============================] - 1s 4ms/step - loss: 0.3055 - recall: 0.5291 - val_loss: 0.3439 - val_recall: 0.5176\n",
            "Epoch 259/400\n",
            "240/240 [==============================] - 1s 4ms/step - loss: 0.3100 - recall: 0.5400 - val_loss: 0.3417 - val_recall: 0.5118\n",
            "Epoch 260/400\n",
            "240/240 [==============================] - 1s 4ms/step - loss: 0.3064 - recall: 0.5266 - val_loss: 0.3433 - val_recall: 0.5529\n",
            "Epoch 261/400\n",
            "240/240 [==============================] - 1s 4ms/step - loss: 0.3057 - recall: 0.5375 - val_loss: 0.3455 - val_recall: 0.5235\n",
            "Epoch 262/400\n",
            "240/240 [==============================] - 1s 4ms/step - loss: 0.3053 - recall: 0.5330 - val_loss: 0.3447 - val_recall: 0.5529\n",
            "Epoch 263/400\n",
            "240/240 [==============================] - 1s 4ms/step - loss: 0.3077 - recall: 0.5432 - val_loss: 0.3462 - val_recall: 0.5412\n",
            "Epoch 264/400\n",
            "240/240 [==============================] - 1s 4ms/step - loss: 0.3067 - recall: 0.5407 - val_loss: 0.3448 - val_recall: 0.5412\n",
            "Epoch 265/400\n",
            "240/240 [==============================] - 1s 4ms/step - loss: 0.3071 - recall: 0.5291 - val_loss: 0.3432 - val_recall: 0.5471\n",
            "Epoch 266/400\n",
            "240/240 [==============================] - 1s 4ms/step - loss: 0.3066 - recall: 0.5362 - val_loss: 0.3461 - val_recall: 0.5176\n",
            "Epoch 267/400\n",
            "240/240 [==============================] - 1s 4ms/step - loss: 0.3066 - recall: 0.5259 - val_loss: 0.3459 - val_recall: 0.5529\n",
            "Epoch 268/400\n",
            "240/240 [==============================] - 1s 4ms/step - loss: 0.3051 - recall: 0.5311 - val_loss: 0.3450 - val_recall: 0.5059\n",
            "Epoch 269/400\n",
            "240/240 [==============================] - 1s 4ms/step - loss: 0.3056 - recall: 0.5400 - val_loss: 0.3437 - val_recall: 0.5412\n",
            "Epoch 270/400\n",
            "240/240 [==============================] - 1s 4ms/step - loss: 0.3061 - recall: 0.5356 - val_loss: 0.3444 - val_recall: 0.5529\n",
            "Epoch 271/400\n",
            "240/240 [==============================] - 1s 4ms/step - loss: 0.3056 - recall: 0.5343 - val_loss: 0.3459 - val_recall: 0.5529\n",
            "Epoch 272/400\n",
            "240/240 [==============================] - 1s 4ms/step - loss: 0.3068 - recall: 0.5356 - val_loss: 0.3445 - val_recall: 0.5529\n",
            "Epoch 273/400\n",
            "240/240 [==============================] - 1s 4ms/step - loss: 0.3070 - recall: 0.5343 - val_loss: 0.3464 - val_recall: 0.5529\n",
            "Epoch 274/400\n",
            "240/240 [==============================] - 1s 4ms/step - loss: 0.3057 - recall: 0.5381 - val_loss: 0.3469 - val_recall: 0.5588\n",
            "Epoch 275/400\n",
            "240/240 [==============================] - 1s 4ms/step - loss: 0.3056 - recall: 0.5381 - val_loss: 0.3470 - val_recall: 0.5588\n",
            "Epoch 276/400\n",
            "240/240 [==============================] - 1s 4ms/step - loss: 0.3057 - recall: 0.5336 - val_loss: 0.3445 - val_recall: 0.5118\n",
            "Epoch 277/400\n",
            "240/240 [==============================] - 1s 4ms/step - loss: 0.3061 - recall: 0.5413 - val_loss: 0.3451 - val_recall: 0.5412\n",
            "Epoch 278/400\n",
            "240/240 [==============================] - 1s 4ms/step - loss: 0.3062 - recall: 0.5458 - val_loss: 0.3441 - val_recall: 0.5412\n",
            "Epoch 279/400\n",
            "240/240 [==============================] - 1s 4ms/step - loss: 0.3061 - recall: 0.5311 - val_loss: 0.3453 - val_recall: 0.5412\n",
            "Epoch 280/400\n",
            "240/240 [==============================] - 1s 4ms/step - loss: 0.3062 - recall: 0.5349 - val_loss: 0.3471 - val_recall: 0.5647\n",
            "Epoch 281/400\n",
            "240/240 [==============================] - 1s 4ms/step - loss: 0.3062 - recall: 0.5304 - val_loss: 0.3437 - val_recall: 0.5471\n",
            "Epoch 282/400\n",
            "240/240 [==============================] - 1s 4ms/step - loss: 0.3068 - recall: 0.5375 - val_loss: 0.3442 - val_recall: 0.5529\n",
            "Epoch 283/400\n",
            "240/240 [==============================] - 1s 4ms/step - loss: 0.3052 - recall: 0.5394 - val_loss: 0.3449 - val_recall: 0.5647\n",
            "Epoch 284/400\n",
            "240/240 [==============================] - 1s 4ms/step - loss: 0.3054 - recall: 0.5381 - val_loss: 0.3460 - val_recall: 0.5235\n",
            "Epoch 285/400\n",
            "240/240 [==============================] - 1s 4ms/step - loss: 0.3058 - recall: 0.5356 - val_loss: 0.3468 - val_recall: 0.5471\n",
            "Epoch 286/400\n",
            "240/240 [==============================] - 1s 4ms/step - loss: 0.3057 - recall: 0.5388 - val_loss: 0.3468 - val_recall: 0.5588\n",
            "Epoch 287/400\n",
            "240/240 [==============================] - 1s 4ms/step - loss: 0.3052 - recall: 0.5362 - val_loss: 0.3472 - val_recall: 0.5706\n",
            "Epoch 288/400\n",
            "240/240 [==============================] - 1s 4ms/step - loss: 0.3058 - recall: 0.5432 - val_loss: 0.3500 - val_recall: 0.5647\n",
            "Epoch 289/400\n",
            "240/240 [==============================] - 1s 4ms/step - loss: 0.3051 - recall: 0.5285 - val_loss: 0.3459 - val_recall: 0.5647\n",
            "Epoch 290/400\n",
            "240/240 [==============================] - 1s 4ms/step - loss: 0.3063 - recall: 0.5407 - val_loss: 0.3458 - val_recall: 0.5588\n",
            "Epoch 291/400\n",
            "240/240 [==============================] - 1s 4ms/step - loss: 0.3061 - recall: 0.5400 - val_loss: 0.3463 - val_recall: 0.5588\n",
            "Epoch 292/400\n",
            "240/240 [==============================] - 1s 4ms/step - loss: 0.3057 - recall: 0.5343 - val_loss: 0.3450 - val_recall: 0.5647\n",
            "Epoch 293/400\n",
            "240/240 [==============================] - 1s 4ms/step - loss: 0.3063 - recall: 0.5381 - val_loss: 0.3444 - val_recall: 0.5000\n",
            "Epoch 294/400\n",
            "240/240 [==============================] - 1s 4ms/step - loss: 0.3057 - recall: 0.5362 - val_loss: 0.3448 - val_recall: 0.5294\n",
            "Epoch 295/400\n",
            "240/240 [==============================] - 1s 4ms/step - loss: 0.3063 - recall: 0.5368 - val_loss: 0.3461 - val_recall: 0.5235\n",
            "Epoch 296/400\n",
            "240/240 [==============================] - 1s 4ms/step - loss: 0.3055 - recall: 0.5464 - val_loss: 0.3473 - val_recall: 0.5059\n",
            "Epoch 297/400\n",
            "240/240 [==============================] - 1s 4ms/step - loss: 0.3076 - recall: 0.5420 - val_loss: 0.3441 - val_recall: 0.5118\n",
            "Epoch 298/400\n",
            "240/240 [==============================] - 1s 4ms/step - loss: 0.3056 - recall: 0.5343 - val_loss: 0.3461 - val_recall: 0.5176\n",
            "Epoch 299/400\n",
            "240/240 [==============================] - 1s 4ms/step - loss: 0.3057 - recall: 0.5349 - val_loss: 0.3488 - val_recall: 0.5588\n",
            "Epoch 300/400\n",
            "240/240 [==============================] - 1s 4ms/step - loss: 0.3060 - recall: 0.5458 - val_loss: 0.3442 - val_recall: 0.5176\n",
            "Epoch 301/400\n",
            "240/240 [==============================] - 1s 4ms/step - loss: 0.3059 - recall: 0.5400 - val_loss: 0.3466 - val_recall: 0.5353\n",
            "Epoch 302/400\n",
            "240/240 [==============================] - 1s 4ms/step - loss: 0.3066 - recall: 0.5304 - val_loss: 0.3440 - val_recall: 0.5353\n",
            "Epoch 303/400\n",
            "240/240 [==============================] - 1s 4ms/step - loss: 0.3054 - recall: 0.5349 - val_loss: 0.3460 - val_recall: 0.5529\n",
            "Epoch 304/400\n",
            "240/240 [==============================] - 1s 4ms/step - loss: 0.3048 - recall: 0.5490 - val_loss: 0.3471 - val_recall: 0.5471\n",
            "Epoch 305/400\n",
            "240/240 [==============================] - 1s 4ms/step - loss: 0.3063 - recall: 0.5330 - val_loss: 0.3443 - val_recall: 0.5471\n",
            "Epoch 306/400\n",
            "240/240 [==============================] - 1s 4ms/step - loss: 0.3059 - recall: 0.5259 - val_loss: 0.3435 - val_recall: 0.5588\n",
            "Epoch 307/400\n",
            "240/240 [==============================] - 1s 4ms/step - loss: 0.3051 - recall: 0.5304 - val_loss: 0.3434 - val_recall: 0.5294\n",
            "Epoch 308/400\n",
            "240/240 [==============================] - 1s 4ms/step - loss: 0.3056 - recall: 0.5420 - val_loss: 0.3449 - val_recall: 0.5647\n",
            "Epoch 309/400\n",
            "240/240 [==============================] - 1s 4ms/step - loss: 0.3057 - recall: 0.5381 - val_loss: 0.3460 - val_recall: 0.5647\n",
            "Epoch 310/400\n",
            "240/240 [==============================] - 1s 4ms/step - loss: 0.3057 - recall: 0.5464 - val_loss: 0.3440 - val_recall: 0.5059\n",
            "Epoch 311/400\n",
            "240/240 [==============================] - 1s 4ms/step - loss: 0.3055 - recall: 0.5336 - val_loss: 0.3443 - val_recall: 0.5471\n",
            "Epoch 312/400\n",
            "240/240 [==============================] - 1s 4ms/step - loss: 0.3061 - recall: 0.5413 - val_loss: 0.3439 - val_recall: 0.5353\n",
            "Epoch 313/400\n",
            "240/240 [==============================] - 1s 4ms/step - loss: 0.3059 - recall: 0.5356 - val_loss: 0.3455 - val_recall: 0.5000\n",
            "Epoch 314/400\n",
            "240/240 [==============================] - 1s 4ms/step - loss: 0.3059 - recall: 0.5464 - val_loss: 0.3434 - val_recall: 0.5294\n",
            "Epoch 315/400\n",
            "240/240 [==============================] - 1s 4ms/step - loss: 0.3056 - recall: 0.5368 - val_loss: 0.3432 - val_recall: 0.5588\n",
            "Epoch 316/400\n",
            "240/240 [==============================] - 1s 4ms/step - loss: 0.3063 - recall: 0.5279 - val_loss: 0.3475 - val_recall: 0.5706\n",
            "Epoch 317/400\n",
            "240/240 [==============================] - 1s 4ms/step - loss: 0.3055 - recall: 0.5400 - val_loss: 0.3445 - val_recall: 0.5529\n",
            "Epoch 318/400\n",
            "240/240 [==============================] - 1s 4ms/step - loss: 0.3058 - recall: 0.5394 - val_loss: 0.3449 - val_recall: 0.5471\n",
            "Epoch 319/400\n",
            "240/240 [==============================] - 1s 4ms/step - loss: 0.3049 - recall: 0.5388 - val_loss: 0.3447 - val_recall: 0.5471\n",
            "Epoch 320/400\n",
            "240/240 [==============================] - 1s 4ms/step - loss: 0.3049 - recall: 0.5420 - val_loss: 0.3469 - val_recall: 0.5471\n",
            "Epoch 321/400\n",
            "240/240 [==============================] - 1s 4ms/step - loss: 0.3052 - recall: 0.5388 - val_loss: 0.3424 - val_recall: 0.5294\n",
            "Epoch 322/400\n",
            "240/240 [==============================] - 1s 4ms/step - loss: 0.3063 - recall: 0.5375 - val_loss: 0.3464 - val_recall: 0.5647\n",
            "Epoch 323/400\n",
            "240/240 [==============================] - 1s 4ms/step - loss: 0.3069 - recall: 0.5324 - val_loss: 0.3457 - val_recall: 0.5176\n",
            "Epoch 324/400\n",
            "240/240 [==============================] - 1s 4ms/step - loss: 0.3062 - recall: 0.5388 - val_loss: 0.3437 - val_recall: 0.5294\n",
            "Epoch 325/400\n",
            "240/240 [==============================] - 1s 4ms/step - loss: 0.3057 - recall: 0.5375 - val_loss: 0.3448 - val_recall: 0.5294\n",
            "Epoch 326/400\n",
            "240/240 [==============================] - 1s 4ms/step - loss: 0.3057 - recall: 0.5439 - val_loss: 0.3466 - val_recall: 0.5471\n",
            "Epoch 327/400\n",
            "240/240 [==============================] - 1s 4ms/step - loss: 0.3071 - recall: 0.5388 - val_loss: 0.3461 - val_recall: 0.5176\n",
            "Epoch 328/400\n",
            "240/240 [==============================] - 1s 4ms/step - loss: 0.3049 - recall: 0.5388 - val_loss: 0.3490 - val_recall: 0.5588\n",
            "Epoch 329/400\n",
            "240/240 [==============================] - 1s 4ms/step - loss: 0.3058 - recall: 0.5368 - val_loss: 0.3459 - val_recall: 0.5529\n",
            "Epoch 330/400\n",
            "240/240 [==============================] - 1s 4ms/step - loss: 0.3069 - recall: 0.5413 - val_loss: 0.3457 - val_recall: 0.5588\n",
            "Epoch 331/400\n",
            "240/240 [==============================] - 1s 4ms/step - loss: 0.3055 - recall: 0.5413 - val_loss: 0.3439 - val_recall: 0.5529\n",
            "Epoch 332/400\n",
            "240/240 [==============================] - 1s 4ms/step - loss: 0.3063 - recall: 0.5368 - val_loss: 0.3447 - val_recall: 0.5353\n",
            "Epoch 333/400\n",
            "240/240 [==============================] - 1s 4ms/step - loss: 0.3053 - recall: 0.5484 - val_loss: 0.3468 - val_recall: 0.5118\n",
            "Epoch 334/400\n",
            "240/240 [==============================] - 1s 4ms/step - loss: 0.3062 - recall: 0.5324 - val_loss: 0.3436 - val_recall: 0.5176\n",
            "Epoch 335/400\n",
            "240/240 [==============================] - 1s 4ms/step - loss: 0.3046 - recall: 0.5368 - val_loss: 0.3429 - val_recall: 0.5294\n",
            "Epoch 336/400\n",
            "240/240 [==============================] - 1s 4ms/step - loss: 0.3049 - recall: 0.5362 - val_loss: 0.3446 - val_recall: 0.5412\n",
            "Epoch 337/400\n",
            "240/240 [==============================] - 1s 4ms/step - loss: 0.3053 - recall: 0.5413 - val_loss: 0.3461 - val_recall: 0.5647\n",
            "Epoch 338/400\n",
            "240/240 [==============================] - 1s 4ms/step - loss: 0.3051 - recall: 0.5407 - val_loss: 0.3461 - val_recall: 0.5588\n",
            "Epoch 339/400\n",
            "240/240 [==============================] - 1s 4ms/step - loss: 0.3053 - recall: 0.5471 - val_loss: 0.3464 - val_recall: 0.5588\n",
            "Epoch 340/400\n",
            "240/240 [==============================] - 1s 4ms/step - loss: 0.3061 - recall: 0.5317 - val_loss: 0.3462 - val_recall: 0.5000\n",
            "Epoch 341/400\n",
            "240/240 [==============================] - 1s 4ms/step - loss: 0.3056 - recall: 0.5426 - val_loss: 0.3460 - val_recall: 0.5529\n",
            "Epoch 342/400\n",
            "240/240 [==============================] - 1s 4ms/step - loss: 0.3047 - recall: 0.5259 - val_loss: 0.3453 - val_recall: 0.5471\n",
            "Epoch 343/400\n",
            "240/240 [==============================] - 1s 4ms/step - loss: 0.3054 - recall: 0.5471 - val_loss: 0.3459 - val_recall: 0.5118\n",
            "Epoch 344/400\n",
            "240/240 [==============================] - 1s 4ms/step - loss: 0.3062 - recall: 0.5317 - val_loss: 0.3425 - val_recall: 0.5412\n",
            "Epoch 345/400\n",
            "240/240 [==============================] - 1s 4ms/step - loss: 0.3053 - recall: 0.5458 - val_loss: 0.3444 - val_recall: 0.5353\n",
            "Epoch 346/400\n",
            "240/240 [==============================] - 1s 4ms/step - loss: 0.3052 - recall: 0.5336 - val_loss: 0.3441 - val_recall: 0.5353\n",
            "Epoch 347/400\n",
            "240/240 [==============================] - 1s 4ms/step - loss: 0.3051 - recall: 0.5509 - val_loss: 0.3437 - val_recall: 0.5471\n",
            "Epoch 348/400\n",
            "240/240 [==============================] - 1s 4ms/step - loss: 0.3042 - recall: 0.5484 - val_loss: 0.3459 - val_recall: 0.5353\n",
            "Epoch 349/400\n",
            "240/240 [==============================] - 1s 4ms/step - loss: 0.3064 - recall: 0.5343 - val_loss: 0.3471 - val_recall: 0.5588\n",
            "Epoch 350/400\n",
            "240/240 [==============================] - 1s 4ms/step - loss: 0.3045 - recall: 0.5381 - val_loss: 0.3443 - val_recall: 0.5529\n",
            "Epoch 351/400\n",
            "240/240 [==============================] - 1s 4ms/step - loss: 0.3053 - recall: 0.5445 - val_loss: 0.3453 - val_recall: 0.5647\n",
            "Epoch 352/400\n",
            "240/240 [==============================] - 1s 4ms/step - loss: 0.3055 - recall: 0.5381 - val_loss: 0.3444 - val_recall: 0.5588\n",
            "Epoch 353/400\n",
            "240/240 [==============================] - 1s 4ms/step - loss: 0.3050 - recall: 0.5400 - val_loss: 0.3448 - val_recall: 0.5529\n",
            "Epoch 354/400\n",
            "240/240 [==============================] - 1s 4ms/step - loss: 0.3049 - recall: 0.5400 - val_loss: 0.3510 - val_recall: 0.5706\n",
            "Epoch 355/400\n",
            "240/240 [==============================] - 1s 4ms/step - loss: 0.3066 - recall: 0.5477 - val_loss: 0.3458 - val_recall: 0.5529\n",
            "Epoch 356/400\n",
            "240/240 [==============================] - 1s 4ms/step - loss: 0.3049 - recall: 0.5375 - val_loss: 0.3451 - val_recall: 0.5529\n",
            "Epoch 357/400\n",
            "240/240 [==============================] - 1s 4ms/step - loss: 0.3044 - recall: 0.5407 - val_loss: 0.3446 - val_recall: 0.5059\n",
            "Epoch 358/400\n",
            "240/240 [==============================] - 1s 5ms/step - loss: 0.3060 - recall: 0.5413 - val_loss: 0.3444 - val_recall: 0.5647\n",
            "Epoch 359/400\n",
            "240/240 [==============================] - 1s 5ms/step - loss: 0.3045 - recall: 0.5426 - val_loss: 0.3433 - val_recall: 0.5412\n",
            "Epoch 360/400\n",
            "240/240 [==============================] - 2s 6ms/step - loss: 0.3056 - recall: 0.5413 - val_loss: 0.3444 - val_recall: 0.5353\n",
            "Epoch 361/400\n",
            "240/240 [==============================] - 1s 4ms/step - loss: 0.3057 - recall: 0.5349 - val_loss: 0.3463 - val_recall: 0.5647\n",
            "Epoch 362/400\n",
            "240/240 [==============================] - 1s 4ms/step - loss: 0.3056 - recall: 0.5484 - val_loss: 0.3419 - val_recall: 0.5471\n",
            "Epoch 363/400\n",
            "240/240 [==============================] - 1s 4ms/step - loss: 0.3051 - recall: 0.5381 - val_loss: 0.3440 - val_recall: 0.5471\n",
            "Epoch 364/400\n",
            "240/240 [==============================] - 1s 4ms/step - loss: 0.3052 - recall: 0.5400 - val_loss: 0.3449 - val_recall: 0.5235\n",
            "Epoch 365/400\n",
            "240/240 [==============================] - 1s 4ms/step - loss: 0.3052 - recall: 0.5356 - val_loss: 0.3449 - val_recall: 0.5294\n",
            "Epoch 366/400\n",
            "240/240 [==============================] - 1s 4ms/step - loss: 0.3054 - recall: 0.5407 - val_loss: 0.3441 - val_recall: 0.5471\n",
            "Epoch 367/400\n",
            "240/240 [==============================] - 1s 4ms/step - loss: 0.3042 - recall: 0.5336 - val_loss: 0.3452 - val_recall: 0.5471\n",
            "Epoch 368/400\n",
            "240/240 [==============================] - 1s 4ms/step - loss: 0.3054 - recall: 0.5420 - val_loss: 0.3449 - val_recall: 0.5294\n",
            "Epoch 369/400\n",
            "240/240 [==============================] - 1s 4ms/step - loss: 0.3054 - recall: 0.5381 - val_loss: 0.3430 - val_recall: 0.5412\n",
            "Epoch 370/400\n",
            "240/240 [==============================] - 1s 4ms/step - loss: 0.3050 - recall: 0.5432 - val_loss: 0.3441 - val_recall: 0.5588\n",
            "Epoch 371/400\n",
            "240/240 [==============================] - 1s 4ms/step - loss: 0.3047 - recall: 0.5400 - val_loss: 0.3451 - val_recall: 0.5235\n",
            "Epoch 372/400\n",
            "240/240 [==============================] - 1s 4ms/step - loss: 0.3045 - recall: 0.5445 - val_loss: 0.3448 - val_recall: 0.5118\n",
            "Epoch 373/400\n",
            "240/240 [==============================] - 1s 4ms/step - loss: 0.3050 - recall: 0.5356 - val_loss: 0.3423 - val_recall: 0.5353\n",
            "Epoch 374/400\n",
            "240/240 [==============================] - 1s 4ms/step - loss: 0.3040 - recall: 0.5439 - val_loss: 0.3442 - val_recall: 0.5529\n",
            "Epoch 375/400\n",
            "240/240 [==============================] - 1s 4ms/step - loss: 0.3054 - recall: 0.5420 - val_loss: 0.3451 - val_recall: 0.5118\n",
            "Epoch 376/400\n",
            "240/240 [==============================] - 1s 4ms/step - loss: 0.3046 - recall: 0.5356 - val_loss: 0.3468 - val_recall: 0.5647\n",
            "Epoch 377/400\n",
            "240/240 [==============================] - 1s 4ms/step - loss: 0.3051 - recall: 0.5400 - val_loss: 0.3427 - val_recall: 0.5176\n",
            "Epoch 378/400\n",
            "240/240 [==============================] - 1s 4ms/step - loss: 0.3047 - recall: 0.5336 - val_loss: 0.3437 - val_recall: 0.5235\n",
            "Epoch 379/400\n",
            "240/240 [==============================] - 1s 4ms/step - loss: 0.3048 - recall: 0.5356 - val_loss: 0.3451 - val_recall: 0.5412\n",
            "Epoch 380/400\n",
            "240/240 [==============================] - 1s 4ms/step - loss: 0.3040 - recall: 0.5432 - val_loss: 0.3452 - val_recall: 0.5471\n",
            "Epoch 381/400\n",
            "240/240 [==============================] - 1s 4ms/step - loss: 0.3067 - recall: 0.5445 - val_loss: 0.3433 - val_recall: 0.5588\n",
            "Epoch 382/400\n",
            "240/240 [==============================] - 1s 4ms/step - loss: 0.3043 - recall: 0.5407 - val_loss: 0.3440 - val_recall: 0.5294\n",
            "Epoch 383/400\n",
            "240/240 [==============================] - 1s 4ms/step - loss: 0.3043 - recall: 0.5484 - val_loss: 0.3451 - val_recall: 0.5000\n",
            "Epoch 384/400\n",
            "240/240 [==============================] - 1s 4ms/step - loss: 0.3043 - recall: 0.5349 - val_loss: 0.3456 - val_recall: 0.5529\n",
            "Epoch 385/400\n",
            "240/240 [==============================] - 1s 4ms/step - loss: 0.3044 - recall: 0.5477 - val_loss: 0.3479 - val_recall: 0.5412\n",
            "Epoch 386/400\n",
            "240/240 [==============================] - 1s 4ms/step - loss: 0.3046 - recall: 0.5368 - val_loss: 0.3443 - val_recall: 0.5412\n",
            "Epoch 387/400\n",
            "240/240 [==============================] - 1s 4ms/step - loss: 0.3045 - recall: 0.5516 - val_loss: 0.3438 - val_recall: 0.5059\n",
            "Epoch 388/400\n",
            "240/240 [==============================] - 1s 4ms/step - loss: 0.3045 - recall: 0.5272 - val_loss: 0.3454 - val_recall: 0.5529\n",
            "Epoch 389/400\n",
            "240/240 [==============================] - 1s 4ms/step - loss: 0.3046 - recall: 0.5464 - val_loss: 0.3447 - val_recall: 0.5235\n",
            "Epoch 390/400\n",
            "240/240 [==============================] - 1s 4ms/step - loss: 0.3043 - recall: 0.5420 - val_loss: 0.3451 - val_recall: 0.5412\n",
            "Epoch 391/400\n",
            "240/240 [==============================] - 1s 4ms/step - loss: 0.3051 - recall: 0.5388 - val_loss: 0.3455 - val_recall: 0.5412\n",
            "Epoch 392/400\n",
            "240/240 [==============================] - 1s 4ms/step - loss: 0.3038 - recall: 0.5388 - val_loss: 0.3467 - val_recall: 0.5588\n",
            "Epoch 393/400\n",
            "240/240 [==============================] - 1s 4ms/step - loss: 0.3059 - recall: 0.5388 - val_loss: 0.3438 - val_recall: 0.5529\n",
            "Epoch 394/400\n",
            "240/240 [==============================] - 1s 4ms/step - loss: 0.3048 - recall: 0.5400 - val_loss: 0.3439 - val_recall: 0.5471\n",
            "Epoch 395/400\n",
            "240/240 [==============================] - 1s 4ms/step - loss: 0.3049 - recall: 0.5484 - val_loss: 0.3446 - val_recall: 0.5529\n",
            "Epoch 396/400\n",
            "240/240 [==============================] - 1s 4ms/step - loss: 0.3040 - recall: 0.5400 - val_loss: 0.3456 - val_recall: 0.5176\n",
            "Epoch 397/400\n",
            "240/240 [==============================] - 1s 4ms/step - loss: 0.3041 - recall: 0.5445 - val_loss: 0.3462 - val_recall: 0.4941\n",
            "Epoch 398/400\n",
            "240/240 [==============================] - 1s 4ms/step - loss: 0.3051 - recall: 0.5279 - val_loss: 0.3438 - val_recall: 0.5529\n",
            "Epoch 399/400\n",
            "240/240 [==============================] - 1s 4ms/step - loss: 0.3050 - recall: 0.5407 - val_loss: 0.3454 - val_recall: 0.5353\n",
            "Epoch 400/400\n",
            "240/240 [==============================] - 1s 4ms/step - loss: 0.3044 - recall: 0.5413 - val_loss: 0.3456 - val_recall: 0.5176\n"
          ]
        },
        {
          "output_type": "execute_result",
          "data": {
            "text/plain": [
              "<keras.callbacks.History at 0x7f8c6ab648e0>"
            ]
          },
          "metadata": {},
          "execution_count": 90
        }
      ]
    },
    {
      "cell_type": "code",
      "source": [
        "model.summary()"
      ],
      "metadata": {
        "colab": {
          "base_uri": "https://localhost:8080/"
        },
        "id": "pNR5bZTWCssl",
        "outputId": "db8a9047-b865-4b6c-faa2-2b31e0724816"
      },
      "execution_count": 91,
      "outputs": [
        {
          "output_type": "stream",
          "name": "stdout",
          "text": [
            "Model: \"sequential_2\"\n",
            "_________________________________________________________________\n",
            " Layer (type)                Output Shape              Param #   \n",
            "=================================================================\n",
            " dense_7 (Dense)             (None, 16)                224       \n",
            "                                                                 \n",
            " dense_8 (Dense)             (None, 8)                 136       \n",
            "                                                                 \n",
            " dense_9 (Dense)             (None, 1)                 9         \n",
            "                                                                 \n",
            "=================================================================\n",
            "Total params: 369\n",
            "Trainable params: 369\n",
            "Non-trainable params: 0\n",
            "_________________________________________________________________\n"
          ]
        }
      ]
    },
    {
      "cell_type": "code",
      "source": [
        "dense = 13 * 16 + 16\n",
        "dense"
      ],
      "metadata": {
        "colab": {
          "base_uri": "https://localhost:8080/"
        },
        "id": "NRnNLDxwFsAF",
        "outputId": "594bb748-cade-48a6-b2db-c268b68f0ad0"
      },
      "execution_count": 92,
      "outputs": [
        {
          "output_type": "execute_result",
          "data": {
            "text/plain": [
              "224"
            ]
          },
          "metadata": {},
          "execution_count": 92
        }
      ]
    },
    {
      "cell_type": "code",
      "source": [
        "model.weights"
      ],
      "metadata": {
        "colab": {
          "base_uri": "https://localhost:8080/"
        },
        "id": "ACUuFgyVMQNB",
        "outputId": "6c869875-65a9-43da-89bc-4c2c6e5650d9"
      },
      "execution_count": 93,
      "outputs": [
        {
          "output_type": "execute_result",
          "data": {
            "text/plain": [
              "[<tf.Variable 'dense_7/kernel:0' shape=(13, 16) dtype=float32, numpy=\n",
              " array([[-3.39395776e-02, -5.36671877e-02,  1.92341283e-01,\n",
              "         -4.50117022e-01, -3.46248806e-01, -1.66825205e-01,\n",
              "         -6.93603158e-02,  1.37275016e+00, -7.37599492e-01,\n",
              "         -7.69953907e-01,  3.53681713e-01, -1.90826692e-02,\n",
              "         -1.18580237e-01,  7.49929920e-02,  4.91891243e-02,\n",
              "          8.62431526e-02],\n",
              "        [-4.64267850e-01,  1.93139315e-02, -6.20690733e-02,\n",
              "         -5.69523513e-01,  1.91821337e-01, -8.72202963e-02,\n",
              "         -2.17693999e-01, -2.74449289e-01,  2.81732026e-02,\n",
              "         -3.62039745e-01,  2.72537380e-01,  8.06662068e-02,\n",
              "         -1.32525861e-02, -2.18916684e-01,  9.83628929e-01,\n",
              "          2.82606244e-01],\n",
              "        [ 4.35555905e-01,  2.39614248e-02,  2.86841691e-02,\n",
              "         -5.18879220e-02,  3.78561795e-01,  3.11114714e-02,\n",
              "         -1.82035267e-01,  7.66963243e-01,  1.50671422e-01,\n",
              "          9.11763012e-02,  6.62087917e-01, -2.83732742e-01,\n",
              "          2.76929617e-01, -3.65499884e-01,  3.28491002e-01,\n",
              "          6.09231591e-02],\n",
              "        [-2.75702849e-02, -1.63257539e-01,  1.06161363e-01,\n",
              "         -1.25058338e-01,  6.27289414e-01, -1.96692884e-01,\n",
              "         -3.65418583e-01,  4.49201286e-01, -1.47546709e-01,\n",
              "         -3.50463301e-01,  5.26436090e-01,  2.41178036e-01,\n",
              "          1.77413076e-01, -4.44757938e-01,  4.05026793e-01,\n",
              "          2.74997860e-01],\n",
              "        [ 7.83281550e-02, -2.88542747e-01, -5.73175013e-01,\n",
              "         -2.19960645e-01,  3.57701391e-01, -5.17941304e-02,\n",
              "         -4.27154541e-01,  3.83746952e-01,  1.35607898e-01,\n",
              "         -7.52051771e-01,  4.65957075e-01, -8.73602703e-02,\n",
              "         -2.64349692e-02, -3.76878023e-01,  3.81154358e-01,\n",
              "          6.70316637e-01],\n",
              "        [ 1.50016129e-01, -1.85668498e-01,  6.36172712e-01,\n",
              "          2.97655731e-01,  5.93830168e-01,  4.47223341e-04,\n",
              "         -6.59188092e-01, -2.49736607e-01,  5.82508624e-01,\n",
              "         -7.51649261e-01, -6.61106780e-02,  5.19263864e-01,\n",
              "         -7.15532482e-01, -9.28017795e-02,  3.33450851e-03,\n",
              "          2.28225753e-01],\n",
              "        [ 1.69376147e+00, -3.68278176e-01, -1.79613137e+00,\n",
              "          5.29267073e-01, -3.94389242e-01,  2.31382918e+00,\n",
              "          5.19616187e-01,  1.51677608e+00, -3.12058777e-01,\n",
              "         -1.02925432e+00, -9.47022676e-01, -7.79928148e-01,\n",
              "          1.45244992e+00,  2.36897135e+00, -2.33445793e-01,\n",
              "         -1.73456466e+00],\n",
              "        [ 2.95001596e-01, -1.58290565e-01,  4.98348564e-01,\n",
              "          1.03605166e-01, -5.02060175e-01, -9.69232097e-02,\n",
              "          2.81063169e-01, -4.58104879e-01, -3.53880793e-01,\n",
              "         -5.93059897e-01,  2.40903497e-01,  6.03485107e-01,\n",
              "          6.05873823e-01, -1.16455436e-01,  6.78320304e-02,\n",
              "          2.56115258e-01],\n",
              "        [-5.89805245e-01, -3.44110042e-01, -5.12168050e-01,\n",
              "         -1.46934569e-01, -4.34800148e-01,  1.47244874e-02,\n",
              "          3.52476269e-01,  4.48066257e-02,  6.15411818e-01,\n",
              "          1.65408432e+00,  1.42576540e+00,  6.91330254e-01,\n",
              "          7.40730524e-01,  7.21488357e-01, -2.28606343e+00,\n",
              "         -7.98973858e-01],\n",
              "        [ 8.23221028e-01,  5.41746020e-02, -8.78981233e-01,\n",
              "          2.01215243e+00,  8.47644806e-01, -5.33773243e-01,\n",
              "          1.94400895e+00, -7.85489082e-01,  2.12190485e+00,\n",
              "         -6.45501554e-01,  3.49085361e-01, -8.60477328e-01,\n",
              "         -9.14626658e-01,  9.01346982e-01, -4.50042486e+00,\n",
              "          5.10716975e-01],\n",
              "        [-1.37586311e-01, -3.69493634e-01, -4.26830411e-01,\n",
              "         -1.76935479e-01, -9.33239236e-03,  1.46692842e-01,\n",
              "          1.58134717e-02,  1.95137024e-01, -3.16842079e-01,\n",
              "          7.61774719e-01, -6.04007542e-01, -1.93468928e-01,\n",
              "         -4.98278439e-01, -8.56924579e-02, -1.40313879e-01,\n",
              "          1.71741500e-01],\n",
              "        [-1.57341897e-01, -3.92214239e-01,  8.49057510e-02,\n",
              "          1.07170254e-01,  4.30956960e-01, -1.69950008e+00,\n",
              "         -2.94184238e-01, -1.16370246e-02, -5.18862247e-01,\n",
              "         -5.65001249e-01, -3.23045909e-01, -1.08254838e+00,\n",
              "          4.14282501e-01,  3.51362437e-01,  5.27069345e-02,\n",
              "         -1.30658537e-01],\n",
              "        [-2.79912323e-01, -3.32429767e-01, -3.64010751e-01,\n",
              "         -1.05761349e-01, -4.33435231e-01, -7.30175450e-02,\n",
              "          3.04526627e-01, -6.75293982e-01, -5.46854615e-01,\n",
              "          4.81412053e-01,  1.47211701e-01,  6.11600459e-01,\n",
              "          4.95755337e-02,  1.15317069e-01,  3.69789684e-03,\n",
              "          4.89427984e-01]], dtype=float32)>,\n",
              " <tf.Variable 'dense_7/bias:0' shape=(16,) dtype=float32, numpy=\n",
              " array([-0.17234361,  0.        , -0.14048111, -0.29507294,  0.08153764,\n",
              "        -0.39610556, -0.2774449 ,  0.49344385,  0.07786158, -0.2860077 ,\n",
              "         0.48603728,  0.11955428, -0.00317361, -0.29417786,  0.4350883 ,\n",
              "         0.18523003], dtype=float32)>,\n",
              " <tf.Variable 'dense_8/kernel:0' shape=(16, 8) dtype=float32, numpy=\n",
              " array([[ 0.45354915,  0.21282396,  0.61575913,  0.15797351, -0.4361197 ,\n",
              "          0.2884895 ,  0.93093646,  0.23351264],\n",
              "        [-0.15074372,  0.04718256, -0.23839605,  0.19734323, -0.3803742 ,\n",
              "          0.03484344,  0.2148968 ,  0.37501776],\n",
              "        [-0.7730893 , -0.97595793,  3.2891393 ,  0.82032526,  0.8251091 ,\n",
              "          0.14667709,  1.5402272 , -2.3721697 ],\n",
              "        [ 2.016298  ,  1.6819798 , -0.8875859 ,  0.7304095 , -0.9322118 ,\n",
              "         -0.36157796,  0.8864662 ,  1.3343495 ],\n",
              "        [ 0.46938384,  0.4600407 ,  0.26674962,  0.37454575, -0.10080871,\n",
              "          0.08818528, -0.26342306, -0.49170354],\n",
              "        [ 0.952413  ,  1.1961166 ,  0.30504328, -0.54207265, -0.4956553 ,\n",
              "         -0.9148871 , -1.5843133 ,  1.106104  ],\n",
              "        [ 0.83696467,  1.2109145 , -0.03594242, -2.8909907 ,  0.7787222 ,\n",
              "          0.924535  , -1.0168457 , -2.4986393 ],\n",
              "        [ 0.81899697,  0.99928737, -0.09727705,  0.20327848, -0.28801623,\n",
              "          0.0846076 ,  0.7387773 , -0.32986802],\n",
              "        [ 0.9175508 ,  1.0064323 ,  0.10522521,  1.1482141 ,  0.12823552,\n",
              "          0.29993707, -0.7991562 ,  0.17705314],\n",
              "        [-0.45897958, -0.4776223 ,  1.002991  , -6.249511  ,  0.8844357 ,\n",
              "          0.26182202, -6.9099708 ,  1.5543684 ],\n",
              "        [ 0.16835295,  0.8086421 ,  0.8173793 , -0.32346538,  1.0782989 ,\n",
              "          0.03254459,  0.01697982, -1.2022815 ],\n",
              "        [ 0.4734429 ,  0.59997797,  0.09001652, -0.6378945 ,  0.28986683,\n",
              "          0.09770638, -0.5190631 , -0.31369722],\n",
              "        [ 0.84777033,  0.63119763,  0.37067857,  0.12669027, -0.17683694,\n",
              "         -0.09447774, -0.32246393,  0.8188707 ],\n",
              "        [ 1.1912559 ,  1.0751432 ,  0.8919006 , -0.85790503, -0.651374  ,\n",
              "         -0.4195652 ,  0.02026406,  1.1625639 ],\n",
              "        [-0.93056417, -0.34459922, -3.3783748 ,  1.5382668 ,  0.39291167,\n",
              "          0.43186972, -1.8515294 ,  0.7114747 ],\n",
              "        [ 0.2361762 ,  0.52563417, -0.06819139,  0.2551906 ,  0.57070607,\n",
              "         -0.43538886,  0.42272007, -1.5910742 ]], dtype=float32)>,\n",
              " <tf.Variable 'dense_8/bias:0' shape=(8,) dtype=float32, numpy=\n",
              " array([ 0.01869899, -0.11747646,  0.565796  ,  0.5824981 ,  0.82166094,\n",
              "         0.39962834,  0.5738054 , -0.09070471], dtype=float32)>,\n",
              " <tf.Variable 'dense_9/kernel:0' shape=(8, 1) dtype=float32, numpy=\n",
              " array([[ 1.1312902 ],\n",
              "        [ 0.76559305],\n",
              "        [-1.8831432 ],\n",
              "        [-1.4191294 ],\n",
              "        [-0.84668756],\n",
              "        [-0.06193723],\n",
              "        [-1.9803369 ],\n",
              "        [-3.8073363 ]], dtype=float32)>,\n",
              " <tf.Variable 'dense_9/bias:0' shape=(1,) dtype=float32, numpy=array([0.01228008], dtype=float32)>]"
            ]
          },
          "metadata": {},
          "execution_count": 93
        }
      ]
    },
    {
      "cell_type": "markdown",
      "metadata": {
        "id": "hpbor1hANMvd"
      },
      "source": [
        "### Evaluate The Model\n",
        "\n",
        "- Plot the model history to observe the changing of metrics\n",
        "- Make prediction to see \"confusion matrix\" and \"classification report\"\n",
        "- Check ROC (Receiver Operating Curve) and AUC (Area Under Curve) for the model"
      ]
    },
    {
      "cell_type": "code",
      "source": [
        "loss_df = pd.DataFrame(model.history.history)\n",
        "loss_df.head()"
      ],
      "metadata": {
        "colab": {
          "base_uri": "https://localhost:8080/",
          "height": 206
        },
        "id": "tlOjLPzBLwE6",
        "outputId": "fb83e752-3585-4de9-92ec-aee6c1b68db9"
      },
      "execution_count": 94,
      "outputs": [
        {
          "output_type": "execute_result",
          "data": {
            "text/plain": [
              "   loss  recall  val_loss  val_recall\n",
              "0   0.3     0.5       0.3         0.5\n",
              "1   0.3     0.5       0.3         0.5\n",
              "2   0.3     0.5       0.3         0.5\n",
              "3   0.3     0.5       0.3         0.5\n",
              "4   0.3     0.5       0.3         0.5"
            ],
            "text/html": [
              "\n",
              "  <div id=\"df-73d20510-2b3e-4444-9b99-d0957f160e7a\">\n",
              "    <div class=\"colab-df-container\">\n",
              "      <div>\n",
              "<style scoped>\n",
              "    .dataframe tbody tr th:only-of-type {\n",
              "        vertical-align: middle;\n",
              "    }\n",
              "\n",
              "    .dataframe tbody tr th {\n",
              "        vertical-align: top;\n",
              "    }\n",
              "\n",
              "    .dataframe thead th {\n",
              "        text-align: right;\n",
              "    }\n",
              "</style>\n",
              "<table border=\"1\" class=\"dataframe\">\n",
              "  <thead>\n",
              "    <tr style=\"text-align: right;\">\n",
              "      <th></th>\n",
              "      <th>loss</th>\n",
              "      <th>recall</th>\n",
              "      <th>val_loss</th>\n",
              "      <th>val_recall</th>\n",
              "    </tr>\n",
              "  </thead>\n",
              "  <tbody>\n",
              "    <tr>\n",
              "      <th>0</th>\n",
              "      <td>0.3</td>\n",
              "      <td>0.5</td>\n",
              "      <td>0.3</td>\n",
              "      <td>0.5</td>\n",
              "    </tr>\n",
              "    <tr>\n",
              "      <th>1</th>\n",
              "      <td>0.3</td>\n",
              "      <td>0.5</td>\n",
              "      <td>0.3</td>\n",
              "      <td>0.5</td>\n",
              "    </tr>\n",
              "    <tr>\n",
              "      <th>2</th>\n",
              "      <td>0.3</td>\n",
              "      <td>0.5</td>\n",
              "      <td>0.3</td>\n",
              "      <td>0.5</td>\n",
              "    </tr>\n",
              "    <tr>\n",
              "      <th>3</th>\n",
              "      <td>0.3</td>\n",
              "      <td>0.5</td>\n",
              "      <td>0.3</td>\n",
              "      <td>0.5</td>\n",
              "    </tr>\n",
              "    <tr>\n",
              "      <th>4</th>\n",
              "      <td>0.3</td>\n",
              "      <td>0.5</td>\n",
              "      <td>0.3</td>\n",
              "      <td>0.5</td>\n",
              "    </tr>\n",
              "  </tbody>\n",
              "</table>\n",
              "</div>\n",
              "      <button class=\"colab-df-convert\" onclick=\"convertToInteractive('df-73d20510-2b3e-4444-9b99-d0957f160e7a')\"\n",
              "              title=\"Convert this dataframe to an interactive table.\"\n",
              "              style=\"display:none;\">\n",
              "        \n",
              "  <svg xmlns=\"http://www.w3.org/2000/svg\" height=\"24px\"viewBox=\"0 0 24 24\"\n",
              "       width=\"24px\">\n",
              "    <path d=\"M0 0h24v24H0V0z\" fill=\"none\"/>\n",
              "    <path d=\"M18.56 5.44l.94 2.06.94-2.06 2.06-.94-2.06-.94-.94-2.06-.94 2.06-2.06.94zm-11 1L8.5 8.5l.94-2.06 2.06-.94-2.06-.94L8.5 2.5l-.94 2.06-2.06.94zm10 10l.94 2.06.94-2.06 2.06-.94-2.06-.94-.94-2.06-.94 2.06-2.06.94z\"/><path d=\"M17.41 7.96l-1.37-1.37c-.4-.4-.92-.59-1.43-.59-.52 0-1.04.2-1.43.59L10.3 9.45l-7.72 7.72c-.78.78-.78 2.05 0 2.83L4 21.41c.39.39.9.59 1.41.59.51 0 1.02-.2 1.41-.59l7.78-7.78 2.81-2.81c.8-.78.8-2.07 0-2.86zM5.41 20L4 18.59l7.72-7.72 1.47 1.35L5.41 20z\"/>\n",
              "  </svg>\n",
              "      </button>\n",
              "      \n",
              "  <style>\n",
              "    .colab-df-container {\n",
              "      display:flex;\n",
              "      flex-wrap:wrap;\n",
              "      gap: 12px;\n",
              "    }\n",
              "\n",
              "    .colab-df-convert {\n",
              "      background-color: #E8F0FE;\n",
              "      border: none;\n",
              "      border-radius: 50%;\n",
              "      cursor: pointer;\n",
              "      display: none;\n",
              "      fill: #1967D2;\n",
              "      height: 32px;\n",
              "      padding: 0 0 0 0;\n",
              "      width: 32px;\n",
              "    }\n",
              "\n",
              "    .colab-df-convert:hover {\n",
              "      background-color: #E2EBFA;\n",
              "      box-shadow: 0px 1px 2px rgba(60, 64, 67, 0.3), 0px 1px 3px 1px rgba(60, 64, 67, 0.15);\n",
              "      fill: #174EA6;\n",
              "    }\n",
              "\n",
              "    [theme=dark] .colab-df-convert {\n",
              "      background-color: #3B4455;\n",
              "      fill: #D2E3FC;\n",
              "    }\n",
              "\n",
              "    [theme=dark] .colab-df-convert:hover {\n",
              "      background-color: #434B5C;\n",
              "      box-shadow: 0px 1px 3px 1px rgba(0, 0, 0, 0.15);\n",
              "      filter: drop-shadow(0px 1px 2px rgba(0, 0, 0, 0.3));\n",
              "      fill: #FFFFFF;\n",
              "    }\n",
              "  </style>\n",
              "\n",
              "      <script>\n",
              "        const buttonEl =\n",
              "          document.querySelector('#df-73d20510-2b3e-4444-9b99-d0957f160e7a button.colab-df-convert');\n",
              "        buttonEl.style.display =\n",
              "          google.colab.kernel.accessAllowed ? 'block' : 'none';\n",
              "\n",
              "        async function convertToInteractive(key) {\n",
              "          const element = document.querySelector('#df-73d20510-2b3e-4444-9b99-d0957f160e7a');\n",
              "          const dataTable =\n",
              "            await google.colab.kernel.invokeFunction('convertToInteractive',\n",
              "                                                     [key], {});\n",
              "          if (!dataTable) return;\n",
              "\n",
              "          const docLinkHtml = 'Like what you see? Visit the ' +\n",
              "            '<a target=\"_blank\" href=https://colab.research.google.com/notebooks/data_table.ipynb>data table notebook</a>'\n",
              "            + ' to learn more about interactive tables.';\n",
              "          element.innerHTML = '';\n",
              "          dataTable['output_type'] = 'display_data';\n",
              "          await google.colab.output.renderOutput(dataTable, element);\n",
              "          const docLink = document.createElement('div');\n",
              "          docLink.innerHTML = docLinkHtml;\n",
              "          element.appendChild(docLink);\n",
              "        }\n",
              "      </script>\n",
              "    </div>\n",
              "  </div>\n",
              "  "
            ]
          },
          "metadata": {},
          "execution_count": 94
        }
      ]
    },
    {
      "cell_type": "code",
      "execution_count": 95,
      "metadata": {
        "colab": {
          "base_uri": "https://localhost:8080/",
          "height": 347
        },
        "id": "WZb--jvxNMvd",
        "outputId": "3dff083b-9c68-4ece-80a6-ee3ae44aa547"
      },
      "outputs": [
        {
          "output_type": "display_data",
          "data": {
            "text/plain": [
              "<Figure size 576x396 with 1 Axes>"
            ],
            "image/png": "[encoded data removed]"
          },
          "metadata": {}
        }
      ],
      "source": [
        "loss_df.plot()\n",
        "plt.show()"
      ]
    },
    {
      "cell_type": "code",
      "source": [
        "model.evaluate(X_test, y_test, verbose=0)"
      ],
      "metadata": {
        "colab": {
          "base_uri": "https://localhost:8080/"
        },
        "id": "M23jXhwoN0bQ",
        "outputId": "23fc55f7-9a4c-441e-b9ad-15e37388c65f"
      },
      "execution_count": 96,
      "outputs": [
        {
          "output_type": "execute_result",
          "data": {
            "text/plain": [
              "[0.35992521047592163, 0.4771241843700409]"
            ]
          },
          "metadata": {},
          "execution_count": 96
        }
      ]
    },
    {
      "cell_type": "code",
      "source": [
        "loss, recall = model.evaluate(X_test, y_test, verbose=0)\n",
        "print(\"loss: \", loss)\n",
        "print(\"recall: \", recall)"
      ],
      "metadata": {
        "colab": {
          "base_uri": "https://localhost:8080/"
        },
        "id": "xBtJUPDG7iDa",
        "outputId": "34932030-b388-43e0-e3a2-a799c2aa7dc6"
      },
      "execution_count": 97,
      "outputs": [
        {
          "output_type": "stream",
          "name": "stdout",
          "text": [
            "loss:  0.35992521047592163\n",
            "recall:  0.4771241843700409\n"
          ]
        }
      ]
    },
    {
      "cell_type": "code",
      "source": [
        "y_pred = model.predict(X_test) > 0.5\n",
        "print(confusion_matrix(y_test, y_pred))\n",
        "print(classification_report(y_test, y_pred))"
      ],
      "metadata": {
        "colab": {
          "base_uri": "https://localhost:8080/"
        },
        "id": "U4M2rAoyN0Yt",
        "outputId": "8abfa057-4f80-4c7b-ca46-2bb3bd283e25"
      },
      "execution_count": 98,
      "outputs": [
        {
          "output_type": "stream",
          "name": "stdout",
          "text": [
            "47/47 [==============================] - 0s 1ms/step\n",
            "[[1133   61]\n",
            " [ 160  146]]\n",
            "              precision    recall  f1-score   support\n",
            "\n",
            "           0       0.88      0.95      0.91      1194\n",
            "           1       0.71      0.48      0.57       306\n",
            "\n",
            "    accuracy                           0.85      1500\n",
            "   macro avg       0.79      0.71      0.74      1500\n",
            "weighted avg       0.84      0.85      0.84      1500\n",
            "\n"
          ]
        }
      ]
    },
    {
      "cell_type": "markdown",
      "source": [
        "Model perfomred poorly. Underfitting associated with low scores for recall and f1_score. "
      ],
      "metadata": {
        "id": "Q7YSEQpo9Zty"
      }
    },
    {
      "cell_type": "code",
      "source": [
        "y_pred_proba = model.predict(X_test)\n",
        "fpr, tpr, thresholds = precision_recall_curve(y_test, y_pred_proba)\n",
        "plt.plot([0,1],[0,1],'k--')\n",
        "plt.plot(fpr,tpr, label='ANN')\n",
        "plt.xlabel('fpr')\n",
        "plt.ylabel('tpr')\n",
        "plt.title('ROC curve')\n",
        "plt.show();"
      ],
      "metadata": {
        "colab": {
          "base_uri": "https://localhost:8080/",
          "height": 394
        },
        "id": "FITjRCP3Z6c-",
        "outputId": "7a30aaad-ba79-47fc-e09f-7184fbc5daa0"
      },
      "execution_count": 100,
      "outputs": [
        {
          "output_type": "stream",
          "name": "stdout",
          "text": [
            "47/47 [==============================] - 0s 1ms/step\n"
          ]
        },
        {
          "output_type": "display_data",
          "data": {
            "text/plain": [
              "<Figure size 576x396 with 1 Axes>"
            ],
            "image/png": "[encoded data removed]"
          },
          "metadata": {}
        }
      ]
    },
    {
      "cell_type": "code",
      "source": [
        "non_weighted_f1 = f1_score(y_test, y_pred)\n",
        "non_weighted_recall = recall_score(y_test, y_pred)"
      ],
      "metadata": {
        "id": "pUJlPNZuaXGV"
      },
      "execution_count": 101,
      "outputs": []
    },
    {
      "cell_type": "markdown",
      "metadata": {
        "id": "TQXSL-zdNMvd"
      },
      "source": [
        "## with class_weigth\n",
        "\n",
        "Investigate how the \"class_weight\" hyper-parameter is used in a Neural Network."
      ]
    },
    {
      "cell_type": "markdown",
      "metadata": {
        "id": "KZUGhBcaNMvd"
      },
      "source": [
        "### Create The Model"
      ]
    },
    {
      "cell_type": "code",
      "execution_count": 102,
      "metadata": {
        "id": "IVln3oxWNMvd"
      },
      "outputs": [],
      "source": [
        "tf.random.set_seed(42)\n",
        "\n",
        "model = Sequential()\n",
        "\n",
        "model.add(Dense(16, activation = \"relu\"))\n",
        "model.add(Dense(8, activation = \"relu\"))\n",
        "model.add(Dense(1, activation = \"sigmoid\"))\n",
        "\n",
        "opt = Adam(lr = 0.001)\n",
        "model.compile(optimizer = opt, loss = \"binary_crossentropy\", metrics = [\"Recall\"])"
      ]
    },
    {
      "cell_type": "code",
      "source": [
        "class_weights = class_weight.compute_class_weight(\"balanced\", classes=np.unique(y_train), y=y_train)"
      ],
      "metadata": {
        "id": "xeA57dh405oX"
      },
      "execution_count": 103,
      "outputs": []
    },
    {
      "cell_type": "code",
      "source": [
        "class_weights"
      ],
      "metadata": {
        "id": "63jUKV3Ed60O",
        "colab": {
          "base_uri": "https://localhost:8080/"
        },
        "outputId": "9325f9ca-0896-4682-ad24-9e308e4b146b"
      },
      "execution_count": 104,
      "outputs": [
        {
          "output_type": "execute_result",
          "data": {
            "text/plain": [
              "array([0.62786231, 2.45522819])"
            ]
          },
          "metadata": {},
          "execution_count": 104
        }
      ]
    },
    {
      "cell_type": "code",
      "source": [
        "class_weights = {0: class_weights[0], 1: class_weights[1]}\n",
        "class_weights"
      ],
      "metadata": {
        "id": "zTDLDpZSe5dd",
        "colab": {
          "base_uri": "https://localhost:8080/"
        },
        "outputId": "65ef02ed-bdce-496f-afa4-294469a060bb"
      },
      "execution_count": 105,
      "outputs": [
        {
          "output_type": "execute_result",
          "data": {
            "text/plain": [
              "{0: 0.6278623134879598, 1: 2.455228191796649}"
            ]
          },
          "metadata": {},
          "execution_count": 105
        }
      ]
    },
    {
      "cell_type": "code",
      "source": [
        "model.fit(X_train, y_train, class_weight=class_weights,validation_split = 0.1, batch_size = 32, epochs = 400, verbose=1 )"
      ],
      "metadata": {
        "id": "UWceMq1Kdhku",
        "colab": {
          "base_uri": "https://localhost:8080/"
        },
        "outputId": "7c2704bf-56c0-4cd2-a9b7-f876612cd5aa"
      },
      "execution_count": 106,
      "outputs": [
        {
          "output_type": "stream",
          "name": "stdout",
          "text": [
            "Epoch 1/400\n",
            "240/240 [==============================] - 2s 5ms/step - loss: 0.6741 - recall: 0.5432 - val_loss: 0.6552 - val_recall: 0.6000\n",
            "Epoch 2/400\n",
            "240/240 [==============================] - 1s 4ms/step - loss: 0.6319 - recall: 0.6630 - val_loss: 0.6335 - val_recall: 0.6235\n",
            "Epoch 3/400\n",
            "240/240 [==============================] - 1s 4ms/step - loss: 0.6103 - recall: 0.6765 - val_loss: 0.6268 - val_recall: 0.6412\n",
            "Epoch 4/400\n",
            "240/240 [==============================] - 1s 4ms/step - loss: 0.5935 - recall: 0.6912 - val_loss: 0.5862 - val_recall: 0.5824\n",
            "Epoch 5/400\n",
            "240/240 [==============================] - 1s 4ms/step - loss: 0.5787 - recall: 0.6848 - val_loss: 0.5686 - val_recall: 0.5941\n",
            "Epoch 6/400\n",
            "240/240 [==============================] - 1s 4ms/step - loss: 0.5628 - recall: 0.7053 - val_loss: 0.5809 - val_recall: 0.6529\n",
            "Epoch 7/400\n",
            "240/240 [==============================] - 1s 4ms/step - loss: 0.5469 - recall: 0.7258 - val_loss: 0.5687 - val_recall: 0.7000\n",
            "Epoch 8/400\n",
            "240/240 [==============================] - 1s 4ms/step - loss: 0.5305 - recall: 0.7361 - val_loss: 0.5455 - val_recall: 0.7059\n",
            "Epoch 9/400\n",
            "240/240 [==============================] - 1s 4ms/step - loss: 0.5192 - recall: 0.7450 - val_loss: 0.5613 - val_recall: 0.7588\n",
            "Epoch 10/400\n",
            "240/240 [==============================] - 1s 4ms/step - loss: 0.5083 - recall: 0.7591 - val_loss: 0.4846 - val_recall: 0.7059\n",
            "Epoch 11/400\n",
            "240/240 [==============================] - 1s 4ms/step - loss: 0.4988 - recall: 0.7662 - val_loss: 0.4739 - val_recall: 0.6941\n",
            "Epoch 12/400\n",
            "240/240 [==============================] - 1s 4ms/step - loss: 0.4947 - recall: 0.7623 - val_loss: 0.5522 - val_recall: 0.7941\n",
            "Epoch 13/400\n",
            "240/240 [==============================] - 1s 4ms/step - loss: 0.4910 - recall: 0.7668 - val_loss: 0.5516 - val_recall: 0.8000\n",
            "Epoch 14/400\n",
            "240/240 [==============================] - 1s 4ms/step - loss: 0.4873 - recall: 0.7751 - val_loss: 0.4443 - val_recall: 0.6706\n",
            "Epoch 15/400\n",
            "240/240 [==============================] - 1s 4ms/step - loss: 0.4852 - recall: 0.7649 - val_loss: 0.4655 - val_recall: 0.7059\n",
            "Epoch 16/400\n",
            "240/240 [==============================] - 1s 4ms/step - loss: 0.4849 - recall: 0.7623 - val_loss: 0.4903 - val_recall: 0.7353\n",
            "Epoch 17/400\n",
            "240/240 [==============================] - 1s 4ms/step - loss: 0.4825 - recall: 0.7751 - val_loss: 0.4566 - val_recall: 0.7000\n",
            "Epoch 18/400\n",
            "240/240 [==============================] - 1s 4ms/step - loss: 0.4810 - recall: 0.7623 - val_loss: 0.5065 - val_recall: 0.7529\n",
            "Epoch 19/400\n",
            "240/240 [==============================] - 1s 3ms/step - loss: 0.4828 - recall: 0.7662 - val_loss: 0.4903 - val_recall: 0.7353\n",
            "Epoch 20/400\n",
            "240/240 [==============================] - 1s 4ms/step - loss: 0.4790 - recall: 0.7739 - val_loss: 0.4676 - val_recall: 0.7176\n",
            "Epoch 21/400\n",
            "240/240 [==============================] - 1s 4ms/step - loss: 0.4783 - recall: 0.7662 - val_loss: 0.4448 - val_recall: 0.6882\n",
            "Epoch 22/400\n",
            "240/240 [==============================] - 1s 4ms/step - loss: 0.4769 - recall: 0.7732 - val_loss: 0.5140 - val_recall: 0.7765\n",
            "Epoch 23/400\n",
            "240/240 [==============================] - 1s 4ms/step - loss: 0.4756 - recall: 0.7668 - val_loss: 0.4349 - val_recall: 0.6824\n",
            "Epoch 24/400\n",
            "240/240 [==============================] - 1s 4ms/step - loss: 0.4741 - recall: 0.7649 - val_loss: 0.4852 - val_recall: 0.7529\n",
            "Epoch 25/400\n",
            "240/240 [==============================] - 1s 4ms/step - loss: 0.4745 - recall: 0.7662 - val_loss: 0.4631 - val_recall: 0.7118\n",
            "Epoch 26/400\n",
            "240/240 [==============================] - 1s 4ms/step - loss: 0.4723 - recall: 0.7623 - val_loss: 0.4684 - val_recall: 0.7176\n",
            "Epoch 27/400\n",
            "240/240 [==============================] - 1s 4ms/step - loss: 0.4738 - recall: 0.7713 - val_loss: 0.5096 - val_recall: 0.7706\n",
            "Epoch 28/400\n",
            "240/240 [==============================] - 1s 4ms/step - loss: 0.4699 - recall: 0.7694 - val_loss: 0.4951 - val_recall: 0.7588\n",
            "Epoch 29/400\n",
            "240/240 [==============================] - 1s 3ms/step - loss: 0.4699 - recall: 0.7668 - val_loss: 0.4569 - val_recall: 0.7118\n",
            "Epoch 30/400\n",
            "240/240 [==============================] - 1s 4ms/step - loss: 0.4702 - recall: 0.7713 - val_loss: 0.4712 - val_recall: 0.7353\n",
            "Epoch 31/400\n",
            "240/240 [==============================] - 1s 4ms/step - loss: 0.4686 - recall: 0.7643 - val_loss: 0.4465 - val_recall: 0.7176\n",
            "Epoch 32/400\n",
            "240/240 [==============================] - 1s 4ms/step - loss: 0.4675 - recall: 0.7668 - val_loss: 0.4481 - val_recall: 0.7000\n",
            "Epoch 33/400\n",
            "240/240 [==============================] - 1s 4ms/step - loss: 0.4678 - recall: 0.7527 - val_loss: 0.5216 - val_recall: 0.7941\n",
            "Epoch 34/400\n",
            "240/240 [==============================] - 1s 4ms/step - loss: 0.4666 - recall: 0.7758 - val_loss: 0.4594 - val_recall: 0.7294\n",
            "Epoch 35/400\n",
            "240/240 [==============================] - 1s 4ms/step - loss: 0.4663 - recall: 0.7623 - val_loss: 0.4691 - val_recall: 0.7353\n",
            "Epoch 36/400\n",
            "240/240 [==============================] - 1s 4ms/step - loss: 0.4653 - recall: 0.7675 - val_loss: 0.4248 - val_recall: 0.6941\n",
            "Epoch 37/400\n",
            "240/240 [==============================] - 1s 4ms/step - loss: 0.4668 - recall: 0.7617 - val_loss: 0.4683 - val_recall: 0.7353\n",
            "Epoch 38/400\n",
            "240/240 [==============================] - 1s 4ms/step - loss: 0.4648 - recall: 0.7655 - val_loss: 0.4659 - val_recall: 0.7353\n",
            "Epoch 39/400\n",
            "240/240 [==============================] - 1s 4ms/step - loss: 0.4641 - recall: 0.7713 - val_loss: 0.4779 - val_recall: 0.7412\n",
            "Epoch 40/400\n",
            "240/240 [==============================] - 1s 4ms/step - loss: 0.4624 - recall: 0.7572 - val_loss: 0.5077 - val_recall: 0.7588\n",
            "Epoch 41/400\n",
            "240/240 [==============================] - 1s 4ms/step - loss: 0.4632 - recall: 0.7719 - val_loss: 0.4899 - val_recall: 0.7412\n",
            "Epoch 42/400\n",
            "240/240 [==============================] - 1s 4ms/step - loss: 0.4627 - recall: 0.7598 - val_loss: 0.5386 - val_recall: 0.8059\n",
            "Epoch 43/400\n",
            "240/240 [==============================] - 1s 4ms/step - loss: 0.4606 - recall: 0.7649 - val_loss: 0.4897 - val_recall: 0.7647\n",
            "Epoch 44/400\n",
            "240/240 [==============================] - 1s 4ms/step - loss: 0.4636 - recall: 0.7726 - val_loss: 0.4764 - val_recall: 0.7412\n",
            "Epoch 45/400\n",
            "240/240 [==============================] - 1s 4ms/step - loss: 0.4617 - recall: 0.7694 - val_loss: 0.5118 - val_recall: 0.7706\n",
            "Epoch 46/400\n",
            "240/240 [==============================] - 1s 4ms/step - loss: 0.4640 - recall: 0.7726 - val_loss: 0.5014 - val_recall: 0.7647\n",
            "Epoch 47/400\n",
            "240/240 [==============================] - 1s 4ms/step - loss: 0.4603 - recall: 0.7732 - val_loss: 0.4298 - val_recall: 0.6882\n",
            "Epoch 48/400\n",
            "240/240 [==============================] - 1s 4ms/step - loss: 0.4605 - recall: 0.7643 - val_loss: 0.4564 - val_recall: 0.7294\n",
            "Epoch 49/400\n",
            "240/240 [==============================] - 1s 4ms/step - loss: 0.4609 - recall: 0.7649 - val_loss: 0.5100 - val_recall: 0.7941\n",
            "Epoch 50/400\n",
            "240/240 [==============================] - 1s 4ms/step - loss: 0.4590 - recall: 0.7681 - val_loss: 0.4716 - val_recall: 0.7471\n",
            "Epoch 51/400\n",
            "240/240 [==============================] - 1s 6ms/step - loss: 0.4582 - recall: 0.7643 - val_loss: 0.4754 - val_recall: 0.7588\n",
            "Epoch 52/400\n",
            "240/240 [==============================] - 1s 6ms/step - loss: 0.4598 - recall: 0.7796 - val_loss: 0.4363 - val_recall: 0.7118\n",
            "Epoch 53/400\n",
            "240/240 [==============================] - 1s 6ms/step - loss: 0.4575 - recall: 0.7630 - val_loss: 0.4667 - val_recall: 0.7471\n",
            "Epoch 54/400\n",
            "240/240 [==============================] - 1s 4ms/step - loss: 0.4561 - recall: 0.7732 - val_loss: 0.4529 - val_recall: 0.7294\n",
            "Epoch 55/400\n",
            "240/240 [==============================] - 1s 4ms/step - loss: 0.4555 - recall: 0.7700 - val_loss: 0.4358 - val_recall: 0.7059\n",
            "Epoch 56/400\n",
            "240/240 [==============================] - 1s 4ms/step - loss: 0.4553 - recall: 0.7713 - val_loss: 0.4397 - val_recall: 0.7235\n",
            "Epoch 57/400\n",
            "240/240 [==============================] - 1s 4ms/step - loss: 0.4547 - recall: 0.7617 - val_loss: 0.4040 - val_recall: 0.6824\n",
            "Epoch 58/400\n",
            "240/240 [==============================] - 1s 4ms/step - loss: 0.4541 - recall: 0.7668 - val_loss: 0.4774 - val_recall: 0.7765\n",
            "Epoch 59/400\n",
            "240/240 [==============================] - 1s 4ms/step - loss: 0.4530 - recall: 0.7707 - val_loss: 0.4281 - val_recall: 0.7000\n",
            "Epoch 60/400\n",
            "240/240 [==============================] - 1s 4ms/step - loss: 0.4525 - recall: 0.7713 - val_loss: 0.4463 - val_recall: 0.7176\n",
            "Epoch 61/400\n",
            "240/240 [==============================] - 1s 4ms/step - loss: 0.4526 - recall: 0.7751 - val_loss: 0.4503 - val_recall: 0.7235\n",
            "Epoch 62/400\n",
            "240/240 [==============================] - 1s 4ms/step - loss: 0.4531 - recall: 0.7611 - val_loss: 0.5053 - val_recall: 0.7882\n",
            "Epoch 63/400\n",
            "240/240 [==============================] - 1s 4ms/step - loss: 0.4517 - recall: 0.7751 - val_loss: 0.5258 - val_recall: 0.8000\n",
            "Epoch 64/400\n",
            "240/240 [==============================] - 1s 4ms/step - loss: 0.4537 - recall: 0.7739 - val_loss: 0.4733 - val_recall: 0.7765\n",
            "Epoch 65/400\n",
            "240/240 [==============================] - 1s 4ms/step - loss: 0.4495 - recall: 0.7694 - val_loss: 0.4419 - val_recall: 0.7294\n",
            "Epoch 66/400\n",
            "240/240 [==============================] - 1s 4ms/step - loss: 0.4513 - recall: 0.7662 - val_loss: 0.4552 - val_recall: 0.7647\n",
            "Epoch 67/400\n",
            "240/240 [==============================] - 1s 4ms/step - loss: 0.4499 - recall: 0.7751 - val_loss: 0.4006 - val_recall: 0.6882\n",
            "Epoch 68/400\n",
            "240/240 [==============================] - 1s 4ms/step - loss: 0.4513 - recall: 0.7623 - val_loss: 0.4283 - val_recall: 0.7176\n",
            "Epoch 69/400\n",
            "240/240 [==============================] - 1s 4ms/step - loss: 0.4496 - recall: 0.7732 - val_loss: 0.4522 - val_recall: 0.7588\n",
            "Epoch 70/400\n",
            "240/240 [==============================] - 1s 4ms/step - loss: 0.4488 - recall: 0.7694 - val_loss: 0.4263 - val_recall: 0.7000\n",
            "Epoch 71/400\n",
            "240/240 [==============================] - 1s 4ms/step - loss: 0.4488 - recall: 0.7604 - val_loss: 0.4366 - val_recall: 0.7471\n",
            "Epoch 72/400\n",
            "240/240 [==============================] - 1s 4ms/step - loss: 0.4480 - recall: 0.7707 - val_loss: 0.4480 - val_recall: 0.7471\n",
            "Epoch 73/400\n",
            "240/240 [==============================] - 1s 4ms/step - loss: 0.4478 - recall: 0.7713 - val_loss: 0.4293 - val_recall: 0.7118\n",
            "Epoch 74/400\n",
            "240/240 [==============================] - 1s 4ms/step - loss: 0.4477 - recall: 0.7681 - val_loss: 0.4997 - val_recall: 0.8000\n",
            "Epoch 75/400\n",
            "240/240 [==============================] - 1s 4ms/step - loss: 0.4472 - recall: 0.7719 - val_loss: 0.3951 - val_recall: 0.6588\n",
            "Epoch 76/400\n",
            "240/240 [==============================] - 1s 4ms/step - loss: 0.4486 - recall: 0.7713 - val_loss: 0.4167 - val_recall: 0.7000\n",
            "Epoch 77/400\n",
            "240/240 [==============================] - 1s 4ms/step - loss: 0.4479 - recall: 0.7630 - val_loss: 0.4596 - val_recall: 0.7706\n",
            "Epoch 78/400\n",
            "240/240 [==============================] - 1s 4ms/step - loss: 0.4472 - recall: 0.7771 - val_loss: 0.4229 - val_recall: 0.7118\n",
            "Epoch 79/400\n",
            "240/240 [==============================] - 1s 4ms/step - loss: 0.4467 - recall: 0.7726 - val_loss: 0.4909 - val_recall: 0.7882\n",
            "Epoch 80/400\n",
            "240/240 [==============================] - 1s 4ms/step - loss: 0.4463 - recall: 0.7739 - val_loss: 0.4317 - val_recall: 0.7118\n",
            "Epoch 81/400\n",
            "240/240 [==============================] - 1s 4ms/step - loss: 0.4469 - recall: 0.7617 - val_loss: 0.4365 - val_recall: 0.7471\n",
            "Epoch 82/400\n",
            "240/240 [==============================] - 1s 4ms/step - loss: 0.4473 - recall: 0.7803 - val_loss: 0.4165 - val_recall: 0.7000\n",
            "Epoch 83/400\n",
            "240/240 [==============================] - 1s 4ms/step - loss: 0.4459 - recall: 0.7713 - val_loss: 0.4556 - val_recall: 0.7765\n",
            "Epoch 84/400\n",
            "240/240 [==============================] - 1s 4ms/step - loss: 0.4465 - recall: 0.7707 - val_loss: 0.4141 - val_recall: 0.6941\n",
            "Epoch 85/400\n",
            "240/240 [==============================] - 1s 4ms/step - loss: 0.4463 - recall: 0.7713 - val_loss: 0.4679 - val_recall: 0.7765\n",
            "Epoch 86/400\n",
            "240/240 [==============================] - 1s 4ms/step - loss: 0.4461 - recall: 0.7739 - val_loss: 0.4415 - val_recall: 0.7588\n",
            "Epoch 87/400\n",
            "240/240 [==============================] - 1s 4ms/step - loss: 0.4469 - recall: 0.7675 - val_loss: 0.4584 - val_recall: 0.7706\n",
            "Epoch 88/400\n",
            "240/240 [==============================] - 1s 4ms/step - loss: 0.4456 - recall: 0.7713 - val_loss: 0.4280 - val_recall: 0.7176\n",
            "Epoch 89/400\n",
            "240/240 [==============================] - 1s 4ms/step - loss: 0.4458 - recall: 0.7630 - val_loss: 0.4551 - val_recall: 0.7529\n",
            "Epoch 90/400\n",
            "240/240 [==============================] - 1s 4ms/step - loss: 0.4440 - recall: 0.7681 - val_loss: 0.4665 - val_recall: 0.7882\n",
            "Epoch 91/400\n",
            "240/240 [==============================] - 1s 4ms/step - loss: 0.4434 - recall: 0.7719 - val_loss: 0.4658 - val_recall: 0.7706\n",
            "Epoch 92/400\n",
            "240/240 [==============================] - 1s 4ms/step - loss: 0.4448 - recall: 0.7803 - val_loss: 0.4357 - val_recall: 0.7412\n",
            "Epoch 93/400\n",
            "240/240 [==============================] - 1s 4ms/step - loss: 0.4443 - recall: 0.7707 - val_loss: 0.4533 - val_recall: 0.7765\n",
            "Epoch 94/400\n",
            "240/240 [==============================] - 1s 4ms/step - loss: 0.4444 - recall: 0.7739 - val_loss: 0.4828 - val_recall: 0.8000\n",
            "Epoch 95/400\n",
            "240/240 [==============================] - 1s 4ms/step - loss: 0.4442 - recall: 0.7816 - val_loss: 0.4395 - val_recall: 0.7471\n",
            "Epoch 96/400\n",
            "240/240 [==============================] - 1s 4ms/step - loss: 0.4427 - recall: 0.7739 - val_loss: 0.4739 - val_recall: 0.7882\n",
            "Epoch 97/400\n",
            "240/240 [==============================] - 1s 4ms/step - loss: 0.4442 - recall: 0.7790 - val_loss: 0.4585 - val_recall: 0.7765\n",
            "Epoch 98/400\n",
            "240/240 [==============================] - 1s 4ms/step - loss: 0.4442 - recall: 0.7835 - val_loss: 0.4515 - val_recall: 0.7471\n",
            "Epoch 99/400\n",
            "240/240 [==============================] - 1s 4ms/step - loss: 0.4440 - recall: 0.7777 - val_loss: 0.4609 - val_recall: 0.7706\n",
            "Epoch 100/400\n",
            "240/240 [==============================] - 1s 4ms/step - loss: 0.4429 - recall: 0.7771 - val_loss: 0.4580 - val_recall: 0.7882\n",
            "Epoch 101/400\n",
            "240/240 [==============================] - 1s 4ms/step - loss: 0.4428 - recall: 0.7751 - val_loss: 0.4851 - val_recall: 0.8059\n",
            "Epoch 102/400\n",
            "240/240 [==============================] - 1s 4ms/step - loss: 0.4435 - recall: 0.7816 - val_loss: 0.4799 - val_recall: 0.8118\n",
            "Epoch 103/400\n",
            "240/240 [==============================] - 1s 4ms/step - loss: 0.4425 - recall: 0.7713 - val_loss: 0.4433 - val_recall: 0.7647\n",
            "Epoch 104/400\n",
            "240/240 [==============================] - 1s 4ms/step - loss: 0.4432 - recall: 0.7668 - val_loss: 0.4852 - val_recall: 0.8000\n",
            "Epoch 105/400\n",
            "240/240 [==============================] - 1s 4ms/step - loss: 0.4433 - recall: 0.7758 - val_loss: 0.4041 - val_recall: 0.7176\n",
            "Epoch 106/400\n",
            "240/240 [==============================] - 1s 4ms/step - loss: 0.4420 - recall: 0.7700 - val_loss: 0.4922 - val_recall: 0.8235\n",
            "Epoch 107/400\n",
            "240/240 [==============================] - 1s 4ms/step - loss: 0.4430 - recall: 0.7764 - val_loss: 0.4135 - val_recall: 0.7176\n",
            "Epoch 108/400\n",
            "240/240 [==============================] - 1s 4ms/step - loss: 0.4437 - recall: 0.7713 - val_loss: 0.4234 - val_recall: 0.7353\n",
            "Epoch 109/400\n",
            "240/240 [==============================] - 1s 4ms/step - loss: 0.4409 - recall: 0.7771 - val_loss: 0.4868 - val_recall: 0.8000\n",
            "Epoch 110/400\n",
            "240/240 [==============================] - 1s 4ms/step - loss: 0.4422 - recall: 0.7790 - val_loss: 0.4641 - val_recall: 0.7824\n",
            "Epoch 111/400\n",
            "240/240 [==============================] - 1s 4ms/step - loss: 0.4416 - recall: 0.7732 - val_loss: 0.4413 - val_recall: 0.7471\n",
            "Epoch 112/400\n",
            "240/240 [==============================] - 1s 4ms/step - loss: 0.4427 - recall: 0.7764 - val_loss: 0.4285 - val_recall: 0.7294\n",
            "Epoch 113/400\n",
            "240/240 [==============================] - 1s 4ms/step - loss: 0.4452 - recall: 0.7777 - val_loss: 0.4310 - val_recall: 0.7353\n",
            "Epoch 114/400\n",
            "240/240 [==============================] - 1s 4ms/step - loss: 0.4411 - recall: 0.7796 - val_loss: 0.4255 - val_recall: 0.7471\n",
            "Epoch 115/400\n",
            "240/240 [==============================] - 1s 4ms/step - loss: 0.4412 - recall: 0.7764 - val_loss: 0.4298 - val_recall: 0.7471\n",
            "Epoch 116/400\n",
            "240/240 [==============================] - 1s 4ms/step - loss: 0.4400 - recall: 0.7803 - val_loss: 0.4043 - val_recall: 0.7059\n",
            "Epoch 117/400\n",
            "240/240 [==============================] - 1s 4ms/step - loss: 0.4411 - recall: 0.7739 - val_loss: 0.4315 - val_recall: 0.7412\n",
            "Epoch 118/400\n",
            "240/240 [==============================] - 1s 4ms/step - loss: 0.4423 - recall: 0.7745 - val_loss: 0.4110 - val_recall: 0.7176\n",
            "Epoch 119/400\n",
            "240/240 [==============================] - 1s 4ms/step - loss: 0.4412 - recall: 0.7707 - val_loss: 0.4321 - val_recall: 0.7353\n",
            "Epoch 120/400\n",
            "240/240 [==============================] - 1s 4ms/step - loss: 0.4394 - recall: 0.7726 - val_loss: 0.4279 - val_recall: 0.7235\n",
            "Epoch 121/400\n",
            "240/240 [==============================] - 1s 4ms/step - loss: 0.4405 - recall: 0.7713 - val_loss: 0.4603 - val_recall: 0.7941\n",
            "Epoch 122/400\n",
            "240/240 [==============================] - 1s 4ms/step - loss: 0.4407 - recall: 0.7751 - val_loss: 0.4684 - val_recall: 0.7941\n",
            "Epoch 123/400\n",
            "240/240 [==============================] - 1s 4ms/step - loss: 0.4402 - recall: 0.7758 - val_loss: 0.4685 - val_recall: 0.7824\n",
            "Epoch 124/400\n",
            "240/240 [==============================] - 1s 4ms/step - loss: 0.4400 - recall: 0.7771 - val_loss: 0.4582 - val_recall: 0.7765\n",
            "Epoch 125/400\n",
            "240/240 [==============================] - 1s 4ms/step - loss: 0.4398 - recall: 0.7771 - val_loss: 0.4664 - val_recall: 0.8000\n",
            "Epoch 126/400\n",
            "240/240 [==============================] - 1s 4ms/step - loss: 0.4384 - recall: 0.7803 - val_loss: 0.4237 - val_recall: 0.7235\n",
            "Epoch 127/400\n",
            "240/240 [==============================] - 1s 4ms/step - loss: 0.4388 - recall: 0.7758 - val_loss: 0.4420 - val_recall: 0.7471\n",
            "Epoch 128/400\n",
            "240/240 [==============================] - 1s 4ms/step - loss: 0.4411 - recall: 0.7739 - val_loss: 0.4395 - val_recall: 0.7588\n",
            "Epoch 129/400\n",
            "240/240 [==============================] - 1s 4ms/step - loss: 0.4392 - recall: 0.7713 - val_loss: 0.4539 - val_recall: 0.7706\n",
            "Epoch 130/400\n",
            "240/240 [==============================] - 1s 4ms/step - loss: 0.4403 - recall: 0.7803 - val_loss: 0.4973 - val_recall: 0.8059\n",
            "Epoch 131/400\n",
            "240/240 [==============================] - 1s 4ms/step - loss: 0.4391 - recall: 0.7771 - val_loss: 0.4802 - val_recall: 0.7941\n",
            "Epoch 132/400\n",
            "240/240 [==============================] - 1s 4ms/step - loss: 0.4403 - recall: 0.7732 - val_loss: 0.4623 - val_recall: 0.7882\n",
            "Epoch 133/400\n",
            "240/240 [==============================] - 1s 4ms/step - loss: 0.4416 - recall: 0.7758 - val_loss: 0.4235 - val_recall: 0.7294\n",
            "Epoch 134/400\n",
            "240/240 [==============================] - 1s 4ms/step - loss: 0.4391 - recall: 0.7873 - val_loss: 0.4222 - val_recall: 0.7353\n",
            "Epoch 135/400\n",
            "240/240 [==============================] - 1s 4ms/step - loss: 0.4406 - recall: 0.7719 - val_loss: 0.4583 - val_recall: 0.7941\n",
            "Epoch 136/400\n",
            "240/240 [==============================] - 1s 4ms/step - loss: 0.4378 - recall: 0.7764 - val_loss: 0.4270 - val_recall: 0.7294\n",
            "Epoch 137/400\n",
            "240/240 [==============================] - 1s 4ms/step - loss: 0.4396 - recall: 0.7783 - val_loss: 0.4127 - val_recall: 0.7235\n",
            "Epoch 138/400\n",
            "240/240 [==============================] - 1s 4ms/step - loss: 0.4403 - recall: 0.7713 - val_loss: 0.4529 - val_recall: 0.7706\n",
            "Epoch 139/400\n",
            "240/240 [==============================] - 1s 4ms/step - loss: 0.4391 - recall: 0.7816 - val_loss: 0.4371 - val_recall: 0.7471\n",
            "Epoch 140/400\n",
            "240/240 [==============================] - 1s 4ms/step - loss: 0.4385 - recall: 0.7751 - val_loss: 0.4371 - val_recall: 0.7471\n",
            "Epoch 141/400\n",
            "240/240 [==============================] - 1s 4ms/step - loss: 0.4381 - recall: 0.7848 - val_loss: 0.4044 - val_recall: 0.7000\n",
            "Epoch 142/400\n",
            "240/240 [==============================] - 1s 4ms/step - loss: 0.4386 - recall: 0.7758 - val_loss: 0.4143 - val_recall: 0.7235\n",
            "Epoch 143/400\n",
            "240/240 [==============================] - 1s 4ms/step - loss: 0.4408 - recall: 0.7803 - val_loss: 0.4801 - val_recall: 0.8176\n",
            "Epoch 144/400\n",
            "240/240 [==============================] - 1s 4ms/step - loss: 0.4388 - recall: 0.7739 - val_loss: 0.4386 - val_recall: 0.7353\n",
            "Epoch 145/400\n",
            "240/240 [==============================] - 1s 4ms/step - loss: 0.4386 - recall: 0.7783 - val_loss: 0.4191 - val_recall: 0.7353\n",
            "Epoch 146/400\n",
            "240/240 [==============================] - 1s 4ms/step - loss: 0.4376 - recall: 0.7777 - val_loss: 0.4482 - val_recall: 0.7647\n",
            "Epoch 147/400\n",
            "240/240 [==============================] - 1s 4ms/step - loss: 0.4386 - recall: 0.7771 - val_loss: 0.4269 - val_recall: 0.7412\n",
            "Epoch 148/400\n",
            "240/240 [==============================] - 1s 4ms/step - loss: 0.4371 - recall: 0.7758 - val_loss: 0.4365 - val_recall: 0.7471\n",
            "Epoch 149/400\n",
            "240/240 [==============================] - 1s 4ms/step - loss: 0.4373 - recall: 0.7835 - val_loss: 0.4259 - val_recall: 0.7294\n",
            "Epoch 150/400\n",
            "240/240 [==============================] - 1s 4ms/step - loss: 0.4382 - recall: 0.7675 - val_loss: 0.4221 - val_recall: 0.7176\n",
            "Epoch 151/400\n",
            "240/240 [==============================] - 1s 4ms/step - loss: 0.4378 - recall: 0.7803 - val_loss: 0.4710 - val_recall: 0.7824\n",
            "Epoch 152/400\n",
            "240/240 [==============================] - 1s 4ms/step - loss: 0.4372 - recall: 0.7809 - val_loss: 0.4353 - val_recall: 0.7353\n",
            "Epoch 153/400\n",
            "240/240 [==============================] - 1s 4ms/step - loss: 0.4379 - recall: 0.7803 - val_loss: 0.4263 - val_recall: 0.7412\n",
            "Epoch 154/400\n",
            "240/240 [==============================] - 1s 4ms/step - loss: 0.4377 - recall: 0.7764 - val_loss: 0.4242 - val_recall: 0.7353\n",
            "Epoch 155/400\n",
            "240/240 [==============================] - 1s 4ms/step - loss: 0.4393 - recall: 0.7783 - val_loss: 0.4563 - val_recall: 0.7824\n",
            "Epoch 156/400\n",
            "240/240 [==============================] - 1s 4ms/step - loss: 0.4402 - recall: 0.7739 - val_loss: 0.4942 - val_recall: 0.8059\n",
            "Epoch 157/400\n",
            "240/240 [==============================] - 1s 4ms/step - loss: 0.4376 - recall: 0.7841 - val_loss: 0.4492 - val_recall: 0.7824\n",
            "Epoch 158/400\n",
            "240/240 [==============================] - 1s 4ms/step - loss: 0.4371 - recall: 0.7835 - val_loss: 0.4357 - val_recall: 0.7412\n",
            "Epoch 159/400\n",
            "240/240 [==============================] - 1s 4ms/step - loss: 0.4363 - recall: 0.7835 - val_loss: 0.4317 - val_recall: 0.7353\n",
            "Epoch 160/400\n",
            "240/240 [==============================] - 1s 4ms/step - loss: 0.4376 - recall: 0.7739 - val_loss: 0.4527 - val_recall: 0.7647\n",
            "Epoch 161/400\n",
            "240/240 [==============================] - 1s 4ms/step - loss: 0.4366 - recall: 0.7771 - val_loss: 0.4427 - val_recall: 0.7471\n",
            "Epoch 162/400\n",
            "240/240 [==============================] - 1s 4ms/step - loss: 0.4381 - recall: 0.7816 - val_loss: 0.4337 - val_recall: 0.7412\n",
            "Epoch 163/400\n",
            "240/240 [==============================] - 1s 4ms/step - loss: 0.4363 - recall: 0.7854 - val_loss: 0.4046 - val_recall: 0.7118\n",
            "Epoch 164/400\n",
            "240/240 [==============================] - 1s 4ms/step - loss: 0.4369 - recall: 0.7745 - val_loss: 0.5074 - val_recall: 0.8235\n",
            "Epoch 165/400\n",
            "240/240 [==============================] - 1s 4ms/step - loss: 0.4374 - recall: 0.7809 - val_loss: 0.4267 - val_recall: 0.7294\n",
            "Epoch 166/400\n",
            "240/240 [==============================] - 1s 4ms/step - loss: 0.4373 - recall: 0.7809 - val_loss: 0.4714 - val_recall: 0.7882\n",
            "Epoch 167/400\n",
            "240/240 [==============================] - 1s 4ms/step - loss: 0.4370 - recall: 0.7732 - val_loss: 0.4274 - val_recall: 0.7294\n",
            "Epoch 168/400\n",
            "240/240 [==============================] - 1s 4ms/step - loss: 0.4359 - recall: 0.7809 - val_loss: 0.4509 - val_recall: 0.7706\n",
            "Epoch 169/400\n",
            "240/240 [==============================] - 1s 4ms/step - loss: 0.4356 - recall: 0.7764 - val_loss: 0.4279 - val_recall: 0.7412\n",
            "Epoch 170/400\n",
            "240/240 [==============================] - 1s 4ms/step - loss: 0.4354 - recall: 0.7790 - val_loss: 0.4524 - val_recall: 0.7706\n",
            "Epoch 171/400\n",
            "240/240 [==============================] - 1s 4ms/step - loss: 0.4366 - recall: 0.7783 - val_loss: 0.4617 - val_recall: 0.7765\n",
            "Epoch 172/400\n",
            "240/240 [==============================] - 1s 4ms/step - loss: 0.4363 - recall: 0.7816 - val_loss: 0.4524 - val_recall: 0.7706\n",
            "Epoch 173/400\n",
            "240/240 [==============================] - 1s 4ms/step - loss: 0.4373 - recall: 0.7854 - val_loss: 0.4486 - val_recall: 0.7706\n",
            "Epoch 174/400\n",
            "240/240 [==============================] - 1s 4ms/step - loss: 0.4368 - recall: 0.7816 - val_loss: 0.4234 - val_recall: 0.7294\n",
            "Epoch 175/400\n",
            "240/240 [==============================] - 1s 4ms/step - loss: 0.4366 - recall: 0.7803 - val_loss: 0.4172 - val_recall: 0.7176\n",
            "Epoch 176/400\n",
            "240/240 [==============================] - 1s 4ms/step - loss: 0.4362 - recall: 0.7828 - val_loss: 0.4763 - val_recall: 0.7706\n",
            "Epoch 177/400\n",
            "240/240 [==============================] - 1s 4ms/step - loss: 0.4354 - recall: 0.7860 - val_loss: 0.4180 - val_recall: 0.7176\n",
            "Epoch 178/400\n",
            "240/240 [==============================] - 1s 4ms/step - loss: 0.4359 - recall: 0.7758 - val_loss: 0.4929 - val_recall: 0.7706\n",
            "Epoch 179/400\n",
            "240/240 [==============================] - 1s 4ms/step - loss: 0.4368 - recall: 0.7796 - val_loss: 0.4527 - val_recall: 0.7588\n",
            "Epoch 180/400\n",
            "240/240 [==============================] - 1s 4ms/step - loss: 0.4362 - recall: 0.7745 - val_loss: 0.4605 - val_recall: 0.7706\n",
            "Epoch 181/400\n",
            "240/240 [==============================] - 1s 4ms/step - loss: 0.4349 - recall: 0.7854 - val_loss: 0.4184 - val_recall: 0.7235\n",
            "Epoch 182/400\n",
            "240/240 [==============================] - 1s 4ms/step - loss: 0.4361 - recall: 0.7796 - val_loss: 0.4725 - val_recall: 0.7824\n",
            "Epoch 183/400\n",
            "240/240 [==============================] - 1s 4ms/step - loss: 0.4353 - recall: 0.7873 - val_loss: 0.4747 - val_recall: 0.7941\n",
            "Epoch 184/400\n",
            "240/240 [==============================] - 1s 4ms/step - loss: 0.4356 - recall: 0.7835 - val_loss: 0.4835 - val_recall: 0.7941\n",
            "Epoch 185/400\n",
            "240/240 [==============================] - 1s 4ms/step - loss: 0.4363 - recall: 0.7912 - val_loss: 0.4559 - val_recall: 0.7588\n",
            "Epoch 186/400\n",
            "240/240 [==============================] - 1s 4ms/step - loss: 0.4344 - recall: 0.7860 - val_loss: 0.4110 - val_recall: 0.7059\n",
            "Epoch 187/400\n",
            "240/240 [==============================] - 1s 4ms/step - loss: 0.4351 - recall: 0.7790 - val_loss: 0.4491 - val_recall: 0.7588\n",
            "Epoch 188/400\n",
            "240/240 [==============================] - 1s 4ms/step - loss: 0.4355 - recall: 0.7783 - val_loss: 0.4463 - val_recall: 0.7529\n",
            "Epoch 189/400\n",
            "240/240 [==============================] - 1s 4ms/step - loss: 0.4361 - recall: 0.7848 - val_loss: 0.4209 - val_recall: 0.7294\n",
            "Epoch 190/400\n",
            "240/240 [==============================] - 1s 4ms/step - loss: 0.4363 - recall: 0.7809 - val_loss: 0.4563 - val_recall: 0.7647\n",
            "Epoch 191/400\n",
            "240/240 [==============================] - 1s 4ms/step - loss: 0.4358 - recall: 0.7803 - val_loss: 0.4461 - val_recall: 0.7765\n",
            "Epoch 192/400\n",
            "240/240 [==============================] - 1s 4ms/step - loss: 0.4362 - recall: 0.7771 - val_loss: 0.4243 - val_recall: 0.7294\n",
            "Epoch 193/400\n",
            "240/240 [==============================] - 1s 4ms/step - loss: 0.4361 - recall: 0.7796 - val_loss: 0.4384 - val_recall: 0.7412\n",
            "Epoch 194/400\n",
            "240/240 [==============================] - 1s 4ms/step - loss: 0.4347 - recall: 0.7777 - val_loss: 0.4455 - val_recall: 0.7471\n",
            "Epoch 195/400\n",
            "240/240 [==============================] - 1s 4ms/step - loss: 0.4343 - recall: 0.7841 - val_loss: 0.5019 - val_recall: 0.8000\n",
            "Epoch 196/400\n",
            "240/240 [==============================] - 1s 4ms/step - loss: 0.4344 - recall: 0.7841 - val_loss: 0.4217 - val_recall: 0.7235\n",
            "Epoch 197/400\n",
            "240/240 [==============================] - 1s 4ms/step - loss: 0.4349 - recall: 0.7796 - val_loss: 0.4871 - val_recall: 0.7824\n",
            "Epoch 198/400\n",
            "240/240 [==============================] - 1s 4ms/step - loss: 0.4354 - recall: 0.7796 - val_loss: 0.4116 - val_recall: 0.7118\n",
            "Epoch 199/400\n",
            "240/240 [==============================] - 1s 4ms/step - loss: 0.4357 - recall: 0.7764 - val_loss: 0.4498 - val_recall: 0.7588\n",
            "Epoch 200/400\n",
            "240/240 [==============================] - 1s 4ms/step - loss: 0.4346 - recall: 0.7880 - val_loss: 0.4637 - val_recall: 0.7824\n",
            "Epoch 201/400\n",
            "240/240 [==============================] - 1s 4ms/step - loss: 0.4354 - recall: 0.7809 - val_loss: 0.4183 - val_recall: 0.7294\n",
            "Epoch 202/400\n",
            "240/240 [==============================] - 1s 4ms/step - loss: 0.4342 - recall: 0.7796 - val_loss: 0.4180 - val_recall: 0.7294\n",
            "Epoch 203/400\n",
            "240/240 [==============================] - 1s 4ms/step - loss: 0.4362 - recall: 0.7764 - val_loss: 0.4248 - val_recall: 0.7353\n",
            "Epoch 204/400\n",
            "240/240 [==============================] - 1s 4ms/step - loss: 0.4348 - recall: 0.7803 - val_loss: 0.4139 - val_recall: 0.7235\n",
            "Epoch 205/400\n",
            "240/240 [==============================] - 1s 4ms/step - loss: 0.4340 - recall: 0.7822 - val_loss: 0.4750 - val_recall: 0.7765\n",
            "Epoch 206/400\n",
            "240/240 [==============================] - 1s 4ms/step - loss: 0.4366 - recall: 0.7803 - val_loss: 0.4172 - val_recall: 0.7235\n",
            "Epoch 207/400\n",
            "240/240 [==============================] - 1s 4ms/step - loss: 0.4348 - recall: 0.7809 - val_loss: 0.4185 - val_recall: 0.7235\n",
            "Epoch 208/400\n",
            "240/240 [==============================] - 1s 4ms/step - loss: 0.4349 - recall: 0.7796 - val_loss: 0.4053 - val_recall: 0.7000\n",
            "Epoch 209/400\n",
            "240/240 [==============================] - 1s 4ms/step - loss: 0.4346 - recall: 0.7841 - val_loss: 0.4766 - val_recall: 0.7765\n",
            "Epoch 210/400\n",
            "240/240 [==============================] - 1s 4ms/step - loss: 0.4369 - recall: 0.7886 - val_loss: 0.4418 - val_recall: 0.7471\n",
            "Epoch 211/400\n",
            "240/240 [==============================] - 1s 4ms/step - loss: 0.4355 - recall: 0.7873 - val_loss: 0.4326 - val_recall: 0.7471\n",
            "Epoch 212/400\n",
            "240/240 [==============================] - 1s 4ms/step - loss: 0.4343 - recall: 0.7828 - val_loss: 0.4061 - val_recall: 0.7118\n",
            "Epoch 213/400\n",
            "240/240 [==============================] - 1s 4ms/step - loss: 0.4348 - recall: 0.7828 - val_loss: 0.4127 - val_recall: 0.7118\n",
            "Epoch 214/400\n",
            "240/240 [==============================] - 1s 4ms/step - loss: 0.4353 - recall: 0.7841 - val_loss: 0.4307 - val_recall: 0.7412\n",
            "Epoch 215/400\n",
            "240/240 [==============================] - 1s 4ms/step - loss: 0.4330 - recall: 0.7835 - val_loss: 0.3964 - val_recall: 0.6882\n",
            "Epoch 216/400\n",
            "240/240 [==============================] - 1s 4ms/step - loss: 0.4338 - recall: 0.7803 - val_loss: 0.4871 - val_recall: 0.7941\n",
            "Epoch 217/400\n",
            "240/240 [==============================] - 1s 4ms/step - loss: 0.4336 - recall: 0.7816 - val_loss: 0.5001 - val_recall: 0.8176\n",
            "Epoch 218/400\n",
            "240/240 [==============================] - 1s 4ms/step - loss: 0.4353 - recall: 0.7873 - val_loss: 0.4681 - val_recall: 0.7647\n",
            "Epoch 219/400\n",
            "240/240 [==============================] - 1s 4ms/step - loss: 0.4344 - recall: 0.7822 - val_loss: 0.4479 - val_recall: 0.7471\n",
            "Epoch 220/400\n",
            "240/240 [==============================] - 1s 4ms/step - loss: 0.4336 - recall: 0.7841 - val_loss: 0.4557 - val_recall: 0.7529\n",
            "Epoch 221/400\n",
            "240/240 [==============================] - 1s 4ms/step - loss: 0.4338 - recall: 0.7822 - val_loss: 0.4207 - val_recall: 0.7294\n",
            "Epoch 222/400\n",
            "240/240 [==============================] - 1s 4ms/step - loss: 0.4355 - recall: 0.7739 - val_loss: 0.4655 - val_recall: 0.7765\n",
            "Epoch 223/400\n",
            "240/240 [==============================] - 1s 4ms/step - loss: 0.4341 - recall: 0.7892 - val_loss: 0.4607 - val_recall: 0.7588\n",
            "Epoch 224/400\n",
            "240/240 [==============================] - 1s 4ms/step - loss: 0.4348 - recall: 0.7803 - val_loss: 0.4705 - val_recall: 0.7765\n",
            "Epoch 225/400\n",
            "240/240 [==============================] - 1s 4ms/step - loss: 0.4335 - recall: 0.7803 - val_loss: 0.4111 - val_recall: 0.7176\n",
            "Epoch 226/400\n",
            "240/240 [==============================] - 1s 4ms/step - loss: 0.4334 - recall: 0.7803 - val_loss: 0.4697 - val_recall: 0.7882\n",
            "Epoch 227/400\n",
            "240/240 [==============================] - 1s 4ms/step - loss: 0.4341 - recall: 0.7809 - val_loss: 0.4602 - val_recall: 0.7588\n",
            "Epoch 228/400\n",
            "240/240 [==============================] - 1s 4ms/step - loss: 0.4338 - recall: 0.7867 - val_loss: 0.4642 - val_recall: 0.7882\n",
            "Epoch 229/400\n",
            "240/240 [==============================] - 1s 4ms/step - loss: 0.4350 - recall: 0.7848 - val_loss: 0.4036 - val_recall: 0.7000\n",
            "Epoch 230/400\n",
            "240/240 [==============================] - 1s 4ms/step - loss: 0.4347 - recall: 0.7841 - val_loss: 0.4550 - val_recall: 0.7529\n",
            "Epoch 231/400\n",
            "240/240 [==============================] - 1s 4ms/step - loss: 0.4324 - recall: 0.7796 - val_loss: 0.4438 - val_recall: 0.7647\n",
            "Epoch 232/400\n",
            "240/240 [==============================] - 1s 5ms/step - loss: 0.4339 - recall: 0.7777 - val_loss: 0.4256 - val_recall: 0.7235\n",
            "Epoch 233/400\n",
            "240/240 [==============================] - 2s 7ms/step - loss: 0.4324 - recall: 0.7854 - val_loss: 0.4392 - val_recall: 0.7412\n",
            "Epoch 234/400\n",
            "240/240 [==============================] - 2s 7ms/step - loss: 0.4337 - recall: 0.7803 - val_loss: 0.4450 - val_recall: 0.7529\n",
            "Epoch 235/400\n",
            "240/240 [==============================] - 1s 5ms/step - loss: 0.4329 - recall: 0.7860 - val_loss: 0.4025 - val_recall: 0.6941\n",
            "Epoch 236/400\n",
            "240/240 [==============================] - 1s 4ms/step - loss: 0.4347 - recall: 0.7764 - val_loss: 0.4417 - val_recall: 0.7412\n",
            "Epoch 237/400\n",
            "240/240 [==============================] - 1s 4ms/step - loss: 0.4328 - recall: 0.7816 - val_loss: 0.4805 - val_recall: 0.8000\n",
            "Epoch 238/400\n",
            "240/240 [==============================] - 1s 4ms/step - loss: 0.4357 - recall: 0.7912 - val_loss: 0.4198 - val_recall: 0.7176\n",
            "Epoch 239/400\n",
            "240/240 [==============================] - 1s 4ms/step - loss: 0.4331 - recall: 0.7796 - val_loss: 0.4699 - val_recall: 0.7706\n",
            "Epoch 240/400\n",
            "240/240 [==============================] - 1s 4ms/step - loss: 0.4320 - recall: 0.7771 - val_loss: 0.4691 - val_recall: 0.7882\n",
            "Epoch 241/400\n",
            "240/240 [==============================] - 1s 4ms/step - loss: 0.4339 - recall: 0.7854 - val_loss: 0.4949 - val_recall: 0.7941\n",
            "Epoch 242/400\n",
            "240/240 [==============================] - 1s 4ms/step - loss: 0.4340 - recall: 0.7816 - val_loss: 0.4516 - val_recall: 0.7706\n",
            "Epoch 243/400\n",
            "240/240 [==============================] - 1s 4ms/step - loss: 0.4342 - recall: 0.7822 - val_loss: 0.4543 - val_recall: 0.7706\n",
            "Epoch 244/400\n",
            "240/240 [==============================] - 1s 4ms/step - loss: 0.4327 - recall: 0.7758 - val_loss: 0.4278 - val_recall: 0.7235\n",
            "Epoch 245/400\n",
            "240/240 [==============================] - 1s 4ms/step - loss: 0.4334 - recall: 0.7809 - val_loss: 0.4229 - val_recall: 0.7235\n",
            "Epoch 246/400\n",
            "240/240 [==============================] - 1s 4ms/step - loss: 0.4322 - recall: 0.7867 - val_loss: 0.4372 - val_recall: 0.7294\n",
            "Epoch 247/400\n",
            "240/240 [==============================] - 1s 4ms/step - loss: 0.4319 - recall: 0.7816 - val_loss: 0.4701 - val_recall: 0.7706\n",
            "Epoch 248/400\n",
            "240/240 [==============================] - 1s 4ms/step - loss: 0.4315 - recall: 0.7841 - val_loss: 0.4330 - val_recall: 0.7412\n",
            "Epoch 249/400\n",
            "240/240 [==============================] - 1s 4ms/step - loss: 0.4327 - recall: 0.7854 - val_loss: 0.4249 - val_recall: 0.7412\n",
            "Epoch 250/400\n",
            "240/240 [==============================] - 1s 4ms/step - loss: 0.4322 - recall: 0.7809 - val_loss: 0.4583 - val_recall: 0.7647\n",
            "Epoch 251/400\n",
            "240/240 [==============================] - 1s 4ms/step - loss: 0.4319 - recall: 0.7860 - val_loss: 0.4664 - val_recall: 0.7824\n",
            "Epoch 252/400\n",
            "240/240 [==============================] - 1s 4ms/step - loss: 0.4337 - recall: 0.7867 - val_loss: 0.4365 - val_recall: 0.7471\n",
            "Epoch 253/400\n",
            "240/240 [==============================] - 1s 4ms/step - loss: 0.4320 - recall: 0.7848 - val_loss: 0.4278 - val_recall: 0.7412\n",
            "Epoch 254/400\n",
            "240/240 [==============================] - 1s 4ms/step - loss: 0.4324 - recall: 0.7751 - val_loss: 0.4391 - val_recall: 0.7412\n",
            "Epoch 255/400\n",
            "240/240 [==============================] - 1s 4ms/step - loss: 0.4322 - recall: 0.7764 - val_loss: 0.4767 - val_recall: 0.7765\n",
            "Epoch 256/400\n",
            "240/240 [==============================] - 1s 4ms/step - loss: 0.4327 - recall: 0.7803 - val_loss: 0.4362 - val_recall: 0.7529\n",
            "Epoch 257/400\n",
            "240/240 [==============================] - 1s 4ms/step - loss: 0.4328 - recall: 0.7751 - val_loss: 0.4268 - val_recall: 0.7294\n",
            "Epoch 258/400\n",
            "240/240 [==============================] - 1s 4ms/step - loss: 0.4320 - recall: 0.7758 - val_loss: 0.4204 - val_recall: 0.7412\n",
            "Epoch 259/400\n",
            "240/240 [==============================] - 1s 4ms/step - loss: 0.4369 - recall: 0.7873 - val_loss: 0.4400 - val_recall: 0.7412\n",
            "Epoch 260/400\n",
            "240/240 [==============================] - 1s 4ms/step - loss: 0.4327 - recall: 0.7803 - val_loss: 0.4605 - val_recall: 0.7824\n",
            "Epoch 261/400\n",
            "240/240 [==============================] - 1s 4ms/step - loss: 0.4312 - recall: 0.7828 - val_loss: 0.4323 - val_recall: 0.7471\n",
            "Epoch 262/400\n",
            "240/240 [==============================] - 1s 4ms/step - loss: 0.4311 - recall: 0.7777 - val_loss: 0.4471 - val_recall: 0.7529\n",
            "Epoch 263/400\n",
            "240/240 [==============================] - 1s 4ms/step - loss: 0.4328 - recall: 0.7835 - val_loss: 0.4361 - val_recall: 0.7471\n",
            "Epoch 264/400\n",
            "240/240 [==============================] - 1s 4ms/step - loss: 0.4325 - recall: 0.7764 - val_loss: 0.4238 - val_recall: 0.7235\n",
            "Epoch 265/400\n",
            "240/240 [==============================] - 1s 4ms/step - loss: 0.4331 - recall: 0.7745 - val_loss: 0.4404 - val_recall: 0.7412\n",
            "Epoch 266/400\n",
            "240/240 [==============================] - 1s 4ms/step - loss: 0.4328 - recall: 0.7828 - val_loss: 0.4034 - val_recall: 0.7059\n",
            "Epoch 267/400\n",
            "240/240 [==============================] - 1s 4ms/step - loss: 0.4329 - recall: 0.7758 - val_loss: 0.4520 - val_recall: 0.7529\n",
            "Epoch 268/400\n",
            "240/240 [==============================] - 1s 4ms/step - loss: 0.4302 - recall: 0.7848 - val_loss: 0.4071 - val_recall: 0.7118\n",
            "Epoch 269/400\n",
            "240/240 [==============================] - 1s 4ms/step - loss: 0.4316 - recall: 0.7867 - val_loss: 0.4411 - val_recall: 0.7471\n",
            "Epoch 270/400\n",
            "240/240 [==============================] - 1s 4ms/step - loss: 0.4311 - recall: 0.7828 - val_loss: 0.4562 - val_recall: 0.7529\n",
            "Epoch 271/400\n",
            "240/240 [==============================] - 1s 4ms/step - loss: 0.4305 - recall: 0.7899 - val_loss: 0.4468 - val_recall: 0.7412\n",
            "Epoch 272/400\n",
            "240/240 [==============================] - 1s 4ms/step - loss: 0.4328 - recall: 0.7867 - val_loss: 0.4568 - val_recall: 0.7706\n",
            "Epoch 273/400\n",
            "240/240 [==============================] - 1s 4ms/step - loss: 0.4332 - recall: 0.7860 - val_loss: 0.4571 - val_recall: 0.7706\n",
            "Epoch 274/400\n",
            "240/240 [==============================] - 1s 4ms/step - loss: 0.4316 - recall: 0.7899 - val_loss: 0.4755 - val_recall: 0.7765\n",
            "Epoch 275/400\n",
            "240/240 [==============================] - 1s 4ms/step - loss: 0.4308 - recall: 0.7886 - val_loss: 0.4821 - val_recall: 0.7941\n",
            "Epoch 276/400\n",
            "240/240 [==============================] - 1s 4ms/step - loss: 0.4314 - recall: 0.7892 - val_loss: 0.4191 - val_recall: 0.7235\n",
            "Epoch 277/400\n",
            "240/240 [==============================] - 1s 4ms/step - loss: 0.4311 - recall: 0.7816 - val_loss: 0.4481 - val_recall: 0.7588\n",
            "Epoch 278/400\n",
            "240/240 [==============================] - 1s 4ms/step - loss: 0.4319 - recall: 0.7835 - val_loss: 0.4458 - val_recall: 0.7706\n",
            "Epoch 279/400\n",
            "240/240 [==============================] - 1s 4ms/step - loss: 0.4310 - recall: 0.7822 - val_loss: 0.4507 - val_recall: 0.7471\n",
            "Epoch 280/400\n",
            "240/240 [==============================] - 1s 4ms/step - loss: 0.4322 - recall: 0.7732 - val_loss: 0.4642 - val_recall: 0.7706\n",
            "Epoch 281/400\n",
            "240/240 [==============================] - 1s 4ms/step - loss: 0.4316 - recall: 0.7816 - val_loss: 0.4531 - val_recall: 0.7706\n",
            "Epoch 282/400\n",
            "240/240 [==============================] - 1s 4ms/step - loss: 0.4322 - recall: 0.7777 - val_loss: 0.4741 - val_recall: 0.7882\n",
            "Epoch 283/400\n",
            "240/240 [==============================] - 1s 4ms/step - loss: 0.4304 - recall: 0.7816 - val_loss: 0.4850 - val_recall: 0.7824\n",
            "Epoch 284/400\n",
            "240/240 [==============================] - 1s 4ms/step - loss: 0.4302 - recall: 0.7841 - val_loss: 0.4194 - val_recall: 0.7294\n",
            "Epoch 285/400\n",
            "240/240 [==============================] - 1s 4ms/step - loss: 0.4306 - recall: 0.7822 - val_loss: 0.4356 - val_recall: 0.7294\n",
            "Epoch 286/400\n",
            "240/240 [==============================] - 1s 4ms/step - loss: 0.4298 - recall: 0.7796 - val_loss: 0.4588 - val_recall: 0.7588\n",
            "Epoch 287/400\n",
            "240/240 [==============================] - 1s 4ms/step - loss: 0.4308 - recall: 0.7790 - val_loss: 0.4770 - val_recall: 0.7824\n",
            "Epoch 288/400\n",
            "240/240 [==============================] - 1s 4ms/step - loss: 0.4312 - recall: 0.7905 - val_loss: 0.5071 - val_recall: 0.7941\n",
            "Epoch 289/400\n",
            "240/240 [==============================] - 1s 4ms/step - loss: 0.4301 - recall: 0.7956 - val_loss: 0.4961 - val_recall: 0.7941\n",
            "Epoch 290/400\n",
            "240/240 [==============================] - 1s 4ms/step - loss: 0.4313 - recall: 0.7892 - val_loss: 0.4642 - val_recall: 0.7765\n",
            "Epoch 291/400\n",
            "240/240 [==============================] - 1s 4ms/step - loss: 0.4311 - recall: 0.7777 - val_loss: 0.4624 - val_recall: 0.7588\n",
            "Epoch 292/400\n",
            "240/240 [==============================] - 1s 4ms/step - loss: 0.4300 - recall: 0.7835 - val_loss: 0.4850 - val_recall: 0.8000\n",
            "Epoch 293/400\n",
            "240/240 [==============================] - 1s 4ms/step - loss: 0.4321 - recall: 0.7860 - val_loss: 0.4019 - val_recall: 0.7118\n",
            "Epoch 294/400\n",
            "240/240 [==============================] - 1s 4ms/step - loss: 0.4315 - recall: 0.7860 - val_loss: 0.4321 - val_recall: 0.7353\n",
            "Epoch 295/400\n",
            "240/240 [==============================] - 1s 4ms/step - loss: 0.4325 - recall: 0.7751 - val_loss: 0.4253 - val_recall: 0.7412\n",
            "Epoch 296/400\n",
            "240/240 [==============================] - 1s 4ms/step - loss: 0.4302 - recall: 0.7937 - val_loss: 0.4137 - val_recall: 0.7118\n",
            "Epoch 297/400\n",
            "240/240 [==============================] - 1s 4ms/step - loss: 0.4325 - recall: 0.7835 - val_loss: 0.4187 - val_recall: 0.7176\n",
            "Epoch 298/400\n",
            "240/240 [==============================] - 1s 4ms/step - loss: 0.4306 - recall: 0.7822 - val_loss: 0.4356 - val_recall: 0.7529\n",
            "Epoch 299/400\n",
            "240/240 [==============================] - 1s 4ms/step - loss: 0.4304 - recall: 0.7841 - val_loss: 0.4498 - val_recall: 0.7706\n",
            "Epoch 300/400\n",
            "240/240 [==============================] - 1s 4ms/step - loss: 0.4309 - recall: 0.7867 - val_loss: 0.4222 - val_recall: 0.7235\n",
            "Epoch 301/400\n",
            "240/240 [==============================] - 1s 4ms/step - loss: 0.4301 - recall: 0.7771 - val_loss: 0.4770 - val_recall: 0.7824\n",
            "Epoch 302/400\n",
            "240/240 [==============================] - 1s 4ms/step - loss: 0.4315 - recall: 0.7873 - val_loss: 0.4156 - val_recall: 0.7294\n",
            "Epoch 303/400\n",
            "240/240 [==============================] - 1s 4ms/step - loss: 0.4298 - recall: 0.7777 - val_loss: 0.4457 - val_recall: 0.7588\n",
            "Epoch 304/400\n",
            "240/240 [==============================] - 1s 4ms/step - loss: 0.4292 - recall: 0.7828 - val_loss: 0.4882 - val_recall: 0.7882\n",
            "Epoch 305/400\n",
            "240/240 [==============================] - 1s 4ms/step - loss: 0.4311 - recall: 0.7796 - val_loss: 0.4409 - val_recall: 0.7529\n",
            "Epoch 306/400\n",
            "240/240 [==============================] - 1s 4ms/step - loss: 0.4302 - recall: 0.7790 - val_loss: 0.4452 - val_recall: 0.7471\n",
            "Epoch 307/400\n",
            "240/240 [==============================] - 1s 4ms/step - loss: 0.4292 - recall: 0.7848 - val_loss: 0.4255 - val_recall: 0.7353\n",
            "Epoch 308/400\n",
            "240/240 [==============================] - 1s 4ms/step - loss: 0.4309 - recall: 0.7848 - val_loss: 0.4574 - val_recall: 0.7588\n",
            "Epoch 309/400\n",
            "240/240 [==============================] - 1s 4ms/step - loss: 0.4305 - recall: 0.7867 - val_loss: 0.4526 - val_recall: 0.7706\n",
            "Epoch 310/400\n",
            "240/240 [==============================] - 1s 4ms/step - loss: 0.4300 - recall: 0.7841 - val_loss: 0.4478 - val_recall: 0.7529\n",
            "Epoch 311/400\n",
            "240/240 [==============================] - 1s 4ms/step - loss: 0.4301 - recall: 0.7880 - val_loss: 0.4212 - val_recall: 0.7118\n",
            "Epoch 312/400\n",
            "240/240 [==============================] - 1s 4ms/step - loss: 0.4300 - recall: 0.7835 - val_loss: 0.4523 - val_recall: 0.7588\n",
            "Epoch 313/400\n",
            "240/240 [==============================] - 1s 4ms/step - loss: 0.4301 - recall: 0.7764 - val_loss: 0.4155 - val_recall: 0.7118\n",
            "Epoch 314/400\n",
            "240/240 [==============================] - 1s 4ms/step - loss: 0.4301 - recall: 0.7880 - val_loss: 0.4586 - val_recall: 0.7647\n",
            "Epoch 315/400\n",
            "240/240 [==============================] - 1s 4ms/step - loss: 0.4293 - recall: 0.7828 - val_loss: 0.4779 - val_recall: 0.7882\n",
            "Epoch 316/400\n",
            "240/240 [==============================] - 1s 4ms/step - loss: 0.4301 - recall: 0.7848 - val_loss: 0.4608 - val_recall: 0.7706\n",
            "Epoch 317/400\n",
            "240/240 [==============================] - 1s 4ms/step - loss: 0.4287 - recall: 0.7822 - val_loss: 0.4766 - val_recall: 0.7765\n",
            "Epoch 318/400\n",
            "240/240 [==============================] - 1s 4ms/step - loss: 0.4299 - recall: 0.7809 - val_loss: 0.4704 - val_recall: 0.7824\n",
            "Epoch 319/400\n",
            "240/240 [==============================] - 1s 4ms/step - loss: 0.4289 - recall: 0.7886 - val_loss: 0.4353 - val_recall: 0.7529\n",
            "Epoch 320/400\n",
            "240/240 [==============================] - 1s 4ms/step - loss: 0.4293 - recall: 0.7822 - val_loss: 0.4526 - val_recall: 0.7471\n",
            "Epoch 321/400\n",
            "240/240 [==============================] - 1s 4ms/step - loss: 0.4288 - recall: 0.7912 - val_loss: 0.4186 - val_recall: 0.7235\n",
            "Epoch 322/400\n",
            "240/240 [==============================] - 1s 4ms/step - loss: 0.4305 - recall: 0.7841 - val_loss: 0.4665 - val_recall: 0.7824\n",
            "Epoch 323/400\n",
            "240/240 [==============================] - 1s 4ms/step - loss: 0.4291 - recall: 0.7848 - val_loss: 0.4282 - val_recall: 0.7412\n",
            "Epoch 324/400\n",
            "240/240 [==============================] - 1s 4ms/step - loss: 0.4295 - recall: 0.7809 - val_loss: 0.4366 - val_recall: 0.7471\n",
            "Epoch 325/400\n",
            "240/240 [==============================] - 1s 4ms/step - loss: 0.4287 - recall: 0.7873 - val_loss: 0.4384 - val_recall: 0.7412\n",
            "Epoch 326/400\n",
            "240/240 [==============================] - 1s 4ms/step - loss: 0.4296 - recall: 0.7822 - val_loss: 0.4633 - val_recall: 0.7824\n",
            "Epoch 327/400\n",
            "240/240 [==============================] - 1s 4ms/step - loss: 0.4294 - recall: 0.7867 - val_loss: 0.4166 - val_recall: 0.7294\n",
            "Epoch 328/400\n",
            "240/240 [==============================] - 1s 4ms/step - loss: 0.4280 - recall: 0.7886 - val_loss: 0.4912 - val_recall: 0.7882\n",
            "Epoch 329/400\n",
            "240/240 [==============================] - 1s 4ms/step - loss: 0.4297 - recall: 0.7899 - val_loss: 0.4519 - val_recall: 0.7647\n",
            "Epoch 330/400\n",
            "240/240 [==============================] - 1s 4ms/step - loss: 0.4327 - recall: 0.7912 - val_loss: 0.4495 - val_recall: 0.7529\n",
            "Epoch 331/400\n",
            "240/240 [==============================] - 1s 4ms/step - loss: 0.4287 - recall: 0.7854 - val_loss: 0.4449 - val_recall: 0.7529\n",
            "Epoch 332/400\n",
            "240/240 [==============================] - 1s 4ms/step - loss: 0.4297 - recall: 0.7809 - val_loss: 0.4604 - val_recall: 0.7471\n",
            "Epoch 333/400\n",
            "240/240 [==============================] - 1s 4ms/step - loss: 0.4284 - recall: 0.7848 - val_loss: 0.4105 - val_recall: 0.7059\n",
            "Epoch 334/400\n",
            "240/240 [==============================] - 1s 4ms/step - loss: 0.4292 - recall: 0.7848 - val_loss: 0.4207 - val_recall: 0.7176\n",
            "Epoch 335/400\n",
            "240/240 [==============================] - 1s 4ms/step - loss: 0.4277 - recall: 0.7880 - val_loss: 0.4437 - val_recall: 0.7529\n",
            "Epoch 336/400\n",
            "240/240 [==============================] - 1s 4ms/step - loss: 0.4278 - recall: 0.7860 - val_loss: 0.4443 - val_recall: 0.7588\n",
            "Epoch 337/400\n",
            "240/240 [==============================] - 1s 4ms/step - loss: 0.4281 - recall: 0.7873 - val_loss: 0.4715 - val_recall: 0.7824\n",
            "Epoch 338/400\n",
            "240/240 [==============================] - 1s 4ms/step - loss: 0.4291 - recall: 0.7816 - val_loss: 0.4533 - val_recall: 0.7588\n",
            "Epoch 339/400\n",
            "240/240 [==============================] - 1s 4ms/step - loss: 0.4288 - recall: 0.7867 - val_loss: 0.4484 - val_recall: 0.7765\n",
            "Epoch 340/400\n",
            "240/240 [==============================] - 1s 4ms/step - loss: 0.4295 - recall: 0.7880 - val_loss: 0.4174 - val_recall: 0.7235\n",
            "Epoch 341/400\n",
            "240/240 [==============================] - 1s 4ms/step - loss: 0.4287 - recall: 0.7880 - val_loss: 0.4847 - val_recall: 0.7706\n",
            "Epoch 342/400\n",
            "240/240 [==============================] - 1s 4ms/step - loss: 0.4271 - recall: 0.7860 - val_loss: 0.4647 - val_recall: 0.7882\n",
            "Epoch 343/400\n",
            "240/240 [==============================] - 1s 4ms/step - loss: 0.4288 - recall: 0.7931 - val_loss: 0.4197 - val_recall: 0.7000\n",
            "Epoch 344/400\n",
            "240/240 [==============================] - 1s 4ms/step - loss: 0.4284 - recall: 0.7848 - val_loss: 0.4645 - val_recall: 0.7882\n",
            "Epoch 345/400\n",
            "240/240 [==============================] - 1s 4ms/step - loss: 0.4273 - recall: 0.7796 - val_loss: 0.4576 - val_recall: 0.7588\n",
            "Epoch 346/400\n",
            "240/240 [==============================] - 1s 4ms/step - loss: 0.4268 - recall: 0.7854 - val_loss: 0.4383 - val_recall: 0.7647\n",
            "Epoch 347/400\n",
            "240/240 [==============================] - 1s 4ms/step - loss: 0.4280 - recall: 0.7918 - val_loss: 0.4420 - val_recall: 0.7647\n",
            "Epoch 348/400\n",
            "240/240 [==============================] - 1s 4ms/step - loss: 0.4274 - recall: 0.7809 - val_loss: 0.4399 - val_recall: 0.7471\n",
            "Epoch 349/400\n",
            "240/240 [==============================] - 1s 4ms/step - loss: 0.4283 - recall: 0.7758 - val_loss: 0.4621 - val_recall: 0.7765\n",
            "Epoch 350/400\n",
            "240/240 [==============================] - 1s 4ms/step - loss: 0.4269 - recall: 0.7835 - val_loss: 0.4322 - val_recall: 0.7412\n",
            "Epoch 351/400\n",
            "240/240 [==============================] - 1s 4ms/step - loss: 0.4278 - recall: 0.7828 - val_loss: 0.4608 - val_recall: 0.7647\n",
            "Epoch 352/400\n",
            "240/240 [==============================] - 1s 4ms/step - loss: 0.4275 - recall: 0.7816 - val_loss: 0.4728 - val_recall: 0.7882\n",
            "Epoch 353/400\n",
            "240/240 [==============================] - 1s 4ms/step - loss: 0.4273 - recall: 0.7841 - val_loss: 0.4491 - val_recall: 0.7588\n",
            "Epoch 354/400\n",
            "240/240 [==============================] - 1s 4ms/step - loss: 0.4263 - recall: 0.7924 - val_loss: 0.4936 - val_recall: 0.8000\n",
            "Epoch 355/400\n",
            "240/240 [==============================] - 1s 4ms/step - loss: 0.4297 - recall: 0.7988 - val_loss: 0.4659 - val_recall: 0.7647\n",
            "Epoch 356/400\n",
            "240/240 [==============================] - 1s 5ms/step - loss: 0.4276 - recall: 0.7777 - val_loss: 0.4505 - val_recall: 0.7706\n",
            "Epoch 357/400\n",
            "240/240 [==============================] - 1s 4ms/step - loss: 0.4264 - recall: 0.7899 - val_loss: 0.4264 - val_recall: 0.7294\n",
            "Epoch 358/400\n",
            "240/240 [==============================] - 1s 4ms/step - loss: 0.4290 - recall: 0.7848 - val_loss: 0.4613 - val_recall: 0.7824\n",
            "Epoch 359/400\n",
            "240/240 [==============================] - 1s 4ms/step - loss: 0.4265 - recall: 0.7892 - val_loss: 0.4474 - val_recall: 0.7706\n",
            "Epoch 360/400\n",
            "240/240 [==============================] - 1s 4ms/step - loss: 0.4274 - recall: 0.7860 - val_loss: 0.4298 - val_recall: 0.7471\n",
            "Epoch 361/400\n",
            "240/240 [==============================] - 1s 4ms/step - loss: 0.4281 - recall: 0.7854 - val_loss: 0.4593 - val_recall: 0.7765\n",
            "Epoch 362/400\n",
            "240/240 [==============================] - 1s 4ms/step - loss: 0.4294 - recall: 0.7880 - val_loss: 0.4365 - val_recall: 0.7471\n",
            "Epoch 363/400\n",
            "240/240 [==============================] - 1s 4ms/step - loss: 0.4274 - recall: 0.7835 - val_loss: 0.4439 - val_recall: 0.7588\n",
            "Epoch 364/400\n",
            "240/240 [==============================] - 1s 4ms/step - loss: 0.4264 - recall: 0.7816 - val_loss: 0.4702 - val_recall: 0.7765\n",
            "Epoch 365/400\n",
            "240/240 [==============================] - 1s 4ms/step - loss: 0.4274 - recall: 0.7841 - val_loss: 0.4418 - val_recall: 0.7706\n",
            "Epoch 366/400\n",
            "240/240 [==============================] - 1s 4ms/step - loss: 0.4272 - recall: 0.7892 - val_loss: 0.4152 - val_recall: 0.7235\n",
            "Epoch 367/400\n",
            "240/240 [==============================] - 1s 4ms/step - loss: 0.4274 - recall: 0.7809 - val_loss: 0.4474 - val_recall: 0.7647\n",
            "Epoch 368/400\n",
            "240/240 [==============================] - 1s 4ms/step - loss: 0.4276 - recall: 0.7816 - val_loss: 0.4337 - val_recall: 0.7471\n",
            "Epoch 369/400\n",
            "240/240 [==============================] - 1s 4ms/step - loss: 0.4270 - recall: 0.7899 - val_loss: 0.4449 - val_recall: 0.7412\n",
            "Epoch 370/400\n",
            "240/240 [==============================] - 1s 4ms/step - loss: 0.4274 - recall: 0.7912 - val_loss: 0.4600 - val_recall: 0.7824\n",
            "Epoch 371/400\n",
            "240/240 [==============================] - 1s 4ms/step - loss: 0.4265 - recall: 0.7912 - val_loss: 0.4511 - val_recall: 0.7529\n",
            "Epoch 372/400\n",
            "240/240 [==============================] - 1s 4ms/step - loss: 0.4254 - recall: 0.7854 - val_loss: 0.4571 - val_recall: 0.7765\n",
            "Epoch 373/400\n",
            "240/240 [==============================] - 1s 4ms/step - loss: 0.4261 - recall: 0.7835 - val_loss: 0.4506 - val_recall: 0.7588\n",
            "Epoch 374/400\n",
            "240/240 [==============================] - 1s 4ms/step - loss: 0.4261 - recall: 0.7886 - val_loss: 0.4407 - val_recall: 0.7529\n",
            "Epoch 375/400\n",
            "240/240 [==============================] - 1s 4ms/step - loss: 0.4271 - recall: 0.7854 - val_loss: 0.4332 - val_recall: 0.7412\n",
            "Epoch 376/400\n",
            "240/240 [==============================] - 1s 4ms/step - loss: 0.4260 - recall: 0.7873 - val_loss: 0.4930 - val_recall: 0.7941\n",
            "Epoch 377/400\n",
            "240/240 [==============================] - 1s 4ms/step - loss: 0.4268 - recall: 0.7918 - val_loss: 0.4223 - val_recall: 0.7176\n",
            "Epoch 378/400\n",
            "240/240 [==============================] - 1s 4ms/step - loss: 0.4267 - recall: 0.7867 - val_loss: 0.4151 - val_recall: 0.7059\n",
            "Epoch 379/400\n",
            "240/240 [==============================] - 1s 4ms/step - loss: 0.4268 - recall: 0.7860 - val_loss: 0.4411 - val_recall: 0.7471\n",
            "Epoch 380/400\n",
            "240/240 [==============================] - 1s 4ms/step - loss: 0.4255 - recall: 0.7860 - val_loss: 0.5027 - val_recall: 0.8000\n",
            "Epoch 381/400\n",
            "240/240 [==============================] - 1s 4ms/step - loss: 0.4318 - recall: 0.7886 - val_loss: 0.4629 - val_recall: 0.7824\n",
            "Epoch 382/400\n",
            "240/240 [==============================] - 1s 4ms/step - loss: 0.4258 - recall: 0.7886 - val_loss: 0.4407 - val_recall: 0.7588\n",
            "Epoch 383/400\n",
            "240/240 [==============================] - 1s 4ms/step - loss: 0.4261 - recall: 0.7892 - val_loss: 0.4150 - val_recall: 0.7176\n",
            "Epoch 384/400\n",
            "240/240 [==============================] - 1s 4ms/step - loss: 0.4251 - recall: 0.7860 - val_loss: 0.4800 - val_recall: 0.7941\n",
            "Epoch 385/400\n",
            "240/240 [==============================] - 1s 4ms/step - loss: 0.4260 - recall: 0.7796 - val_loss: 0.4470 - val_recall: 0.7529\n",
            "Epoch 386/400\n",
            "240/240 [==============================] - 1s 4ms/step - loss: 0.4248 - recall: 0.7828 - val_loss: 0.4714 - val_recall: 0.7882\n",
            "Epoch 387/400\n",
            "240/240 [==============================] - 1s 4ms/step - loss: 0.4261 - recall: 0.7848 - val_loss: 0.4181 - val_recall: 0.7059\n",
            "Epoch 388/400\n",
            "240/240 [==============================] - 1s 4ms/step - loss: 0.4258 - recall: 0.7771 - val_loss: 0.4510 - val_recall: 0.7706\n",
            "Epoch 389/400\n",
            "240/240 [==============================] - 1s 4ms/step - loss: 0.4258 - recall: 0.7880 - val_loss: 0.4327 - val_recall: 0.7412\n",
            "Epoch 390/400\n",
            "240/240 [==============================] - 1s 4ms/step - loss: 0.4252 - recall: 0.7924 - val_loss: 0.4318 - val_recall: 0.7176\n",
            "Epoch 391/400\n",
            "240/240 [==============================] - 1s 4ms/step - loss: 0.4265 - recall: 0.7835 - val_loss: 0.4453 - val_recall: 0.7706\n",
            "Epoch 392/400\n",
            "240/240 [==============================] - 1s 4ms/step - loss: 0.4252 - recall: 0.7848 - val_loss: 0.4765 - val_recall: 0.7824\n",
            "Epoch 393/400\n",
            "240/240 [==============================] - 1s 4ms/step - loss: 0.4265 - recall: 0.7886 - val_loss: 0.4523 - val_recall: 0.7588\n",
            "Epoch 394/400\n",
            "240/240 [==============================] - 1s 4ms/step - loss: 0.4257 - recall: 0.7841 - val_loss: 0.4618 - val_recall: 0.7765\n",
            "Epoch 395/400\n",
            "240/240 [==============================] - 1s 4ms/step - loss: 0.4261 - recall: 0.7899 - val_loss: 0.4441 - val_recall: 0.7647\n",
            "Epoch 396/400\n",
            "240/240 [==============================] - 1s 4ms/step - loss: 0.4238 - recall: 0.7892 - val_loss: 0.4042 - val_recall: 0.7000\n",
            "Epoch 397/400\n",
            "240/240 [==============================] - 1s 4ms/step - loss: 0.4253 - recall: 0.7880 - val_loss: 0.4141 - val_recall: 0.7059\n",
            "Epoch 398/400\n",
            "240/240 [==============================] - 1s 4ms/step - loss: 0.4263 - recall: 0.7790 - val_loss: 0.4523 - val_recall: 0.7765\n",
            "Epoch 399/400\n",
            "240/240 [==============================] - 1s 4ms/step - loss: 0.4254 - recall: 0.7880 - val_loss: 0.4358 - val_recall: 0.7471\n",
            "Epoch 400/400\n",
            "240/240 [==============================] - 1s 4ms/step - loss: 0.4251 - recall: 0.7931 - val_loss: 0.4305 - val_recall: 0.7412\n"
          ]
        },
        {
          "output_type": "execute_result",
          "data": {
            "text/plain": [
              "<keras.callbacks.History at 0x7f8bede22df0>"
            ]
          },
          "metadata": {},
          "execution_count": 106
        }
      ]
    },
    {
      "cell_type": "markdown",
      "metadata": {
        "id": "nr9icw48NMvd"
      },
      "source": [
        "### Evaluate The Model\n",
        "\n",
        "- Plot the model history to observe the changing of metrics\n",
        "- Make prediction to see \"confusion matrix\" and \"classification report\"\n",
        "- Check ROC (Receiver Operating Curve) and AUC (Area Under Curve) for the model"
      ]
    },
    {
      "cell_type": "code",
      "source": [
        "loss_df = pd.DataFrame(model.history.history)\n",
        "loss_df.plot()"
      ],
      "metadata": {
        "id": "riI3PTSveYtJ",
        "colab": {
          "base_uri": "https://localhost:8080/",
          "height": 364
        },
        "outputId": "a8c1f9bd-40a7-4f8d-9817-768a32b5a7b2"
      },
      "execution_count": 107,
      "outputs": [
        {
          "output_type": "execute_result",
          "data": {
            "text/plain": [
              "<matplotlib.axes._subplots.AxesSubplot at 0x7f8bedd050d0>"
            ]
          },
          "metadata": {},
          "execution_count": 107
        },
        {
          "output_type": "display_data",
          "data": {
            "text/plain": [
              "<Figure size 576x396 with 1 Axes>"
            ],
            "image/png": "[encoded data removed]"
          },
          "metadata": {}
        }
      ]
    },
    {
      "cell_type": "code",
      "source": [
        "loss, recall = model.evaluate(X_test, y_test, verbose=0)\n",
        "print(\"loss: \", loss)\n",
        "print(\"recall: \", recall)"
      ],
      "metadata": {
        "colab": {
          "base_uri": "https://localhost:8080/"
        },
        "id": "06Z8MKKC7VJg",
        "outputId": "0a9f95a0-4acc-4b7b-a147-162085568df5"
      },
      "execution_count": 88,
      "outputs": [
        {
          "output_type": "stream",
          "name": "stdout",
          "text": [
            "loss:  0.4435964822769165\n",
            "recall:  0.7352941036224365\n"
          ]
        }
      ]
    },
    {
      "cell_type": "code",
      "source": [
        "loss:  0.35992521047592163\n",
        "recall:  0.4771241843700409"
      ],
      "metadata": {
        "id": "6SGzpoxE_9jF"
      },
      "execution_count": null,
      "outputs": []
    },
    {
      "cell_type": "markdown",
      "source": [
        "Improved recall scores but precsion decrease and therfore the f1 scored decreased as well, the loss scored increase. More model tuning needed "
      ],
      "metadata": {
        "id": "fsNYUFND_stJ"
      }
    },
    {
      "cell_type": "code",
      "source": [
        "y_pred = (model.predict(X_test) > 0.5).astype(\"int32\")\n",
        "print(confusion_matrix(y_test, y_pred))\n",
        "print(classification_report(y_test, y_pred))"
      ],
      "metadata": {
        "id": "l6kaZ-KJebrl",
        "colab": {
          "base_uri": "https://localhost:8080/"
        },
        "outputId": "0670a908-dfe0-48d4-ac25-c9882631a6de"
      },
      "execution_count": 109,
      "outputs": [
        {
          "output_type": "stream",
          "name": "stdout",
          "text": [
            "47/47 [==============================] - 0s 2ms/step\n",
            "[[948 246]\n",
            " [ 79 227]]\n",
            "              precision    recall  f1-score   support\n",
            "\n",
            "           0       0.92      0.79      0.85      1194\n",
            "           1       0.48      0.74      0.58       306\n",
            "\n",
            "    accuracy                           0.78      1500\n",
            "   macro avg       0.70      0.77      0.72      1500\n",
            "weighted avg       0.83      0.78      0.80      1500\n",
            "\n"
          ]
        }
      ]
    },
    {
      "cell_type": "markdown",
      "source": [
        "Recall score improved"
      ],
      "metadata": {
        "id": "KrGYDnY26_te"
      }
    },
    {
      "cell_type": "code",
      "execution_count": 110,
      "metadata": {
        "id": "aw1UNCICNMvd",
        "colab": {
          "base_uri": "https://localhost:8080/",
          "height": 394
        },
        "outputId": "b4045df2-fc12-4137-f14b-85356d64d8b3"
      },
      "outputs": [
        {
          "output_type": "stream",
          "name": "stdout",
          "text": [
            "47/47 [==============================] - 0s 1ms/step\n"
          ]
        },
        {
          "output_type": "display_data",
          "data": {
            "text/plain": [
              "<Figure size 576x396 with 1 Axes>"
            ],
            "image/png": "[encoded data removed]"
          },
          "metadata": {}
        }
      ],
      "source": [
        "y_pred_proba = model.predict(X_test)\n",
        "precisions, recalls, thresholds = precision_recall_curve(y_test, y_pred_proba)\n",
        "plt.plot(recalls, precisions, label='ANN')\n",
        "plt.xlabel('recalls')\n",
        "plt.ylabel('precisions')\n",
        "plt.title('Precision-Recall curve')\n",
        "plt.show()"
      ]
    },
    {
      "cell_type": "markdown",
      "metadata": {
        "id": "EIxyVOPINMvd"
      },
      "source": [
        "## Implementation Different Methods to Develop The Model\n",
        "\n",
        "- Implement the following methods on model creating with \"class_weight\" parameter\n",
        "- Create and evaluate model for each method "
      ]
    },
    {
      "cell_type": "markdown",
      "metadata": {
        "id": "JixrFmAjNMvd"
      },
      "source": [
        "### Increase The Learning Rate and Observe The Results"
      ]
    },
    {
      "cell_type": "code",
      "execution_count": 111,
      "metadata": {
        "id": "WCwxHHVzNMvd"
      },
      "outputs": [],
      "source": [
        "tf.random.set_seed(42)\n",
        "\n",
        "model = Sequential()\n",
        "\n",
        "model.add(Dense(36, activation=\"relu\", input_dim=X_train.shape[1]))\n",
        "model.add(Dense(18, activation=\"relu\"))\n",
        "model.add(Dense(9, activation=\"relu\"))\n",
        "model.add(Dense(1, activation=\"sigmoid\"))\n",
        "\n",
        "opt = Adam(learning_rate=0.005)\n",
        "model.compile(optimizer=opt,\n",
        "              loss=\"binary_crossentropy\",\n",
        "              metrics=[\"Recall\"])"
      ]
    },
    {
      "cell_type": "markdown",
      "metadata": {
        "id": "4Ly6bvqqNMve"
      },
      "source": [
        "### Add Dropout Layer"
      ]
    },
    {
      "cell_type": "code",
      "source": [
        "from tensorflow.keras.layers import Dropout"
      ],
      "metadata": {
        "id": "_jUV_60yBtii"
      },
      "execution_count": 113,
      "outputs": []
    },
    {
      "cell_type": "code",
      "source": [
        "X_train.shape"
      ],
      "metadata": {
        "colab": {
          "base_uri": "https://localhost:8080/"
        },
        "id": "GRd_hCmqB6v2",
        "outputId": "c310f6d5-df6a-45e4-d5ee-3a5eb9b7e0ea"
      },
      "execution_count": 115,
      "outputs": [
        {
          "output_type": "execute_result",
          "data": {
            "text/plain": [
              "(8500, 13)"
            ]
          },
          "metadata": {},
          "execution_count": 115
        }
      ]
    },
    {
      "cell_type": "code",
      "execution_count": 114,
      "metadata": {
        "id": "7cciRgPbNMve"
      },
      "outputs": [],
      "source": [
        "tf.random.set_seed(101)\n",
        "\n",
        "model = Sequential()\n",
        "\n",
        "model.add(Dense(24, activation = 'relu', input_dim = X_train.shape[1]))\n",
        "model.add(Dropout(0.2))\n",
        "model.add(Dense(24, activation = 'relu'))\n",
        "model.add(Dropout(0.2))\n",
        "model.add(Dense(12, activation = 'relu'))\n",
        "model.add(Dropout(0.2))\n",
        "model.add(Dense(6, activation = 'relu'))\n",
        "model.add(Dropout(0.2))\n",
        "model.add(Dense(1, activation = \"sigmoid\"))\n",
        "\n",
        "opt = Adam(lr = 0.001)\n",
        "model.compile(optimizer = opt, loss =\"binary_crossentropy\", metrics=['Recall'])"
      ]
    },
    {
      "cell_type": "code",
      "source": [
        "model.fit(x=X_train,\n",
        "          y=y_train,\n",
        "          validation_split=0.1,\n",
        "          batch_size=32,\n",
        "          epochs=400,\n",
        "          verbose=1)"
      ],
      "metadata": {
        "id": "Fw3jVHdUfoDK",
        "colab": {
          "base_uri": "https://localhost:8080/"
        },
        "outputId": "692df083-284c-4aeb-8866-c75bf0d9d99e"
      },
      "execution_count": 117,
      "outputs": [
        {
          "output_type": "stream",
          "name": "stdout",
          "text": [
            "Epoch 1/400\n",
            "240/240 [==============================] - 1s 4ms/step - loss: 0.4837 - recall: 6.4062e-04 - val_loss: 0.4639 - val_recall: 0.0000e+00\n",
            "Epoch 2/400\n",
            "240/240 [==============================] - 1s 4ms/step - loss: 0.4707 - recall: 0.0045 - val_loss: 0.4566 - val_recall: 0.0000e+00\n",
            "Epoch 3/400\n",
            "240/240 [==============================] - 1s 5ms/step - loss: 0.4694 - recall: 0.0218 - val_loss: 0.4538 - val_recall: 0.0000e+00\n",
            "Epoch 4/400\n",
            "240/240 [==============================] - 2s 6ms/step - loss: 0.4602 - recall: 0.0750 - val_loss: 0.4462 - val_recall: 0.0000e+00\n",
            "Epoch 5/400\n",
            "240/240 [==============================] - 1s 4ms/step - loss: 0.4533 - recall: 0.0839 - val_loss: 0.4451 - val_recall: 0.0647\n",
            "Epoch 6/400\n",
            "240/240 [==============================] - 1s 4ms/step - loss: 0.4484 - recall: 0.1211 - val_loss: 0.4376 - val_recall: 0.0765\n",
            "Epoch 7/400\n",
            "240/240 [==============================] - 1s 4ms/step - loss: 0.4445 - recall: 0.1602 - val_loss: 0.4339 - val_recall: 0.1294\n",
            "Epoch 8/400\n",
            "240/240 [==============================] - 1s 4ms/step - loss: 0.4384 - recall: 0.2056 - val_loss: 0.4272 - val_recall: 0.1412\n",
            "Epoch 9/400\n",
            "240/240 [==============================] - 1s 4ms/step - loss: 0.4317 - recall: 0.2031 - val_loss: 0.4266 - val_recall: 0.3294\n",
            "Epoch 10/400\n",
            "240/240 [==============================] - 1s 4ms/step - loss: 0.4342 - recall: 0.2242 - val_loss: 0.4191 - val_recall: 0.2706\n",
            "Epoch 11/400\n",
            "240/240 [==============================] - 1s 4ms/step - loss: 0.4225 - recall: 0.2428 - val_loss: 0.4120 - val_recall: 0.3118\n",
            "Epoch 12/400\n",
            "240/240 [==============================] - 1s 4ms/step - loss: 0.4178 - recall: 0.2562 - val_loss: 0.4018 - val_recall: 0.4000\n",
            "Epoch 13/400\n",
            "240/240 [==============================] - 1s 4ms/step - loss: 0.4135 - recall: 0.2812 - val_loss: 0.3902 - val_recall: 0.3588\n",
            "Epoch 14/400\n",
            "240/240 [==============================] - 1s 4ms/step - loss: 0.4057 - recall: 0.3081 - val_loss: 0.3816 - val_recall: 0.4000\n",
            "Epoch 15/400\n",
            "240/240 [==============================] - 1s 4ms/step - loss: 0.3981 - recall: 0.3414 - val_loss: 0.3728 - val_recall: 0.4059\n",
            "Epoch 16/400\n",
            "240/240 [==============================] - 1s 4ms/step - loss: 0.3968 - recall: 0.3338 - val_loss: 0.3663 - val_recall: 0.3353\n",
            "Epoch 17/400\n",
            "240/240 [==============================] - 1s 4ms/step - loss: 0.3929 - recall: 0.3382 - val_loss: 0.3603 - val_recall: 0.4000\n",
            "Epoch 18/400\n",
            "240/240 [==============================] - 1s 4ms/step - loss: 0.3860 - recall: 0.3498 - val_loss: 0.3556 - val_recall: 0.4529\n",
            "Epoch 19/400\n",
            "240/240 [==============================] - 1s 4ms/step - loss: 0.3840 - recall: 0.3696 - val_loss: 0.3542 - val_recall: 0.4353\n",
            "Epoch 20/400\n",
            "240/240 [==============================] - 1s 4ms/step - loss: 0.3811 - recall: 0.3722 - val_loss: 0.3491 - val_recall: 0.4529\n",
            "Epoch 21/400\n",
            "240/240 [==============================] - 1s 4ms/step - loss: 0.3842 - recall: 0.3626 - val_loss: 0.3493 - val_recall: 0.4176\n",
            "Epoch 22/400\n",
            "240/240 [==============================] - 1s 4ms/step - loss: 0.3847 - recall: 0.3421 - val_loss: 0.3461 - val_recall: 0.4647\n",
            "Epoch 23/400\n",
            "240/240 [==============================] - 1s 4ms/step - loss: 0.3769 - recall: 0.3600 - val_loss: 0.3483 - val_recall: 0.4294\n",
            "Epoch 24/400\n",
            "240/240 [==============================] - 1s 4ms/step - loss: 0.3784 - recall: 0.3786 - val_loss: 0.3496 - val_recall: 0.4529\n",
            "Epoch 25/400\n",
            "240/240 [==============================] - 1s 4ms/step - loss: 0.3765 - recall: 0.3587 - val_loss: 0.3490 - val_recall: 0.4412\n",
            "Epoch 26/400\n",
            "240/240 [==============================] - 1s 4ms/step - loss: 0.3723 - recall: 0.3812 - val_loss: 0.3480 - val_recall: 0.4176\n",
            "Epoch 27/400\n",
            "240/240 [==============================] - 1s 4ms/step - loss: 0.3724 - recall: 0.3773 - val_loss: 0.3479 - val_recall: 0.4176\n",
            "Epoch 28/400\n",
            "240/240 [==============================] - 1s 4ms/step - loss: 0.3774 - recall: 0.3530 - val_loss: 0.3431 - val_recall: 0.4647\n",
            "Epoch 29/400\n",
            "240/240 [==============================] - 1s 4ms/step - loss: 0.3750 - recall: 0.3735 - val_loss: 0.3461 - val_recall: 0.4294\n",
            "Epoch 30/400\n",
            "240/240 [==============================] - 1s 4ms/step - loss: 0.3747 - recall: 0.3722 - val_loss: 0.3461 - val_recall: 0.3882\n",
            "Epoch 31/400\n",
            "240/240 [==============================] - 1s 4ms/step - loss: 0.3758 - recall: 0.3722 - val_loss: 0.3480 - val_recall: 0.3647\n",
            "Epoch 32/400\n",
            "240/240 [==============================] - 1s 4ms/step - loss: 0.3712 - recall: 0.3748 - val_loss: 0.3419 - val_recall: 0.4176\n",
            "Epoch 33/400\n",
            "240/240 [==============================] - 1s 4ms/step - loss: 0.3683 - recall: 0.3741 - val_loss: 0.3400 - val_recall: 0.4588\n",
            "Epoch 34/400\n",
            "240/240 [==============================] - 1s 4ms/step - loss: 0.3740 - recall: 0.3613 - val_loss: 0.3450 - val_recall: 0.4118\n",
            "Epoch 35/400\n",
            "240/240 [==============================] - 1s 4ms/step - loss: 0.3685 - recall: 0.3824 - val_loss: 0.3410 - val_recall: 0.4471\n",
            "Epoch 36/400\n",
            "240/240 [==============================] - 1s 4ms/step - loss: 0.3670 - recall: 0.3728 - val_loss: 0.3397 - val_recall: 0.4118\n",
            "Epoch 37/400\n",
            "240/240 [==============================] - 1s 4ms/step - loss: 0.3687 - recall: 0.3876 - val_loss: 0.3417 - val_recall: 0.4235\n",
            "Epoch 38/400\n",
            "240/240 [==============================] - 1s 4ms/step - loss: 0.3648 - recall: 0.4004 - val_loss: 0.3398 - val_recall: 0.4412\n",
            "Epoch 39/400\n",
            "240/240 [==============================] - 1s 4ms/step - loss: 0.3652 - recall: 0.3933 - val_loss: 0.3360 - val_recall: 0.4118\n",
            "Epoch 40/400\n",
            "240/240 [==============================] - 1s 4ms/step - loss: 0.3721 - recall: 0.3773 - val_loss: 0.3393 - val_recall: 0.3706\n",
            "Epoch 41/400\n",
            "240/240 [==============================] - 1s 4ms/step - loss: 0.3637 - recall: 0.3889 - val_loss: 0.3385 - val_recall: 0.4882\n",
            "Epoch 42/400\n",
            "240/240 [==============================] - 1s 4ms/step - loss: 0.3666 - recall: 0.3812 - val_loss: 0.3373 - val_recall: 0.4294\n",
            "Epoch 43/400\n",
            "240/240 [==============================] - 1s 4ms/step - loss: 0.3641 - recall: 0.3850 - val_loss: 0.3354 - val_recall: 0.4235\n",
            "Epoch 44/400\n",
            "240/240 [==============================] - 1s 4ms/step - loss: 0.3678 - recall: 0.3908 - val_loss: 0.3385 - val_recall: 0.4235\n",
            "Epoch 45/400\n",
            "240/240 [==============================] - 1s 4ms/step - loss: 0.3669 - recall: 0.3901 - val_loss: 0.3369 - val_recall: 0.4059\n",
            "Epoch 46/400\n",
            "240/240 [==============================] - 1s 4ms/step - loss: 0.3635 - recall: 0.3953 - val_loss: 0.3352 - val_recall: 0.4235\n",
            "Epoch 47/400\n",
            "240/240 [==============================] - 1s 4ms/step - loss: 0.3649 - recall: 0.3824 - val_loss: 0.3364 - val_recall: 0.4059\n",
            "Epoch 48/400\n",
            "240/240 [==============================] - 1s 4ms/step - loss: 0.3638 - recall: 0.3837 - val_loss: 0.3342 - val_recall: 0.4294\n",
            "Epoch 49/400\n",
            "240/240 [==============================] - 1s 4ms/step - loss: 0.3666 - recall: 0.3780 - val_loss: 0.3362 - val_recall: 0.3941\n",
            "Epoch 50/400\n",
            "240/240 [==============================] - 1s 4ms/step - loss: 0.3586 - recall: 0.3857 - val_loss: 0.3352 - val_recall: 0.4471\n",
            "Epoch 51/400\n",
            "240/240 [==============================] - 1s 4ms/step - loss: 0.3611 - recall: 0.3760 - val_loss: 0.3360 - val_recall: 0.4353\n",
            "Epoch 52/400\n",
            "240/240 [==============================] - 1s 4ms/step - loss: 0.3688 - recall: 0.3728 - val_loss: 0.3355 - val_recall: 0.4118\n",
            "Epoch 53/400\n",
            "240/240 [==============================] - 1s 4ms/step - loss: 0.3627 - recall: 0.3824 - val_loss: 0.3392 - val_recall: 0.4059\n",
            "Epoch 54/400\n",
            "240/240 [==============================] - 1s 4ms/step - loss: 0.3625 - recall: 0.3927 - val_loss: 0.3333 - val_recall: 0.3882\n",
            "Epoch 55/400\n",
            "240/240 [==============================] - 1s 4ms/step - loss: 0.3614 - recall: 0.3818 - val_loss: 0.3375 - val_recall: 0.4471\n",
            "Epoch 56/400\n",
            "240/240 [==============================] - 1s 4ms/step - loss: 0.3619 - recall: 0.4029 - val_loss: 0.3359 - val_recall: 0.4118\n",
            "Epoch 57/400\n",
            "240/240 [==============================] - 1s 4ms/step - loss: 0.3608 - recall: 0.4017 - val_loss: 0.3322 - val_recall: 0.4529\n",
            "Epoch 58/400\n",
            "240/240 [==============================] - 1s 4ms/step - loss: 0.3588 - recall: 0.3921 - val_loss: 0.3345 - val_recall: 0.4059\n",
            "Epoch 59/400\n",
            "240/240 [==============================] - 1s 4ms/step - loss: 0.3602 - recall: 0.3901 - val_loss: 0.3388 - val_recall: 0.4176\n",
            "Epoch 60/400\n",
            "240/240 [==============================] - 1s 4ms/step - loss: 0.3616 - recall: 0.4023 - val_loss: 0.3351 - val_recall: 0.4412\n",
            "Epoch 61/400\n",
            "240/240 [==============================] - 1s 4ms/step - loss: 0.3566 - recall: 0.4023 - val_loss: 0.3348 - val_recall: 0.4412\n",
            "Epoch 62/400\n",
            "240/240 [==============================] - 1s 4ms/step - loss: 0.3623 - recall: 0.3959 - val_loss: 0.3389 - val_recall: 0.3765\n",
            "Epoch 63/400\n",
            "240/240 [==============================] - 1s 4ms/step - loss: 0.3551 - recall: 0.3959 - val_loss: 0.3330 - val_recall: 0.4235\n",
            "Epoch 64/400\n",
            "240/240 [==============================] - 1s 4ms/step - loss: 0.3568 - recall: 0.4305 - val_loss: 0.3318 - val_recall: 0.4471\n",
            "Epoch 65/400\n",
            "240/240 [==============================] - 1s 4ms/step - loss: 0.3575 - recall: 0.4094 - val_loss: 0.3340 - val_recall: 0.4118\n",
            "Epoch 66/400\n",
            "240/240 [==============================] - 1s 4ms/step - loss: 0.3568 - recall: 0.3933 - val_loss: 0.3321 - val_recall: 0.4412\n",
            "Epoch 67/400\n",
            "240/240 [==============================] - 1s 4ms/step - loss: 0.3583 - recall: 0.3985 - val_loss: 0.3323 - val_recall: 0.4118\n",
            "Epoch 68/400\n",
            "240/240 [==============================] - 1s 4ms/step - loss: 0.3618 - recall: 0.3914 - val_loss: 0.3379 - val_recall: 0.4588\n",
            "Epoch 69/400\n",
            "240/240 [==============================] - 1s 4ms/step - loss: 0.3571 - recall: 0.4247 - val_loss: 0.3375 - val_recall: 0.4000\n",
            "Epoch 70/400\n",
            "240/240 [==============================] - 1s 4ms/step - loss: 0.3588 - recall: 0.3741 - val_loss: 0.3394 - val_recall: 0.4176\n",
            "Epoch 71/400\n",
            "240/240 [==============================] - 1s 4ms/step - loss: 0.3568 - recall: 0.3953 - val_loss: 0.3355 - val_recall: 0.4529\n",
            "Epoch 72/400\n",
            "240/240 [==============================] - 1s 4ms/step - loss: 0.3561 - recall: 0.3914 - val_loss: 0.3342 - val_recall: 0.4412\n",
            "Epoch 73/400\n",
            "240/240 [==============================] - 1s 4ms/step - loss: 0.3571 - recall: 0.4100 - val_loss: 0.3325 - val_recall: 0.4118\n",
            "Epoch 74/400\n",
            "240/240 [==============================] - 1s 4ms/step - loss: 0.3549 - recall: 0.3908 - val_loss: 0.3319 - val_recall: 0.4294\n",
            "Epoch 75/400\n",
            "240/240 [==============================] - 1s 4ms/step - loss: 0.3528 - recall: 0.3882 - val_loss: 0.3340 - val_recall: 0.4353\n",
            "Epoch 76/400\n",
            "240/240 [==============================] - 1s 4ms/step - loss: 0.3533 - recall: 0.4126 - val_loss: 0.3324 - val_recall: 0.4176\n",
            "Epoch 77/400\n",
            "240/240 [==============================] - 1s 4ms/step - loss: 0.3576 - recall: 0.3831 - val_loss: 0.3364 - val_recall: 0.4118\n",
            "Epoch 78/400\n",
            "240/240 [==============================] - 1s 4ms/step - loss: 0.3555 - recall: 0.3972 - val_loss: 0.3324 - val_recall: 0.4235\n",
            "Epoch 79/400\n",
            "240/240 [==============================] - 1s 4ms/step - loss: 0.3561 - recall: 0.4081 - val_loss: 0.3305 - val_recall: 0.4294\n",
            "Epoch 80/400\n",
            "240/240 [==============================] - 1s 4ms/step - loss: 0.3531 - recall: 0.4061 - val_loss: 0.3336 - val_recall: 0.4882\n",
            "Epoch 81/400\n",
            "240/240 [==============================] - 1s 4ms/step - loss: 0.3552 - recall: 0.4145 - val_loss: 0.3310 - val_recall: 0.4235\n",
            "Epoch 82/400\n",
            "240/240 [==============================] - 1s 4ms/step - loss: 0.3523 - recall: 0.4356 - val_loss: 0.3326 - val_recall: 0.4235\n",
            "Epoch 83/400\n",
            "240/240 [==============================] - 1s 4ms/step - loss: 0.3524 - recall: 0.4036 - val_loss: 0.3367 - val_recall: 0.4000\n",
            "Epoch 84/400\n",
            "240/240 [==============================] - 1s 4ms/step - loss: 0.3594 - recall: 0.3812 - val_loss: 0.3302 - val_recall: 0.4529\n",
            "Epoch 85/400\n",
            "240/240 [==============================] - 1s 4ms/step - loss: 0.3548 - recall: 0.4081 - val_loss: 0.3318 - val_recall: 0.4294\n",
            "Epoch 86/400\n",
            "240/240 [==============================] - 1s 4ms/step - loss: 0.3581 - recall: 0.4222 - val_loss: 0.3351 - val_recall: 0.4412\n",
            "Epoch 87/400\n",
            "240/240 [==============================] - 1s 4ms/step - loss: 0.3539 - recall: 0.4170 - val_loss: 0.3309 - val_recall: 0.4353\n",
            "Epoch 88/400\n",
            "240/240 [==============================] - 1s 4ms/step - loss: 0.3526 - recall: 0.4151 - val_loss: 0.3323 - val_recall: 0.4059\n",
            "Epoch 89/400\n",
            "240/240 [==============================] - 1s 4ms/step - loss: 0.3553 - recall: 0.4119 - val_loss: 0.3298 - val_recall: 0.4235\n",
            "Epoch 90/400\n",
            "240/240 [==============================] - 1s 4ms/step - loss: 0.3589 - recall: 0.3895 - val_loss: 0.3317 - val_recall: 0.4471\n",
            "Epoch 91/400\n",
            "240/240 [==============================] - 1s 4ms/step - loss: 0.3561 - recall: 0.4074 - val_loss: 0.3321 - val_recall: 0.4118\n",
            "Epoch 92/400\n",
            "240/240 [==============================] - 1s 4ms/step - loss: 0.3553 - recall: 0.4074 - val_loss: 0.3318 - val_recall: 0.4294\n",
            "Epoch 93/400\n",
            "240/240 [==============================] - 1s 4ms/step - loss: 0.3567 - recall: 0.4158 - val_loss: 0.3341 - val_recall: 0.4176\n",
            "Epoch 94/400\n",
            "240/240 [==============================] - 1s 4ms/step - loss: 0.3525 - recall: 0.4183 - val_loss: 0.3325 - val_recall: 0.4353\n",
            "Epoch 95/400\n",
            "240/240 [==============================] - 1s 4ms/step - loss: 0.3551 - recall: 0.4113 - val_loss: 0.3319 - val_recall: 0.4176\n",
            "Epoch 96/400\n",
            "240/240 [==============================] - 1s 4ms/step - loss: 0.3541 - recall: 0.4126 - val_loss: 0.3344 - val_recall: 0.4294\n",
            "Epoch 97/400\n",
            "240/240 [==============================] - 1s 4ms/step - loss: 0.3547 - recall: 0.3908 - val_loss: 0.3324 - val_recall: 0.4294\n",
            "Epoch 98/400\n",
            "240/240 [==============================] - 1s 4ms/step - loss: 0.3541 - recall: 0.3901 - val_loss: 0.3331 - val_recall: 0.4706\n",
            "Epoch 99/400\n",
            "240/240 [==============================] - 1s 4ms/step - loss: 0.3539 - recall: 0.4029 - val_loss: 0.3336 - val_recall: 0.4235\n",
            "Epoch 100/400\n",
            "240/240 [==============================] - 1s 4ms/step - loss: 0.3566 - recall: 0.4029 - val_loss: 0.3314 - val_recall: 0.4176\n",
            "Epoch 101/400\n",
            "240/240 [==============================] - 1s 4ms/step - loss: 0.3508 - recall: 0.4004 - val_loss: 0.3322 - val_recall: 0.4294\n",
            "Epoch 102/400\n",
            "240/240 [==============================] - 1s 4ms/step - loss: 0.3539 - recall: 0.4106 - val_loss: 0.3305 - val_recall: 0.4176\n",
            "Epoch 103/400\n",
            "240/240 [==============================] - 1s 4ms/step - loss: 0.3557 - recall: 0.4023 - val_loss: 0.3292 - val_recall: 0.4353\n",
            "Epoch 104/400\n",
            "240/240 [==============================] - 1s 4ms/step - loss: 0.3561 - recall: 0.3997 - val_loss: 0.3324 - val_recall: 0.4353\n",
            "Epoch 105/400\n",
            "240/240 [==============================] - 1s 4ms/step - loss: 0.3500 - recall: 0.4074 - val_loss: 0.3300 - val_recall: 0.4235\n",
            "Epoch 106/400\n",
            "240/240 [==============================] - 1s 4ms/step - loss: 0.3527 - recall: 0.4017 - val_loss: 0.3340 - val_recall: 0.4353\n",
            "Epoch 107/400\n",
            "240/240 [==============================] - 1s 4ms/step - loss: 0.3540 - recall: 0.4049 - val_loss: 0.3346 - val_recall: 0.4059\n",
            "Epoch 108/400\n",
            "240/240 [==============================] - 1s 4ms/step - loss: 0.3488 - recall: 0.4132 - val_loss: 0.3324 - val_recall: 0.4235\n",
            "Epoch 109/400\n",
            "240/240 [==============================] - 1s 4ms/step - loss: 0.3515 - recall: 0.4094 - val_loss: 0.3352 - val_recall: 0.4294\n",
            "Epoch 110/400\n",
            "240/240 [==============================] - 1s 4ms/step - loss: 0.3524 - recall: 0.4094 - val_loss: 0.3364 - val_recall: 0.3941\n",
            "Epoch 111/400\n",
            "240/240 [==============================] - 1s 4ms/step - loss: 0.3541 - recall: 0.3965 - val_loss: 0.3315 - val_recall: 0.4353\n",
            "Epoch 112/400\n",
            "240/240 [==============================] - 1s 4ms/step - loss: 0.3489 - recall: 0.4106 - val_loss: 0.3368 - val_recall: 0.4118\n",
            "Epoch 113/400\n",
            "240/240 [==============================] - 1s 4ms/step - loss: 0.3549 - recall: 0.3882 - val_loss: 0.3367 - val_recall: 0.4176\n",
            "Epoch 114/400\n",
            "240/240 [==============================] - 1s 4ms/step - loss: 0.3536 - recall: 0.3850 - val_loss: 0.3357 - val_recall: 0.4235\n",
            "Epoch 115/400\n",
            "240/240 [==============================] - 1s 4ms/step - loss: 0.3520 - recall: 0.4138 - val_loss: 0.3305 - val_recall: 0.4471\n",
            "Epoch 116/400\n",
            "240/240 [==============================] - 1s 4ms/step - loss: 0.3530 - recall: 0.3965 - val_loss: 0.3317 - val_recall: 0.4059\n",
            "Epoch 117/400\n",
            "240/240 [==============================] - 1s 4ms/step - loss: 0.3516 - recall: 0.4029 - val_loss: 0.3304 - val_recall: 0.4235\n",
            "Epoch 118/400\n",
            "240/240 [==============================] - 1s 4ms/step - loss: 0.3538 - recall: 0.3914 - val_loss: 0.3268 - val_recall: 0.4235\n",
            "Epoch 119/400\n",
            "240/240 [==============================] - 1s 4ms/step - loss: 0.3477 - recall: 0.4170 - val_loss: 0.3303 - val_recall: 0.4353\n",
            "Epoch 120/400\n",
            "240/240 [==============================] - 1s 4ms/step - loss: 0.3551 - recall: 0.3985 - val_loss: 0.3315 - val_recall: 0.4353\n",
            "Epoch 121/400\n",
            "240/240 [==============================] - 1s 4ms/step - loss: 0.3520 - recall: 0.4145 - val_loss: 0.3298 - val_recall: 0.4176\n",
            "Epoch 122/400\n",
            "240/240 [==============================] - 1s 4ms/step - loss: 0.3479 - recall: 0.4004 - val_loss: 0.3271 - val_recall: 0.4235\n",
            "Epoch 123/400\n",
            "240/240 [==============================] - 1s 4ms/step - loss: 0.3529 - recall: 0.3857 - val_loss: 0.3323 - val_recall: 0.4059\n",
            "Epoch 124/400\n",
            "240/240 [==============================] - 1s 4ms/step - loss: 0.3478 - recall: 0.4126 - val_loss: 0.3300 - val_recall: 0.4059\n",
            "Epoch 125/400\n",
            "240/240 [==============================] - 1s 4ms/step - loss: 0.3502 - recall: 0.4029 - val_loss: 0.3320 - val_recall: 0.4118\n",
            "Epoch 126/400\n",
            "240/240 [==============================] - 1s 4ms/step - loss: 0.3497 - recall: 0.3959 - val_loss: 0.3335 - val_recall: 0.4176\n",
            "Epoch 127/400\n",
            "240/240 [==============================] - 1s 4ms/step - loss: 0.3477 - recall: 0.4145 - val_loss: 0.3304 - val_recall: 0.4294\n",
            "Epoch 128/400\n",
            "240/240 [==============================] - 1s 4ms/step - loss: 0.3473 - recall: 0.4164 - val_loss: 0.3306 - val_recall: 0.4353\n",
            "Epoch 129/400\n",
            "240/240 [==============================] - 1s 4ms/step - loss: 0.3493 - recall: 0.4164 - val_loss: 0.3324 - val_recall: 0.4176\n",
            "Epoch 130/400\n",
            "240/240 [==============================] - 1s 4ms/step - loss: 0.3493 - recall: 0.3940 - val_loss: 0.3307 - val_recall: 0.4765\n",
            "Epoch 131/400\n",
            "240/240 [==============================] - 1s 4ms/step - loss: 0.3494 - recall: 0.4196 - val_loss: 0.3327 - val_recall: 0.4353\n",
            "Epoch 132/400\n",
            "240/240 [==============================] - 1s 4ms/step - loss: 0.3461 - recall: 0.4100 - val_loss: 0.3279 - val_recall: 0.4412\n",
            "Epoch 133/400\n",
            "240/240 [==============================] - 1s 4ms/step - loss: 0.3441 - recall: 0.4183 - val_loss: 0.3293 - val_recall: 0.4765\n",
            "Epoch 134/400\n",
            "240/240 [==============================] - 1s 4ms/step - loss: 0.3469 - recall: 0.4061 - val_loss: 0.3333 - val_recall: 0.4765\n",
            "Epoch 135/400\n",
            "240/240 [==============================] - 1s 4ms/step - loss: 0.3518 - recall: 0.3959 - val_loss: 0.3341 - val_recall: 0.4059\n",
            "Epoch 136/400\n",
            "240/240 [==============================] - 1s 4ms/step - loss: 0.3494 - recall: 0.3946 - val_loss: 0.3334 - val_recall: 0.4412\n",
            "Epoch 137/400\n",
            "240/240 [==============================] - 1s 4ms/step - loss: 0.3491 - recall: 0.4010 - val_loss: 0.3288 - val_recall: 0.4353\n",
            "Epoch 138/400\n",
            "240/240 [==============================] - 1s 4ms/step - loss: 0.3457 - recall: 0.4215 - val_loss: 0.3293 - val_recall: 0.4471\n",
            "Epoch 139/400\n",
            "240/240 [==============================] - 1s 4ms/step - loss: 0.3491 - recall: 0.4151 - val_loss: 0.3318 - val_recall: 0.4235\n",
            "Epoch 140/400\n",
            "240/240 [==============================] - 1s 6ms/step - loss: 0.3480 - recall: 0.4151 - val_loss: 0.3289 - val_recall: 0.4471\n",
            "Epoch 141/400\n",
            "240/240 [==============================] - 2s 7ms/step - loss: 0.3457 - recall: 0.4029 - val_loss: 0.3291 - val_recall: 0.4647\n",
            "Epoch 142/400\n",
            "240/240 [==============================] - 2s 6ms/step - loss: 0.3526 - recall: 0.3850 - val_loss: 0.3294 - val_recall: 0.4059\n",
            "Epoch 143/400\n",
            "240/240 [==============================] - 1s 4ms/step - loss: 0.3502 - recall: 0.3921 - val_loss: 0.3336 - val_recall: 0.4118\n",
            "Epoch 144/400\n",
            "240/240 [==============================] - 1s 4ms/step - loss: 0.3555 - recall: 0.4004 - val_loss: 0.3302 - val_recall: 0.4412\n",
            "Epoch 145/400\n",
            "240/240 [==============================] - 1s 4ms/step - loss: 0.3454 - recall: 0.4343 - val_loss: 0.3291 - val_recall: 0.4588\n",
            "Epoch 146/400\n",
            "240/240 [==============================] - 1s 4ms/step - loss: 0.3485 - recall: 0.4100 - val_loss: 0.3309 - val_recall: 0.4647\n",
            "Epoch 147/400\n",
            "240/240 [==============================] - 1s 4ms/step - loss: 0.3486 - recall: 0.4094 - val_loss: 0.3323 - val_recall: 0.4235\n",
            "Epoch 148/400\n",
            "240/240 [==============================] - 1s 4ms/step - loss: 0.3469 - recall: 0.4209 - val_loss: 0.3308 - val_recall: 0.4529\n",
            "Epoch 149/400\n",
            "240/240 [==============================] - 1s 4ms/step - loss: 0.3517 - recall: 0.4222 - val_loss: 0.3325 - val_recall: 0.4176\n",
            "Epoch 150/400\n",
            "240/240 [==============================] - 1s 4ms/step - loss: 0.3488 - recall: 0.4158 - val_loss: 0.3356 - val_recall: 0.4353\n",
            "Epoch 151/400\n",
            "240/240 [==============================] - 1s 4ms/step - loss: 0.3456 - recall: 0.4119 - val_loss: 0.3333 - val_recall: 0.4000\n",
            "Epoch 152/400\n",
            "240/240 [==============================] - 1s 4ms/step - loss: 0.3486 - recall: 0.4260 - val_loss: 0.3306 - val_recall: 0.4471\n",
            "Epoch 153/400\n",
            "240/240 [==============================] - 1s 4ms/step - loss: 0.3458 - recall: 0.4158 - val_loss: 0.3315 - val_recall: 0.4412\n",
            "Epoch 154/400\n",
            "240/240 [==============================] - 1s 4ms/step - loss: 0.3502 - recall: 0.4042 - val_loss: 0.3303 - val_recall: 0.4118\n",
            "Epoch 155/400\n",
            "240/240 [==============================] - 1s 4ms/step - loss: 0.3478 - recall: 0.3889 - val_loss: 0.3326 - val_recall: 0.4294\n",
            "Epoch 156/400\n",
            "240/240 [==============================] - 1s 4ms/step - loss: 0.3475 - recall: 0.4138 - val_loss: 0.3346 - val_recall: 0.4412\n",
            "Epoch 157/400\n",
            "240/240 [==============================] - 1s 4ms/step - loss: 0.3449 - recall: 0.4363 - val_loss: 0.3315 - val_recall: 0.4294\n",
            "Epoch 158/400\n",
            "240/240 [==============================] - 1s 4ms/step - loss: 0.3464 - recall: 0.4260 - val_loss: 0.3310 - val_recall: 0.4588\n",
            "Epoch 159/400\n",
            "240/240 [==============================] - 1s 4ms/step - loss: 0.3493 - recall: 0.4190 - val_loss: 0.3338 - val_recall: 0.4176\n",
            "Epoch 160/400\n",
            "240/240 [==============================] - 1s 4ms/step - loss: 0.3500 - recall: 0.4126 - val_loss: 0.3309 - val_recall: 0.4235\n",
            "Epoch 161/400\n",
            "240/240 [==============================] - 1s 4ms/step - loss: 0.3479 - recall: 0.4074 - val_loss: 0.3310 - val_recall: 0.4294\n",
            "Epoch 162/400\n",
            "240/240 [==============================] - 1s 4ms/step - loss: 0.3433 - recall: 0.4061 - val_loss: 0.3309 - val_recall: 0.4647\n",
            "Epoch 163/400\n",
            "240/240 [==============================] - 1s 4ms/step - loss: 0.3440 - recall: 0.4190 - val_loss: 0.3280 - val_recall: 0.4235\n",
            "Epoch 164/400\n",
            "240/240 [==============================] - 1s 4ms/step - loss: 0.3501 - recall: 0.4292 - val_loss: 0.3314 - val_recall: 0.4294\n",
            "Epoch 165/400\n",
            "240/240 [==============================] - 1s 4ms/step - loss: 0.3502 - recall: 0.3824 - val_loss: 0.3294 - val_recall: 0.4529\n",
            "Epoch 166/400\n",
            "240/240 [==============================] - 1s 4ms/step - loss: 0.3470 - recall: 0.4299 - val_loss: 0.3320 - val_recall: 0.4353\n",
            "Epoch 167/400\n",
            "240/240 [==============================] - 1s 4ms/step - loss: 0.3446 - recall: 0.4266 - val_loss: 0.3340 - val_recall: 0.4588\n",
            "Epoch 168/400\n",
            "240/240 [==============================] - 1s 4ms/step - loss: 0.3532 - recall: 0.4081 - val_loss: 0.3318 - val_recall: 0.4471\n",
            "Epoch 169/400\n",
            "240/240 [==============================] - 1s 4ms/step - loss: 0.3471 - recall: 0.4369 - val_loss: 0.3296 - val_recall: 0.4412\n",
            "Epoch 170/400\n",
            "240/240 [==============================] - 1s 4ms/step - loss: 0.3450 - recall: 0.4138 - val_loss: 0.3282 - val_recall: 0.4294\n",
            "Epoch 171/400\n",
            "240/240 [==============================] - 1s 4ms/step - loss: 0.3483 - recall: 0.4202 - val_loss: 0.3320 - val_recall: 0.4059\n",
            "Epoch 172/400\n",
            "240/240 [==============================] - 1s 4ms/step - loss: 0.3424 - recall: 0.4286 - val_loss: 0.3340 - val_recall: 0.4471\n",
            "Epoch 173/400\n",
            "240/240 [==============================] - 1s 4ms/step - loss: 0.3480 - recall: 0.4138 - val_loss: 0.3309 - val_recall: 0.4471\n",
            "Epoch 174/400\n",
            "240/240 [==============================] - 1s 4ms/step - loss: 0.3495 - recall: 0.3991 - val_loss: 0.3340 - val_recall: 0.4529\n",
            "Epoch 175/400\n",
            "240/240 [==============================] - 1s 4ms/step - loss: 0.3457 - recall: 0.4055 - val_loss: 0.3316 - val_recall: 0.4471\n",
            "Epoch 176/400\n",
            "240/240 [==============================] - 1s 4ms/step - loss: 0.3397 - recall: 0.4292 - val_loss: 0.3272 - val_recall: 0.4471\n",
            "Epoch 177/400\n",
            "240/240 [==============================] - 1s 4ms/step - loss: 0.3428 - recall: 0.4068 - val_loss: 0.3365 - val_recall: 0.5235\n",
            "Epoch 178/400\n",
            "240/240 [==============================] - 1s 4ms/step - loss: 0.3460 - recall: 0.4279 - val_loss: 0.3313 - val_recall: 0.4176\n",
            "Epoch 179/400\n",
            "240/240 [==============================] - 1s 4ms/step - loss: 0.3416 - recall: 0.4247 - val_loss: 0.3274 - val_recall: 0.4118\n",
            "Epoch 180/400\n",
            "240/240 [==============================] - 1s 4ms/step - loss: 0.3468 - recall: 0.4254 - val_loss: 0.3293 - val_recall: 0.4588\n",
            "Epoch 181/400\n",
            "240/240 [==============================] - 1s 4ms/step - loss: 0.3505 - recall: 0.4132 - val_loss: 0.3308 - val_recall: 0.4235\n",
            "Epoch 182/400\n",
            "240/240 [==============================] - 1s 4ms/step - loss: 0.3513 - recall: 0.3991 - val_loss: 0.3267 - val_recall: 0.4529\n",
            "Epoch 183/400\n",
            "240/240 [==============================] - 1s 4ms/step - loss: 0.3442 - recall: 0.4177 - val_loss: 0.3300 - val_recall: 0.4471\n",
            "Epoch 184/400\n",
            "240/240 [==============================] - 1s 4ms/step - loss: 0.3461 - recall: 0.4190 - val_loss: 0.3269 - val_recall: 0.4118\n",
            "Epoch 185/400\n",
            "240/240 [==============================] - 1s 4ms/step - loss: 0.3424 - recall: 0.4209 - val_loss: 0.3297 - val_recall: 0.4412\n",
            "Epoch 186/400\n",
            "240/240 [==============================] - 1s 4ms/step - loss: 0.3450 - recall: 0.4286 - val_loss: 0.3323 - val_recall: 0.4647\n",
            "Epoch 187/400\n",
            "240/240 [==============================] - 1s 4ms/step - loss: 0.3450 - recall: 0.3933 - val_loss: 0.3285 - val_recall: 0.4529\n",
            "Epoch 188/400\n",
            "240/240 [==============================] - 1s 4ms/step - loss: 0.3424 - recall: 0.4196 - val_loss: 0.3289 - val_recall: 0.4176\n",
            "Epoch 189/400\n",
            "240/240 [==============================] - 1s 4ms/step - loss: 0.3452 - recall: 0.4068 - val_loss: 0.3286 - val_recall: 0.4941\n",
            "Epoch 190/400\n",
            "240/240 [==============================] - 1s 4ms/step - loss: 0.3344 - recall: 0.4395 - val_loss: 0.3291 - val_recall: 0.4412\n",
            "Epoch 191/400\n",
            "240/240 [==============================] - 1s 4ms/step - loss: 0.3447 - recall: 0.4222 - val_loss: 0.3289 - val_recall: 0.4176\n",
            "Epoch 192/400\n",
            "240/240 [==============================] - 1s 4ms/step - loss: 0.3460 - recall: 0.4074 - val_loss: 0.3270 - val_recall: 0.4588\n",
            "Epoch 193/400\n",
            "240/240 [==============================] - 1s 4ms/step - loss: 0.3388 - recall: 0.4247 - val_loss: 0.3255 - val_recall: 0.4765\n",
            "Epoch 194/400\n",
            "240/240 [==============================] - 1s 4ms/step - loss: 0.3487 - recall: 0.4049 - val_loss: 0.3302 - val_recall: 0.4118\n",
            "Epoch 195/400\n",
            "240/240 [==============================] - 1s 4ms/step - loss: 0.3426 - recall: 0.4183 - val_loss: 0.3283 - val_recall: 0.4235\n",
            "Epoch 196/400\n",
            "240/240 [==============================] - 1s 4ms/step - loss: 0.3476 - recall: 0.4068 - val_loss: 0.3314 - val_recall: 0.4235\n",
            "Epoch 197/400\n",
            "240/240 [==============================] - 1s 4ms/step - loss: 0.3452 - recall: 0.4158 - val_loss: 0.3306 - val_recall: 0.4294\n",
            "Epoch 198/400\n",
            "240/240 [==============================] - 1s 4ms/step - loss: 0.3454 - recall: 0.4177 - val_loss: 0.3325 - val_recall: 0.4412\n",
            "Epoch 199/400\n",
            "240/240 [==============================] - 1s 4ms/step - loss: 0.3444 - recall: 0.4247 - val_loss: 0.3301 - val_recall: 0.4294\n",
            "Epoch 200/400\n",
            "240/240 [==============================] - 1s 4ms/step - loss: 0.3487 - recall: 0.4170 - val_loss: 0.3317 - val_recall: 0.4118\n",
            "Epoch 201/400\n",
            "240/240 [==============================] - 1s 4ms/step - loss: 0.3482 - recall: 0.4049 - val_loss: 0.3328 - val_recall: 0.4235\n",
            "Epoch 202/400\n",
            "240/240 [==============================] - 1s 4ms/step - loss: 0.3422 - recall: 0.4202 - val_loss: 0.3307 - val_recall: 0.4588\n",
            "Epoch 203/400\n",
            "240/240 [==============================] - 1s 4ms/step - loss: 0.3453 - recall: 0.4254 - val_loss: 0.3346 - val_recall: 0.4294\n",
            "Epoch 204/400\n",
            "240/240 [==============================] - 1s 4ms/step - loss: 0.3414 - recall: 0.4209 - val_loss: 0.3299 - val_recall: 0.4059\n",
            "Epoch 205/400\n",
            "240/240 [==============================] - 1s 4ms/step - loss: 0.3437 - recall: 0.4241 - val_loss: 0.3286 - val_recall: 0.4706\n",
            "Epoch 206/400\n",
            "240/240 [==============================] - 1s 4ms/step - loss: 0.3426 - recall: 0.4036 - val_loss: 0.3283 - val_recall: 0.4471\n",
            "Epoch 207/400\n",
            "240/240 [==============================] - 1s 4ms/step - loss: 0.3439 - recall: 0.4363 - val_loss: 0.3298 - val_recall: 0.4529\n",
            "Epoch 208/400\n",
            "240/240 [==============================] - 1s 4ms/step - loss: 0.3431 - recall: 0.4260 - val_loss: 0.3304 - val_recall: 0.4176\n",
            "Epoch 209/400\n",
            "240/240 [==============================] - 1s 4ms/step - loss: 0.3497 - recall: 0.3959 - val_loss: 0.3370 - val_recall: 0.5118\n",
            "Epoch 210/400\n",
            "240/240 [==============================] - 1s 4ms/step - loss: 0.3460 - recall: 0.4094 - val_loss: 0.3352 - val_recall: 0.4941\n",
            "Epoch 211/400\n",
            "240/240 [==============================] - 1s 5ms/step - loss: 0.3412 - recall: 0.4222 - val_loss: 0.3302 - val_recall: 0.4412\n",
            "Epoch 212/400\n",
            "240/240 [==============================] - 1s 5ms/step - loss: 0.3420 - recall: 0.4209 - val_loss: 0.3326 - val_recall: 0.4529\n",
            "Epoch 213/400\n",
            "240/240 [==============================] - 1s 4ms/step - loss: 0.3470 - recall: 0.4260 - val_loss: 0.3341 - val_recall: 0.4529\n",
            "Epoch 214/400\n",
            "240/240 [==============================] - 1s 4ms/step - loss: 0.3422 - recall: 0.4228 - val_loss: 0.3364 - val_recall: 0.4176\n",
            "Epoch 215/400\n",
            "240/240 [==============================] - 1s 4ms/step - loss: 0.3490 - recall: 0.4049 - val_loss: 0.3327 - val_recall: 0.4294\n",
            "Epoch 216/400\n",
            "240/240 [==============================] - 1s 4ms/step - loss: 0.3391 - recall: 0.4299 - val_loss: 0.3323 - val_recall: 0.4824\n",
            "Epoch 217/400\n",
            "240/240 [==============================] - 1s 4ms/step - loss: 0.3462 - recall: 0.4273 - val_loss: 0.3331 - val_recall: 0.4235\n",
            "Epoch 218/400\n",
            "240/240 [==============================] - 1s 4ms/step - loss: 0.3411 - recall: 0.4132 - val_loss: 0.3327 - val_recall: 0.4294\n",
            "Epoch 219/400\n",
            "240/240 [==============================] - 1s 4ms/step - loss: 0.3448 - recall: 0.4106 - val_loss: 0.3349 - val_recall: 0.4176\n",
            "Epoch 220/400\n",
            "240/240 [==============================] - 1s 4ms/step - loss: 0.3417 - recall: 0.4279 - val_loss: 0.3328 - val_recall: 0.4412\n",
            "Epoch 221/400\n",
            "240/240 [==============================] - 1s 4ms/step - loss: 0.3411 - recall: 0.4158 - val_loss: 0.3297 - val_recall: 0.4529\n",
            "Epoch 222/400\n",
            "240/240 [==============================] - 1s 4ms/step - loss: 0.3449 - recall: 0.4241 - val_loss: 0.3299 - val_recall: 0.4471\n",
            "Epoch 223/400\n",
            "240/240 [==============================] - 1s 4ms/step - loss: 0.3381 - recall: 0.4222 - val_loss: 0.3346 - val_recall: 0.4294\n",
            "Epoch 224/400\n",
            "240/240 [==============================] - 1s 4ms/step - loss: 0.3434 - recall: 0.4055 - val_loss: 0.3322 - val_recall: 0.4118\n",
            "Epoch 225/400\n",
            "240/240 [==============================] - 1s 4ms/step - loss: 0.3433 - recall: 0.4279 - val_loss: 0.3348 - val_recall: 0.4529\n",
            "Epoch 226/400\n",
            "240/240 [==============================] - 1s 4ms/step - loss: 0.3426 - recall: 0.4279 - val_loss: 0.3333 - val_recall: 0.4353\n",
            "Epoch 227/400\n",
            "240/240 [==============================] - 1s 4ms/step - loss: 0.3448 - recall: 0.4260 - val_loss: 0.3306 - val_recall: 0.4353\n",
            "Epoch 228/400\n",
            "240/240 [==============================] - 1s 4ms/step - loss: 0.3412 - recall: 0.4177 - val_loss: 0.3329 - val_recall: 0.4412\n",
            "Epoch 229/400\n",
            "240/240 [==============================] - 1s 4ms/step - loss: 0.3426 - recall: 0.4119 - val_loss: 0.3328 - val_recall: 0.4471\n",
            "Epoch 230/400\n",
            "240/240 [==============================] - 1s 4ms/step - loss: 0.3447 - recall: 0.4241 - val_loss: 0.3299 - val_recall: 0.4353\n",
            "Epoch 231/400\n",
            "240/240 [==============================] - 1s 4ms/step - loss: 0.3468 - recall: 0.4087 - val_loss: 0.3323 - val_recall: 0.4353\n",
            "Epoch 232/400\n",
            "240/240 [==============================] - 1s 4ms/step - loss: 0.3457 - recall: 0.4196 - val_loss: 0.3333 - val_recall: 0.4412\n",
            "Epoch 233/400\n",
            "240/240 [==============================] - 1s 4ms/step - loss: 0.3390 - recall: 0.4260 - val_loss: 0.3333 - val_recall: 0.4353\n",
            "Epoch 234/400\n",
            "240/240 [==============================] - 1s 4ms/step - loss: 0.3390 - recall: 0.4356 - val_loss: 0.3354 - val_recall: 0.4824\n",
            "Epoch 235/400\n",
            "240/240 [==============================] - 1s 4ms/step - loss: 0.3377 - recall: 0.4331 - val_loss: 0.3362 - val_recall: 0.4588\n",
            "Epoch 236/400\n",
            "240/240 [==============================] - 1s 4ms/step - loss: 0.3496 - recall: 0.4241 - val_loss: 0.3300 - val_recall: 0.4412\n",
            "Epoch 237/400\n",
            "240/240 [==============================] - 1s 4ms/step - loss: 0.3464 - recall: 0.3965 - val_loss: 0.3309 - val_recall: 0.4529\n",
            "Epoch 238/400\n",
            "240/240 [==============================] - 1s 4ms/step - loss: 0.3476 - recall: 0.4055 - val_loss: 0.3308 - val_recall: 0.4412\n",
            "Epoch 239/400\n",
            "240/240 [==============================] - 1s 4ms/step - loss: 0.3470 - recall: 0.4061 - val_loss: 0.3271 - val_recall: 0.4353\n",
            "Epoch 240/400\n",
            "240/240 [==============================] - 1s 4ms/step - loss: 0.3422 - recall: 0.4209 - val_loss: 0.3317 - val_recall: 0.4412\n",
            "Epoch 241/400\n",
            "240/240 [==============================] - 1s 4ms/step - loss: 0.3398 - recall: 0.4234 - val_loss: 0.3329 - val_recall: 0.4529\n",
            "Epoch 242/400\n",
            "240/240 [==============================] - 1s 4ms/step - loss: 0.3412 - recall: 0.4311 - val_loss: 0.3392 - val_recall: 0.5176\n",
            "Epoch 243/400\n",
            "240/240 [==============================] - 1s 4ms/step - loss: 0.3453 - recall: 0.4337 - val_loss: 0.3308 - val_recall: 0.4471\n",
            "Epoch 244/400\n",
            "240/240 [==============================] - 1s 4ms/step - loss: 0.3445 - recall: 0.4337 - val_loss: 0.3373 - val_recall: 0.4765\n",
            "Epoch 245/400\n",
            "240/240 [==============================] - 1s 4ms/step - loss: 0.3440 - recall: 0.4350 - val_loss: 0.3315 - val_recall: 0.4412\n",
            "Epoch 246/400\n",
            "240/240 [==============================] - 1s 4ms/step - loss: 0.3416 - recall: 0.4318 - val_loss: 0.3328 - val_recall: 0.4706\n",
            "Epoch 247/400\n",
            "240/240 [==============================] - 1s 4ms/step - loss: 0.3426 - recall: 0.4318 - val_loss: 0.3378 - val_recall: 0.4235\n",
            "Epoch 248/400\n",
            "240/240 [==============================] - 1s 4ms/step - loss: 0.3420 - recall: 0.4273 - val_loss: 0.3327 - val_recall: 0.4294\n",
            "Epoch 249/400\n",
            "240/240 [==============================] - 1s 4ms/step - loss: 0.3447 - recall: 0.4299 - val_loss: 0.3329 - val_recall: 0.4176\n",
            "Epoch 250/400\n",
            "240/240 [==============================] - 1s 4ms/step - loss: 0.3442 - recall: 0.4305 - val_loss: 0.3306 - val_recall: 0.4412\n",
            "Epoch 251/400\n",
            "240/240 [==============================] - 1s 4ms/step - loss: 0.3468 - recall: 0.4164 - val_loss: 0.3316 - val_recall: 0.4588\n",
            "Epoch 252/400\n",
            "240/240 [==============================] - 1s 4ms/step - loss: 0.3464 - recall: 0.4279 - val_loss: 0.3314 - val_recall: 0.4412\n",
            "Epoch 253/400\n",
            "240/240 [==============================] - 1s 4ms/step - loss: 0.3426 - recall: 0.4427 - val_loss: 0.3336 - val_recall: 0.4706\n",
            "Epoch 254/400\n",
            "240/240 [==============================] - 1s 4ms/step - loss: 0.3412 - recall: 0.4395 - val_loss: 0.3310 - val_recall: 0.4529\n",
            "Epoch 255/400\n",
            "240/240 [==============================] - 1s 4ms/step - loss: 0.3384 - recall: 0.4183 - val_loss: 0.3301 - val_recall: 0.4353\n",
            "Epoch 256/400\n",
            "240/240 [==============================] - 1s 4ms/step - loss: 0.3450 - recall: 0.4126 - val_loss: 0.3309 - val_recall: 0.4176\n",
            "Epoch 257/400\n",
            "240/240 [==============================] - 1s 4ms/step - loss: 0.3474 - recall: 0.4106 - val_loss: 0.3309 - val_recall: 0.4529\n",
            "Epoch 258/400\n",
            "240/240 [==============================] - 1s 4ms/step - loss: 0.3415 - recall: 0.4260 - val_loss: 0.3275 - val_recall: 0.4294\n",
            "Epoch 259/400\n",
            "240/240 [==============================] - 1s 4ms/step - loss: 0.3448 - recall: 0.4145 - val_loss: 0.3331 - val_recall: 0.4118\n",
            "Epoch 260/400\n",
            "240/240 [==============================] - 1s 4ms/step - loss: 0.3444 - recall: 0.4055 - val_loss: 0.3327 - val_recall: 0.4529\n",
            "Epoch 261/400\n",
            "240/240 [==============================] - 1s 4ms/step - loss: 0.3417 - recall: 0.4183 - val_loss: 0.3311 - val_recall: 0.4765\n",
            "Epoch 262/400\n",
            "240/240 [==============================] - 1s 4ms/step - loss: 0.3456 - recall: 0.4395 - val_loss: 0.3284 - val_recall: 0.4765\n",
            "Epoch 263/400\n",
            "240/240 [==============================] - 1s 4ms/step - loss: 0.3414 - recall: 0.4068 - val_loss: 0.3334 - val_recall: 0.4588\n",
            "Epoch 264/400\n",
            "240/240 [==============================] - 1s 4ms/step - loss: 0.3386 - recall: 0.4254 - val_loss: 0.3357 - val_recall: 0.4412\n",
            "Epoch 265/400\n",
            "240/240 [==============================] - 1s 4ms/step - loss: 0.3393 - recall: 0.4363 - val_loss: 0.3351 - val_recall: 0.4412\n",
            "Epoch 266/400\n",
            "240/240 [==============================] - 1s 4ms/step - loss: 0.3385 - recall: 0.4177 - val_loss: 0.3344 - val_recall: 0.4412\n",
            "Epoch 267/400\n",
            "240/240 [==============================] - 1s 4ms/step - loss: 0.3406 - recall: 0.4145 - val_loss: 0.3327 - val_recall: 0.4941\n",
            "Epoch 268/400\n",
            "240/240 [==============================] - 1s 4ms/step - loss: 0.3409 - recall: 0.4356 - val_loss: 0.3309 - val_recall: 0.4176\n",
            "Epoch 269/400\n",
            "240/240 [==============================] - 1s 4ms/step - loss: 0.3374 - recall: 0.4324 - val_loss: 0.3316 - val_recall: 0.4235\n",
            "Epoch 270/400\n",
            "240/240 [==============================] - 1s 5ms/step - loss: 0.3414 - recall: 0.4138 - val_loss: 0.3294 - val_recall: 0.4412\n",
            "Epoch 271/400\n",
            "240/240 [==============================] - 1s 4ms/step - loss: 0.3474 - recall: 0.4138 - val_loss: 0.3341 - val_recall: 0.4471\n",
            "Epoch 272/400\n",
            "240/240 [==============================] - 1s 4ms/step - loss: 0.3439 - recall: 0.4388 - val_loss: 0.3311 - val_recall: 0.4118\n",
            "Epoch 273/400\n",
            "240/240 [==============================] - 1s 5ms/step - loss: 0.3428 - recall: 0.4363 - val_loss: 0.3304 - val_recall: 0.4412\n",
            "Epoch 274/400\n",
            "240/240 [==============================] - 1s 4ms/step - loss: 0.3385 - recall: 0.4331 - val_loss: 0.3263 - val_recall: 0.4529\n",
            "Epoch 275/400\n",
            "240/240 [==============================] - 1s 5ms/step - loss: 0.3404 - recall: 0.4183 - val_loss: 0.3327 - val_recall: 0.4647\n",
            "Epoch 276/400\n",
            "240/240 [==============================] - 1s 4ms/step - loss: 0.3393 - recall: 0.4324 - val_loss: 0.3267 - val_recall: 0.4294\n",
            "Epoch 277/400\n",
            "240/240 [==============================] - 1s 4ms/step - loss: 0.3384 - recall: 0.4375 - val_loss: 0.3295 - val_recall: 0.4706\n",
            "Epoch 278/400\n",
            "240/240 [==============================] - 1s 4ms/step - loss: 0.3425 - recall: 0.4305 - val_loss: 0.3263 - val_recall: 0.4765\n",
            "Epoch 279/400\n",
            "240/240 [==============================] - 1s 4ms/step - loss: 0.3502 - recall: 0.4094 - val_loss: 0.3309 - val_recall: 0.4353\n",
            "Epoch 280/400\n",
            "240/240 [==============================] - 1s 4ms/step - loss: 0.3393 - recall: 0.4382 - val_loss: 0.3349 - val_recall: 0.5059\n",
            "Epoch 281/400\n",
            "240/240 [==============================] - 1s 4ms/step - loss: 0.3329 - recall: 0.4414 - val_loss: 0.3322 - val_recall: 0.4471\n",
            "Epoch 282/400\n",
            "240/240 [==============================] - 1s 4ms/step - loss: 0.3410 - recall: 0.4433 - val_loss: 0.3278 - val_recall: 0.4824\n",
            "Epoch 283/400\n",
            "240/240 [==============================] - 1s 4ms/step - loss: 0.3394 - recall: 0.4427 - val_loss: 0.3325 - val_recall: 0.4471\n",
            "Epoch 284/400\n",
            "240/240 [==============================] - 1s 4ms/step - loss: 0.3483 - recall: 0.4318 - val_loss: 0.3342 - val_recall: 0.4353\n",
            "Epoch 285/400\n",
            "240/240 [==============================] - 1s 4ms/step - loss: 0.3395 - recall: 0.4350 - val_loss: 0.3305 - val_recall: 0.4824\n",
            "Epoch 286/400\n",
            "240/240 [==============================] - 1s 5ms/step - loss: 0.3407 - recall: 0.4369 - val_loss: 0.3294 - val_recall: 0.4529\n",
            "Epoch 287/400\n",
            "240/240 [==============================] - 1s 4ms/step - loss: 0.3373 - recall: 0.4497 - val_loss: 0.3315 - val_recall: 0.4294\n",
            "Epoch 288/400\n",
            "240/240 [==============================] - 1s 4ms/step - loss: 0.3448 - recall: 0.4209 - val_loss: 0.3332 - val_recall: 0.4647\n",
            "Epoch 289/400\n",
            "240/240 [==============================] - 1s 4ms/step - loss: 0.3433 - recall: 0.4311 - val_loss: 0.3339 - val_recall: 0.4294\n",
            "Epoch 290/400\n",
            "240/240 [==============================] - 1s 4ms/step - loss: 0.3446 - recall: 0.4138 - val_loss: 0.3349 - val_recall: 0.4412\n",
            "Epoch 291/400\n",
            "240/240 [==============================] - 1s 4ms/step - loss: 0.3381 - recall: 0.4510 - val_loss: 0.3348 - val_recall: 0.4647\n",
            "Epoch 292/400\n",
            "240/240 [==============================] - 1s 4ms/step - loss: 0.3418 - recall: 0.4247 - val_loss: 0.3402 - val_recall: 0.4824\n",
            "Epoch 293/400\n",
            "240/240 [==============================] - 1s 4ms/step - loss: 0.3423 - recall: 0.4375 - val_loss: 0.3326 - val_recall: 0.4471\n",
            "Epoch 294/400\n",
            "240/240 [==============================] - 1s 4ms/step - loss: 0.3455 - recall: 0.4234 - val_loss: 0.3310 - val_recall: 0.4412\n",
            "Epoch 295/400\n",
            "240/240 [==============================] - 1s 4ms/step - loss: 0.3416 - recall: 0.4375 - val_loss: 0.3288 - val_recall: 0.4471\n",
            "Epoch 296/400\n",
            "240/240 [==============================] - 1s 4ms/step - loss: 0.3393 - recall: 0.4446 - val_loss: 0.3288 - val_recall: 0.4706\n",
            "Epoch 297/400\n",
            "240/240 [==============================] - 1s 4ms/step - loss: 0.3368 - recall: 0.4465 - val_loss: 0.3324 - val_recall: 0.4471\n",
            "Epoch 298/400\n",
            "240/240 [==============================] - 1s 5ms/step - loss: 0.3390 - recall: 0.4420 - val_loss: 0.3376 - val_recall: 0.4353\n",
            "Epoch 299/400\n",
            "240/240 [==============================] - 1s 4ms/step - loss: 0.3427 - recall: 0.4260 - val_loss: 0.3315 - val_recall: 0.4412\n",
            "Epoch 300/400\n",
            "240/240 [==============================] - 1s 4ms/step - loss: 0.3454 - recall: 0.4279 - val_loss: 0.3368 - val_recall: 0.4294\n",
            "Epoch 301/400\n",
            "240/240 [==============================] - 1s 4ms/step - loss: 0.3395 - recall: 0.4439 - val_loss: 0.3314 - val_recall: 0.4647\n",
            "Epoch 302/400\n",
            "240/240 [==============================] - 1s 4ms/step - loss: 0.3393 - recall: 0.4382 - val_loss: 0.3317 - val_recall: 0.4294\n",
            "Epoch 303/400\n",
            "240/240 [==============================] - 1s 4ms/step - loss: 0.3409 - recall: 0.4382 - val_loss: 0.3348 - val_recall: 0.4235\n",
            "Epoch 304/400\n",
            "240/240 [==============================] - 1s 4ms/step - loss: 0.3372 - recall: 0.4331 - val_loss: 0.3351 - val_recall: 0.4471\n",
            "Epoch 305/400\n",
            "240/240 [==============================] - 1s 4ms/step - loss: 0.3391 - recall: 0.4286 - val_loss: 0.3326 - val_recall: 0.4353\n",
            "Epoch 306/400\n",
            "240/240 [==============================] - 1s 4ms/step - loss: 0.3400 - recall: 0.4247 - val_loss: 0.3339 - val_recall: 0.4529\n",
            "Epoch 307/400\n",
            "240/240 [==============================] - 1s 4ms/step - loss: 0.3422 - recall: 0.4202 - val_loss: 0.3330 - val_recall: 0.4000\n",
            "Epoch 308/400\n",
            "240/240 [==============================] - 1s 4ms/step - loss: 0.3460 - recall: 0.4113 - val_loss: 0.3307 - val_recall: 0.4353\n",
            "Epoch 309/400\n",
            "240/240 [==============================] - 1s 4ms/step - loss: 0.3434 - recall: 0.4420 - val_loss: 0.3390 - val_recall: 0.4588\n",
            "Epoch 310/400\n",
            "240/240 [==============================] - 1s 4ms/step - loss: 0.3420 - recall: 0.4241 - val_loss: 0.3313 - val_recall: 0.4471\n",
            "Epoch 311/400\n",
            "240/240 [==============================] - 1s 4ms/step - loss: 0.3357 - recall: 0.4439 - val_loss: 0.3326 - val_recall: 0.4471\n",
            "Epoch 312/400\n",
            "240/240 [==============================] - 1s 4ms/step - loss: 0.3438 - recall: 0.4305 - val_loss: 0.3311 - val_recall: 0.4588\n",
            "Epoch 313/400\n",
            "240/240 [==============================] - 1s 4ms/step - loss: 0.3411 - recall: 0.4311 - val_loss: 0.3325 - val_recall: 0.4471\n",
            "Epoch 314/400\n",
            "240/240 [==============================] - 1s 4ms/step - loss: 0.3383 - recall: 0.4420 - val_loss: 0.3359 - val_recall: 0.4412\n",
            "Epoch 315/400\n",
            "240/240 [==============================] - 1s 4ms/step - loss: 0.3373 - recall: 0.4375 - val_loss: 0.3312 - val_recall: 0.4706\n",
            "Epoch 316/400\n",
            "240/240 [==============================] - 1s 4ms/step - loss: 0.3434 - recall: 0.4228 - val_loss: 0.3321 - val_recall: 0.4118\n",
            "Epoch 317/400\n",
            "240/240 [==============================] - 1s 4ms/step - loss: 0.3382 - recall: 0.4369 - val_loss: 0.3297 - val_recall: 0.4176\n",
            "Epoch 318/400\n",
            "240/240 [==============================] - 1s 4ms/step - loss: 0.3412 - recall: 0.4209 - val_loss: 0.3302 - val_recall: 0.4294\n",
            "Epoch 319/400\n",
            "240/240 [==============================] - 1s 4ms/step - loss: 0.3372 - recall: 0.4305 - val_loss: 0.3283 - val_recall: 0.4235\n",
            "Epoch 320/400\n",
            "240/240 [==============================] - 1s 4ms/step - loss: 0.3396 - recall: 0.4324 - val_loss: 0.3337 - val_recall: 0.4294\n",
            "Epoch 321/400\n",
            "240/240 [==============================] - 1s 4ms/step - loss: 0.3365 - recall: 0.4395 - val_loss: 0.3366 - val_recall: 0.4765\n",
            "Epoch 322/400\n",
            "240/240 [==============================] - 1s 4ms/step - loss: 0.3428 - recall: 0.4337 - val_loss: 0.3296 - val_recall: 0.4588\n",
            "Epoch 323/400\n",
            "240/240 [==============================] - 1s 4ms/step - loss: 0.3439 - recall: 0.4266 - val_loss: 0.3312 - val_recall: 0.4353\n",
            "Epoch 324/400\n",
            "240/240 [==============================] - 1s 4ms/step - loss: 0.3392 - recall: 0.4388 - val_loss: 0.3319 - val_recall: 0.4294\n",
            "Epoch 325/400\n",
            "240/240 [==============================] - 1s 4ms/step - loss: 0.3388 - recall: 0.4414 - val_loss: 0.3324 - val_recall: 0.4647\n",
            "Epoch 326/400\n",
            "240/240 [==============================] - 1s 4ms/step - loss: 0.3417 - recall: 0.4260 - val_loss: 0.3320 - val_recall: 0.5059\n",
            "Epoch 327/400\n",
            "240/240 [==============================] - 1s 4ms/step - loss: 0.3375 - recall: 0.4439 - val_loss: 0.3309 - val_recall: 0.4647\n",
            "Epoch 328/400\n",
            "240/240 [==============================] - 1s 5ms/step - loss: 0.3398 - recall: 0.4446 - val_loss: 0.3276 - val_recall: 0.4706\n",
            "Epoch 329/400\n",
            "240/240 [==============================] - 1s 4ms/step - loss: 0.3359 - recall: 0.4318 - val_loss: 0.3327 - val_recall: 0.4353\n",
            "Epoch 330/400\n",
            "240/240 [==============================] - 1s 4ms/step - loss: 0.3419 - recall: 0.4337 - val_loss: 0.3343 - val_recall: 0.4353\n",
            "Epoch 331/400\n",
            "240/240 [==============================] - 1s 4ms/step - loss: 0.3420 - recall: 0.4318 - val_loss: 0.3304 - val_recall: 0.4647\n",
            "Epoch 332/400\n",
            "240/240 [==============================] - 1s 4ms/step - loss: 0.3391 - recall: 0.4478 - val_loss: 0.3364 - val_recall: 0.4765\n",
            "Epoch 333/400\n",
            "240/240 [==============================] - 1s 4ms/step - loss: 0.3425 - recall: 0.4286 - val_loss: 0.3365 - val_recall: 0.4706\n",
            "Epoch 334/400\n",
            "240/240 [==============================] - 1s 4ms/step - loss: 0.3398 - recall: 0.4260 - val_loss: 0.3330 - val_recall: 0.4529\n",
            "Epoch 335/400\n",
            "240/240 [==============================] - 1s 4ms/step - loss: 0.3415 - recall: 0.4241 - val_loss: 0.3349 - val_recall: 0.4294\n",
            "Epoch 336/400\n",
            "240/240 [==============================] - 1s 5ms/step - loss: 0.3363 - recall: 0.4190 - val_loss: 0.3290 - val_recall: 0.5235\n",
            "Epoch 337/400\n",
            "240/240 [==============================] - 1s 4ms/step - loss: 0.3335 - recall: 0.4536 - val_loss: 0.3327 - val_recall: 0.4706\n",
            "Epoch 338/400\n",
            "240/240 [==============================] - 1s 4ms/step - loss: 0.3370 - recall: 0.4318 - val_loss: 0.3345 - val_recall: 0.4353\n",
            "Epoch 339/400\n",
            "240/240 [==============================] - 1s 4ms/step - loss: 0.3397 - recall: 0.4311 - val_loss: 0.3338 - val_recall: 0.4412\n",
            "Epoch 340/400\n",
            "240/240 [==============================] - 1s 4ms/step - loss: 0.3412 - recall: 0.4427 - val_loss: 0.3292 - val_recall: 0.4118\n",
            "Epoch 341/400\n",
            "240/240 [==============================] - 1s 5ms/step - loss: 0.3403 - recall: 0.4331 - val_loss: 0.3297 - val_recall: 0.4706\n",
            "Epoch 342/400\n",
            "240/240 [==============================] - 1s 4ms/step - loss: 0.3404 - recall: 0.4388 - val_loss: 0.3317 - val_recall: 0.4765\n",
            "Epoch 343/400\n",
            "240/240 [==============================] - 1s 4ms/step - loss: 0.3379 - recall: 0.4228 - val_loss: 0.3327 - val_recall: 0.4647\n",
            "Epoch 344/400\n",
            "240/240 [==============================] - 1s 4ms/step - loss: 0.3360 - recall: 0.4497 - val_loss: 0.3279 - val_recall: 0.4588\n",
            "Epoch 345/400\n",
            "240/240 [==============================] - 1s 4ms/step - loss: 0.3378 - recall: 0.4215 - val_loss: 0.3360 - val_recall: 0.4176\n",
            "Epoch 346/400\n",
            "240/240 [==============================] - 1s 4ms/step - loss: 0.3436 - recall: 0.4241 - val_loss: 0.3335 - val_recall: 0.5059\n",
            "Epoch 347/400\n",
            "240/240 [==============================] - 1s 4ms/step - loss: 0.3369 - recall: 0.4536 - val_loss: 0.3313 - val_recall: 0.4471\n",
            "Epoch 348/400\n",
            "240/240 [==============================] - 1s 4ms/step - loss: 0.3348 - recall: 0.4446 - val_loss: 0.3322 - val_recall: 0.4412\n",
            "Epoch 349/400\n",
            "240/240 [==============================] - 1s 4ms/step - loss: 0.3375 - recall: 0.4452 - val_loss: 0.3325 - val_recall: 0.4706\n",
            "Epoch 350/400\n",
            "240/240 [==============================] - 1s 4ms/step - loss: 0.3396 - recall: 0.4305 - val_loss: 0.3304 - val_recall: 0.4471\n",
            "Epoch 351/400\n",
            "240/240 [==============================] - 1s 4ms/step - loss: 0.3386 - recall: 0.4369 - val_loss: 0.3316 - val_recall: 0.4294\n",
            "Epoch 352/400\n",
            "240/240 [==============================] - 1s 4ms/step - loss: 0.3380 - recall: 0.4202 - val_loss: 0.3312 - val_recall: 0.4412\n",
            "Epoch 353/400\n",
            "240/240 [==============================] - 1s 4ms/step - loss: 0.3403 - recall: 0.4132 - val_loss: 0.3353 - val_recall: 0.4059\n",
            "Epoch 354/400\n",
            "240/240 [==============================] - 1s 4ms/step - loss: 0.3390 - recall: 0.4401 - val_loss: 0.3323 - val_recall: 0.4353\n",
            "Epoch 355/400\n",
            "240/240 [==============================] - 1s 4ms/step - loss: 0.3396 - recall: 0.4190 - val_loss: 0.3285 - val_recall: 0.5000\n",
            "Epoch 356/400\n",
            "240/240 [==============================] - 1s 4ms/step - loss: 0.3378 - recall: 0.4324 - val_loss: 0.3323 - val_recall: 0.4941\n",
            "Epoch 357/400\n",
            "240/240 [==============================] - 1s 5ms/step - loss: 0.3324 - recall: 0.4465 - val_loss: 0.3316 - val_recall: 0.4706\n",
            "Epoch 358/400\n",
            "240/240 [==============================] - 1s 4ms/step - loss: 0.3392 - recall: 0.4433 - val_loss: 0.3304 - val_recall: 0.4765\n",
            "Epoch 359/400\n",
            "240/240 [==============================] - 1s 4ms/step - loss: 0.3392 - recall: 0.4375 - val_loss: 0.3304 - val_recall: 0.4588\n",
            "Epoch 360/400\n",
            "240/240 [==============================] - 1s 4ms/step - loss: 0.3417 - recall: 0.4190 - val_loss: 0.3318 - val_recall: 0.4471\n",
            "Epoch 361/400\n",
            "240/240 [==============================] - 1s 5ms/step - loss: 0.3418 - recall: 0.4158 - val_loss: 0.3315 - val_recall: 0.4706\n",
            "Epoch 362/400\n",
            "240/240 [==============================] - 1s 4ms/step - loss: 0.3407 - recall: 0.4177 - val_loss: 0.3303 - val_recall: 0.4588\n",
            "Epoch 363/400\n",
            "240/240 [==============================] - 1s 4ms/step - loss: 0.3404 - recall: 0.4356 - val_loss: 0.3337 - val_recall: 0.4588\n",
            "Epoch 364/400\n",
            "240/240 [==============================] - 1s 4ms/step - loss: 0.3394 - recall: 0.4388 - val_loss: 0.3301 - val_recall: 0.4471\n",
            "Epoch 365/400\n",
            "240/240 [==============================] - 1s 4ms/step - loss: 0.3337 - recall: 0.4568 - val_loss: 0.3317 - val_recall: 0.4588\n",
            "Epoch 366/400\n",
            "240/240 [==============================] - 1s 4ms/step - loss: 0.3376 - recall: 0.4254 - val_loss: 0.3359 - val_recall: 0.4294\n",
            "Epoch 367/400\n",
            "240/240 [==============================] - 1s 4ms/step - loss: 0.3421 - recall: 0.4266 - val_loss: 0.3324 - val_recall: 0.4706\n",
            "Epoch 368/400\n",
            "240/240 [==============================] - 1s 4ms/step - loss: 0.3376 - recall: 0.4491 - val_loss: 0.3336 - val_recall: 0.4471\n",
            "Epoch 369/400\n",
            "240/240 [==============================] - 1s 4ms/step - loss: 0.3356 - recall: 0.4446 - val_loss: 0.3325 - val_recall: 0.4353\n",
            "Epoch 370/400\n",
            "240/240 [==============================] - 1s 4ms/step - loss: 0.3373 - recall: 0.4254 - val_loss: 0.3302 - val_recall: 0.4471\n",
            "Epoch 371/400\n",
            "240/240 [==============================] - 1s 4ms/step - loss: 0.3387 - recall: 0.4299 - val_loss: 0.3287 - val_recall: 0.4471\n",
            "Epoch 372/400\n",
            "240/240 [==============================] - 1s 4ms/step - loss: 0.3424 - recall: 0.4190 - val_loss: 0.3296 - val_recall: 0.4294\n",
            "Epoch 373/400\n",
            "240/240 [==============================] - 1s 4ms/step - loss: 0.3354 - recall: 0.4382 - val_loss: 0.3316 - val_recall: 0.4412\n",
            "Epoch 374/400\n",
            "240/240 [==============================] - 1s 4ms/step - loss: 0.3393 - recall: 0.4452 - val_loss: 0.3299 - val_recall: 0.4706\n",
            "Epoch 375/400\n",
            "240/240 [==============================] - 1s 5ms/step - loss: 0.3403 - recall: 0.4222 - val_loss: 0.3278 - val_recall: 0.4706\n",
            "Epoch 376/400\n",
            "240/240 [==============================] - 1s 5ms/step - loss: 0.3363 - recall: 0.4702 - val_loss: 0.3284 - val_recall: 0.4647\n",
            "Epoch 377/400\n",
            "240/240 [==============================] - 1s 4ms/step - loss: 0.3394 - recall: 0.4580 - val_loss: 0.3257 - val_recall: 0.4412\n",
            "Epoch 378/400\n",
            "240/240 [==============================] - 1s 4ms/step - loss: 0.3378 - recall: 0.4471 - val_loss: 0.3277 - val_recall: 0.4588\n",
            "Epoch 379/400\n",
            "240/240 [==============================] - 1s 5ms/step - loss: 0.3385 - recall: 0.4523 - val_loss: 0.3337 - val_recall: 0.4529\n",
            "Epoch 380/400\n",
            "240/240 [==============================] - 1s 4ms/step - loss: 0.3358 - recall: 0.4433 - val_loss: 0.3293 - val_recall: 0.4588\n",
            "Epoch 381/400\n",
            "240/240 [==============================] - 1s 4ms/step - loss: 0.3358 - recall: 0.4369 - val_loss: 0.3325 - val_recall: 0.4353\n",
            "Epoch 382/400\n",
            "240/240 [==============================] - 1s 4ms/step - loss: 0.3424 - recall: 0.4241 - val_loss: 0.3291 - val_recall: 0.4235\n",
            "Epoch 383/400\n",
            "240/240 [==============================] - 1s 5ms/step - loss: 0.3372 - recall: 0.4356 - val_loss: 0.3267 - val_recall: 0.4412\n",
            "Epoch 384/400\n",
            "240/240 [==============================] - 1s 4ms/step - loss: 0.3342 - recall: 0.4529 - val_loss: 0.3261 - val_recall: 0.4706\n",
            "Epoch 385/400\n",
            "240/240 [==============================] - 1s 4ms/step - loss: 0.3394 - recall: 0.4459 - val_loss: 0.3300 - val_recall: 0.4647\n",
            "Epoch 386/400\n",
            "240/240 [==============================] - 1s 4ms/step - loss: 0.3368 - recall: 0.4478 - val_loss: 0.3279 - val_recall: 0.4882\n",
            "Epoch 387/400\n",
            "240/240 [==============================] - 1s 4ms/step - loss: 0.3329 - recall: 0.4510 - val_loss: 0.3246 - val_recall: 0.4765\n",
            "Epoch 388/400\n",
            "240/240 [==============================] - 1s 4ms/step - loss: 0.3322 - recall: 0.4683 - val_loss: 0.3262 - val_recall: 0.4647\n",
            "Epoch 389/400\n",
            "240/240 [==============================] - 1s 5ms/step - loss: 0.3414 - recall: 0.4266 - val_loss: 0.3249 - val_recall: 0.4765\n",
            "Epoch 390/400\n",
            "240/240 [==============================] - 1s 4ms/step - loss: 0.3399 - recall: 0.4420 - val_loss: 0.3281 - val_recall: 0.4765\n",
            "Epoch 391/400\n",
            "240/240 [==============================] - 1s 4ms/step - loss: 0.3409 - recall: 0.4414 - val_loss: 0.3291 - val_recall: 0.4647\n",
            "Epoch 392/400\n",
            "240/240 [==============================] - 1s 4ms/step - loss: 0.3396 - recall: 0.4202 - val_loss: 0.3310 - val_recall: 0.4412\n",
            "Epoch 393/400\n",
            "240/240 [==============================] - 1s 4ms/step - loss: 0.3321 - recall: 0.4491 - val_loss: 0.3306 - val_recall: 0.4824\n",
            "Epoch 394/400\n",
            "240/240 [==============================] - 1s 4ms/step - loss: 0.3346 - recall: 0.4568 - val_loss: 0.3295 - val_recall: 0.4588\n",
            "Epoch 395/400\n",
            "240/240 [==============================] - 1s 4ms/step - loss: 0.3387 - recall: 0.4491 - val_loss: 0.3294 - val_recall: 0.4647\n",
            "Epoch 396/400\n",
            "240/240 [==============================] - 1s 5ms/step - loss: 0.3341 - recall: 0.4471 - val_loss: 0.3250 - val_recall: 0.4882\n",
            "Epoch 397/400\n",
            "240/240 [==============================] - 1s 5ms/step - loss: 0.3359 - recall: 0.4356 - val_loss: 0.3304 - val_recall: 0.4941\n",
            "Epoch 398/400\n",
            "240/240 [==============================] - 1s 4ms/step - loss: 0.3355 - recall: 0.4587 - val_loss: 0.3337 - val_recall: 0.4765\n",
            "Epoch 399/400\n",
            "240/240 [==============================] - 1s 4ms/step - loss: 0.3360 - recall: 0.4542 - val_loss: 0.3307 - val_recall: 0.4412\n",
            "Epoch 400/400\n",
            "240/240 [==============================] - 1s 4ms/step - loss: 0.3387 - recall: 0.4484 - val_loss: 0.3287 - val_recall: 0.4412\n"
          ]
        },
        {
          "output_type": "execute_result",
          "data": {
            "text/plain": [
              "<keras.callbacks.History at 0x7f8bed8f7850>"
            ]
          },
          "metadata": {},
          "execution_count": 117
        }
      ]
    },
    {
      "cell_type": "code",
      "source": [
        "model.fit(x = X_train, y = y_train, validation_split = 0.1, batch_size = 32, class_weight=class_weights, epochs = 400, verbose = 1)"
      ],
      "metadata": {
        "id": "P8vSpApAfnmU",
        "colab": {
          "base_uri": "https://localhost:8080/"
        },
        "outputId": "5e28592d-772d-4b29-e36e-3885f30c66af"
      },
      "execution_count": 118,
      "outputs": [
        {
          "output_type": "stream",
          "name": "stdout",
          "text": [
            "Epoch 1/400\n",
            "240/240 [==============================] - 4s 4ms/step - loss: 0.4945 - recall: 0.6573 - val_loss: 0.4295 - val_recall: 0.7235\n",
            "Epoch 2/400\n",
            "240/240 [==============================] - 1s 4ms/step - loss: 0.4681 - recall: 0.7316 - val_loss: 0.4088 - val_recall: 0.6882\n",
            "Epoch 3/400\n",
            "240/240 [==============================] - 1s 4ms/step - loss: 0.4667 - recall: 0.7393 - val_loss: 0.4249 - val_recall: 0.7471\n",
            "Epoch 4/400\n",
            "240/240 [==============================] - 1s 4ms/step - loss: 0.4694 - recall: 0.7335 - val_loss: 0.4108 - val_recall: 0.7529\n",
            "Epoch 5/400\n",
            "240/240 [==============================] - 1s 4ms/step - loss: 0.4610 - recall: 0.7399 - val_loss: 0.4208 - val_recall: 0.7647\n",
            "Epoch 6/400\n",
            "240/240 [==============================] - 1s 4ms/step - loss: 0.4643 - recall: 0.7495 - val_loss: 0.4436 - val_recall: 0.7647\n",
            "Epoch 7/400\n",
            "240/240 [==============================] - 1s 4ms/step - loss: 0.4646 - recall: 0.7393 - val_loss: 0.4300 - val_recall: 0.7471\n",
            "Epoch 8/400\n",
            "240/240 [==============================] - 1s 4ms/step - loss: 0.4640 - recall: 0.7611 - val_loss: 0.4462 - val_recall: 0.7706\n",
            "Epoch 9/400\n",
            "240/240 [==============================] - 1s 4ms/step - loss: 0.4664 - recall: 0.7354 - val_loss: 0.4549 - val_recall: 0.7706\n",
            "Epoch 10/400\n",
            "240/240 [==============================] - 1s 4ms/step - loss: 0.4589 - recall: 0.7399 - val_loss: 0.4352 - val_recall: 0.7706\n",
            "Epoch 11/400\n",
            "240/240 [==============================] - 1s 4ms/step - loss: 0.4603 - recall: 0.7476 - val_loss: 0.4510 - val_recall: 0.7824\n",
            "Epoch 12/400\n",
            "240/240 [==============================] - 1s 4ms/step - loss: 0.4697 - recall: 0.7527 - val_loss: 0.4541 - val_recall: 0.7882\n",
            "Epoch 13/400\n",
            "240/240 [==============================] - 1s 4ms/step - loss: 0.4578 - recall: 0.7617 - val_loss: 0.4479 - val_recall: 0.7824\n",
            "Epoch 14/400\n",
            "240/240 [==============================] - 1s 4ms/step - loss: 0.4536 - recall: 0.7578 - val_loss: 0.4428 - val_recall: 0.7882\n",
            "Epoch 15/400\n",
            "240/240 [==============================] - 1s 4ms/step - loss: 0.4634 - recall: 0.7418 - val_loss: 0.4405 - val_recall: 0.7765\n",
            "Epoch 16/400\n",
            "240/240 [==============================] - 1s 4ms/step - loss: 0.4583 - recall: 0.7623 - val_loss: 0.4062 - val_recall: 0.7118\n",
            "Epoch 17/400\n",
            "240/240 [==============================] - 1s 4ms/step - loss: 0.4610 - recall: 0.7482 - val_loss: 0.4514 - val_recall: 0.7706\n",
            "Epoch 18/400\n",
            "240/240 [==============================] - 1s 4ms/step - loss: 0.4630 - recall: 0.7553 - val_loss: 0.4527 - val_recall: 0.7706\n",
            "Epoch 19/400\n",
            "240/240 [==============================] - 1s 4ms/step - loss: 0.4601 - recall: 0.7508 - val_loss: 0.4226 - val_recall: 0.7235\n",
            "Epoch 20/400\n",
            "240/240 [==============================] - 1s 5ms/step - loss: 0.4600 - recall: 0.7406 - val_loss: 0.4208 - val_recall: 0.7235\n",
            "Epoch 21/400\n",
            "240/240 [==============================] - 2s 7ms/step - loss: 0.4640 - recall: 0.7348 - val_loss: 0.4577 - val_recall: 0.7529\n",
            "Epoch 22/400\n",
            "240/240 [==============================] - 2s 7ms/step - loss: 0.4607 - recall: 0.7521 - val_loss: 0.4260 - val_recall: 0.7235\n",
            "Epoch 23/400\n",
            "240/240 [==============================] - 1s 5ms/step - loss: 0.4595 - recall: 0.7572 - val_loss: 0.4457 - val_recall: 0.7471\n",
            "Epoch 24/400\n",
            "240/240 [==============================] - 1s 4ms/step - loss: 0.4658 - recall: 0.7867 - val_loss: 0.4465 - val_recall: 0.7471\n",
            "Epoch 25/400\n",
            "240/240 [==============================] - 1s 4ms/step - loss: 0.4537 - recall: 0.7841 - val_loss: 0.4829 - val_recall: 0.7882\n",
            "Epoch 26/400\n",
            "240/240 [==============================] - 1s 4ms/step - loss: 0.4541 - recall: 0.7822 - val_loss: 0.4470 - val_recall: 0.7529\n",
            "Epoch 27/400\n",
            "240/240 [==============================] - 1s 4ms/step - loss: 0.4564 - recall: 0.7790 - val_loss: 0.4230 - val_recall: 0.7176\n",
            "Epoch 28/400\n",
            "240/240 [==============================] - 1s 4ms/step - loss: 0.4676 - recall: 0.7745 - val_loss: 0.4447 - val_recall: 0.7412\n",
            "Epoch 29/400\n",
            "240/240 [==============================] - 1s 4ms/step - loss: 0.4601 - recall: 0.7783 - val_loss: 0.4461 - val_recall: 0.7529\n",
            "Epoch 30/400\n",
            "240/240 [==============================] - 1s 4ms/step - loss: 0.4550 - recall: 0.7848 - val_loss: 0.4312 - val_recall: 0.7059\n",
            "Epoch 31/400\n",
            "240/240 [==============================] - 1s 4ms/step - loss: 0.4557 - recall: 0.7783 - val_loss: 0.4334 - val_recall: 0.7353\n",
            "Epoch 32/400\n",
            "240/240 [==============================] - 1s 4ms/step - loss: 0.4576 - recall: 0.7854 - val_loss: 0.4559 - val_recall: 0.7412\n",
            "Epoch 33/400\n",
            "240/240 [==============================] - 1s 4ms/step - loss: 0.4574 - recall: 0.7790 - val_loss: 0.4458 - val_recall: 0.7353\n",
            "Epoch 34/400\n",
            "240/240 [==============================] - 1s 4ms/step - loss: 0.4567 - recall: 0.7777 - val_loss: 0.4632 - val_recall: 0.7706\n",
            "Epoch 35/400\n",
            "240/240 [==============================] - 1s 4ms/step - loss: 0.4577 - recall: 0.7719 - val_loss: 0.4497 - val_recall: 0.7294\n",
            "Epoch 36/400\n",
            "240/240 [==============================] - 1s 4ms/step - loss: 0.4562 - recall: 0.7764 - val_loss: 0.4528 - val_recall: 0.7588\n",
            "Epoch 37/400\n",
            "240/240 [==============================] - 1s 4ms/step - loss: 0.4530 - recall: 0.7828 - val_loss: 0.4646 - val_recall: 0.7471\n",
            "Epoch 38/400\n",
            "240/240 [==============================] - 1s 4ms/step - loss: 0.4557 - recall: 0.7604 - val_loss: 0.4526 - val_recall: 0.7176\n",
            "Epoch 39/400\n",
            "240/240 [==============================] - 1s 4ms/step - loss: 0.4584 - recall: 0.7956 - val_loss: 0.4395 - val_recall: 0.7529\n",
            "Epoch 40/400\n",
            "240/240 [==============================] - 1s 4ms/step - loss: 0.4567 - recall: 0.7796 - val_loss: 0.4514 - val_recall: 0.7471\n",
            "Epoch 41/400\n",
            "240/240 [==============================] - 1s 4ms/step - loss: 0.4535 - recall: 0.7937 - val_loss: 0.4548 - val_recall: 0.7588\n",
            "Epoch 42/400\n",
            "240/240 [==============================] - 1s 4ms/step - loss: 0.4625 - recall: 0.7912 - val_loss: 0.4453 - val_recall: 0.7353\n",
            "Epoch 43/400\n",
            "240/240 [==============================] - 1s 4ms/step - loss: 0.4564 - recall: 0.7803 - val_loss: 0.4583 - val_recall: 0.7353\n",
            "Epoch 44/400\n",
            "240/240 [==============================] - 1s 4ms/step - loss: 0.4608 - recall: 0.7816 - val_loss: 0.4414 - val_recall: 0.7471\n",
            "Epoch 45/400\n",
            "240/240 [==============================] - 1s 4ms/step - loss: 0.4547 - recall: 0.7790 - val_loss: 0.4482 - val_recall: 0.7529\n",
            "Epoch 46/400\n",
            "240/240 [==============================] - 1s 4ms/step - loss: 0.4517 - recall: 0.7848 - val_loss: 0.4306 - val_recall: 0.7118\n",
            "Epoch 47/400\n",
            "240/240 [==============================] - 1s 4ms/step - loss: 0.4645 - recall: 0.7751 - val_loss: 0.4567 - val_recall: 0.7647\n",
            "Epoch 48/400\n",
            "240/240 [==============================] - 1s 4ms/step - loss: 0.4551 - recall: 0.8027 - val_loss: 0.4443 - val_recall: 0.7647\n",
            "Epoch 49/400\n",
            "240/240 [==============================] - 1s 4ms/step - loss: 0.4617 - recall: 0.7828 - val_loss: 0.4449 - val_recall: 0.7471\n",
            "Epoch 50/400\n",
            "240/240 [==============================] - 1s 4ms/step - loss: 0.4513 - recall: 0.7803 - val_loss: 0.4313 - val_recall: 0.7471\n",
            "Epoch 51/400\n",
            "240/240 [==============================] - 1s 4ms/step - loss: 0.4552 - recall: 0.7880 - val_loss: 0.4214 - val_recall: 0.7529\n",
            "Epoch 52/400\n",
            "240/240 [==============================] - 1s 4ms/step - loss: 0.4543 - recall: 0.7751 - val_loss: 0.4268 - val_recall: 0.7529\n",
            "Epoch 53/400\n",
            "240/240 [==============================] - 1s 4ms/step - loss: 0.4519 - recall: 0.8053 - val_loss: 0.4627 - val_recall: 0.7824\n",
            "Epoch 54/400\n",
            "240/240 [==============================] - 1s 4ms/step - loss: 0.4504 - recall: 0.7892 - val_loss: 0.4272 - val_recall: 0.7588\n",
            "Epoch 55/400\n",
            "240/240 [==============================] - 1s 4ms/step - loss: 0.4537 - recall: 0.7912 - val_loss: 0.4453 - val_recall: 0.7235\n",
            "Epoch 56/400\n",
            "240/240 [==============================] - 1s 4ms/step - loss: 0.4580 - recall: 0.7700 - val_loss: 0.4709 - val_recall: 0.7882\n",
            "Epoch 57/400\n",
            "240/240 [==============================] - 1s 4ms/step - loss: 0.4570 - recall: 0.7835 - val_loss: 0.4493 - val_recall: 0.7471\n",
            "Epoch 58/400\n",
            "240/240 [==============================] - 1s 4ms/step - loss: 0.4602 - recall: 0.7937 - val_loss: 0.4344 - val_recall: 0.7529\n",
            "Epoch 59/400\n",
            "240/240 [==============================] - 1s 4ms/step - loss: 0.4547 - recall: 0.8072 - val_loss: 0.4277 - val_recall: 0.7059\n",
            "Epoch 60/400\n",
            "240/240 [==============================] - 1s 4ms/step - loss: 0.4518 - recall: 0.7777 - val_loss: 0.4323 - val_recall: 0.7176\n",
            "Epoch 61/400\n",
            "240/240 [==============================] - 1s 4ms/step - loss: 0.4579 - recall: 0.7803 - val_loss: 0.4710 - val_recall: 0.7706\n",
            "Epoch 62/400\n",
            "240/240 [==============================] - 1s 4ms/step - loss: 0.4584 - recall: 0.7944 - val_loss: 0.4430 - val_recall: 0.7235\n",
            "Epoch 63/400\n",
            "240/240 [==============================] - 1s 4ms/step - loss: 0.4607 - recall: 0.7912 - val_loss: 0.4587 - val_recall: 0.7588\n",
            "Epoch 64/400\n",
            "240/240 [==============================] - 1s 4ms/step - loss: 0.4574 - recall: 0.7892 - val_loss: 0.4651 - val_recall: 0.7824\n",
            "Epoch 65/400\n",
            "240/240 [==============================] - 1s 4ms/step - loss: 0.4534 - recall: 0.7892 - val_loss: 0.4518 - val_recall: 0.7294\n",
            "Epoch 66/400\n",
            "240/240 [==============================] - 1s 4ms/step - loss: 0.4571 - recall: 0.7828 - val_loss: 0.4671 - val_recall: 0.7529\n",
            "Epoch 67/400\n",
            "240/240 [==============================] - 1s 4ms/step - loss: 0.4542 - recall: 0.7956 - val_loss: 0.4485 - val_recall: 0.7706\n",
            "Epoch 68/400\n",
            "240/240 [==============================] - 1s 4ms/step - loss: 0.4551 - recall: 0.7950 - val_loss: 0.4600 - val_recall: 0.7706\n",
            "Epoch 69/400\n",
            "240/240 [==============================] - 1s 4ms/step - loss: 0.4552 - recall: 0.7790 - val_loss: 0.4453 - val_recall: 0.7471\n",
            "Epoch 70/400\n",
            "240/240 [==============================] - 1s 4ms/step - loss: 0.4524 - recall: 0.7783 - val_loss: 0.4628 - val_recall: 0.7824\n",
            "Epoch 71/400\n",
            "240/240 [==============================] - 1s 4ms/step - loss: 0.4523 - recall: 0.7924 - val_loss: 0.4471 - val_recall: 0.7471\n",
            "Epoch 72/400\n",
            "240/240 [==============================] - 1s 4ms/step - loss: 0.4573 - recall: 0.7886 - val_loss: 0.4459 - val_recall: 0.7471\n",
            "Epoch 73/400\n",
            "240/240 [==============================] - 1s 4ms/step - loss: 0.4558 - recall: 0.7822 - val_loss: 0.4303 - val_recall: 0.7529\n",
            "Epoch 74/400\n",
            "240/240 [==============================] - 1s 4ms/step - loss: 0.4624 - recall: 0.7937 - val_loss: 0.4472 - val_recall: 0.7647\n",
            "Epoch 75/400\n",
            "240/240 [==============================] - 1s 4ms/step - loss: 0.4553 - recall: 0.7899 - val_loss: 0.4294 - val_recall: 0.7235\n",
            "Epoch 76/400\n",
            "240/240 [==============================] - 1s 4ms/step - loss: 0.4518 - recall: 0.7982 - val_loss: 0.4500 - val_recall: 0.7765\n",
            "Epoch 77/400\n",
            "240/240 [==============================] - 1s 4ms/step - loss: 0.4526 - recall: 0.7892 - val_loss: 0.4218 - val_recall: 0.7412\n",
            "Epoch 78/400\n",
            "240/240 [==============================] - 1s 4ms/step - loss: 0.4540 - recall: 0.7886 - val_loss: 0.4642 - val_recall: 0.8000\n",
            "Epoch 79/400\n",
            "240/240 [==============================] - 1s 4ms/step - loss: 0.4563 - recall: 0.8046 - val_loss: 0.4580 - val_recall: 0.7941\n",
            "Epoch 80/400\n",
            "240/240 [==============================] - 1s 4ms/step - loss: 0.4500 - recall: 0.8001 - val_loss: 0.4577 - val_recall: 0.7529\n",
            "Epoch 81/400\n",
            "240/240 [==============================] - 1s 4ms/step - loss: 0.4596 - recall: 0.7931 - val_loss: 0.4327 - val_recall: 0.7176\n",
            "Epoch 82/400\n",
            "240/240 [==============================] - 1s 4ms/step - loss: 0.4575 - recall: 0.7777 - val_loss: 0.4432 - val_recall: 0.7412\n",
            "Epoch 83/400\n",
            "240/240 [==============================] - 1s 4ms/step - loss: 0.4579 - recall: 0.7828 - val_loss: 0.4281 - val_recall: 0.7353\n",
            "Epoch 84/400\n",
            "240/240 [==============================] - 1s 4ms/step - loss: 0.4534 - recall: 0.7854 - val_loss: 0.4321 - val_recall: 0.7353\n",
            "Epoch 85/400\n",
            "240/240 [==============================] - 1s 4ms/step - loss: 0.4544 - recall: 0.7828 - val_loss: 0.4415 - val_recall: 0.7529\n",
            "Epoch 86/400\n",
            "240/240 [==============================] - 1s 4ms/step - loss: 0.4566 - recall: 0.7848 - val_loss: 0.4497 - val_recall: 0.7471\n",
            "Epoch 87/400\n",
            "240/240 [==============================] - 1s 4ms/step - loss: 0.4573 - recall: 0.7822 - val_loss: 0.4477 - val_recall: 0.7824\n",
            "Epoch 88/400\n",
            "240/240 [==============================] - 1s 4ms/step - loss: 0.4543 - recall: 0.7988 - val_loss: 0.4488 - val_recall: 0.7412\n",
            "Epoch 89/400\n",
            "240/240 [==============================] - 1s 4ms/step - loss: 0.4605 - recall: 0.7886 - val_loss: 0.4541 - val_recall: 0.7471\n",
            "Epoch 90/400\n",
            "240/240 [==============================] - 1s 4ms/step - loss: 0.4679 - recall: 0.7860 - val_loss: 0.4412 - val_recall: 0.7882\n",
            "Epoch 91/400\n",
            "240/240 [==============================] - 1s 4ms/step - loss: 0.4576 - recall: 0.7848 - val_loss: 0.4311 - val_recall: 0.7471\n",
            "Epoch 92/400\n",
            "240/240 [==============================] - 1s 4ms/step - loss: 0.4570 - recall: 0.8136 - val_loss: 0.4427 - val_recall: 0.7529\n",
            "Epoch 93/400\n",
            "240/240 [==============================] - 1s 4ms/step - loss: 0.4632 - recall: 0.7976 - val_loss: 0.4444 - val_recall: 0.7588\n",
            "Epoch 94/400\n",
            "240/240 [==============================] - 1s 4ms/step - loss: 0.4497 - recall: 0.7905 - val_loss: 0.4352 - val_recall: 0.7647\n",
            "Epoch 95/400\n",
            "240/240 [==============================] - 1s 4ms/step - loss: 0.4537 - recall: 0.8046 - val_loss: 0.4432 - val_recall: 0.7471\n",
            "Epoch 96/400\n",
            "240/240 [==============================] - 1s 4ms/step - loss: 0.4504 - recall: 0.7848 - val_loss: 0.4616 - val_recall: 0.7882\n",
            "Epoch 97/400\n",
            "240/240 [==============================] - 1s 4ms/step - loss: 0.4605 - recall: 0.8020 - val_loss: 0.4349 - val_recall: 0.7412\n",
            "Epoch 98/400\n",
            "240/240 [==============================] - 1s 4ms/step - loss: 0.4512 - recall: 0.7905 - val_loss: 0.4507 - val_recall: 0.7647\n",
            "Epoch 99/400\n",
            "240/240 [==============================] - 1s 4ms/step - loss: 0.4550 - recall: 0.8072 - val_loss: 0.4460 - val_recall: 0.7765\n",
            "Epoch 100/400\n",
            "240/240 [==============================] - 1s 4ms/step - loss: 0.4538 - recall: 0.8008 - val_loss: 0.4313 - val_recall: 0.7765\n",
            "Epoch 101/400\n",
            "240/240 [==============================] - 1s 4ms/step - loss: 0.4457 - recall: 0.8142 - val_loss: 0.4495 - val_recall: 0.7647\n",
            "Epoch 102/400\n",
            "240/240 [==============================] - 1s 4ms/step - loss: 0.4574 - recall: 0.7931 - val_loss: 0.4594 - val_recall: 0.8000\n",
            "Epoch 103/400\n",
            "240/240 [==============================] - 1s 4ms/step - loss: 0.4490 - recall: 0.8104 - val_loss: 0.4586 - val_recall: 0.7941\n",
            "Epoch 104/400\n",
            "240/240 [==============================] - 1s 4ms/step - loss: 0.4591 - recall: 0.7944 - val_loss: 0.4379 - val_recall: 0.7471\n",
            "Epoch 105/400\n",
            "240/240 [==============================] - 1s 4ms/step - loss: 0.4527 - recall: 0.8046 - val_loss: 0.4334 - val_recall: 0.7471\n",
            "Epoch 106/400\n",
            "240/240 [==============================] - 1s 4ms/step - loss: 0.4521 - recall: 0.7988 - val_loss: 0.4208 - val_recall: 0.7353\n",
            "Epoch 107/400\n",
            "240/240 [==============================] - 1s 4ms/step - loss: 0.4531 - recall: 0.7969 - val_loss: 0.4158 - val_recall: 0.7235\n",
            "Epoch 108/400\n",
            "240/240 [==============================] - 1s 4ms/step - loss: 0.4590 - recall: 0.7892 - val_loss: 0.4367 - val_recall: 0.7235\n",
            "Epoch 109/400\n",
            "240/240 [==============================] - 1s 4ms/step - loss: 0.4555 - recall: 0.7873 - val_loss: 0.4540 - val_recall: 0.7706\n",
            "Epoch 110/400\n",
            "240/240 [==============================] - 1s 4ms/step - loss: 0.4538 - recall: 0.7937 - val_loss: 0.4264 - val_recall: 0.7588\n",
            "Epoch 111/400\n",
            "240/240 [==============================] - 1s 4ms/step - loss: 0.4542 - recall: 0.7976 - val_loss: 0.4278 - val_recall: 0.7353\n",
            "Epoch 112/400\n",
            "240/240 [==============================] - 1s 4ms/step - loss: 0.4586 - recall: 0.7854 - val_loss: 0.4363 - val_recall: 0.7588\n",
            "Epoch 113/400\n",
            "240/240 [==============================] - 1s 4ms/step - loss: 0.4586 - recall: 0.7912 - val_loss: 0.4260 - val_recall: 0.7235\n",
            "Epoch 114/400\n",
            "240/240 [==============================] - 1s 4ms/step - loss: 0.4534 - recall: 0.7873 - val_loss: 0.4462 - val_recall: 0.7529\n",
            "Epoch 115/400\n",
            "240/240 [==============================] - 1s 4ms/step - loss: 0.4583 - recall: 0.8020 - val_loss: 0.4531 - val_recall: 0.7588\n",
            "Epoch 116/400\n",
            "240/240 [==============================] - 1s 4ms/step - loss: 0.4508 - recall: 0.7924 - val_loss: 0.4389 - val_recall: 0.7471\n",
            "Epoch 117/400\n",
            "240/240 [==============================] - 1s 4ms/step - loss: 0.4591 - recall: 0.7950 - val_loss: 0.4461 - val_recall: 0.7471\n",
            "Epoch 118/400\n",
            "240/240 [==============================] - 1s 4ms/step - loss: 0.4563 - recall: 0.7848 - val_loss: 0.4491 - val_recall: 0.7588\n",
            "Epoch 119/400\n",
            "240/240 [==============================] - 1s 4ms/step - loss: 0.4487 - recall: 0.7924 - val_loss: 0.4283 - val_recall: 0.7412\n",
            "Epoch 120/400\n",
            "240/240 [==============================] - 1s 4ms/step - loss: 0.4665 - recall: 0.7892 - val_loss: 0.4522 - val_recall: 0.7588\n",
            "Epoch 121/400\n",
            "240/240 [==============================] - 1s 4ms/step - loss: 0.4470 - recall: 0.7969 - val_loss: 0.4231 - val_recall: 0.7235\n",
            "Epoch 122/400\n",
            "240/240 [==============================] - 1s 4ms/step - loss: 0.4600 - recall: 0.7886 - val_loss: 0.4472 - val_recall: 0.7647\n",
            "Epoch 123/400\n",
            "240/240 [==============================] - 1s 4ms/step - loss: 0.4580 - recall: 0.7899 - val_loss: 0.4509 - val_recall: 0.7471\n",
            "Epoch 124/400\n",
            "240/240 [==============================] - 1s 4ms/step - loss: 0.4591 - recall: 0.7995 - val_loss: 0.4443 - val_recall: 0.7706\n",
            "Epoch 125/400\n",
            "240/240 [==============================] - 1s 4ms/step - loss: 0.4578 - recall: 0.7841 - val_loss: 0.4351 - val_recall: 0.7471\n",
            "Epoch 126/400\n",
            "240/240 [==============================] - 1s 4ms/step - loss: 0.4614 - recall: 0.7886 - val_loss: 0.4541 - val_recall: 0.7471\n",
            "Epoch 127/400\n",
            "240/240 [==============================] - 1s 4ms/step - loss: 0.4603 - recall: 0.7912 - val_loss: 0.4476 - val_recall: 0.7529\n",
            "Epoch 128/400\n",
            "240/240 [==============================] - 1s 4ms/step - loss: 0.4537 - recall: 0.7931 - val_loss: 0.4614 - val_recall: 0.7706\n",
            "Epoch 129/400\n",
            "240/240 [==============================] - 1s 4ms/step - loss: 0.4496 - recall: 0.7982 - val_loss: 0.4652 - val_recall: 0.8118\n",
            "Epoch 130/400\n",
            "240/240 [==============================] - 1s 4ms/step - loss: 0.4570 - recall: 0.8040 - val_loss: 0.4461 - val_recall: 0.7882\n",
            "Epoch 131/400\n",
            "240/240 [==============================] - 1s 4ms/step - loss: 0.4518 - recall: 0.8040 - val_loss: 0.4426 - val_recall: 0.7706\n",
            "Epoch 132/400\n",
            "240/240 [==============================] - 1s 4ms/step - loss: 0.4479 - recall: 0.8091 - val_loss: 0.4339 - val_recall: 0.7765\n",
            "Epoch 133/400\n",
            "240/240 [==============================] - 1s 4ms/step - loss: 0.4526 - recall: 0.7982 - val_loss: 0.4319 - val_recall: 0.7529\n",
            "Epoch 134/400\n",
            "240/240 [==============================] - 1s 4ms/step - loss: 0.4590 - recall: 0.7828 - val_loss: 0.4593 - val_recall: 0.7882\n",
            "Epoch 135/400\n",
            "240/240 [==============================] - 1s 4ms/step - loss: 0.4571 - recall: 0.7848 - val_loss: 0.4358 - val_recall: 0.7529\n",
            "Epoch 136/400\n",
            "240/240 [==============================] - 1s 4ms/step - loss: 0.4519 - recall: 0.7976 - val_loss: 0.4269 - val_recall: 0.7647\n",
            "Epoch 137/400\n",
            "240/240 [==============================] - 1s 4ms/step - loss: 0.4529 - recall: 0.8001 - val_loss: 0.4274 - val_recall: 0.7529\n",
            "Epoch 138/400\n",
            "240/240 [==============================] - 1s 4ms/step - loss: 0.4549 - recall: 0.7867 - val_loss: 0.4584 - val_recall: 0.7824\n",
            "Epoch 139/400\n",
            "240/240 [==============================] - 1s 4ms/step - loss: 0.4547 - recall: 0.7848 - val_loss: 0.4262 - val_recall: 0.7529\n",
            "Epoch 140/400\n",
            "240/240 [==============================] - 1s 4ms/step - loss: 0.4524 - recall: 0.7931 - val_loss: 0.4288 - val_recall: 0.7471\n",
            "Epoch 141/400\n",
            "240/240 [==============================] - 1s 4ms/step - loss: 0.4586 - recall: 0.7783 - val_loss: 0.4317 - val_recall: 0.7353\n",
            "Epoch 142/400\n",
            "240/240 [==============================] - 1s 4ms/step - loss: 0.4478 - recall: 0.7873 - val_loss: 0.4455 - val_recall: 0.7529\n",
            "Epoch 143/400\n",
            "240/240 [==============================] - 1s 4ms/step - loss: 0.4484 - recall: 0.7860 - val_loss: 0.4325 - val_recall: 0.7412\n",
            "Epoch 144/400\n",
            "240/240 [==============================] - 1s 4ms/step - loss: 0.4573 - recall: 0.7988 - val_loss: 0.4228 - val_recall: 0.7529\n",
            "Epoch 145/400\n",
            "240/240 [==============================] - 1s 4ms/step - loss: 0.4497 - recall: 0.7937 - val_loss: 0.4372 - val_recall: 0.7471\n",
            "Epoch 146/400\n",
            "240/240 [==============================] - 1s 4ms/step - loss: 0.4461 - recall: 0.7860 - val_loss: 0.4355 - val_recall: 0.7353\n",
            "Epoch 147/400\n",
            "240/240 [==============================] - 1s 4ms/step - loss: 0.4418 - recall: 0.7969 - val_loss: 0.4154 - val_recall: 0.7412\n",
            "Epoch 148/400\n",
            "240/240 [==============================] - 1s 4ms/step - loss: 0.4524 - recall: 0.7982 - val_loss: 0.4289 - val_recall: 0.7471\n",
            "Epoch 149/400\n",
            "240/240 [==============================] - 1s 4ms/step - loss: 0.4494 - recall: 0.7899 - val_loss: 0.4172 - val_recall: 0.7059\n",
            "Epoch 150/400\n",
            "240/240 [==============================] - 1s 4ms/step - loss: 0.4498 - recall: 0.7873 - val_loss: 0.4340 - val_recall: 0.7529\n",
            "Epoch 151/400\n",
            "240/240 [==============================] - 1s 4ms/step - loss: 0.4482 - recall: 0.8008 - val_loss: 0.4333 - val_recall: 0.7647\n",
            "Epoch 152/400\n",
            "240/240 [==============================] - 1s 4ms/step - loss: 0.4506 - recall: 0.7854 - val_loss: 0.4294 - val_recall: 0.7353\n",
            "Epoch 153/400\n",
            "240/240 [==============================] - 1s 4ms/step - loss: 0.4542 - recall: 0.7944 - val_loss: 0.4284 - val_recall: 0.7471\n",
            "Epoch 154/400\n",
            "240/240 [==============================] - 1s 4ms/step - loss: 0.4508 - recall: 0.8020 - val_loss: 0.4577 - val_recall: 0.7765\n",
            "Epoch 155/400\n",
            "240/240 [==============================] - 1s 4ms/step - loss: 0.4507 - recall: 0.8149 - val_loss: 0.4444 - val_recall: 0.7706\n",
            "Epoch 156/400\n",
            "240/240 [==============================] - 1s 4ms/step - loss: 0.4530 - recall: 0.8059 - val_loss: 0.4576 - val_recall: 0.7706\n",
            "Epoch 157/400\n",
            "240/240 [==============================] - 1s 4ms/step - loss: 0.4521 - recall: 0.8014 - val_loss: 0.4366 - val_recall: 0.7529\n",
            "Epoch 158/400\n",
            "240/240 [==============================] - 1s 4ms/step - loss: 0.4521 - recall: 0.7956 - val_loss: 0.4335 - val_recall: 0.7471\n",
            "Epoch 159/400\n",
            "240/240 [==============================] - 1s 4ms/step - loss: 0.4604 - recall: 0.7892 - val_loss: 0.4391 - val_recall: 0.7353\n",
            "Epoch 160/400\n",
            "240/240 [==============================] - 1s 4ms/step - loss: 0.4509 - recall: 0.7931 - val_loss: 0.4458 - val_recall: 0.7412\n",
            "Epoch 161/400\n",
            "240/240 [==============================] - 1s 4ms/step - loss: 0.4530 - recall: 0.7931 - val_loss: 0.4508 - val_recall: 0.7529\n",
            "Epoch 162/400\n",
            "240/240 [==============================] - 1s 4ms/step - loss: 0.4448 - recall: 0.8078 - val_loss: 0.4388 - val_recall: 0.7647\n",
            "Epoch 163/400\n",
            "240/240 [==============================] - 1s 4ms/step - loss: 0.4559 - recall: 0.8027 - val_loss: 0.4458 - val_recall: 0.7647\n",
            "Epoch 164/400\n",
            "240/240 [==============================] - 1s 4ms/step - loss: 0.4537 - recall: 0.8001 - val_loss: 0.4407 - val_recall: 0.7706\n",
            "Epoch 165/400\n",
            "240/240 [==============================] - 1s 4ms/step - loss: 0.4555 - recall: 0.7841 - val_loss: 0.4538 - val_recall: 0.7529\n",
            "Epoch 166/400\n",
            "240/240 [==============================] - 1s 4ms/step - loss: 0.4540 - recall: 0.7835 - val_loss: 0.4775 - val_recall: 0.7882\n",
            "Epoch 167/400\n",
            "240/240 [==============================] - 1s 4ms/step - loss: 0.4485 - recall: 0.7969 - val_loss: 0.4549 - val_recall: 0.7471\n",
            "Epoch 168/400\n",
            "240/240 [==============================] - 1s 4ms/step - loss: 0.4484 - recall: 0.7931 - val_loss: 0.4258 - val_recall: 0.7353\n",
            "Epoch 169/400\n",
            "240/240 [==============================] - 1s 4ms/step - loss: 0.4509 - recall: 0.7758 - val_loss: 0.4446 - val_recall: 0.7529\n",
            "Epoch 170/400\n",
            "240/240 [==============================] - 1s 4ms/step - loss: 0.4543 - recall: 0.7912 - val_loss: 0.4316 - val_recall: 0.7353\n",
            "Epoch 171/400\n",
            "240/240 [==============================] - 1s 4ms/step - loss: 0.4484 - recall: 0.8072 - val_loss: 0.4251 - val_recall: 0.7176\n",
            "Epoch 172/400\n",
            "240/240 [==============================] - 1s 4ms/step - loss: 0.4571 - recall: 0.7841 - val_loss: 0.4309 - val_recall: 0.7471\n",
            "Epoch 173/400\n",
            "240/240 [==============================] - 1s 4ms/step - loss: 0.4542 - recall: 0.7924 - val_loss: 0.4533 - val_recall: 0.7529\n",
            "Epoch 174/400\n",
            "240/240 [==============================] - 1s 4ms/step - loss: 0.4596 - recall: 0.7764 - val_loss: 0.4470 - val_recall: 0.7588\n",
            "Epoch 175/400\n",
            "240/240 [==============================] - 1s 4ms/step - loss: 0.4495 - recall: 0.7937 - val_loss: 0.4218 - val_recall: 0.7235\n",
            "Epoch 176/400\n",
            "240/240 [==============================] - 1s 4ms/step - loss: 0.4560 - recall: 0.7841 - val_loss: 0.4358 - val_recall: 0.7294\n",
            "Epoch 177/400\n",
            "240/240 [==============================] - 1s 4ms/step - loss: 0.4514 - recall: 0.7758 - val_loss: 0.4662 - val_recall: 0.7353\n",
            "Epoch 178/400\n",
            "240/240 [==============================] - 1s 4ms/step - loss: 0.4538 - recall: 0.7899 - val_loss: 0.4527 - val_recall: 0.7353\n",
            "Epoch 179/400\n",
            "240/240 [==============================] - 1s 4ms/step - loss: 0.4481 - recall: 0.7950 - val_loss: 0.4413 - val_recall: 0.7588\n",
            "Epoch 180/400\n",
            "240/240 [==============================] - 1s 4ms/step - loss: 0.4507 - recall: 0.8046 - val_loss: 0.4429 - val_recall: 0.7294\n",
            "Epoch 181/400\n",
            "240/240 [==============================] - 1s 4ms/step - loss: 0.4499 - recall: 0.7969 - val_loss: 0.4309 - val_recall: 0.7353\n",
            "Epoch 182/400\n",
            "240/240 [==============================] - 1s 5ms/step - loss: 0.4526 - recall: 0.7995 - val_loss: 0.4580 - val_recall: 0.7235\n",
            "Epoch 183/400\n",
            "240/240 [==============================] - 1s 4ms/step - loss: 0.4578 - recall: 0.7809 - val_loss: 0.4598 - val_recall: 0.7471\n",
            "Epoch 184/400\n",
            "240/240 [==============================] - 1s 4ms/step - loss: 0.4503 - recall: 0.8008 - val_loss: 0.4389 - val_recall: 0.7588\n",
            "Epoch 185/400\n",
            "240/240 [==============================] - 1s 4ms/step - loss: 0.4544 - recall: 0.7918 - val_loss: 0.4401 - val_recall: 0.7529\n",
            "Epoch 186/400\n",
            "240/240 [==============================] - 1s 4ms/step - loss: 0.4561 - recall: 0.8001 - val_loss: 0.4687 - val_recall: 0.7647\n",
            "Epoch 187/400\n",
            "240/240 [==============================] - 1s 5ms/step - loss: 0.4428 - recall: 0.8309 - val_loss: 0.4408 - val_recall: 0.7647\n",
            "Epoch 188/400\n",
            "240/240 [==============================] - 1s 4ms/step - loss: 0.4537 - recall: 0.8053 - val_loss: 0.4158 - val_recall: 0.7294\n",
            "Epoch 189/400\n",
            "240/240 [==============================] - 1s 4ms/step - loss: 0.4457 - recall: 0.7982 - val_loss: 0.4424 - val_recall: 0.7294\n",
            "Epoch 190/400\n",
            "240/240 [==============================] - 1s 4ms/step - loss: 0.4527 - recall: 0.7956 - val_loss: 0.4292 - val_recall: 0.7353\n",
            "Epoch 191/400\n",
            "240/240 [==============================] - 1s 4ms/step - loss: 0.4526 - recall: 0.7873 - val_loss: 0.4330 - val_recall: 0.7529\n",
            "Epoch 192/400\n",
            "240/240 [==============================] - 1s 4ms/step - loss: 0.4554 - recall: 0.7899 - val_loss: 0.4719 - val_recall: 0.7647\n",
            "Epoch 193/400\n",
            "240/240 [==============================] - 1s 4ms/step - loss: 0.4518 - recall: 0.8040 - val_loss: 0.4461 - val_recall: 0.7471\n",
            "Epoch 194/400\n",
            "240/240 [==============================] - 1s 4ms/step - loss: 0.4479 - recall: 0.8104 - val_loss: 0.4372 - val_recall: 0.7353\n",
            "Epoch 195/400\n",
            "240/240 [==============================] - 1s 5ms/step - loss: 0.4537 - recall: 0.7931 - val_loss: 0.4416 - val_recall: 0.7647\n",
            "Epoch 196/400\n",
            "240/240 [==============================] - 1s 4ms/step - loss: 0.4553 - recall: 0.8046 - val_loss: 0.4208 - val_recall: 0.6941\n",
            "Epoch 197/400\n",
            "240/240 [==============================] - 1s 4ms/step - loss: 0.4502 - recall: 0.7924 - val_loss: 0.4213 - val_recall: 0.7294\n",
            "Epoch 198/400\n",
            "240/240 [==============================] - 1s 4ms/step - loss: 0.4512 - recall: 0.7976 - val_loss: 0.4624 - val_recall: 0.8059\n",
            "Epoch 199/400\n",
            "240/240 [==============================] - 1s 4ms/step - loss: 0.4527 - recall: 0.8020 - val_loss: 0.4375 - val_recall: 0.7706\n",
            "Epoch 200/400\n",
            "240/240 [==============================] - 1s 4ms/step - loss: 0.4554 - recall: 0.8059 - val_loss: 0.4283 - val_recall: 0.7294\n",
            "Epoch 201/400\n",
            "240/240 [==============================] - 1s 4ms/step - loss: 0.4514 - recall: 0.7956 - val_loss: 0.4318 - val_recall: 0.7412\n",
            "Epoch 202/400\n",
            "240/240 [==============================] - 1s 4ms/step - loss: 0.4478 - recall: 0.7924 - val_loss: 0.4167 - val_recall: 0.7118\n",
            "Epoch 203/400\n",
            "240/240 [==============================] - 1s 4ms/step - loss: 0.4538 - recall: 0.7924 - val_loss: 0.4483 - val_recall: 0.7647\n",
            "Epoch 204/400\n",
            "240/240 [==============================] - 1s 4ms/step - loss: 0.4572 - recall: 0.7944 - val_loss: 0.4364 - val_recall: 0.7412\n",
            "Epoch 205/400\n",
            "240/240 [==============================] - 1s 4ms/step - loss: 0.4453 - recall: 0.7937 - val_loss: 0.4333 - val_recall: 0.7353\n",
            "Epoch 206/400\n",
            "240/240 [==============================] - 1s 4ms/step - loss: 0.4506 - recall: 0.7886 - val_loss: 0.4564 - val_recall: 0.7235\n",
            "Epoch 207/400\n",
            "240/240 [==============================] - 1s 4ms/step - loss: 0.4596 - recall: 0.7771 - val_loss: 0.4414 - val_recall: 0.7647\n",
            "Epoch 208/400\n",
            "240/240 [==============================] - 1s 4ms/step - loss: 0.4529 - recall: 0.8072 - val_loss: 0.4344 - val_recall: 0.7588\n",
            "Epoch 209/400\n",
            "240/240 [==============================] - 1s 4ms/step - loss: 0.4547 - recall: 0.8072 - val_loss: 0.4610 - val_recall: 0.7706\n",
            "Epoch 210/400\n",
            "240/240 [==============================] - 1s 4ms/step - loss: 0.4510 - recall: 0.8117 - val_loss: 0.4759 - val_recall: 0.8000\n",
            "Epoch 211/400\n",
            "240/240 [==============================] - 1s 5ms/step - loss: 0.4540 - recall: 0.8046 - val_loss: 0.4427 - val_recall: 0.7647\n",
            "Epoch 212/400\n",
            "240/240 [==============================] - 1s 4ms/step - loss: 0.4478 - recall: 0.7988 - val_loss: 0.4252 - val_recall: 0.7235\n",
            "Epoch 213/400\n",
            "240/240 [==============================] - 1s 4ms/step - loss: 0.4524 - recall: 0.7956 - val_loss: 0.4529 - val_recall: 0.7588\n",
            "Epoch 214/400\n",
            "240/240 [==============================] - 1s 4ms/step - loss: 0.4463 - recall: 0.8065 - val_loss: 0.4191 - val_recall: 0.7176\n",
            "Epoch 215/400\n",
            "240/240 [==============================] - 1s 4ms/step - loss: 0.4477 - recall: 0.8040 - val_loss: 0.4480 - val_recall: 0.8118\n",
            "Epoch 216/400\n",
            "240/240 [==============================] - 1s 4ms/step - loss: 0.4543 - recall: 0.8104 - val_loss: 0.4453 - val_recall: 0.7706\n",
            "Epoch 217/400\n",
            "240/240 [==============================] - 1s 5ms/step - loss: 0.4479 - recall: 0.7892 - val_loss: 0.4398 - val_recall: 0.7412\n",
            "Epoch 218/400\n",
            "240/240 [==============================] - 1s 4ms/step - loss: 0.4496 - recall: 0.7956 - val_loss: 0.4257 - val_recall: 0.7353\n",
            "Epoch 219/400\n",
            "240/240 [==============================] - 1s 4ms/step - loss: 0.4541 - recall: 0.7892 - val_loss: 0.4220 - val_recall: 0.7235\n",
            "Epoch 220/400\n",
            "240/240 [==============================] - 1s 4ms/step - loss: 0.4573 - recall: 0.7944 - val_loss: 0.4468 - val_recall: 0.7765\n",
            "Epoch 221/400\n",
            "240/240 [==============================] - 1s 4ms/step - loss: 0.4531 - recall: 0.8033 - val_loss: 0.4379 - val_recall: 0.7706\n",
            "Epoch 222/400\n",
            "240/240 [==============================] - 1s 4ms/step - loss: 0.4554 - recall: 0.8085 - val_loss: 0.4216 - val_recall: 0.7471\n",
            "Epoch 223/400\n",
            "240/240 [==============================] - 1s 4ms/step - loss: 0.4523 - recall: 0.8033 - val_loss: 0.4283 - val_recall: 0.7706\n",
            "Epoch 224/400\n",
            "240/240 [==============================] - 1s 4ms/step - loss: 0.4544 - recall: 0.7976 - val_loss: 0.4345 - val_recall: 0.7647\n",
            "Epoch 225/400\n",
            "240/240 [==============================] - 1s 4ms/step - loss: 0.4514 - recall: 0.8065 - val_loss: 0.4209 - val_recall: 0.7412\n",
            "Epoch 226/400\n",
            "240/240 [==============================] - 1s 4ms/step - loss: 0.4581 - recall: 0.7956 - val_loss: 0.4447 - val_recall: 0.7471\n",
            "Epoch 227/400\n",
            "240/240 [==============================] - 1s 4ms/step - loss: 0.4470 - recall: 0.8200 - val_loss: 0.4239 - val_recall: 0.7471\n",
            "Epoch 228/400\n",
            "240/240 [==============================] - 1s 4ms/step - loss: 0.4474 - recall: 0.7892 - val_loss: 0.4673 - val_recall: 0.7706\n",
            "Epoch 229/400\n",
            "240/240 [==============================] - 1s 4ms/step - loss: 0.4509 - recall: 0.8110 - val_loss: 0.4331 - val_recall: 0.7471\n",
            "Epoch 230/400\n",
            "240/240 [==============================] - 1s 4ms/step - loss: 0.4536 - recall: 0.7988 - val_loss: 0.4463 - val_recall: 0.7647\n",
            "Epoch 231/400\n",
            "240/240 [==============================] - 1s 4ms/step - loss: 0.4531 - recall: 0.8142 - val_loss: 0.4230 - val_recall: 0.7353\n",
            "Epoch 232/400\n",
            "240/240 [==============================] - 1s 4ms/step - loss: 0.4580 - recall: 0.7854 - val_loss: 0.4565 - val_recall: 0.7588\n",
            "Epoch 233/400\n",
            "240/240 [==============================] - 1s 4ms/step - loss: 0.4471 - recall: 0.8053 - val_loss: 0.4481 - val_recall: 0.7588\n",
            "Epoch 234/400\n",
            "240/240 [==============================] - 1s 4ms/step - loss: 0.4440 - recall: 0.7982 - val_loss: 0.4488 - val_recall: 0.7412\n",
            "Epoch 235/400\n",
            "240/240 [==============================] - 1s 4ms/step - loss: 0.4517 - recall: 0.7937 - val_loss: 0.4502 - val_recall: 0.7294\n",
            "Epoch 236/400\n",
            "240/240 [==============================] - 1s 4ms/step - loss: 0.4481 - recall: 0.7950 - val_loss: 0.4443 - val_recall: 0.7471\n",
            "Epoch 237/400\n",
            "240/240 [==============================] - 1s 4ms/step - loss: 0.4485 - recall: 0.8129 - val_loss: 0.4487 - val_recall: 0.7294\n",
            "Epoch 238/400\n",
            "240/240 [==============================] - 1s 4ms/step - loss: 0.4547 - recall: 0.7892 - val_loss: 0.4290 - val_recall: 0.7118\n",
            "Epoch 239/400\n",
            "240/240 [==============================] - 1s 4ms/step - loss: 0.4495 - recall: 0.7905 - val_loss: 0.4212 - val_recall: 0.7235\n",
            "Epoch 240/400\n",
            "240/240 [==============================] - 1s 4ms/step - loss: 0.4528 - recall: 0.7931 - val_loss: 0.4667 - val_recall: 0.7647\n",
            "Epoch 241/400\n",
            "240/240 [==============================] - 1s 4ms/step - loss: 0.4395 - recall: 0.8174 - val_loss: 0.4357 - val_recall: 0.7588\n",
            "Epoch 242/400\n",
            "240/240 [==============================] - 1s 4ms/step - loss: 0.4479 - recall: 0.7937 - val_loss: 0.4434 - val_recall: 0.7529\n",
            "Epoch 243/400\n",
            "240/240 [==============================] - 1s 4ms/step - loss: 0.4505 - recall: 0.8046 - val_loss: 0.4432 - val_recall: 0.7412\n",
            "Epoch 244/400\n",
            "240/240 [==============================] - 1s 4ms/step - loss: 0.4489 - recall: 0.7764 - val_loss: 0.4378 - val_recall: 0.7353\n",
            "Epoch 245/400\n",
            "240/240 [==============================] - 1s 4ms/step - loss: 0.4476 - recall: 0.8008 - val_loss: 0.4537 - val_recall: 0.7588\n",
            "Epoch 246/400\n",
            "240/240 [==============================] - 1s 4ms/step - loss: 0.4518 - recall: 0.7969 - val_loss: 0.4457 - val_recall: 0.7588\n",
            "Epoch 247/400\n",
            "240/240 [==============================] - 1s 4ms/step - loss: 0.4507 - recall: 0.7918 - val_loss: 0.4363 - val_recall: 0.7294\n",
            "Epoch 248/400\n",
            "240/240 [==============================] - 1s 4ms/step - loss: 0.4550 - recall: 0.7790 - val_loss: 0.4220 - val_recall: 0.7235\n",
            "Epoch 249/400\n",
            "240/240 [==============================] - 1s 4ms/step - loss: 0.4538 - recall: 0.7803 - val_loss: 0.4256 - val_recall: 0.7118\n",
            "Epoch 250/400\n",
            "240/240 [==============================] - 1s 4ms/step - loss: 0.4517 - recall: 0.7835 - val_loss: 0.4389 - val_recall: 0.7235\n",
            "Epoch 251/400\n",
            "240/240 [==============================] - 1s 4ms/step - loss: 0.4543 - recall: 0.7892 - val_loss: 0.4436 - val_recall: 0.7294\n",
            "Epoch 252/400\n",
            "240/240 [==============================] - 1s 4ms/step - loss: 0.4587 - recall: 0.7777 - val_loss: 0.4465 - val_recall: 0.7353\n",
            "Epoch 253/400\n",
            "240/240 [==============================] - 1s 4ms/step - loss: 0.4473 - recall: 0.7988 - val_loss: 0.4523 - val_recall: 0.7471\n",
            "Epoch 254/400\n",
            "240/240 [==============================] - 1s 4ms/step - loss: 0.4466 - recall: 0.8053 - val_loss: 0.4173 - val_recall: 0.7000\n",
            "Epoch 255/400\n",
            "240/240 [==============================] - 1s 4ms/step - loss: 0.4485 - recall: 0.7809 - val_loss: 0.4571 - val_recall: 0.7471\n",
            "Epoch 256/400\n",
            "240/240 [==============================] - 1s 4ms/step - loss: 0.4517 - recall: 0.7848 - val_loss: 0.4324 - val_recall: 0.7294\n",
            "Epoch 257/400\n",
            "240/240 [==============================] - 1s 4ms/step - loss: 0.4532 - recall: 0.8053 - val_loss: 0.4556 - val_recall: 0.7706\n",
            "Epoch 258/400\n",
            "240/240 [==============================] - 1s 4ms/step - loss: 0.4523 - recall: 0.8091 - val_loss: 0.4240 - val_recall: 0.7471\n",
            "Epoch 259/400\n",
            "240/240 [==============================] - 1s 5ms/step - loss: 0.4415 - recall: 0.7995 - val_loss: 0.4336 - val_recall: 0.7294\n",
            "Epoch 260/400\n",
            "240/240 [==============================] - 1s 4ms/step - loss: 0.4567 - recall: 0.8001 - val_loss: 0.4538 - val_recall: 0.7765\n",
            "Epoch 261/400\n",
            "240/240 [==============================] - 1s 4ms/step - loss: 0.4514 - recall: 0.7937 - val_loss: 0.4375 - val_recall: 0.7294\n",
            "Epoch 262/400\n",
            "240/240 [==============================] - 1s 4ms/step - loss: 0.4539 - recall: 0.7809 - val_loss: 0.4513 - val_recall: 0.7412\n",
            "Epoch 263/400\n",
            "240/240 [==============================] - 1s 4ms/step - loss: 0.4447 - recall: 0.7931 - val_loss: 0.4373 - val_recall: 0.7471\n",
            "Epoch 264/400\n",
            "240/240 [==============================] - 1s 4ms/step - loss: 0.4519 - recall: 0.8027 - val_loss: 0.4598 - val_recall: 0.7588\n",
            "Epoch 265/400\n",
            "240/240 [==============================] - 1s 4ms/step - loss: 0.4584 - recall: 0.7809 - val_loss: 0.4641 - val_recall: 0.7765\n",
            "Epoch 266/400\n",
            "240/240 [==============================] - 1s 4ms/step - loss: 0.4405 - recall: 0.8033 - val_loss: 0.4391 - val_recall: 0.7471\n",
            "Epoch 267/400\n",
            "240/240 [==============================] - 1s 4ms/step - loss: 0.4558 - recall: 0.8046 - val_loss: 0.4520 - val_recall: 0.7412\n",
            "Epoch 268/400\n",
            "240/240 [==============================] - 1s 4ms/step - loss: 0.4505 - recall: 0.8027 - val_loss: 0.4311 - val_recall: 0.7529\n",
            "Epoch 269/400\n",
            "240/240 [==============================] - 1s 4ms/step - loss: 0.4499 - recall: 0.8059 - val_loss: 0.4361 - val_recall: 0.7471\n",
            "Epoch 270/400\n",
            "240/240 [==============================] - 1s 4ms/step - loss: 0.4430 - recall: 0.7905 - val_loss: 0.4186 - val_recall: 0.7059\n",
            "Epoch 271/400\n",
            "240/240 [==============================] - 1s 4ms/step - loss: 0.4502 - recall: 0.7924 - val_loss: 0.4388 - val_recall: 0.7294\n",
            "Epoch 272/400\n",
            "240/240 [==============================] - 1s 4ms/step - loss: 0.4551 - recall: 0.8091 - val_loss: 0.4251 - val_recall: 0.7118\n",
            "Epoch 273/400\n",
            "240/240 [==============================] - 1s 4ms/step - loss: 0.4508 - recall: 0.7835 - val_loss: 0.4468 - val_recall: 0.7529\n",
            "Epoch 274/400\n",
            "240/240 [==============================] - 1s 4ms/step - loss: 0.4562 - recall: 0.7924 - val_loss: 0.4528 - val_recall: 0.7353\n",
            "Epoch 275/400\n",
            "240/240 [==============================] - 1s 4ms/step - loss: 0.4536 - recall: 0.7931 - val_loss: 0.4225 - val_recall: 0.6941\n",
            "Epoch 276/400\n",
            "240/240 [==============================] - 1s 4ms/step - loss: 0.4496 - recall: 0.7956 - val_loss: 0.4401 - val_recall: 0.7353\n",
            "Epoch 277/400\n",
            "240/240 [==============================] - 1s 4ms/step - loss: 0.4441 - recall: 0.8027 - val_loss: 0.4353 - val_recall: 0.7529\n",
            "Epoch 278/400\n",
            "240/240 [==============================] - 1s 4ms/step - loss: 0.4561 - recall: 0.7982 - val_loss: 0.4457 - val_recall: 0.7706\n",
            "Epoch 279/400\n",
            "240/240 [==============================] - 1s 4ms/step - loss: 0.4572 - recall: 0.7924 - val_loss: 0.4502 - val_recall: 0.7471\n",
            "Epoch 280/400\n",
            "240/240 [==============================] - 1s 4ms/step - loss: 0.4454 - recall: 0.8020 - val_loss: 0.4456 - val_recall: 0.7412\n",
            "Epoch 281/400\n",
            "240/240 [==============================] - 1s 4ms/step - loss: 0.4561 - recall: 0.7969 - val_loss: 0.4186 - val_recall: 0.7294\n",
            "Epoch 282/400\n",
            "240/240 [==============================] - 1s 4ms/step - loss: 0.4484 - recall: 0.8033 - val_loss: 0.4358 - val_recall: 0.7294\n",
            "Epoch 283/400\n",
            "240/240 [==============================] - 1s 4ms/step - loss: 0.4521 - recall: 0.7892 - val_loss: 0.4581 - val_recall: 0.7706\n",
            "Epoch 284/400\n",
            "240/240 [==============================] - 1s 4ms/step - loss: 0.4446 - recall: 0.7982 - val_loss: 0.4263 - val_recall: 0.6941\n",
            "Epoch 285/400\n",
            "240/240 [==============================] - 1s 4ms/step - loss: 0.4395 - recall: 0.8059 - val_loss: 0.4537 - val_recall: 0.7471\n",
            "Epoch 286/400\n",
            "240/240 [==============================] - 1s 4ms/step - loss: 0.4460 - recall: 0.8059 - val_loss: 0.4409 - val_recall: 0.7235\n",
            "Epoch 287/400\n",
            "240/240 [==============================] - 1s 4ms/step - loss: 0.4573 - recall: 0.8053 - val_loss: 0.4587 - val_recall: 0.7765\n",
            "Epoch 288/400\n",
            "240/240 [==============================] - 1s 5ms/step - loss: 0.4497 - recall: 0.8072 - val_loss: 0.4334 - val_recall: 0.7353\n",
            "Epoch 289/400\n",
            "240/240 [==============================] - 1s 5ms/step - loss: 0.4547 - recall: 0.8110 - val_loss: 0.4516 - val_recall: 0.7529\n",
            "Epoch 290/400\n",
            "240/240 [==============================] - 1s 4ms/step - loss: 0.4517 - recall: 0.7988 - val_loss: 0.4698 - val_recall: 0.7529\n",
            "Epoch 291/400\n",
            "240/240 [==============================] - 1s 4ms/step - loss: 0.4492 - recall: 0.8129 - val_loss: 0.4517 - val_recall: 0.7647\n",
            "Epoch 292/400\n",
            "240/240 [==============================] - 1s 4ms/step - loss: 0.4536 - recall: 0.8072 - val_loss: 0.4298 - val_recall: 0.7353\n",
            "Epoch 293/400\n",
            "240/240 [==============================] - 1s 4ms/step - loss: 0.4552 - recall: 0.8104 - val_loss: 0.4492 - val_recall: 0.7412\n",
            "Epoch 294/400\n",
            "240/240 [==============================] - 1s 5ms/step - loss: 0.4403 - recall: 0.8008 - val_loss: 0.4336 - val_recall: 0.7412\n",
            "Epoch 295/400\n",
            "240/240 [==============================] - 1s 4ms/step - loss: 0.4506 - recall: 0.8149 - val_loss: 0.4501 - val_recall: 0.7529\n",
            "Epoch 296/400\n",
            "240/240 [==============================] - 1s 5ms/step - loss: 0.4521 - recall: 0.8136 - val_loss: 0.4342 - val_recall: 0.7529\n",
            "Epoch 297/400\n",
            "240/240 [==============================] - 2s 6ms/step - loss: 0.4506 - recall: 0.8008 - val_loss: 0.4359 - val_recall: 0.7412\n",
            "Epoch 298/400\n",
            "240/240 [==============================] - 2s 7ms/step - loss: 0.4488 - recall: 0.7931 - val_loss: 0.4277 - val_recall: 0.7412\n",
            "Epoch 299/400\n",
            "240/240 [==============================] - 1s 5ms/step - loss: 0.4480 - recall: 0.8008 - val_loss: 0.4505 - val_recall: 0.7824\n",
            "Epoch 300/400\n",
            "240/240 [==============================] - 1s 4ms/step - loss: 0.4478 - recall: 0.8046 - val_loss: 0.4383 - val_recall: 0.7353\n",
            "Epoch 301/400\n",
            "240/240 [==============================] - 1s 4ms/step - loss: 0.4425 - recall: 0.8014 - val_loss: 0.4558 - val_recall: 0.7529\n",
            "Epoch 302/400\n",
            "240/240 [==============================] - 1s 4ms/step - loss: 0.4402 - recall: 0.8008 - val_loss: 0.4280 - val_recall: 0.7412\n",
            "Epoch 303/400\n",
            "240/240 [==============================] - 1s 4ms/step - loss: 0.4373 - recall: 0.8040 - val_loss: 0.4246 - val_recall: 0.7353\n",
            "Epoch 304/400\n",
            "240/240 [==============================] - 1s 4ms/step - loss: 0.4473 - recall: 0.7995 - val_loss: 0.4225 - val_recall: 0.7118\n",
            "Epoch 305/400\n",
            "240/240 [==============================] - 1s 5ms/step - loss: 0.4483 - recall: 0.8136 - val_loss: 0.4307 - val_recall: 0.7176\n",
            "Epoch 306/400\n",
            "240/240 [==============================] - 1s 4ms/step - loss: 0.4485 - recall: 0.7854 - val_loss: 0.4433 - val_recall: 0.7647\n",
            "Epoch 307/400\n",
            "240/240 [==============================] - 1s 4ms/step - loss: 0.4495 - recall: 0.7950 - val_loss: 0.4305 - val_recall: 0.7353\n",
            "Epoch 308/400\n",
            "240/240 [==============================] - 1s 4ms/step - loss: 0.4453 - recall: 0.7892 - val_loss: 0.4372 - val_recall: 0.7412\n",
            "Epoch 309/400\n",
            "240/240 [==============================] - 1s 5ms/step - loss: 0.4506 - recall: 0.7950 - val_loss: 0.4704 - val_recall: 0.7941\n",
            "Epoch 310/400\n",
            "240/240 [==============================] - 1s 4ms/step - loss: 0.4462 - recall: 0.8040 - val_loss: 0.4210 - val_recall: 0.7235\n",
            "Epoch 311/400\n",
            "240/240 [==============================] - 1s 4ms/step - loss: 0.4482 - recall: 0.8065 - val_loss: 0.4386 - val_recall: 0.7412\n",
            "Epoch 312/400\n",
            "240/240 [==============================] - 1s 4ms/step - loss: 0.4435 - recall: 0.8014 - val_loss: 0.4290 - val_recall: 0.7235\n",
            "Epoch 313/400\n",
            "240/240 [==============================] - 1s 5ms/step - loss: 0.4457 - recall: 0.8020 - val_loss: 0.4209 - val_recall: 0.7059\n",
            "Epoch 314/400\n",
            "240/240 [==============================] - 1s 5ms/step - loss: 0.4545 - recall: 0.8014 - val_loss: 0.4644 - val_recall: 0.7765\n",
            "Epoch 315/400\n",
            "240/240 [==============================] - 1s 5ms/step - loss: 0.4436 - recall: 0.8123 - val_loss: 0.4318 - val_recall: 0.7353\n",
            "Epoch 316/400\n",
            "240/240 [==============================] - 1s 4ms/step - loss: 0.4384 - recall: 0.8251 - val_loss: 0.4413 - val_recall: 0.7647\n",
            "Epoch 317/400\n",
            "240/240 [==============================] - 1s 4ms/step - loss: 0.4472 - recall: 0.8174 - val_loss: 0.4382 - val_recall: 0.7294\n",
            "Epoch 318/400\n",
            "240/240 [==============================] - 1s 4ms/step - loss: 0.4523 - recall: 0.8117 - val_loss: 0.4294 - val_recall: 0.7412\n",
            "Epoch 319/400\n",
            "240/240 [==============================] - 1s 4ms/step - loss: 0.4527 - recall: 0.7976 - val_loss: 0.4403 - val_recall: 0.7412\n",
            "Epoch 320/400\n",
            "240/240 [==============================] - 1s 4ms/step - loss: 0.4490 - recall: 0.8123 - val_loss: 0.4357 - val_recall: 0.7471\n",
            "Epoch 321/400\n",
            "240/240 [==============================] - 1s 4ms/step - loss: 0.4444 - recall: 0.8059 - val_loss: 0.4640 - val_recall: 0.7529\n",
            "Epoch 322/400\n",
            "240/240 [==============================] - 1s 4ms/step - loss: 0.4461 - recall: 0.8072 - val_loss: 0.4474 - val_recall: 0.7588\n",
            "Epoch 323/400\n",
            "240/240 [==============================] - 1s 4ms/step - loss: 0.4420 - recall: 0.8110 - val_loss: 0.4276 - val_recall: 0.7294\n",
            "Epoch 324/400\n",
            "240/240 [==============================] - 1s 4ms/step - loss: 0.4526 - recall: 0.8072 - val_loss: 0.4324 - val_recall: 0.7647\n",
            "Epoch 325/400\n",
            "240/240 [==============================] - 1s 4ms/step - loss: 0.4513 - recall: 0.8136 - val_loss: 0.4176 - val_recall: 0.7235\n",
            "Epoch 326/400\n",
            "240/240 [==============================] - 1s 4ms/step - loss: 0.4559 - recall: 0.7892 - val_loss: 0.4722 - val_recall: 0.8059\n",
            "Epoch 327/400\n",
            "240/240 [==============================] - 1s 4ms/step - loss: 0.4508 - recall: 0.8193 - val_loss: 0.4208 - val_recall: 0.7471\n",
            "Epoch 328/400\n",
            "240/240 [==============================] - 1s 4ms/step - loss: 0.4508 - recall: 0.8110 - val_loss: 0.4513 - val_recall: 0.7882\n",
            "Epoch 329/400\n",
            "240/240 [==============================] - 1s 4ms/step - loss: 0.4500 - recall: 0.8149 - val_loss: 0.4243 - val_recall: 0.7529\n",
            "Epoch 330/400\n",
            "240/240 [==============================] - 1s 5ms/step - loss: 0.4560 - recall: 0.8059 - val_loss: 0.4325 - val_recall: 0.7471\n",
            "Epoch 331/400\n",
            "240/240 [==============================] - 1s 4ms/step - loss: 0.4522 - recall: 0.8040 - val_loss: 0.4239 - val_recall: 0.7412\n",
            "Epoch 332/400\n",
            "240/240 [==============================] - 1s 4ms/step - loss: 0.4508 - recall: 0.8065 - val_loss: 0.4220 - val_recall: 0.7235\n",
            "Epoch 333/400\n",
            "240/240 [==============================] - 1s 4ms/step - loss: 0.4460 - recall: 0.7988 - val_loss: 0.4760 - val_recall: 0.7941\n",
            "Epoch 334/400\n",
            "240/240 [==============================] - 1s 4ms/step - loss: 0.4456 - recall: 0.8168 - val_loss: 0.4499 - val_recall: 0.7588\n",
            "Epoch 335/400\n",
            "240/240 [==============================] - 1s 4ms/step - loss: 0.4450 - recall: 0.8059 - val_loss: 0.4347 - val_recall: 0.7588\n",
            "Epoch 336/400\n",
            "240/240 [==============================] - 1s 5ms/step - loss: 0.4453 - recall: 0.8091 - val_loss: 0.4390 - val_recall: 0.7588\n",
            "Epoch 337/400\n",
            "240/240 [==============================] - 1s 4ms/step - loss: 0.4447 - recall: 0.8053 - val_loss: 0.4424 - val_recall: 0.7529\n",
            "Epoch 338/400\n",
            "240/240 [==============================] - 1s 4ms/step - loss: 0.4505 - recall: 0.8078 - val_loss: 0.4566 - val_recall: 0.7588\n",
            "Epoch 339/400\n",
            "240/240 [==============================] - 1s 4ms/step - loss: 0.4427 - recall: 0.8270 - val_loss: 0.4249 - val_recall: 0.7353\n",
            "Epoch 340/400\n",
            "240/240 [==============================] - 1s 4ms/step - loss: 0.4544 - recall: 0.8123 - val_loss: 0.4556 - val_recall: 0.7529\n",
            "Epoch 341/400\n",
            "240/240 [==============================] - 1s 5ms/step - loss: 0.4507 - recall: 0.8008 - val_loss: 0.4254 - val_recall: 0.7529\n",
            "Epoch 342/400\n",
            "240/240 [==============================] - 1s 5ms/step - loss: 0.4457 - recall: 0.8001 - val_loss: 0.4460 - val_recall: 0.7588\n",
            "Epoch 343/400\n",
            "240/240 [==============================] - 1s 5ms/step - loss: 0.4519 - recall: 0.8078 - val_loss: 0.4526 - val_recall: 0.7706\n",
            "Epoch 344/400\n",
            "240/240 [==============================] - 1s 4ms/step - loss: 0.4445 - recall: 0.8219 - val_loss: 0.4269 - val_recall: 0.7235\n",
            "Epoch 345/400\n",
            "240/240 [==============================] - 1s 4ms/step - loss: 0.4433 - recall: 0.8059 - val_loss: 0.4631 - val_recall: 0.7706\n",
            "Epoch 346/400\n",
            "240/240 [==============================] - 1s 4ms/step - loss: 0.4528 - recall: 0.8001 - val_loss: 0.4652 - val_recall: 0.7765\n",
            "Epoch 347/400\n",
            "240/240 [==============================] - 1s 4ms/step - loss: 0.4524 - recall: 0.8187 - val_loss: 0.4345 - val_recall: 0.7471\n",
            "Epoch 348/400\n",
            "240/240 [==============================] - 1s 5ms/step - loss: 0.4542 - recall: 0.8161 - val_loss: 0.4436 - val_recall: 0.7412\n",
            "Epoch 349/400\n",
            "240/240 [==============================] - 1s 5ms/step - loss: 0.4455 - recall: 0.8117 - val_loss: 0.4496 - val_recall: 0.7647\n",
            "Epoch 350/400\n",
            "240/240 [==============================] - 1s 5ms/step - loss: 0.4479 - recall: 0.8097 - val_loss: 0.4512 - val_recall: 0.7529\n",
            "Epoch 351/400\n",
            "240/240 [==============================] - 1s 5ms/step - loss: 0.4538 - recall: 0.7982 - val_loss: 0.4285 - val_recall: 0.7471\n",
            "Epoch 352/400\n",
            "240/240 [==============================] - 1s 4ms/step - loss: 0.4457 - recall: 0.8123 - val_loss: 0.4604 - val_recall: 0.7941\n",
            "Epoch 353/400\n",
            "240/240 [==============================] - 1s 4ms/step - loss: 0.4458 - recall: 0.8123 - val_loss: 0.4349 - val_recall: 0.7294\n",
            "Epoch 354/400\n",
            "240/240 [==============================] - 1s 4ms/step - loss: 0.4506 - recall: 0.8020 - val_loss: 0.4475 - val_recall: 0.7471\n",
            "Epoch 355/400\n",
            "240/240 [==============================] - 1s 4ms/step - loss: 0.4449 - recall: 0.8040 - val_loss: 0.4499 - val_recall: 0.7471\n",
            "Epoch 356/400\n",
            "240/240 [==============================] - 1s 5ms/step - loss: 0.4505 - recall: 0.8072 - val_loss: 0.4525 - val_recall: 0.7824\n",
            "Epoch 357/400\n",
            "240/240 [==============================] - 1s 4ms/step - loss: 0.4493 - recall: 0.8149 - val_loss: 0.4519 - val_recall: 0.7647\n",
            "Epoch 358/400\n",
            "240/240 [==============================] - 1s 4ms/step - loss: 0.4596 - recall: 0.7956 - val_loss: 0.4546 - val_recall: 0.7824\n",
            "Epoch 359/400\n",
            "240/240 [==============================] - 1s 4ms/step - loss: 0.4512 - recall: 0.8155 - val_loss: 0.4645 - val_recall: 0.7765\n",
            "Epoch 360/400\n",
            "240/240 [==============================] - 1s 4ms/step - loss: 0.4455 - recall: 0.8206 - val_loss: 0.4438 - val_recall: 0.7235\n",
            "Epoch 361/400\n",
            "240/240 [==============================] - 1s 5ms/step - loss: 0.4497 - recall: 0.8091 - val_loss: 0.4608 - val_recall: 0.7882\n",
            "Epoch 362/400\n",
            "240/240 [==============================] - 1s 5ms/step - loss: 0.4442 - recall: 0.8270 - val_loss: 0.4329 - val_recall: 0.7471\n",
            "Epoch 363/400\n",
            "240/240 [==============================] - 1s 4ms/step - loss: 0.4449 - recall: 0.8072 - val_loss: 0.4310 - val_recall: 0.7235\n",
            "Epoch 364/400\n",
            "240/240 [==============================] - 1s 5ms/step - loss: 0.4488 - recall: 0.8302 - val_loss: 0.4204 - val_recall: 0.7235\n",
            "Epoch 365/400\n",
            "240/240 [==============================] - 1s 4ms/step - loss: 0.4515 - recall: 0.7950 - val_loss: 0.4355 - val_recall: 0.7412\n",
            "Epoch 366/400\n",
            "240/240 [==============================] - 1s 5ms/step - loss: 0.4523 - recall: 0.7995 - val_loss: 0.4351 - val_recall: 0.7471\n",
            "Epoch 367/400\n",
            "240/240 [==============================] - 1s 4ms/step - loss: 0.4469 - recall: 0.7988 - val_loss: 0.4611 - val_recall: 0.7529\n",
            "Epoch 368/400\n",
            "240/240 [==============================] - 1s 4ms/step - loss: 0.4573 - recall: 0.8014 - val_loss: 0.4499 - val_recall: 0.7353\n",
            "Epoch 369/400\n",
            "240/240 [==============================] - 1s 4ms/step - loss: 0.4457 - recall: 0.7931 - val_loss: 0.4583 - val_recall: 0.7706\n",
            "Epoch 370/400\n",
            "240/240 [==============================] - 1s 5ms/step - loss: 0.4494 - recall: 0.8161 - val_loss: 0.4370 - val_recall: 0.7471\n",
            "Epoch 371/400\n",
            "240/240 [==============================] - 1s 4ms/step - loss: 0.4568 - recall: 0.7963 - val_loss: 0.4450 - val_recall: 0.7471\n",
            "Epoch 372/400\n",
            "240/240 [==============================] - 1s 4ms/step - loss: 0.4513 - recall: 0.8123 - val_loss: 0.4237 - val_recall: 0.7118\n",
            "Epoch 373/400\n",
            "240/240 [==============================] - 1s 4ms/step - loss: 0.4439 - recall: 0.8027 - val_loss: 0.4455 - val_recall: 0.7294\n",
            "Epoch 374/400\n",
            "240/240 [==============================] - 1s 4ms/step - loss: 0.4418 - recall: 0.8078 - val_loss: 0.4350 - val_recall: 0.7647\n",
            "Epoch 375/400\n",
            "240/240 [==============================] - 1s 4ms/step - loss: 0.4462 - recall: 0.8053 - val_loss: 0.4302 - val_recall: 0.7765\n",
            "Epoch 376/400\n",
            "240/240 [==============================] - 1s 4ms/step - loss: 0.4457 - recall: 0.8168 - val_loss: 0.4392 - val_recall: 0.7412\n",
            "Epoch 377/400\n",
            "240/240 [==============================] - 1s 4ms/step - loss: 0.4520 - recall: 0.8053 - val_loss: 0.4522 - val_recall: 0.7765\n",
            "Epoch 378/400\n",
            "240/240 [==============================] - 1s 5ms/step - loss: 0.4517 - recall: 0.8053 - val_loss: 0.4402 - val_recall: 0.7706\n",
            "Epoch 379/400\n",
            "240/240 [==============================] - 1s 5ms/step - loss: 0.4513 - recall: 0.8078 - val_loss: 0.4088 - val_recall: 0.7118\n",
            "Epoch 380/400\n",
            "240/240 [==============================] - 1s 4ms/step - loss: 0.4533 - recall: 0.7758 - val_loss: 0.4370 - val_recall: 0.7588\n",
            "Epoch 381/400\n",
            "240/240 [==============================] - 1s 5ms/step - loss: 0.4459 - recall: 0.8008 - val_loss: 0.4229 - val_recall: 0.7118\n",
            "Epoch 382/400\n",
            "240/240 [==============================] - 1s 5ms/step - loss: 0.4462 - recall: 0.8040 - val_loss: 0.4358 - val_recall: 0.7412\n",
            "Epoch 383/400\n",
            "240/240 [==============================] - 1s 4ms/step - loss: 0.4471 - recall: 0.8065 - val_loss: 0.4459 - val_recall: 0.7706\n",
            "Epoch 384/400\n",
            "240/240 [==============================] - 1s 5ms/step - loss: 0.4570 - recall: 0.8072 - val_loss: 0.4488 - val_recall: 0.7706\n",
            "Epoch 385/400\n",
            "240/240 [==============================] - 1s 5ms/step - loss: 0.4471 - recall: 0.8136 - val_loss: 0.4546 - val_recall: 0.7765\n",
            "Epoch 386/400\n",
            "240/240 [==============================] - 1s 5ms/step - loss: 0.4441 - recall: 0.8014 - val_loss: 0.4568 - val_recall: 0.7588\n",
            "Epoch 387/400\n",
            "240/240 [==============================] - 1s 4ms/step - loss: 0.4533 - recall: 0.8238 - val_loss: 0.4472 - val_recall: 0.7412\n",
            "Epoch 388/400\n",
            "240/240 [==============================] - 1s 5ms/step - loss: 0.4499 - recall: 0.8091 - val_loss: 0.4361 - val_recall: 0.7647\n",
            "Epoch 389/400\n",
            "240/240 [==============================] - 1s 4ms/step - loss: 0.4485 - recall: 0.8110 - val_loss: 0.4309 - val_recall: 0.7647\n",
            "Epoch 390/400\n",
            "240/240 [==============================] - 1s 4ms/step - loss: 0.4481 - recall: 0.8065 - val_loss: 0.4588 - val_recall: 0.7882\n",
            "Epoch 391/400\n",
            "240/240 [==============================] - 1s 4ms/step - loss: 0.4553 - recall: 0.8200 - val_loss: 0.4444 - val_recall: 0.7529\n",
            "Epoch 392/400\n",
            "240/240 [==============================] - 1s 5ms/step - loss: 0.4514 - recall: 0.8078 - val_loss: 0.4417 - val_recall: 0.7353\n",
            "Epoch 393/400\n",
            "240/240 [==============================] - 1s 5ms/step - loss: 0.4472 - recall: 0.8155 - val_loss: 0.4377 - val_recall: 0.7588\n",
            "Epoch 394/400\n",
            "240/240 [==============================] - 1s 4ms/step - loss: 0.4494 - recall: 0.8187 - val_loss: 0.4523 - val_recall: 0.7765\n",
            "Epoch 395/400\n",
            "240/240 [==============================] - 1s 5ms/step - loss: 0.4512 - recall: 0.8046 - val_loss: 0.4388 - val_recall: 0.7824\n",
            "Epoch 396/400\n",
            "240/240 [==============================] - 1s 5ms/step - loss: 0.4542 - recall: 0.8040 - val_loss: 0.4486 - val_recall: 0.7765\n",
            "Epoch 397/400\n",
            "240/240 [==============================] - 1s 5ms/step - loss: 0.4496 - recall: 0.8072 - val_loss: 0.4414 - val_recall: 0.7706\n",
            "Epoch 398/400\n",
            "240/240 [==============================] - 1s 5ms/step - loss: 0.4470 - recall: 0.8142 - val_loss: 0.4379 - val_recall: 0.7529\n",
            "Epoch 399/400\n",
            "240/240 [==============================] - 1s 5ms/step - loss: 0.4428 - recall: 0.8072 - val_loss: 0.4521 - val_recall: 0.7647\n",
            "Epoch 400/400\n",
            "240/240 [==============================] - 1s 4ms/step - loss: 0.4470 - recall: 0.8046 - val_loss: 0.4566 - val_recall: 0.7824\n"
          ]
        },
        {
          "output_type": "execute_result",
          "data": {
            "text/plain": [
              "<keras.callbacks.History at 0x7f8bed8b21f0>"
            ]
          },
          "metadata": {},
          "execution_count": 118
        }
      ]
    },
    {
      "cell_type": "code",
      "source": [
        "loss_df = pd.DataFrame(model.history.history)\n",
        "loss_df.plot()"
      ],
      "metadata": {
        "id": "sHyC23F9gEkT",
        "colab": {
          "base_uri": "https://localhost:8080/",
          "height": 364
        },
        "outputId": "855d10d5-13ba-4b7b-cf1a-8e034f6ee46a"
      },
      "execution_count": 120,
      "outputs": [
        {
          "output_type": "execute_result",
          "data": {
            "text/plain": [
              "<matplotlib.axes._subplots.AxesSubplot at 0x7f8bedac61f0>"
            ]
          },
          "metadata": {},
          "execution_count": 120
        },
        {
          "output_type": "display_data",
          "data": {
            "text/plain": [
              "<Figure size 576x396 with 1 Axes>"
            ],
            "image/png": "[encoded data removed]"
          },
          "metadata": {}
        }
      ]
    },
    {
      "cell_type": "code",
      "source": [
        "loss, recall = model.evaluate(X_test, y_test, verbose=0)\n",
        "print(\"loss: \", loss)\n",
        "print(\"recall: \", recall)"
      ],
      "metadata": {
        "id": "GsCXCN-JgsVC",
        "colab": {
          "base_uri": "https://localhost:8080/"
        },
        "outputId": "6dc00ba3-9886-4e3b-f495-eae6bca6869b"
      },
      "execution_count": 121,
      "outputs": [
        {
          "output_type": "stream",
          "name": "stdout",
          "text": [
            "loss:  0.47865939140319824\n",
            "recall:  0.7908496856689453\n"
          ]
        }
      ]
    },
    {
      "cell_type": "code",
      "source": [
        "y_pred = model.predict(X_test) > 0.5\n",
        "print(confusion_matrix(y_test, y_pred))\n",
        "print(classification_report(y_test, y_pred))"
      ],
      "metadata": {
        "id": "jRrisrXZgJeT",
        "colab": {
          "base_uri": "https://localhost:8080/"
        },
        "outputId": "a06ba978-8166-45c0-9224-c07b4c7427a3"
      },
      "execution_count": 122,
      "outputs": [
        {
          "output_type": "stream",
          "name": "stdout",
          "text": [
            "47/47 [==============================] - 0s 2ms/step\n",
            "[[880 314]\n",
            " [ 64 242]]\n",
            "              precision    recall  f1-score   support\n",
            "\n",
            "           0       0.93      0.74      0.82      1194\n",
            "           1       0.44      0.79      0.56       306\n",
            "\n",
            "    accuracy                           0.75      1500\n",
            "   macro avg       0.68      0.76      0.69      1500\n",
            "weighted avg       0.83      0.75      0.77      1500\n",
            "\n"
          ]
        }
      ]
    },
    {
      "cell_type": "markdown",
      "source": [
        "False Negative prediction decreased. Significant increase in recall."
      ],
      "metadata": {
        "id": "wGgP6O6XGLYA"
      }
    },
    {
      "cell_type": "markdown",
      "metadata": {
        "id": "yuqrpbTmNMve"
      },
      "source": [
        "### Add Early Stop"
      ]
    },
    {
      "cell_type": "markdown",
      "metadata": {
        "id": "Kj62mieeNMve"
      },
      "source": [
        "#### Monitor the \"val_loss\" as metric"
      ]
    },
    {
      "cell_type": "code",
      "execution_count": 127,
      "metadata": {
        "id": "1BYK6YSeNMve"
      },
      "outputs": [],
      "source": [
        "early_stop = EarlyStopping(monitor = \"val_loss\", mode = \"min\", verbose = 1, patience = 15, restore_best_weights = True)"
      ]
    },
    {
      "cell_type": "code",
      "source": [
        "model.fit(x = X_train, y = y_train, validation_split = 0.1, batch_size = 32, epochs = 200, callbacks = [early_stop])"
      ],
      "metadata": {
        "id": "tJvzJSEOhbwE",
        "colab": {
          "base_uri": "https://localhost:8080/"
        },
        "outputId": "e9287ad8-8cc5-41b8-b0cc-e9baee4801a6"
      },
      "execution_count": 128,
      "outputs": [
        {
          "output_type": "stream",
          "name": "stdout",
          "text": [
            "Epoch 1/200\n",
            "240/240 [==============================] - 1s 4ms/step - loss: 0.3324 - recall: 0.5067 - val_loss: 0.3310 - val_recall: 0.4941\n",
            "Epoch 2/200\n",
            "240/240 [==============================] - 1s 4ms/step - loss: 0.3356 - recall: 0.4946 - val_loss: 0.3370 - val_recall: 0.4941\n",
            "Epoch 3/200\n",
            "240/240 [==============================] - 1s 4ms/step - loss: 0.3378 - recall: 0.4837 - val_loss: 0.3384 - val_recall: 0.4882\n",
            "Epoch 4/200\n",
            "240/240 [==============================] - 1s 4ms/step - loss: 0.3402 - recall: 0.5086 - val_loss: 0.3344 - val_recall: 0.5059\n",
            "Epoch 5/200\n",
            "240/240 [==============================] - 1s 4ms/step - loss: 0.3368 - recall: 0.4971 - val_loss: 0.3356 - val_recall: 0.4824\n",
            "Epoch 6/200\n",
            "240/240 [==============================] - 1s 4ms/step - loss: 0.3323 - recall: 0.5074 - val_loss: 0.3331 - val_recall: 0.5059\n",
            "Epoch 7/200\n",
            "240/240 [==============================] - 1s 4ms/step - loss: 0.3388 - recall: 0.4849 - val_loss: 0.3340 - val_recall: 0.4941\n",
            "Epoch 8/200\n",
            "240/240 [==============================] - 1s 4ms/step - loss: 0.3360 - recall: 0.5074 - val_loss: 0.3372 - val_recall: 0.5294\n",
            "Epoch 9/200\n",
            "240/240 [==============================] - 1s 4ms/step - loss: 0.3385 - recall: 0.4990 - val_loss: 0.3350 - val_recall: 0.5294\n",
            "Epoch 10/200\n",
            "240/240 [==============================] - 1s 4ms/step - loss: 0.3309 - recall: 0.5067 - val_loss: 0.3328 - val_recall: 0.5353\n",
            "Epoch 11/200\n",
            "240/240 [==============================] - 1s 4ms/step - loss: 0.3340 - recall: 0.4939 - val_loss: 0.3373 - val_recall: 0.5529\n",
            "Epoch 12/200\n",
            "240/240 [==============================] - 1s 4ms/step - loss: 0.3305 - recall: 0.4894 - val_loss: 0.3361 - val_recall: 0.5647\n",
            "Epoch 13/200\n",
            "240/240 [==============================] - 1s 4ms/step - loss: 0.3366 - recall: 0.4849 - val_loss: 0.3368 - val_recall: 0.5118\n",
            "Epoch 14/200\n",
            "240/240 [==============================] - 1s 4ms/step - loss: 0.3313 - recall: 0.4997 - val_loss: 0.3356 - val_recall: 0.5118\n",
            "Epoch 15/200\n",
            "240/240 [==============================] - 1s 4ms/step - loss: 0.3316 - recall: 0.4843 - val_loss: 0.3396 - val_recall: 0.5118\n",
            "Epoch 16/200\n",
            "240/240 [==============================] - ETA: 0s - loss: 0.3373 - recall: 0.4728Restoring model weights from the end of the best epoch: 1.\n",
            "240/240 [==============================] - 1s 4ms/step - loss: 0.3373 - recall: 0.4728 - val_loss: 0.3382 - val_recall: 0.4706\n",
            "Epoch 16: early stopping\n"
          ]
        },
        {
          "output_type": "execute_result",
          "data": {
            "text/plain": [
              "<keras.callbacks.History at 0x7f8bed8f09d0>"
            ]
          },
          "metadata": {},
          "execution_count": 128
        }
      ]
    },
    {
      "cell_type": "markdown",
      "source": [
        "Early stopping at Epoch 16/200 b/c there is not improvement in the model after epoch 16"
      ],
      "metadata": {
        "id": "utJRPJfIGsI5"
      }
    },
    {
      "cell_type": "markdown",
      "metadata": {
        "id": "lyLgi0mXNMve"
      },
      "source": [
        "#### Monitor the \"val_recall\" as metric"
      ]
    },
    {
      "cell_type": "code",
      "execution_count": 129,
      "metadata": {
        "id": "mE_avQvdNMve",
        "colab": {
          "base_uri": "https://localhost:8080/",
          "height": 364
        },
        "outputId": "453658bb-6e47-4708-f24b-7b712fb01195"
      },
      "outputs": [
        {
          "output_type": "execute_result",
          "data": {
            "text/plain": [
              "<matplotlib.axes._subplots.AxesSubplot at 0x7f8c6ef95730>"
            ]
          },
          "metadata": {},
          "execution_count": 129
        },
        {
          "output_type": "display_data",
          "data": {
            "text/plain": [
              "<Figure size 576x396 with 1 Axes>"
            ],
            "image/png": "[encoded data removed]"
          },
          "metadata": {}
        }
      ],
      "source": [
        "loss_df = pd.DataFrame(model.history.history)\n",
        "loss_df.plot()"
      ]
    },
    {
      "cell_type": "code",
      "source": [
        "loss, recall = model.evaluate(X_test, y_test, verbose=0)\n",
        "print(\"loss: \", loss)\n",
        "print(\"recall: \", recall)"
      ],
      "metadata": {
        "colab": {
          "base_uri": "https://localhost:8080/"
        },
        "id": "4Y_Xv-JEIlOs",
        "outputId": "a4a2029f-5bba-4f21-a5bd-6cdf3c3c0eed"
      },
      "execution_count": 131,
      "outputs": [
        {
          "output_type": "stream",
          "name": "stdout",
          "text": [
            "loss:  0.35541850328445435\n",
            "recall:  0.49673202633857727\n"
          ]
        }
      ]
    },
    {
      "cell_type": "code",
      "source": [
        "y_pred = model.predict(X_test) > 0.5\n",
        "print(confusion_matrix(y_test, y_pred))\n",
        "print(classification_report(y_test, y_pred))"
      ],
      "metadata": {
        "id": "-XGlafu7kKsa",
        "colab": {
          "base_uri": "https://localhost:8080/"
        },
        "outputId": "6d2c7384-c3a1-4efc-c576-54df9ed08584"
      },
      "execution_count": 130,
      "outputs": [
        {
          "output_type": "stream",
          "name": "stdout",
          "text": [
            "47/47 [==============================] - 0s 1ms/step\n",
            "[[1145   49]\n",
            " [ 154  152]]\n",
            "              precision    recall  f1-score   support\n",
            "\n",
            "           0       0.88      0.96      0.92      1194\n",
            "           1       0.76      0.50      0.60       306\n",
            "\n",
            "    accuracy                           0.86      1500\n",
            "   macro avg       0.82      0.73      0.76      1500\n",
            "weighted avg       0.86      0.86      0.85      1500\n",
            "\n"
          ]
        }
      ]
    },
    {
      "cell_type": "markdown",
      "source": [
        "No improvement with early stop, overfitting occurs after epoch 16; recall scores dropped as well asn loss scores"
      ],
      "metadata": {
        "id": "uAnzbP03HJo7"
      }
    },
    {
      "cell_type": "markdown",
      "metadata": {
        "id": "U1mQm_h4NMve"
      },
      "source": [
        "## GridSearchCV"
      ]
    },
    {
      "cell_type": "code",
      "source": [
        "from tensorflow.keras.optimizers import Adam, Adadelta, RMSprop, Nadam\n",
        "from tensorflow.keras.wrappers.scikit_learn import KerasClassifier"
      ],
      "metadata": {
        "id": "DcNHA7UaJMgx"
      },
      "execution_count": 137,
      "outputs": []
    },
    {
      "cell_type": "code",
      "execution_count": 138,
      "metadata": {
        "id": "NCC81cXMNMve"
      },
      "outputs": [],
      "source": [
        "def build_classifier(optimizer,learn_rate):\n",
        "    classifier = Sequential()\n",
        "    classifier.add(Dense(units=16, activation='relu'))\n",
        "    classifier.add(Dense(units=8, activation='relu'))\n",
        "    classifier.add(Dense(units=1, activation='sigmoid'))\n",
        "    classifier.compile(optimizer=optimizer(learn_rate),\n",
        "                       loss='binary_crossentropy',\n",
        "                       metrics=['Recall'])\n",
        "    return classifier"
      ]
    },
    {
      "cell_type": "code",
      "source": [
        "early_stop = EarlyStopping(monitor=\"val_loss\",\n",
        "                           mode=\"min\",\n",
        "                           verbose=1,\n",
        "                           patience=15,\n",
        "                           restore_best_weights=True)"
      ],
      "metadata": {
        "id": "1bCIBN4vks2Q"
      },
      "execution_count": 139,
      "outputs": []
    },
    {
      "cell_type": "code",
      "source": [
        "classifier_model = KerasClassifier(build_fn = build_classifier, validation_split = 0.1, epochs = 200)\n",
        "\n",
        "parameters = {'batch_size': [32, 64],\n",
        "              'optimizer': [Adam, RMSprop, Adadelta, Nadam],\n",
        "              'learn_rate': [0.001, 0.003, 0.005]}\n",
        "\n",
        "grid_model = GridSearchCV(estimator = classifier_model,\n",
        "                          param_grid = parameters,\n",
        "                          scoring = 'recall',\n",
        "                          cv = 10,\n",
        "                          n_jobs = -1,\n",
        "                          verbose = 1)\n",
        "\n",
        "grid_model.fit(X_train, y_train,class_weight=class_weights, callbacks = [early_stop])"
      ],
      "metadata": {
        "id": "BN6munHoksyO",
        "colab": {
          "base_uri": "https://localhost:8080/"
        },
        "outputId": "0df0a344-642a-42ff-e6f2-dfe68f9ee8f2"
      },
      "execution_count": null,
      "outputs": [
        {
          "output_type": "stream",
          "name": "stdout",
          "text": [
            "Fitting 10 folds for each of 24 candidates, totalling 240 fits\n"
          ]
        }
      ]
    },
    {
      "cell_type": "code",
      "source": [
        "grid_model.best_score_"
      ],
      "metadata": {
        "id": "rArgyjsOlWPf"
      },
      "execution_count": null,
      "outputs": []
    },
    {
      "cell_type": "code",
      "source": [
        "grid_model.best_params_"
      ],
      "metadata": {
        "id": "o5BnOXRylVwB"
      },
      "execution_count": null,
      "outputs": []
    },
    {
      "cell_type": "markdown",
      "metadata": {
        "id": "ZIn_nNYaNMve"
      },
      "source": [
        "### Evaluate The Model\n",
        "\n",
        "- Plot the model history to observe the changing of metrics\n",
        "- Make prediction to see \"confusion matrix\" and \"classification report\"\n",
        "- Check ROC (Receiver Operating Curve) and AUC (Area Under Curve) for the model"
      ]
    },
    {
      "cell_type": "code",
      "source": [
        "y_pred = grid_model.predict(X_test)\n",
        "print(confusion_matrix(y_test, y_pred))\n",
        "print(classification_report(y_test, y_pred))"
      ],
      "metadata": {
        "id": "QtOQUuPXlasi"
      },
      "execution_count": null,
      "outputs": []
    },
    {
      "cell_type": "code",
      "execution_count": null,
      "metadata": {
        "id": "DLOJQ8DcNMve"
      },
      "outputs": [],
      "source": [
        "y_pred_proba = grid_model.predict_proba(X_test)[:,1]\n",
        "fpr, tpr, thresholds = roc_curve(y_test, y_pred_proba)\n",
        "plt.plot([0, 1], [0, 1], 'k--')\n",
        "plt.plot(fpr, tpr, label='ANN')\n",
        "plt.xlabel('fpr')\n",
        "plt.ylabel('tpr')\n",
        "plt.title('ROC curve')\n",
        "plt.show()"
      ]
    },
    {
      "cell_type": "code",
      "source": [
        "roc_auc_score(y_test, y_pred_proba)"
      ],
      "metadata": {
        "id": "fMC5NOXEmXit"
      },
      "execution_count": null,
      "outputs": []
    },
    {
      "cell_type": "markdown",
      "metadata": {
        "id": "FRL63nfcNMve"
      },
      "source": [
        "# Final Model and Model Deployment"
      ]
    },
    {
      "cell_type": "code",
      "execution_count": null,
      "metadata": {
        "id": "OoxxzByFNMve"
      },
      "outputs": [],
      "source": [
        "import pickle\n",
        "pickle.dump(scaler, open(\"scaler_cancer\", 'wb'))"
      ]
    },
    {
      "cell_type": "code",
      "source": [
        "tf.random.set_seed(42)\n",
        "\n",
        "model = Sequential()\n",
        "\n",
        "model.add(Dense(36, activation=\"relu\", input_dim=X_train.shape[1]))\n",
        "model.add(Dense(18, activation=\"relu\"))\n",
        "model.add(Dense(9, activation=\"relu\"))\n",
        "model.add(Dense(1, activation=\"sigmoid\"))\n",
        "\n",
        "model.compile(optimizer=\"adam\",\n",
        "              loss=\"binary_crossentropy\",\n",
        "              metrics=[\"accuracy\"])"
      ],
      "metadata": {
        "id": "JsQT-NaEmgjE"
      },
      "execution_count": null,
      "outputs": []
    },
    {
      "cell_type": "code",
      "source": [
        "early_stop = EarlyStopping(monitor=\"val_loss\",\n",
        "                           mode=\"auto\",\n",
        "                           verbose=1,\n",
        "                           patience=15,\n",
        "                           restore_best_weights=True)"
      ],
      "metadata": {
        "id": "IGfgfNvsmnC9"
      },
      "execution_count": null,
      "outputs": []
    },
    {
      "cell_type": "code",
      "source": [
        "model.fit(x=X_train,\n",
        "          y=y_train,\n",
        "          validation_data=(X_test, y_test),\n",
        "          batch_size=32,\n",
        "          epochs=200,\n",
        "          verbose=1,\n",
        "          callbacks=[early_stop])"
      ],
      "metadata": {
        "id": "64EFtiYlmgZd"
      },
      "execution_count": null,
      "outputs": []
    },
    {
      "cell_type": "code",
      "source": [
        "loss_df = pd.DataFrame(model.history.history)\n",
        "loss_df.plot()"
      ],
      "metadata": {
        "id": "V1FKapTQmz45"
      },
      "execution_count": null,
      "outputs": []
    },
    {
      "cell_type": "code",
      "source": [
        "loss, recall = model.evaluate(X_test, y_test, verbose=0)\n",
        "print(\"loss: \", loss)\n",
        "print(\"Recall: \", recall)"
      ],
      "metadata": {
        "id": "RyxliMV5m_Uz"
      },
      "execution_count": null,
      "outputs": []
    },
    {
      "cell_type": "code",
      "source": [
        "y_pred = model.predict(X_test) > 0.5\n",
        "print(confusion_matrix(y_test, y_pred))\n",
        "print(classification_report(y_test, y_pred))"
      ],
      "metadata": {
        "id": "l9SyAxepnIcy"
      },
      "execution_count": null,
      "outputs": []
    },
    {
      "cell_type": "code",
      "source": [
        "model.save('model_cancer.h5')"
      ],
      "metadata": {
        "id": "LQz5KloGnNpp"
      },
      "execution_count": null,
      "outputs": []
    },
    {
      "cell_type": "markdown",
      "metadata": {
        "id": "Cq10ovAX6daY"
      },
      "source": [
        "## Prediction"
      ]
    },
    {
      "cell_type": "code",
      "execution_count": null,
      "metadata": {
        "id": "4Xuk8sQsNMve"
      },
      "outputs": [],
      "source": [
        "single_customer = df.drop(columns=['Churn']).iloc[0]\n",
        "single_customer"
      ]
    },
    {
      "cell_type": "code",
      "source": [
        "single_customer = column_trans .transform(single_customer.values.reshape(-1, 11)))\n",
        "single_customer"
      ],
      "metadata": {
        "id": "YQvA_kPAnbWz"
      },
      "execution_count": null,
      "outputs": []
    },
    {
      "cell_type": "code",
      "source": [
        "y_pred =(model.predict(single_customer) > 0.5).astype(\"int32\")\n",
        "y_pred"
      ],
      "metadata": {
        "id": "WJWO2UBDnbSF"
      },
      "execution_count": null,
      "outputs": []
    },
    {
      "cell_type": "code",
      "source": [],
      "metadata": {
        "id": "7zTwn1YbnwCf"
      },
      "execution_count": null,
      "outputs": []
    },
    {
      "cell_type": "markdown",
      "metadata": {
        "id": "K340tY1UNMve"
      },
      "source": [
        "___\n",
        "\n",
        "<p style=\"text-align: center;\"><img src=\"https://docs.google.com/uc?id=1lY0Uj5R04yMY3-ZppPWxqCr5pvBLYPnV\" class=\"img-fluid\" alt=\"CLRSWY\"></p>\n",
        "\n",
        "___"
      ]
    }
  ],
  "metadata": {
    "colab": {
      "provenance": []
    },
    "kernelspec": {
      "display_name": "Python 3",
      "language": "python",
      "name": "python3"
    },
    "language_info": {
      "codemirror_mode": {
        "name": "ipython",
        "version": 3
      },
      "file_extension": ".py",
      "mimetype": "text/x-python",
      "name": "python",
      "nbconvert_exporter": "python",
      "pygments_lexer": "ipython3",
      "version": "3.7.6"
    },
    "toc": {
      "base_numbering": 1,
      "nav_menu": {},
      "number_sections": false,
      "sideBar": true,
      "skip_h1_title": false,
      "title_cell": "Table of Contents",
      "title_sidebar": "Contents",
      "toc_cell": false,
      "toc_position": {},
      "toc_section_display": true,
      "toc_window_display": true
    },
    "gpuClass": "standard",
    "accelerator": "GPU"
  },
  "nbformat": 4,
  "nbformat_minor": 0
}